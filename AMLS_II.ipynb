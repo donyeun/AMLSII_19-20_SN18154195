{
  "nbformat": 4,
  "nbformat_minor": 0,
  "metadata": {
    "colab": {
      "name": "AMLS II",
      "provenance": [],
      "collapsed_sections": [],
      "toc_visible": true,
      "authorship_tag": "ABX9TyNiU1rDppyw52qI1fuA0Q3/",
      "include_colab_link": true
    },
    "kernelspec": {
      "name": "python3",
      "display_name": "Python 3"
    },
    "accelerator": "GPU"
  },
  "cells": [
    {
      "cell_type": "markdown",
      "metadata": {
        "id": "view-in-github",
        "colab_type": "text"
      },
      "source": [
        "<a href=\"https://colab.research.google.com/github/donyeun/AMLSII_19-20_SN18154195/blob/master/AMLS_II.ipynb\" target=\"_parent\"><img src=\"https://colab.research.google.com/assets/colab-badge.svg\" alt=\"Open In Colab\"/></a>"
      ]
    },
    {
      "cell_type": "code",
      "metadata": {
        "id": "oTTXAniWmfMi",
        "colab_type": "code",
        "outputId": "0023e090-2aae-456c-fcb9-9ed7ca60ab9a",
        "colab": {
          "base_uri": "https://localhost:8080/",
          "height": 54
        }
      },
      "source": [
        "# mount google drive\n",
        "from google.colab import drive\n",
        "drive.mount('/content/drive')"
      ],
      "execution_count": 1,
      "outputs": [
        {
          "output_type": "stream",
          "text": [
            "Drive already mounted at /content/drive; to attempt to forcibly remount, call drive.mount(\"/content/drive\", force_remount=True).\n"
          ],
          "name": "stdout"
        }
      ]
    },
    {
      "cell_type": "markdown",
      "metadata": {
        "id": "pe4VG6osyCiF",
        "colab_type": "text"
      },
      "source": [
        "# Libraries and Variables\n",
        "\n",
        "* Reading `config.yaml` which contains all ML parameters as well as filepaths\n",
        "* Import all dependencies and libraries\n",
        "\n",
        "\n",
        "\n",
        "\n",
        "\n"
      ]
    },
    {
      "cell_type": "code",
      "metadata": {
        "id": "SkxFAcT8itpN",
        "colab_type": "code",
        "colab": {}
      },
      "source": [
        "# load configuration file that store all the constant and parameters settings\n",
        "import yaml\n",
        "CONFIG_YAML_FILEPATH = '/content/drive/My Drive/public/AMLSII_19-20_SN18154195/config.yaml'\n",
        "with open(CONFIG_YAML_FILEPATH, 'r') as file:\n",
        "  cfg = yaml.safe_load(file)"
      ],
      "execution_count": 0,
      "outputs": []
    },
    {
      "cell_type": "code",
      "metadata": {
        "id": "_5LCvzjssSJf",
        "colab_type": "code",
        "outputId": "05056c54-4d1b-4773-b84c-bacda4005003",
        "colab": {
          "base_uri": "https://localhost:8080/",
          "height": 989
        }
      },
      "source": [
        "# install additional dependencies\n",
        "! pip install -r {cfg['paths']['requirements']}\n",
        "\n",
        "import pandas as pd\n",
        "import os\n",
        "import torch\n",
        "from tqdm import tqdm\n",
        "from wordcloud import WordCloud\n",
        "import matplotlib.pyplot as plt\n",
        "import nltk\n",
        "import csv\n",
        "import numpy as np\n",
        "import tensorboard as tb\n",
        "import tensorflow as tf\n",
        "\n",
        "\n",
        "# load the TensorBoard notebook extension\n",
        "tf.io.gfile = tb.compat.tensorflow_stub.io.gfile\n",
        "%load_ext tensorboard"
      ],
      "execution_count": 3,
      "outputs": [
        {
          "output_type": "stream",
          "text": [
            "Requirement already satisfied: tensorflow in /usr/local/lib/python3.6/dist-packages (from -r /content/drive/My Drive/public/AMLSII_19-20_SN18154195/requirements.txt (line 1)) (2.1.0)\n",
            "Requirement already satisfied: pandas in /usr/local/lib/python3.6/dist-packages (from -r /content/drive/My Drive/public/AMLSII_19-20_SN18154195/requirements.txt (line 2)) (0.25.3)\n",
            "Requirement already satisfied: tensorboard in /usr/local/lib/python3.6/dist-packages (from -r /content/drive/My Drive/public/AMLSII_19-20_SN18154195/requirements.txt (line 3)) (2.1.0)\n",
            "Requirement already satisfied: matplotlib in /usr/local/lib/python3.6/dist-packages (from -r /content/drive/My Drive/public/AMLSII_19-20_SN18154195/requirements.txt (line 4)) (3.1.1)\n",
            "Requirement already satisfied: tqdm in /usr/local/lib/python3.6/dist-packages (from -r /content/drive/My Drive/public/AMLSII_19-20_SN18154195/requirements.txt (line 5)) (4.39.0)\n",
            "Requirement already satisfied: ekphrasis in /usr/local/lib/python3.6/dist-packages (from -r /content/drive/My Drive/public/AMLSII_19-20_SN18154195/requirements.txt (line 6)) (0.5.1)\n",
            "Requirement already satisfied: nltk in /usr/local/lib/python3.6/dist-packages (from -r /content/drive/My Drive/public/AMLSII_19-20_SN18154195/requirements.txt (line 7)) (3.5)\n",
            "Requirement already satisfied: PyYAML in /usr/local/lib/python3.6/dist-packages (from -r /content/drive/My Drive/public/AMLSII_19-20_SN18154195/requirements.txt (line 8)) (5.3.1)\n",
            "Requirement already satisfied: torch in /usr/local/lib/python3.6/dist-packages (from -r /content/drive/My Drive/public/AMLSII_19-20_SN18154195/requirements.txt (line 9)) (1.4.0)\n",
            "Requirement already satisfied: wordcloud in /usr/local/lib/python3.6/dist-packages (from -r /content/drive/My Drive/public/AMLSII_19-20_SN18154195/requirements.txt (line 10)) (1.6.0)\n",
            "Requirement already satisfied: grpcio>=1.8.6 in /usr/local/lib/python3.6/dist-packages (from tensorflow->-r /content/drive/My Drive/public/AMLSII_19-20_SN18154195/requirements.txt (line 1)) (1.28.1)\n",
            "Requirement already satisfied: numpy<2.0,>=1.16.0 in /usr/local/lib/python3.6/dist-packages (from tensorflow->-r /content/drive/My Drive/public/AMLSII_19-20_SN18154195/requirements.txt (line 1)) (1.18.2)\n",
            "Requirement already satisfied: tensorflow-estimator<2.2.0,>=2.1.0rc0 in /usr/local/lib/python3.6/dist-packages (from tensorflow->-r /content/drive/My Drive/public/AMLSII_19-20_SN18154195/requirements.txt (line 1)) (2.1.0)\n",
            "Requirement already satisfied: scipy==1.4.1; python_version >= \"3\" in /usr/local/lib/python3.6/dist-packages (from tensorflow->-r /content/drive/My Drive/public/AMLSII_19-20_SN18154195/requirements.txt (line 1)) (1.4.1)\n",
            "Requirement already satisfied: termcolor>=1.1.0 in /usr/local/lib/python3.6/dist-packages (from tensorflow->-r /content/drive/My Drive/public/AMLSII_19-20_SN18154195/requirements.txt (line 1)) (1.1.0)\n",
            "Requirement already satisfied: google-pasta>=0.1.6 in /usr/local/lib/python3.6/dist-packages (from tensorflow->-r /content/drive/My Drive/public/AMLSII_19-20_SN18154195/requirements.txt (line 1)) (0.2.0)\n",
            "Requirement already satisfied: astor>=0.6.0 in /usr/local/lib/python3.6/dist-packages (from tensorflow->-r /content/drive/My Drive/public/AMLSII_19-20_SN18154195/requirements.txt (line 1)) (0.8.1)\n",
            "Requirement already satisfied: wrapt>=1.11.1 in /usr/local/lib/python3.6/dist-packages (from tensorflow->-r /content/drive/My Drive/public/AMLSII_19-20_SN18154195/requirements.txt (line 1)) (1.12.1)\n",
            "Requirement already satisfied: six>=1.12.0 in /usr/local/lib/python3.6/dist-packages (from tensorflow->-r /content/drive/My Drive/public/AMLSII_19-20_SN18154195/requirements.txt (line 1)) (1.12.0)\n",
            "Requirement already satisfied: wheel>=0.26; python_version >= \"3\" in /usr/local/lib/python3.6/dist-packages (from tensorflow->-r /content/drive/My Drive/public/AMLSII_19-20_SN18154195/requirements.txt (line 1)) (0.34.2)\n",
            "Requirement already satisfied: protobuf>=3.8.0 in /usr/local/lib/python3.6/dist-packages (from tensorflow->-r /content/drive/My Drive/public/AMLSII_19-20_SN18154195/requirements.txt (line 1)) (3.10.0)\n",
            "Requirement already satisfied: absl-py>=0.7.0 in /usr/local/lib/python3.6/dist-packages (from tensorflow->-r /content/drive/My Drive/public/AMLSII_19-20_SN18154195/requirements.txt (line 1)) (0.9.0)\n",
            "Requirement already satisfied: keras-applications>=1.0.8 in /usr/local/lib/python3.6/dist-packages (from tensorflow->-r /content/drive/My Drive/public/AMLSII_19-20_SN18154195/requirements.txt (line 1)) (1.0.8)\n",
            "Requirement already satisfied: keras-preprocessing>=1.1.0 in /usr/local/lib/python3.6/dist-packages (from tensorflow->-r /content/drive/My Drive/public/AMLSII_19-20_SN18154195/requirements.txt (line 1)) (1.1.0)\n",
            "Requirement already satisfied: opt-einsum>=2.3.2 in /usr/local/lib/python3.6/dist-packages (from tensorflow->-r /content/drive/My Drive/public/AMLSII_19-20_SN18154195/requirements.txt (line 1)) (3.2.0)\n",
            "Requirement already satisfied: gast==0.2.2 in /usr/local/lib/python3.6/dist-packages (from tensorflow->-r /content/drive/My Drive/public/AMLSII_19-20_SN18154195/requirements.txt (line 1)) (0.2.2)\n",
            "Requirement already satisfied: python-dateutil>=2.6.1 in /usr/local/lib/python3.6/dist-packages (from pandas->-r /content/drive/My Drive/public/AMLSII_19-20_SN18154195/requirements.txt (line 2)) (2.8.1)\n",
            "Requirement already satisfied: pytz>=2017.2 in /usr/local/lib/python3.6/dist-packages (from pandas->-r /content/drive/My Drive/public/AMLSII_19-20_SN18154195/requirements.txt (line 2)) (2018.9)\n",
            "Requirement already satisfied: google-auth-oauthlib<0.5,>=0.4.1 in /usr/local/lib/python3.6/dist-packages (from tensorboard->-r /content/drive/My Drive/public/AMLSII_19-20_SN18154195/requirements.txt (line 3)) (0.4.1)\n",
            "Requirement already satisfied: werkzeug>=0.11.15 in /usr/local/lib/python3.6/dist-packages (from tensorboard->-r /content/drive/My Drive/public/AMLSII_19-20_SN18154195/requirements.txt (line 3)) (1.0.1)\n",
            "Requirement already satisfied: markdown>=2.6.8 in /usr/local/lib/python3.6/dist-packages (from tensorboard->-r /content/drive/My Drive/public/AMLSII_19-20_SN18154195/requirements.txt (line 3)) (3.2.1)\n",
            "Requirement already satisfied: google-auth<2,>=1.6.3 in /usr/local/lib/python3.6/dist-packages (from tensorboard->-r /content/drive/My Drive/public/AMLSII_19-20_SN18154195/requirements.txt (line 3)) (1.7.2)\n",
            "Requirement already satisfied: requests<3,>=2.21.0 in /usr/local/lib/python3.6/dist-packages (from tensorboard->-r /content/drive/My Drive/public/AMLSII_19-20_SN18154195/requirements.txt (line 3)) (2.21.0)\n",
            "Requirement already satisfied: setuptools>=41.0.0 in /usr/local/lib/python3.6/dist-packages (from tensorboard->-r /content/drive/My Drive/public/AMLSII_19-20_SN18154195/requirements.txt (line 3)) (46.1.3)\n",
            "Requirement already satisfied: pyparsing!=2.0.4,!=2.1.2,!=2.1.6,>=2.0.1 in /usr/local/lib/python3.6/dist-packages (from matplotlib->-r /content/drive/My Drive/public/AMLSII_19-20_SN18154195/requirements.txt (line 4)) (2.4.7)\n",
            "Requirement already satisfied: kiwisolver>=1.0.1 in /usr/local/lib/python3.6/dist-packages (from matplotlib->-r /content/drive/My Drive/public/AMLSII_19-20_SN18154195/requirements.txt (line 4)) (1.2.0)\n",
            "Requirement already satisfied: cycler>=0.10 in /usr/local/lib/python3.6/dist-packages (from matplotlib->-r /content/drive/My Drive/public/AMLSII_19-20_SN18154195/requirements.txt (line 4)) (0.10.0)\n",
            "Requirement already satisfied: colorama in /usr/local/lib/python3.6/dist-packages (from ekphrasis->-r /content/drive/My Drive/public/AMLSII_19-20_SN18154195/requirements.txt (line 6)) (0.4.3)\n",
            "Requirement already satisfied: ftfy in /usr/local/lib/python3.6/dist-packages (from ekphrasis->-r /content/drive/My Drive/public/AMLSII_19-20_SN18154195/requirements.txt (line 6)) (5.7)\n",
            "Requirement already satisfied: ujson in /usr/local/lib/python3.6/dist-packages (from ekphrasis->-r /content/drive/My Drive/public/AMLSII_19-20_SN18154195/requirements.txt (line 6)) (2.0.3)\n",
            "Requirement already satisfied: regex in /usr/local/lib/python3.6/dist-packages (from nltk->-r /content/drive/My Drive/public/AMLSII_19-20_SN18154195/requirements.txt (line 7)) (2019.12.20)\n",
            "Requirement already satisfied: joblib in /usr/local/lib/python3.6/dist-packages (from nltk->-r /content/drive/My Drive/public/AMLSII_19-20_SN18154195/requirements.txt (line 7)) (0.14.1)\n",
            "Requirement already satisfied: click in /usr/local/lib/python3.6/dist-packages (from nltk->-r /content/drive/My Drive/public/AMLSII_19-20_SN18154195/requirements.txt (line 7)) (7.1.1)\n",
            "Requirement already satisfied: pillow in /usr/local/lib/python3.6/dist-packages (from wordcloud->-r /content/drive/My Drive/public/AMLSII_19-20_SN18154195/requirements.txt (line 10)) (7.0.0)\n",
            "Requirement already satisfied: h5py in /usr/local/lib/python3.6/dist-packages (from keras-applications>=1.0.8->tensorflow->-r /content/drive/My Drive/public/AMLSII_19-20_SN18154195/requirements.txt (line 1)) (2.10.0)\n",
            "Requirement already satisfied: requests-oauthlib>=0.7.0 in /usr/local/lib/python3.6/dist-packages (from google-auth-oauthlib<0.5,>=0.4.1->tensorboard->-r /content/drive/My Drive/public/AMLSII_19-20_SN18154195/requirements.txt (line 3)) (1.3.0)\n",
            "Requirement already satisfied: pyasn1-modules>=0.2.1 in /usr/local/lib/python3.6/dist-packages (from google-auth<2,>=1.6.3->tensorboard->-r /content/drive/My Drive/public/AMLSII_19-20_SN18154195/requirements.txt (line 3)) (0.2.8)\n",
            "Requirement already satisfied: rsa<4.1,>=3.1.4 in /usr/local/lib/python3.6/dist-packages (from google-auth<2,>=1.6.3->tensorboard->-r /content/drive/My Drive/public/AMLSII_19-20_SN18154195/requirements.txt (line 3)) (4.0)\n",
            "Requirement already satisfied: cachetools<3.2,>=2.0.0 in /usr/local/lib/python3.6/dist-packages (from google-auth<2,>=1.6.3->tensorboard->-r /content/drive/My Drive/public/AMLSII_19-20_SN18154195/requirements.txt (line 3)) (3.1.1)\n",
            "Requirement already satisfied: chardet<3.1.0,>=3.0.2 in /usr/local/lib/python3.6/dist-packages (from requests<3,>=2.21.0->tensorboard->-r /content/drive/My Drive/public/AMLSII_19-20_SN18154195/requirements.txt (line 3)) (3.0.4)\n",
            "Requirement already satisfied: idna<2.9,>=2.5 in /usr/local/lib/python3.6/dist-packages (from requests<3,>=2.21.0->tensorboard->-r /content/drive/My Drive/public/AMLSII_19-20_SN18154195/requirements.txt (line 3)) (2.8)\n",
            "Requirement already satisfied: certifi>=2017.4.17 in /usr/local/lib/python3.6/dist-packages (from requests<3,>=2.21.0->tensorboard->-r /content/drive/My Drive/public/AMLSII_19-20_SN18154195/requirements.txt (line 3)) (2020.4.5.1)\n",
            "Requirement already satisfied: urllib3<1.25,>=1.21.1 in /usr/local/lib/python3.6/dist-packages (from requests<3,>=2.21.0->tensorboard->-r /content/drive/My Drive/public/AMLSII_19-20_SN18154195/requirements.txt (line 3)) (1.24.3)\n",
            "Requirement already satisfied: wcwidth in /usr/local/lib/python3.6/dist-packages (from ftfy->ekphrasis->-r /content/drive/My Drive/public/AMLSII_19-20_SN18154195/requirements.txt (line 6)) (0.1.9)\n",
            "Requirement already satisfied: oauthlib>=3.0.0 in /usr/local/lib/python3.6/dist-packages (from requests-oauthlib>=0.7.0->google-auth-oauthlib<0.5,>=0.4.1->tensorboard->-r /content/drive/My Drive/public/AMLSII_19-20_SN18154195/requirements.txt (line 3)) (3.1.0)\n",
            "Requirement already satisfied: pyasn1<0.5.0,>=0.4.6 in /usr/local/lib/python3.6/dist-packages (from pyasn1-modules>=0.2.1->google-auth<2,>=1.6.3->tensorboard->-r /content/drive/My Drive/public/AMLSII_19-20_SN18154195/requirements.txt (line 3)) (0.4.8)\n"
          ],
          "name": "stdout"
        }
      ]
    },
    {
      "cell_type": "markdown",
      "metadata": {
        "id": "RuEK2LfkrPYV",
        "colab_type": "text"
      },
      "source": [
        "# Load Dataset and Data Preprocessing"
      ]
    },
    {
      "cell_type": "markdown",
      "metadata": {
        "id": "6EVaQRfoFLyT",
        "colab_type": "text"
      },
      "source": [
        "## Preprocess Additional Dataset\n",
        "In task A, there are some additional datasets (sms and livejournal datasets) that were given from the competition apart from the standard twitter corpus. We can use both of these additional datasets, after we preprocess the formatting so that it matches the rest of the twitter datasets."
      ]
    },
    {
      "cell_type": "code",
      "metadata": {
        "id": "RUAJontBFp21",
        "colab_type": "code",
        "outputId": "846940d3-d49f-49d3-b71d-648209855c08",
        "colab": {
          "base_uri": "https://localhost:8080/",
          "height": 493
        }
      },
      "source": [
        "task_a_train_additional_dfs = {}\n",
        "\n",
        "for filename in cfg['paths']['train_additional_dataset_filenames']:\n",
        "  # read additional corpora\n",
        "  task_a_train_additional_dfs[filename] = pd.read_csv(os.path.join(cfg['paths']['train_folder_task_a'], filename), sep='\\t', header=None, quoting=csv.QUOTE_NONE)\n",
        "  \n",
        "  if filename == 'livejournal-2014test-A.tsv':\n",
        "    # remove the 0-th column from livejournal corpora, as it is unnecessary\n",
        "    task_a_train_additional_dfs[filename] = task_a_train_additional_dfs[filename].drop(columns=[0])\n",
        "  elif filename == 'sms-2013test-A.tsv':\n",
        "    # remove the 1st column from sms corpora, as it is unnecessary\n",
        "    task_a_train_additional_dfs[filename] = task_a_train_additional_dfs[filename].drop(columns=[1])\n",
        "  \n",
        "  # reset the column index to make it incremental\n",
        "  task_a_train_additional_dfs[filename].columns = range(task_a_train_additional_dfs[filename].shape[1])\n",
        "  \n",
        "  print(task_a_train_additional_dfs[filename])"
      ],
      "execution_count": 4,
      "outputs": [
        {
          "output_type": "stream",
          "text": [
            "             0         1                                                  2\n",
            "0     LJ111111  negative  I know I missed something here , but what does...\n",
            "1     LJ111113   neutral  What do you think of Beside Ourselves as a tit...\n",
            "2     LJ111114  positive                    :D I intend to be one someday .\n",
            "3     LJ111117  negative  LLLINKKK LLLINKKK IIIMAGEEELLLINKKK The choice...\n",
            "4     LJ111119   neutral                     LLLINKKK Some more mountains .\n",
            "...        ...       ...                                                ...\n",
            "1137  LJ113616  positive                     Maybe it was - his - fantasy ?\n",
            "1138  LJ113618  negative  It was ok , but they always just seem so nervo...\n",
            "1139  LJ113621  positive  It is streamable from YepRoc -- matter of fact...\n",
            "1140  LJ113623  positive  comment telling me who you are , or how you fo...\n",
            "1141  LJ113625   neutral  im on myspace ... ill try and find you and add...\n",
            "\n",
            "[1142 rows x 3 columns]\n",
            "          0         1                                                  2\n",
            "0     10936   neutral  Yes i am going from school have class till 5 c...\n",
            "1     11051   neutral  can u tape the match for me?  i\\u2019ll rush o...\n",
            "2     10966   neutral  Too many people at my house my relatives are h...\n",
            "3     11211  negative  Yea I have spoken to him liao. Indeed he is up...\n",
            "4     11350  positive  Haha... I want to see. E macdonalds here cheap...\n",
            "...     ...       ...                                                ...\n",
            "2089  10038  negative  Oki... Think i\\u2019m confused... I only know ...\n",
            "2090  11799   neutral  Yup... Ok i go home look at the timings then i...\n",
            "2091  11945   neutral            Here got lots of hair dresser fr china.\n",
            "2092  10154   neutral  no alh  we are not discussing fromt he viewpoi...\n",
            "2093  11428   neutral  Not dat i dun wan sign up but i wan only for a...\n",
            "\n",
            "[2094 rows x 3 columns]\n"
          ],
          "name": "stdout"
        }
      ]
    },
    {
      "cell_type": "markdown",
      "metadata": {
        "id": "FH283206E6BF",
        "colab_type": "text"
      },
      "source": [
        "## Make Datasets As Pandas' DataFrames and Cleaning Dataset\n",
        "\n"
      ]
    },
    {
      "cell_type": "code",
      "metadata": {
        "id": "LgC4YYhHrtdb",
        "colab_type": "code",
        "colab": {}
      },
      "source": [
        "def append_txt_files_as_one_dataframe(folderpath, filename_keywords_list, additional_dataset_dfs=None):\n",
        "  dataset_per_file_dfs = {}\n",
        "  dataset_df = pd.DataFrame()\n",
        "  filenames = os.listdir(folderpath)\n",
        "  \n",
        "  # open txt files (in tsv formatting)\n",
        "  for filename in filenames:\n",
        "    # if the filename contains a keyword in the filename_keywords_list, then open the txt file\n",
        "    # this is to avoid opening unnecessary txt such as readme.txt file.\n",
        "    if any(keyword in filename for keyword in filename_keywords_list):\n",
        "      dataset_per_file_dfs[filename] = pd.read_csv(os.path.join(folderpath, filename), sep=\"\\t\", header=None, quoting=csv.QUOTE_NONE)\n",
        "      print('shape : ', dataset_per_file_dfs[filename].shape, '\\tfilename: ', filename)\n",
        "\n",
        "  # combine the original dataset with additional dataset (if any)\n",
        "  if additional_dataset_dfs is not None:\n",
        "    for key, value in additional_dataset_dfs.items():\n",
        "      dataset_per_file_dfs[key] = value\n",
        "\n",
        "  # append all the files as one dataframe\n",
        "  for key, value in dataset_per_file_dfs.items():\n",
        "    # print(key, '\\t', i, '\\t', dataset_per_file_df[key].shape[0])\n",
        "    dataset_df = dataset_df.append(dataset_per_file_dfs[key], ignore_index=True)\n",
        "  return dataset_df"
      ],
      "execution_count": 0,
      "outputs": []
    },
    {
      "cell_type": "code",
      "metadata": {
        "id": "qXBTf96GQeBI",
        "colab_type": "code",
        "colab": {}
      },
      "source": [
        "def clean_dataframe_format(df, new_column_name_list, drop_column_list=[]):\n",
        "  # drop unnecessary column\n",
        "  df = df.drop(columns=drop_column_list)\n",
        "  \n",
        "  # rename column\n",
        "  df.columns = new_column_name_list\n",
        "\n",
        "  # remove row in dataframe if the 'text' or 'sentiment' column value is missing\n",
        "  df = df.dropna(subset=['sentiment', 'text'], how='any').reset_index(drop=True)\n",
        "  \n",
        "  # remove row if the sentiment is not 'positive', 'negative' or 'neutral'\n",
        "  # this happens in the dataset, for example, there are some rows\n",
        "  # where its sentiments are 'off topic'\n",
        "  valid_sentiments = ['positive', 'negative', 'neutral']\n",
        "  df = df[df['sentiment'].isin(valid_sentiments)].reset_index(drop=True)\n",
        "  return df"
      ],
      "execution_count": 0,
      "outputs": []
    },
    {
      "cell_type": "code",
      "metadata": {
        "id": "znGSEFNntmVa",
        "colab_type": "code",
        "outputId": "4ad795d0-dd44-4b1f-b15d-cc1dc55485d6",
        "colab": {
          "base_uri": "https://localhost:8080/",
          "height": 204
        }
      },
      "source": [
        "# read dataset files and append it as one pandas dataframe\n",
        "if cfg['task_a']['use_additional_dataset']:\n",
        "  task_a_train_df = append_txt_files_as_one_dataframe(cfg['paths']['train_folder_task_a'], ['twitter'], task_a_train_additional_dfs)\n",
        "else:\n",
        "  task_a_train_df = append_txt_files_as_one_dataframe(cfg['paths']['train_folder_task_a'], ['twitter'])\n",
        "\n",
        "task_a_train_df = clean_dataframe_format(task_a_train_df, ['id', 'sentiment', 'text'], drop_column_list=[3])"
      ],
      "execution_count": 7,
      "outputs": [
        {
          "output_type": "stream",
          "text": [
            "shape :  (2000, 3) \tfilename:  twitter-2016devtest-A.txt\n",
            "shape :  (1999, 3) \tfilename:  twitter-2016dev-A.txt\n",
            "shape :  (6000, 3) \tfilename:  twitter-2016train-A.txt\n",
            "shape :  (1654, 3) \tfilename:  twitter-2013dev-A.txt\n",
            "shape :  (3547, 3) \tfilename:  twitter-2013test-A.txt\n",
            "shape :  (9684, 3) \tfilename:  twitter-2013train-A.txt\n",
            "shape :  (1853, 3) \tfilename:  twitter-2014test-A.txt\n",
            "shape :  (2390, 3) \tfilename:  twitter-2015test-A.txt\n",
            "shape :  (489, 3) \tfilename:  twitter-2015train-A.txt\n",
            "shape :  (86, 3) \tfilename:  twitter-2014sarcasm-A.txt\n",
            "shape :  (20633, 4) \tfilename:  twitter-2016test-A.txt\n"
          ],
          "name": "stdout"
        }
      ]
    },
    {
      "cell_type": "code",
      "metadata": {
        "id": "R_Aem1fwuZB8",
        "colab_type": "code",
        "outputId": "85cf8519-1656-4624-ca25-eb3ff5335d15",
        "colab": {
          "base_uri": "https://localhost:8080/",
          "height": 272
        }
      },
      "source": [
        "task_b_train_df = append_txt_files_as_one_dataframe(cfg['paths']['train_folder_task_b'], ['twitter'])\n",
        "task_b_train_df = clean_dataframe_format(task_b_train_df, ['id', 'topic','sentiment', 'text'], drop_column_list=[4])\n",
        "task_b_train_df.info()"
      ],
      "execution_count": 8,
      "outputs": [
        {
          "output_type": "stream",
          "text": [
            "shape :  (4346, 4) \tfilename:  twitter-2016train-BD.txt\n",
            "shape :  (1325, 4) \tfilename:  twitter-2016dev-BD.txt\n",
            "shape :  (1417, 4) \tfilename:  twitter-2016devtest-BD.txt\n",
            "shape :  (489, 4) \tfilename:  twitter-2015train-BD.txt\n",
            "shape :  (10552, 5) \tfilename:  twitter-2016test-BD.txt\n",
            "shape :  (2383, 5) \tfilename:  twitter-2015testBD.txt\n",
            "<class 'pandas.core.frame.DataFrame'>\n",
            "RangeIndex: 20508 entries, 0 to 20507\n",
            "Data columns (total 4 columns):\n",
            "id           20508 non-null object\n",
            "topic        20508 non-null object\n",
            "sentiment    20508 non-null object\n",
            "text         20508 non-null object\n",
            "dtypes: object(4)\n",
            "memory usage: 641.0+ KB\n"
          ],
          "name": "stdout"
        }
      ]
    },
    {
      "cell_type": "code",
      "metadata": {
        "id": "1iApuaK7wj9O",
        "colab_type": "code",
        "outputId": "11bed8f8-87b1-4c60-d73d-e4ab7a11de94",
        "colab": {
          "base_uri": "https://localhost:8080/",
          "height": 419
        }
      },
      "source": [
        "task_a_test_df = pd.read_csv(cfg['paths']['test_file_task_a'], sep='\\t', header=None, quoting=csv.QUOTE_NONE)\n",
        "task_a_test_df = clean_dataframe_format(task_a_test_df, ['id', 'sentiment', 'text'])\n",
        "task_a_test_df"
      ],
      "execution_count": 9,
      "outputs": [
        {
          "output_type": "execute_result",
          "data": {
            "text/html": [
              "<div>\n",
              "<style scoped>\n",
              "    .dataframe tbody tr th:only-of-type {\n",
              "        vertical-align: middle;\n",
              "    }\n",
              "\n",
              "    .dataframe tbody tr th {\n",
              "        vertical-align: top;\n",
              "    }\n",
              "\n",
              "    .dataframe thead th {\n",
              "        text-align: right;\n",
              "    }\n",
              "</style>\n",
              "<table border=\"1\" class=\"dataframe\">\n",
              "  <thead>\n",
              "    <tr style=\"text-align: right;\">\n",
              "      <th></th>\n",
              "      <th>id</th>\n",
              "      <th>sentiment</th>\n",
              "      <th>text</th>\n",
              "    </tr>\n",
              "  </thead>\n",
              "  <tbody>\n",
              "    <tr>\n",
              "      <th>0</th>\n",
              "      <td>801989080477154944</td>\n",
              "      <td>neutral</td>\n",
              "      <td>#ArianaGrande Ari By Ariana Grande 80% Full ht...</td>\n",
              "    </tr>\n",
              "    <tr>\n",
              "      <th>1</th>\n",
              "      <td>801989272341453952</td>\n",
              "      <td>positive</td>\n",
              "      <td>Ariana Grande KIIS FM Yours Truly CD listening...</td>\n",
              "    </tr>\n",
              "    <tr>\n",
              "      <th>2</th>\n",
              "      <td>801990978424962944</td>\n",
              "      <td>positive</td>\n",
              "      <td>Ariana Grande White House Easter Egg Roll in W...</td>\n",
              "    </tr>\n",
              "    <tr>\n",
              "      <th>3</th>\n",
              "      <td>801996232553963008</td>\n",
              "      <td>positive</td>\n",
              "      <td>#CD #Musics Ariana Grande Sweet Like Candy 3.4...</td>\n",
              "    </tr>\n",
              "    <tr>\n",
              "      <th>4</th>\n",
              "      <td>801998343442407040</td>\n",
              "      <td>neutral</td>\n",
              "      <td>SIDE TO SIDE 😘 @arianagrande #sidetoside #aria...</td>\n",
              "    </tr>\n",
              "    <tr>\n",
              "      <th>...</th>\n",
              "      <td>...</td>\n",
              "      <td>...</td>\n",
              "      <td>...</td>\n",
              "    </tr>\n",
              "    <tr>\n",
              "      <th>12279</th>\n",
              "      <td>805699615781625856</td>\n",
              "      <td>positive</td>\n",
              "      <td>@dansen17 update: Zac Efron kissing a puppy ht...</td>\n",
              "    </tr>\n",
              "    <tr>\n",
              "      <th>12280</th>\n",
              "      <td>805701709356003328</td>\n",
              "      <td>neutral</td>\n",
              "      <td>#zac efron sex pic skins michelle sex https://...</td>\n",
              "    </tr>\n",
              "    <tr>\n",
              "      <th>12281</th>\n",
              "      <td>805701818357579776</td>\n",
              "      <td>neutral</td>\n",
              "      <td>First Look at Neighbors 2 with Zac Efron Shirt...</td>\n",
              "    </tr>\n",
              "    <tr>\n",
              "      <th>12282</th>\n",
              "      <td>805703557081075712</td>\n",
              "      <td>neutral</td>\n",
              "      <td>zac efron poses nude #lovely libra porn https:...</td>\n",
              "    </tr>\n",
              "    <tr>\n",
              "      <th>12283</th>\n",
              "      <td>805704324105940992</td>\n",
              "      <td>neutral</td>\n",
              "      <td>#Fashion #Style The Paperboy (NEW Blu-ray Disc...</td>\n",
              "    </tr>\n",
              "  </tbody>\n",
              "</table>\n",
              "<p>12284 rows × 3 columns</p>\n",
              "</div>"
            ],
            "text/plain": [
              "                       id  ...                                               text\n",
              "0      801989080477154944  ...  #ArianaGrande Ari By Ariana Grande 80% Full ht...\n",
              "1      801989272341453952  ...  Ariana Grande KIIS FM Yours Truly CD listening...\n",
              "2      801990978424962944  ...  Ariana Grande White House Easter Egg Roll in W...\n",
              "3      801996232553963008  ...  #CD #Musics Ariana Grande Sweet Like Candy 3.4...\n",
              "4      801998343442407040  ...  SIDE TO SIDE 😘 @arianagrande #sidetoside #aria...\n",
              "...                   ...  ...                                                ...\n",
              "12279  805699615781625856  ...  @dansen17 update: Zac Efron kissing a puppy ht...\n",
              "12280  805701709356003328  ...  #zac efron sex pic skins michelle sex https://...\n",
              "12281  805701818357579776  ...  First Look at Neighbors 2 with Zac Efron Shirt...\n",
              "12282  805703557081075712  ...  zac efron poses nude #lovely libra porn https:...\n",
              "12283  805704324105940992  ...  #Fashion #Style The Paperboy (NEW Blu-ray Disc...\n",
              "\n",
              "[12284 rows x 3 columns]"
            ]
          },
          "metadata": {
            "tags": []
          },
          "execution_count": 9
        }
      ]
    },
    {
      "cell_type": "code",
      "metadata": {
        "id": "KqE-Y6XJBeA2",
        "colab_type": "code",
        "outputId": "fcd52533-b1c2-4e0a-ff2e-debd355e370c",
        "colab": {
          "base_uri": "https://localhost:8080/",
          "height": 419
        }
      },
      "source": [
        "task_b_test_df = pd.read_csv(cfg['paths']['test_file_task_b'], sep='\\t', header=None, quoting=csv.QUOTE_NONE)\n",
        "task_b_test_df = clean_dataframe_format(task_b_test_df, ['id', 'topic', 'sentiment', 'text'])\n",
        "task_b_test_df"
      ],
      "execution_count": 10,
      "outputs": [
        {
          "output_type": "execute_result",
          "data": {
            "text/html": [
              "<div>\n",
              "<style scoped>\n",
              "    .dataframe tbody tr th:only-of-type {\n",
              "        vertical-align: middle;\n",
              "    }\n",
              "\n",
              "    .dataframe tbody tr th {\n",
              "        vertical-align: top;\n",
              "    }\n",
              "\n",
              "    .dataframe thead th {\n",
              "        text-align: right;\n",
              "    }\n",
              "</style>\n",
              "<table border=\"1\" class=\"dataframe\">\n",
              "  <thead>\n",
              "    <tr style=\"text-align: right;\">\n",
              "      <th></th>\n",
              "      <th>id</th>\n",
              "      <th>topic</th>\n",
              "      <th>sentiment</th>\n",
              "      <th>text</th>\n",
              "    </tr>\n",
              "  </thead>\n",
              "  <tbody>\n",
              "    <tr>\n",
              "      <th>0</th>\n",
              "      <td>801989272341453952</td>\n",
              "      <td>#ArianaGrande</td>\n",
              "      <td>positive</td>\n",
              "      <td>Ariana Grande KIIS FM Yours Truly CD listening...</td>\n",
              "    </tr>\n",
              "    <tr>\n",
              "      <th>1</th>\n",
              "      <td>801990978424962944</td>\n",
              "      <td>#ArianaGrande</td>\n",
              "      <td>positive</td>\n",
              "      <td>Ariana Grande White House Easter Egg Roll in W...</td>\n",
              "    </tr>\n",
              "    <tr>\n",
              "      <th>2</th>\n",
              "      <td>801996232553963008</td>\n",
              "      <td>#ArianaGrande</td>\n",
              "      <td>positive</td>\n",
              "      <td>#CD #Musics Ariana Grande Sweet Like Candy 3.4...</td>\n",
              "    </tr>\n",
              "    <tr>\n",
              "      <th>3</th>\n",
              "      <td>801998343442407040</td>\n",
              "      <td>#ArianaGrande</td>\n",
              "      <td>positive</td>\n",
              "      <td>SIDE TO SIDE 😘 @arianagrande #sidetoside #aria...</td>\n",
              "    </tr>\n",
              "    <tr>\n",
              "      <th>4</th>\n",
              "      <td>802001659970744064</td>\n",
              "      <td>#ArianaGrande</td>\n",
              "      <td>positive</td>\n",
              "      <td>Hairspray Live! Previews at the Macy's Thanksg...</td>\n",
              "    </tr>\n",
              "    <tr>\n",
              "      <th>...</th>\n",
              "      <td>...</td>\n",
              "      <td>...</td>\n",
              "      <td>...</td>\n",
              "      <td>...</td>\n",
              "    </tr>\n",
              "    <tr>\n",
              "      <th>6180</th>\n",
              "      <td>805696468959002624</td>\n",
              "      <td>zac efron</td>\n",
              "      <td>positive</td>\n",
              "      <td>Abby *talking about the Hamilton soundtrack\": ...</td>\n",
              "    </tr>\n",
              "    <tr>\n",
              "      <th>6181</th>\n",
              "      <td>805699412257181697</td>\n",
              "      <td>zac efron</td>\n",
              "      <td>positive</td>\n",
              "      <td>can we like get zac efron or justin bieber for...</td>\n",
              "    </tr>\n",
              "    <tr>\n",
              "      <th>6182</th>\n",
              "      <td>805699615781625856</td>\n",
              "      <td>zac efron</td>\n",
              "      <td>positive</td>\n",
              "      <td>@dansen17 update: Zac Efron kissing a puppy ht...</td>\n",
              "    </tr>\n",
              "    <tr>\n",
              "      <th>6183</th>\n",
              "      <td>805701818357579776</td>\n",
              "      <td>zac efron</td>\n",
              "      <td>positive</td>\n",
              "      <td>First Look at Neighbors 2 with Zac Efron Shirt...</td>\n",
              "    </tr>\n",
              "    <tr>\n",
              "      <th>6184</th>\n",
              "      <td>805703557081075712</td>\n",
              "      <td>zac efron</td>\n",
              "      <td>positive</td>\n",
              "      <td>zac efron poses nude #lovely libra porn https:...</td>\n",
              "    </tr>\n",
              "  </tbody>\n",
              "</table>\n",
              "<p>6185 rows × 4 columns</p>\n",
              "</div>"
            ],
            "text/plain": [
              "                      id  ...                                               text\n",
              "0     801989272341453952  ...  Ariana Grande KIIS FM Yours Truly CD listening...\n",
              "1     801990978424962944  ...  Ariana Grande White House Easter Egg Roll in W...\n",
              "2     801996232553963008  ...  #CD #Musics Ariana Grande Sweet Like Candy 3.4...\n",
              "3     801998343442407040  ...  SIDE TO SIDE 😘 @arianagrande #sidetoside #aria...\n",
              "4     802001659970744064  ...  Hairspray Live! Previews at the Macy's Thanksg...\n",
              "...                  ...  ...                                                ...\n",
              "6180  805696468959002624  ...  Abby *talking about the Hamilton soundtrack\": ...\n",
              "6181  805699412257181697  ...  can we like get zac efron or justin bieber for...\n",
              "6182  805699615781625856  ...  @dansen17 update: Zac Efron kissing a puppy ht...\n",
              "6183  805701818357579776  ...  First Look at Neighbors 2 with Zac Efron Shirt...\n",
              "6184  805703557081075712  ...  zac efron poses nude #lovely libra porn https:...\n",
              "\n",
              "[6185 rows x 4 columns]"
            ]
          },
          "metadata": {
            "tags": []
          },
          "execution_count": 10
        }
      ]
    },
    {
      "cell_type": "code",
      "metadata": {
        "id": "0OirqNXwXfQx",
        "colab_type": "code",
        "colab": {}
      },
      "source": [
        "# Checking and compare the frequency with what's written in the paper\n",
        "# # save dataset as csv file\n",
        "# task_a_train_df.to_csv('coba_train_a.csv', sep='\\t')\n",
        "\n",
        "# assert task_a_train_df[task_a_train_df['sentiment'] == 'positive'].shape[0] == 19902  #SALAH\n",
        "assert task_a_train_df[task_a_train_df['sentiment'] == 'negative'].shape[0] == 7840\n",
        "assert task_a_train_df[task_a_train_df['sentiment'] == 'neutral'].shape[0] == 22591\n",
        "\n",
        "assert task_a_test_df[task_a_test_df['sentiment'] == 'positive'].shape[0] == 2375\n",
        "assert task_a_test_df[task_a_test_df['sentiment'] == 'negative'].shape[0] == 3972\n",
        "assert task_a_test_df[task_a_test_df['sentiment'] == 'neutral'].shape[0] == 5937\n",
        "\n",
        "assert len(task_b_train_df['topic'].unique()) == 373\n",
        "assert task_b_train_df[task_b_train_df['sentiment'] == 'positive'].shape[0] == 14951\n",
        "assert task_b_train_df[task_b_train_df['sentiment'] == 'negative'].shape[0] == 4013\n",
        "assert task_b_train_df[task_b_train_df['sentiment'] == 'neutral'].shape[0] == 1544\n",
        "\n",
        "\n",
        "assert len(task_b_test_df['topic'].unique()) == 125\n",
        "assert task_b_test_df[task_b_test_df['sentiment'] == 'positive'].shape[0] == 2463\n",
        "assert task_b_test_df[task_b_test_df['sentiment'] == 'negative'].shape[0] == 3722"
      ],
      "execution_count": 0,
      "outputs": []
    },
    {
      "cell_type": "code",
      "metadata": {
        "id": "Tg90yjiKuw9Z",
        "colab_type": "code",
        "colab": {}
      },
      "source": [
        "# save the cleaned datasets as csv\n",
        "def df_to_csv(df, filtered_cols=[], csv_filename='output.csv', index_label='row_num'):\n",
        "  '''\n",
        "    df           : the panda dataframe\n",
        "    filtered_cols: if not empty, it will only include the listed column name\n",
        "    csv_filename : the csv filename\n",
        "    index_label  : column name for the dataframe's index in the csv\n",
        "  '''\n",
        "  # filtering columns\n",
        "  if len(filtered_cols) > 0:\n",
        "    df = df[filtered_cols]\n",
        "    \n",
        "  # save to csv\n",
        "  df.to_csv(\n",
        "      csv_filename,\n",
        "      sep='\\t',\n",
        "      index_label=index_label\n",
        "  )\n",
        "\n",
        "df_to_csv(task_a_train_df, ['text', 'sentiment'], cfg['paths']['cleaned_train_a'])\n",
        "df_to_csv(task_a_test_df, ['text', 'sentiment'], cfg['paths']['cleaned_test_a'])\n",
        "\n",
        "df_to_csv(task_b_train_df, ['text', 'sentiment', 'topic'], cfg['paths']['cleaned_train_b'])\n",
        "df_to_csv(task_b_test_df, ['text', 'sentiment', 'topic'], cfg['paths']['cleaned_test_b'])"
      ],
      "execution_count": 0,
      "outputs": []
    },
    {
      "cell_type": "markdown",
      "metadata": {
        "id": "9KGklVjRx50N",
        "colab_type": "text"
      },
      "source": [
        "## Tokenization"
      ]
    },
    {
      "cell_type": "code",
      "metadata": {
        "id": "NwjXcI3Gx7xb",
        "colab_type": "code",
        "colab": {}
      },
      "source": [
        "# from sklearn.preprocessing import LabelEncoder\n",
        "# from ekphrasis.classes.tokenizer import SocialTokenizer\n",
        "# from ekphrasis.dicts.emoticons import emoticons\n",
        "# from ekphrasis.classes.preprocessor import TextPreProcessor\n",
        "\n",
        "# text_processor = TextPreProcessor(\n",
        "#   # normalized these terms (ex: \"google.com\" into \"<url>\")\n",
        "#   normalize = ['url', 'email', 'percent', 'money', 'phone', 'user',\n",
        "#               'time', 'date', 'number'],\n",
        "\n",
        "#   # annotate these terms (ex: \"#win\" into [\"<hashtag>\", \"win\", \"</hashtag>\"])\n",
        "#   annotate = {'hashtag', 'allcaps', 'elongated', 'repeated', 'emphasis', 'censored'},\n",
        "#   fix_html=True,\n",
        "#   segmenter = 'twitter',\n",
        "#   corrector='twitter',\n",
        "#   unpack_hashtags=True,\n",
        "#   unpack_contractions=True,\n",
        "#   # spell_correct_elong=False,\n",
        "#   spell_correct_elong=True,\n",
        "#   tokenizer = SocialTokenizer(lowercase=True).tokenize,\n",
        "#   dicts = [emoticons]\n",
        "# )\n",
        "\n",
        "# def tokenize_df(df, input_column_name='text', output_column_name='tokenized'):\n",
        "#   df[output_column_name] = df.apply(\n",
        "#     lambda row: text_processor.pre_process_doc(\n",
        "#         row[input_column_name]\n",
        "#     ),\n",
        "#     axis=1)\n",
        "  \n",
        "#   return df"
      ],
      "execution_count": 0,
      "outputs": []
    },
    {
      "cell_type": "code",
      "metadata": {
        "id": "paxv3Xsw0fkT",
        "colab_type": "code",
        "colab": {}
      },
      "source": [
        "# # tokenizer = nltk.tokenize.TweetTokenizer(\n",
        "# #     strip_handles = cfg['preprocessing']['tokenization']['remove_twitter_handle'],\n",
        "# #     preserve_case = cfg['preprocessing']['tokenization']['preserve_case']\n",
        "# # )\n",
        "\n",
        "# task_a_train_df = tokenize_df(task_a_train_df)\n",
        "# task_b_train_df = tokenize_df(task_b_train_df)\n",
        "# task_a_test_df = tokenize_df(task_a_test_df)\n",
        "# task_b_test_df = tokenize_df(task_b_test_df)\n",
        "\n",
        "\n",
        "# # print sample result\n",
        "# task_b_test_df.head(10)"
      ],
      "execution_count": 0,
      "outputs": []
    },
    {
      "cell_type": "markdown",
      "metadata": {
        "id": "iFnxpFTZEe7E",
        "colab_type": "text"
      },
      "source": [
        "# Exploratory Data Analysis (EDA)"
      ]
    },
    {
      "cell_type": "markdown",
      "metadata": {
        "id": "cUrnPEtN76nc",
        "colab_type": "text"
      },
      "source": [
        "## Word Cloud"
      ]
    },
    {
      "cell_type": "code",
      "metadata": {
        "id": "sXTNP_1975_d",
        "colab_type": "code",
        "colab": {}
      },
      "source": [
        "# def show_wordcloud(text, title, max_words=200):\n",
        "#   wc = WordCloud(\n",
        "#       max_words=max_words,\n",
        "#       background_color='white',\n",
        "#       # ranks_only= frequency\n",
        "#   ).generate(text)\n",
        "\n",
        "#   print(wc.words_)\n",
        "\n",
        "#   fig = plt.figure(1, figsize=(12, 12))\n",
        "#   fig.suptitle(title)\n",
        "#   plt.imshow(wc)\n",
        "#   plt.show()"
      ],
      "execution_count": 0,
      "outputs": []
    },
    {
      "cell_type": "code",
      "metadata": {
        "id": "0MWVlPVeEit3",
        "colab_type": "code",
        "colab": {}
      },
      "source": [
        "# df = task_b_train_df[task_b_train_df['sentiment'] == 'positive']['text'][4]\n",
        "# print(df)\n",
        "# # print(df.shape)\n",
        "# # show_wordcloud(str(df.values), 'judul', max_words=20000)\n",
        "\n",
        "# # print(df.shape)\n",
        "# word_string = \"you verse wrote book stand titlea i you you you kampung\"\n",
        "# print(type(word_string))\n",
        "# show_wordcloud(word_string, 'judul', max_words=20000)"
      ],
      "execution_count": 0,
      "outputs": []
    },
    {
      "cell_type": "code",
      "metadata": {
        "id": "d7YGmqNd2WrP",
        "colab_type": "code",
        "outputId": "06aba0d0-2771-48de-cd2f-62e13ffd038a",
        "colab": {
          "base_uri": "https://localhost:8080/",
          "height": 199
        }
      },
      "source": [
        "def show_autopct(pct, data):\n",
        "  absolute = int(pct/100.*np.sum(data))\n",
        "  return  \"{:d}\\n({:.1f}%)\".format(absolute, pct)\n",
        "  \n",
        "plt.subplot(1, 2, 1)\n",
        "task_a_train_df['sentiment'].value_counts().plot(\n",
        "    kind='pie',\n",
        "    autopct=lambda pct: show_autopct(pct, task_a_train_df['sentiment'].value_counts()),\n",
        "    colors=['lightgray', 'darkseagreen', 'lightcoral']\n",
        ");\n",
        "plt.title('Training Set');\n",
        "\n",
        "\n",
        "plt.subplot(1, 2, 2)\n",
        "task_a_test_df['sentiment'].value_counts().plot(\n",
        "    kind='pie',\n",
        "    # figsize=(7,4),\n",
        "    autopct=lambda pct: show_autopct(pct, task_a_test_df['sentiment'].value_counts()),\n",
        "    colors=['lightgray', 'darkseagreen', 'lightcoral']\n",
        ");\n",
        "plt.title('Testing Set');\n",
        "\n",
        "\n"
      ],
      "execution_count": 17,
      "outputs": [
        {
          "output_type": "display_data",
          "data": {
            "image/png": "[encoded data removed]",
            "text/plain": [
              "<Figure size 432x288 with 2 Axes>"
            ]
          },
          "metadata": {
            "tags": []
          }
        }
      ]
    },
    {
      "cell_type": "code",
      "metadata": {
        "id": "Gauu8B_i9XHn",
        "colab_type": "code",
        "outputId": "5f59584e-5818-4cb7-edb6-fb857e7c297b",
        "colab": {
          "base_uri": "https://localhost:8080/",
          "height": 419
        }
      },
      "source": [
        "task_b_train_df[task_b_train_df['text'].str.contains('not')]"
      ],
      "execution_count": 18,
      "outputs": [
        {
          "output_type": "execute_result",
          "data": {
            "text/html": [
              "<div>\n",
              "<style scoped>\n",
              "    .dataframe tbody tr th:only-of-type {\n",
              "        vertical-align: middle;\n",
              "    }\n",
              "\n",
              "    .dataframe tbody tr th {\n",
              "        vertical-align: top;\n",
              "    }\n",
              "\n",
              "    .dataframe thead th {\n",
              "        text-align: right;\n",
              "    }\n",
              "</style>\n",
              "<table border=\"1\" class=\"dataframe\">\n",
              "  <thead>\n",
              "    <tr style=\"text-align: right;\">\n",
              "      <th></th>\n",
              "      <th>id</th>\n",
              "      <th>topic</th>\n",
              "      <th>sentiment</th>\n",
              "      <th>text</th>\n",
              "    </tr>\n",
              "  </thead>\n",
              "  <tbody>\n",
              "    <tr>\n",
              "      <th>4</th>\n",
              "      <td>629226490152914944</td>\n",
              "      <td>@microsoft</td>\n",
              "      <td>positive</td>\n",
              "      <td>Microsoft, I may not prefer your gaming branch...</td>\n",
              "    </tr>\n",
              "    <tr>\n",
              "      <th>8</th>\n",
              "      <td>629797991826722816</td>\n",
              "      <td>@microsoft</td>\n",
              "      <td>negative</td>\n",
              "      <td>After attempting a reinstall, it still bricks,...</td>\n",
              "    </tr>\n",
              "    <tr>\n",
              "      <th>16</th>\n",
              "      <td>631543121407442946</td>\n",
              "      <td>@microsoft</td>\n",
              "      <td>negative</td>\n",
              "      <td>@Microsoft support for 365 has been terrible. ...</td>\n",
              "    </tr>\n",
              "    <tr>\n",
              "      <th>20</th>\n",
              "      <td>632536348419690496</td>\n",
              "      <td>@microsoft</td>\n",
              "      <td>negative</td>\n",
              "      <td>@eyesonfoxorg @Microsoft I'm still using Vista...</td>\n",
              "    </tr>\n",
              "    <tr>\n",
              "      <th>22</th>\n",
              "      <td>632810315227467776</td>\n",
              "      <td>@microsoft</td>\n",
              "      <td>negative</td>\n",
              "      <td>@MisterMetokur @Microsoft @ATT @NSAGov That's ...</td>\n",
              "    </tr>\n",
              "    <tr>\n",
              "      <th>...</th>\n",
              "      <td>...</td>\n",
              "      <td>...</td>\n",
              "      <td>...</td>\n",
              "      <td>...</td>\n",
              "    </tr>\n",
              "    <tr>\n",
              "      <th>20474</th>\n",
              "      <td>520384978820296705</td>\n",
              "      <td>yougov</td>\n",
              "      <td>negative</td>\n",
              "      <td>\"@LouiseBaldock great work; you may or may not...</td>\n",
              "    </tr>\n",
              "    <tr>\n",
              "      <th>20476</th>\n",
              "      <td>519600072971927555</td>\n",
              "      <td>yougov</td>\n",
              "      <td>neutral</td>\n",
              "      <td>\"YouGov tonight  shows 2% Labour lead. So head...</td>\n",
              "    </tr>\n",
              "    <tr>\n",
              "      <th>20481</th>\n",
              "      <td>519201436102848512</td>\n",
              "      <td>yougov</td>\n",
              "      <td>neutral</td>\n",
              "      <td>IF tonight's YouGov shows another Tory lead th...</td>\n",
              "    </tr>\n",
              "    <tr>\n",
              "      <th>20488</th>\n",
              "      <td>520337071345795073</td>\n",
              "      <td>yougov</td>\n",
              "      <td>neutral</td>\n",
              "      <td>\"Tonight's YouGov: Lab 35, Con 30, UKIP 15, Li...</td>\n",
              "    </tr>\n",
              "    <tr>\n",
              "      <th>20506</th>\n",
              "      <td>522912399322394624</td>\n",
              "      <td>younique</td>\n",
              "      <td>positive</td>\n",
              "      <td>Get the best mascara in the industry here! Im ...</td>\n",
              "    </tr>\n",
              "  </tbody>\n",
              "</table>\n",
              "<p>1558 rows × 4 columns</p>\n",
              "</div>"
            ],
            "text/plain": [
              "                       id  ...                                               text\n",
              "4      629226490152914944  ...  Microsoft, I may not prefer your gaming branch...\n",
              "8      629797991826722816  ...  After attempting a reinstall, it still bricks,...\n",
              "16     631543121407442946  ...  @Microsoft support for 365 has been terrible. ...\n",
              "20     632536348419690496  ...  @eyesonfoxorg @Microsoft I'm still using Vista...\n",
              "22     632810315227467776  ...  @MisterMetokur @Microsoft @ATT @NSAGov That's ...\n",
              "...                   ...  ...                                                ...\n",
              "20474  520384978820296705  ...  \"@LouiseBaldock great work; you may or may not...\n",
              "20476  519600072971927555  ...  \"YouGov tonight  shows 2% Labour lead. So head...\n",
              "20481  519201436102848512  ...  IF tonight's YouGov shows another Tory lead th...\n",
              "20488  520337071345795073  ...  \"Tonight's YouGov: Lab 35, Con 30, UKIP 15, Li...\n",
              "20506  522912399322394624  ...  Get the best mascara in the industry here! Im ...\n",
              "\n",
              "[1558 rows x 4 columns]"
            ]
          },
          "metadata": {
            "tags": []
          },
          "execution_count": 18
        }
      ]
    },
    {
      "cell_type": "code",
      "metadata": {
        "id": "nwFx7A43Aju4",
        "colab_type": "code",
        "outputId": "718c6afb-a48d-4545-b213-8bb117f9e996",
        "colab": {
          "base_uri": "https://localhost:8080/",
          "height": 1000
        }
      },
      "source": [
        "positive = task_b_train_df[task_b_train_df['sentiment'] == 'positive']['topic'].value_counts(sort=False).to_frame(name='positive')\n",
        "negative = task_b_train_df[task_b_train_df['sentiment'] == 'negative']['topic'].value_counts(sort=False).to_frame(name='negative')\n",
        "neutral = task_b_train_df[task_b_train_df['sentiment'] == 'neutral']['topic'].value_counts(sort=False).to_frame(name='neutral')\n",
        "# negative = task_b_train_df['topic'][task_b_train_df['sentiment'] == 'negative'].value_counts(sort=False)\n",
        "# neutral = task_b_train_df['topic'][task_b_train_df['sentiment'] == 'neutral'].value_counts(sort=False)\n",
        "joined = positive.join(negative).join(neutral)\n",
        "\n",
        "joined = joined[(joined['positive'] > 0) & (joined['negative']>0)]\n",
        "with pd.option_context('display.max_rows', None, 'display.max_columns', None):  # more options can be specified also\n",
        "    print(joined)"
      ],
      "execution_count": 19,
      "outputs": [
        {
          "output_type": "stream",
          "text": [
            "                       positive  negative  neutral\n",
            "spx                           4       2.0     12.0\n",
            "thor                        138      18.0      NaN\n",
            "brock lesnar                108      14.0      NaN\n",
            "serena                       73       1.0      NaN\n",
            "digi                         72       2.0      NaN\n",
            "james franklin                2      10.0      7.0\n",
            "pope                         58       5.0      NaN\n",
            "batman                       64       5.0      NaN\n",
            "barca                        69       6.0      6.0\n",
            "packers                       6       2.0     10.0\n",
            "frank ocean                 110      38.0      NaN\n",
            "disney                       12       1.0      7.0\n",
            "ducks                         8       1.0     11.0\n",
            "ihop                         81       3.0      NaN\n",
            "ipad                         63       4.0      NaN\n",
            "act                           1       2.0      5.0\n",
            "minecraft                    82       1.0      NaN\n",
            "floyd mayweather             37      27.0      NaN\n",
            "sony                         49      14.0      NaN\n",
            "iron maiden                 133       3.0      NaN\n",
            "iran                         15      61.0      NaN\n",
            "fleetwood mac                89       3.0      NaN\n",
            "bill maher                    4       6.0      9.0\n",
            "federer                      75       1.0      NaN\n",
            "juventus                     35      11.0      NaN\n",
            "kendrick lamar               89      16.0      NaN\n",
            "chelsea                      59      10.0      5.0\n",
            "national hot dog day        148       3.0      NaN\n",
            "google+                      44      19.0      NaN\n",
            "seth rollins                 74      32.0      NaN\n",
            "beyonce                      84       2.0      NaN\n",
            "ira                          10     111.0      NaN\n",
            "islam                        68      69.0      NaN\n",
            "rahul gandhi                 28      46.0      NaN\n",
            "colts                        10       1.0      7.0\n",
            "pride parade                 75       2.0      NaN\n",
            "stoops                        3       5.0     12.0\n",
            "muslims                      30      96.0      NaN\n",
            "donny                         6       3.0      6.0\n",
            "nintendo                     54       8.0      NaN\n",
            "eid                         123       4.0      NaN\n",
            "ipod                         56       7.0      NaN\n",
            "nokia                        59       9.0      NaN\n",
            "tvd                           9       2.0      5.0\n",
            "apple                        57      11.0      NaN\n",
            "briana                       48      44.0      NaN\n",
            "ice cube                    134      14.0      NaN\n",
            "wednesday adams               7       3.0      9.0\n",
            "kobe bryant                  13       4.0      3.0\n",
            "ghoncheh ghavami              3       1.0      2.0\n",
            "brian kelly                   6       3.0      8.0\n",
            "russell wilson                3       4.0     10.0\n",
            "gilmore girls                 7       4.0      7.0\n",
            "rolling stone                39       8.0      NaN\n",
            "kim kardashian               34      23.0      NaN\n",
            "david beckham                76       3.0      NaN\n",
            "cowboys                       6       3.0      9.0\n",
            "taylor swift                 84       1.0      NaN\n",
            "bob marley                   89       3.0      NaN\n",
            "windows 10                   43      18.0      NaN\n",
            "david cameron                25      38.0      NaN\n",
            "randy orton                  36       7.0      NaN\n",
            "grateful dead                86       2.0      NaN\n",
            "scotus                       18      31.0      NaN\n",
            "white sox                    38      15.0      NaN\n",
            "aaron rodgers                13       3.0     16.0\n",
            "michelle obama               47      17.0      NaN\n",
            "dark souls                   73      14.0      NaN\n",
            "lsu                           4       1.0     14.0\n",
            "ventura                       8       2.0      8.0\n",
            "harper                       18      41.0      NaN\n",
            "red sox                      73      22.0      NaN\n",
            "jimmy fallon                  8       1.0     11.0\n",
            "star wars                    88       2.0      NaN\n",
            "white house                   2       1.0     17.0\n",
            "red bull                      5       3.0     10.0\n",
            "europa league                 3       2.0     15.0\n",
            "ios                          47       5.0      NaN\n",
            "google                       35      15.0     11.0\n",
            "david taylor                  1       1.0      8.0\n",
            "conor mcgregor               80       4.0      NaN\n",
            "vikings                       5       3.0     11.0\n",
            "brook lopez                   7       3.0      NaN\n",
            "bentley                      65       3.0      NaN\n",
            "sarah palin                   7      53.0      NaN\n",
            "yakub                         5     105.0      NaN\n",
            "bbc                          36      16.0      NaN\n",
            "tgif                         84       2.0      NaN\n",
            "madonna                      77       2.0      NaN\n",
            "watchman                     55       5.0      NaN\n",
            "u2                           85       8.0      NaN\n",
            "careless world                6       1.0      3.0\n",
            "boise state                   4       1.0     11.0\n",
            "nabeel rajab                  1       3.0      2.0\n",
            "wwat                         13       1.0      5.0\n",
            "harry potter                 80       2.0      NaN\n",
            "jessica                       9       2.0      9.0\n",
            "paul mccartney              115       1.0      NaN\n",
            "big brother                 135      38.0      NaN\n",
            "joe biden                    40      18.0      NaN\n",
            "sting                        77       2.0      NaN\n",
            "the vamps                    55       5.0      NaN\n",
            "demi lovato                  11       1.0      8.0\n",
            "vampire diaries              15       1.0      4.0\n",
            "justin bieber               117      27.0      NaN\n",
            "boehner                       1       7.0     10.0\n",
            "ryan braun                   51       9.0      NaN\n",
            "hillary                      22      48.0      NaN\n",
            "modi                          6       4.0      9.0\n",
            "super eagles                 38       2.0      NaN\n",
            "charles darwin                1       1.0      5.0\n",
            "jason aldean                138       2.0      NaN\n",
            "gucci                        68      18.0      NaN\n",
            "fabian delph                  4       3.0      1.0\n",
            "atletico madrid               4       1.0     13.0\n",
            "gay                          50      45.0      NaN\n",
            "obama                        21      40.0      NaN\n",
            "friday night lights          12       1.0      7.0\n",
            "foo fighters                228       3.0      NaN\n",
            "atleti                        3       3.0     10.0\n",
            "mariah carey                 77       3.0      NaN\n",
            "georgia dome                  7       1.0     12.0\n",
            "bobby jindal                 19      37.0      NaN\n",
            "a$ap rocky                    6       1.0      3.0\n",
            "kris bryant                  93       8.0      NaN\n",
            "shawn                       155       5.0      NaN\n",
            "chuck norris                 32       6.0      NaN\n",
            "amazon                       57      16.0      NaN\n",
            "bernie sanders               76       9.0      NaN\n",
            "zlatan                       60       4.0      NaN\n",
            "dean ambrose                 21       4.0      NaN\n",
            "seinfeld                     75       2.0      NaN\n",
            "jay-z                        59      14.0      NaN\n",
            "ric flair                    61       1.0      NaN\n",
            "angela merkel                23      23.0      NaN\n",
            "kane                         62      31.0      NaN\n",
            "justin                       69       9.0      NaN\n",
            "rodgers                       3       5.0     10.0\n",
            "josh hamilton                47       6.0      NaN\n",
            "jennifer lawrence             7       1.0     11.0\n",
            "simmons                      13       1.0      5.0\n",
            "amazon prime day             43      43.0      NaN\n",
            "tom cruise                   61      13.0      NaN\n",
            "brian cushing                 3       6.0     11.0\n",
            "cfb                           2       1.0     17.0\n",
            "netflix                      88       6.0      7.0\n",
            "paper towns                 167       8.0      NaN\n",
            "real madrid                  19      16.0      NaN\n",
            "dunkin                      156      18.0      NaN\n",
            "monster hunter                9       1.0      7.0\n",
            "nirvana                     126       3.0      NaN\n",
            "saudi arabia                 14      57.0      NaN\n",
            "ukip                         28      31.0      NaN\n",
            "narendra modi                 4       1.0     15.0\n",
            "boko haram                    2     149.0      NaN\n",
            "zayn                        107      10.0      NaN\n",
            "carly fiorina               108      17.0      NaN\n",
            "yougov                        5       3.0     11.0\n",
            "leeds united                  8       1.0     10.0\n",
            "alonso                        1       7.0     11.0\n",
            "tegan                         9       2.0      8.0\n",
            "galaxy note                  71       6.0      NaN\n",
            "jurassic world               84       5.0      NaN\n",
            "david bowie                  93       3.0      NaN\n",
            "carling cup                   3       1.0      5.0\n",
            "israel                       50      63.0      NaN\n",
            "jeb bush                      4      55.0      NaN\n",
            "iphone                       65       5.0      NaN\n",
            "american horror story         8       5.0      5.0\n",
            "ahs                          10       3.0      6.0\n",
            "kpop                         67       9.0      NaN\n",
            "donald trump                 16      44.0      NaN\n",
            "michael jackson              75       1.0      NaN\n",
            "delhi police                  2       2.0     11.0\n",
            "scott walker                 18      54.0      NaN\n",
            "lexus                        70       5.0      NaN\n",
            "vettel                        3       2.0     14.0\n",
            "school                        3      10.0      7.0\n",
            "kris jenner                   4       2.0     11.0\n",
            "game of thrones              83       3.0      NaN\n",
            "kyle                          9       4.0      6.0\n",
            "cupid                         1       2.0      7.0\n",
            "carlo ancelotti               9       3.0      7.0\n",
            "arsenal                      45      15.0      8.0\n",
            "amy schumer                  47      13.0      NaN\n",
            "naruto                      152      10.0      NaN\n",
            "abc                           4       2.0     14.0\n",
            "ps4                         105      10.0      NaN\n",
            "lax                           5       1.0     14.0\n",
            "sam smith                   149      17.0      NaN\n",
            "xmas                          8       2.0      8.0\n",
            "democrats                     1       4.0      9.0\n",
            "bad blood                    49      17.0      NaN\n",
            "metlife                      69       5.0      NaN\n",
            "nike                         55       9.0      NaN\n",
            "charlie hebdo                12      43.0      NaN\n",
            "tony blair                   10      65.0      NaN\n",
            "kanye west                   70      71.0      NaN\n",
            "trump                        26      42.0      NaN\n",
            "brit award                    9       1.0      NaN\n",
            "ashton                       12       2.0      5.0\n",
            "icc                           5       1.0     13.0\n",
            "rbi                           4       1.0     14.0\n",
            "twilight                    114      28.0      NaN\n",
            "kershaw                       4       2.0     13.0\n",
            "oracle                       46       8.0      NaN\n",
            "eric church                  90       3.0      NaN\n",
            "ac/dc                        89       2.0      NaN\n",
            "cannavaro                     5       2.0      2.0\n",
            "prince george               125       2.0      NaN\n",
            "kesha                         6       2.0     11.0\n",
            "kendrick                    147      32.0      NaN\n",
            "disneyland                   92       2.0      NaN\n",
            "ucla                          2       1.0     16.0\n",
            "mikasa                       11       1.0      8.0\n",
            "murray                       90      24.0      NaN\n",
            "ancelotti                    10       2.0      8.0\n",
            "planned parenthood           11      46.0      NaN\n",
            "rick perry                   23      41.0      NaN\n",
            "monsanto                      7      54.0      NaN\n",
            "jurassic park                86       2.0      NaN\n",
            "kerry                        39      19.0      NaN\n",
            "cate blanchett               41       2.0      NaN\n",
            "bolton                        3       1.0     13.0\n",
            "magic mike xxl               89       3.0      NaN\n",
            "erdogan                       3      58.0      NaN\n",
            "john cena                   121      24.0      NaN\n",
            "aaron samuels                 2       4.0     11.0\n",
            "labor day                    61       7.0      NaN\n",
            "david wright                 92       7.0      NaN\n",
            "yoga                         80       1.0      NaN\n",
            "zac brown band              110       3.0      NaN\n",
            "bellusci                      4       1.0      5.0\n",
            "afghans                       1       2.0      7.0\n",
            "green bay                     2       2.0     15.0\n",
            "miss usa                     41       6.0      NaN\n",
            "christian ponder              7       7.0      2.0\n",
            "ed sheeran                  163       5.0      NaN\n",
            "sharknado                   132      39.0      NaN\n",
            "david price                 114       9.0      NaN\n",
            "venice beach                 88       3.0      NaN\n",
            "hulk hogan                   44      50.0      NaN\n",
            "george harrison              48       1.0      NaN\n",
            "nicki                        99      32.0      NaN\n",
            "xbox                         55       7.0      NaN\n",
            "selena                        8       1.0     11.0\n",
            "james rodriguez              13       3.0      4.0\n",
            "tsipras                      25      21.0      NaN\n",
            "tory                         14      46.0      NaN\n",
            "apple watch                  53       8.0      NaN\n",
            "independence day              6       1.0     12.0\n",
            "galatasaray                   3       8.0      7.0\n",
            "frank gifford               151       5.0      NaN\n",
            "curtis                       86      13.0      NaN\n",
            "christians                   56      50.0      NaN\n",
            "john kasich                  48      24.0      NaN\n",
            "caitlyn jenner               24      69.0      NaN\n",
            "george osborne               29      39.0      NaN\n",
            "chris maguire                 2       1.0      2.0\n",
            "swachh bharat                 3       2.0     15.0\n",
            "kurt cobain                  61       7.0      NaN\n",
            "rousey                       61      23.0      NaN\n",
            "curtis painter                5       7.0      5.0\n",
            "ted 2                        81       7.0      NaN\n",
            "dustin johnson               91      31.0      NaN\n",
            "arian foster                  8       3.0      6.0\n",
            "niall                       130      14.0     11.0\n",
            "ibm                          64       5.0      NaN\n",
            "rebecca black                 6       3.0     10.0\n",
            "liam                         11       2.0      7.0\n",
            "chris evans                  94      27.0      NaN\n",
            "chris brown                  76       6.0      NaN\n",
            "@microsoft                   34      46.0      NaN\n",
            "asiata                        1       4.0     14.0\n",
            "dana white                   15      25.0      NaN\n",
            "the big bang theory           9       1.0     10.0\n",
            "milan                       142      18.0      NaN\n",
            "tiger woods                  46      19.0      NaN\n",
            "ruto                          3       3.0     13.0\n",
            "amazon prime                 70      18.0      NaN\n",
            "valentine                    55       4.0      NaN\n",
            "denzel                        5       1.0      4.0\n",
            "jan hooks                     3       2.0      9.0\n",
            "valentine 's day             54       7.0      NaN\n",
            "snoop dogg                   61       6.0      NaN\n",
            "moto g                       58       4.0      NaN\n",
            "redskins                      4       2.0     14.0\n",
            "lee soo man                  12       2.0      2.0\n",
            "green day                     8       1.0      9.0\n",
            "t-mobile                     44      21.0      NaN\n",
            "adidas                        1       1.0      8.0\n",
            "gandhi                        5       1.0     14.0\n",
            "lady gaga                    71       5.0      NaN\n",
            "carling cup final             3       1.0      6.0\n",
            "messi                        74       3.0      NaN\n",
            "hannibal                     82       4.0      NaN\n",
            "bulls                         9       1.0     10.0\n",
            "janet jackson                95       3.0      NaN\n",
            "ant-man                     221       8.0      NaN\n",
            "paul dunne                  142      10.0      NaN\n",
            "tom brady                    77      33.0      NaN\n",
            "academy awards                1       2.0      7.0\n",
            "katy perry                   57       8.0      6.0\n"
          ],
          "name": "stdout"
        }
      ]
    },
    {
      "cell_type": "code",
      "metadata": {
        "id": "Nm_M0CXUAsAn",
        "colab_type": "code",
        "outputId": "a85ffc50-2662-43be-af14-d433f8bbbd6f",
        "colab": {
          "base_uri": "https://localhost:8080/",
          "height": 282
        }
      },
      "source": [
        "\n",
        "plt.bar(range(joined.shape[0]), joined['positive'], label='positive', color='blue')\n",
        "plt.bar(range(joined.shape[0]), joined['negative'], label='negative', color='red', bottom=joined['positive'])"
      ],
      "execution_count": 20,
      "outputs": [
        {
          "output_type": "execute_result",
          "data": {
            "text/plain": [
              "<BarContainer object of 303 artists>"
            ]
          },
          "metadata": {
            "tags": []
          },
          "execution_count": 20
        },
        {
          "output_type": "display_data",
          "data": {
            "image/png": "[encoded data removed]",
            "text/plain": [
              "<Figure size 432x288 with 1 Axes>"
            ]
          },
          "metadata": {
            "tags": [],
            "needs_background": "light"
          }
        }
      ]
    },
    {
      "cell_type": "markdown",
      "metadata": {
        "id": "vwJSV9cfh9Q6",
        "colab_type": "text"
      },
      "source": [
        "# Building Classifier"
      ]
    },
    {
      "cell_type": "markdown",
      "metadata": {
        "id": "D0KvskijQ9H9",
        "colab_type": "text"
      },
      "source": [
        "## Build Dataset\n"
      ]
    },
    {
      "cell_type": "code",
      "metadata": {
        "id": "XzWqeZzyvFKH",
        "colab_type": "code",
        "colab": {}
      },
      "source": [
        "from torch.utils.data import DataLoader, Dataset\n",
        "from torchtext.data import TabularDataset, Field, LabelField, BucketIterator\n",
        "from sklearn.preprocessing import LabelEncoder\n",
        "from ekphrasis.classes.tokenizer import SocialTokenizer\n",
        "from ekphrasis.dicts.emoticons import emoticons\n",
        "from ekphrasis.classes.preprocessor import TextPreProcessor"
      ],
      "execution_count": 0,
      "outputs": []
    },
    {
      "cell_type": "code",
      "metadata": {
        "id": "gG8Y1k6YVos_",
        "colab_type": "code",
        "outputId": "f0457455-c065-4055-c774-9937063212cf",
        "colab": {
          "base_uri": "https://localhost:8080/",
          "height": 68
        }
      },
      "source": [
        "text_processor = TextPreProcessor(\n",
        "  # normalized these terms (ex: \"google.com\" into \"<url>\")\n",
        "  normalize = ['url', 'email', 'percent', 'money', 'phone', 'user',\n",
        "              'time', 'date', 'number'],\n",
        "\n",
        "  # annotate these terms (ex: \"#win\" into [\"<hashtag>\", \"win\", \"</hashtag>\"])\n",
        "  annotate = {'hashtag', 'allcaps', 'elongated', 'repeated', 'emphasis', 'censored'},\n",
        "  fix_html=True,\n",
        "  segmenter = 'twitter',\n",
        "  corrector='twitter',\n",
        "  unpack_hashtags=True,\n",
        "  unpack_contractions=True,\n",
        "  spell_correct_elong=False,\n",
        "  tokenizer = SocialTokenizer(lowercase=True).tokenize,\n",
        "  dicts = [emoticons]\n",
        ")\n",
        "\n",
        "def custom_tokenizer(example):\n",
        "  return text_processor.pre_process_doc(example)"
      ],
      "execution_count": 22,
      "outputs": [
        {
          "output_type": "stream",
          "text": [
            "Reading twitter - 1grams ...\n",
            "Reading twitter - 2grams ...\n",
            "Reading twitter - 1grams ...\n"
          ],
          "name": "stdout"
        }
      ]
    },
    {
      "cell_type": "code",
      "metadata": {
        "id": "h-_FIEeLyTFM",
        "colab_type": "code",
        "colab": {}
      },
      "source": [
        "# read csv file as torchtext's TabularDataset\n",
        "def csv_to_tabular_dataset(filepath, fields):\n",
        "  tabular_daset = TabularDataset(\n",
        "      path=filepath,\n",
        "      fields = fields,\n",
        "      format='tsv',\n",
        "      skip_header=True\n",
        "  )\n",
        "  return tabular_daset"
      ],
      "execution_count": 0,
      "outputs": []
    },
    {
      "cell_type": "code",
      "metadata": {
        "id": "LthD8p-40BkA",
        "colab_type": "code",
        "colab": {}
      },
      "source": [
        "ROW_NUM = Field()\n",
        "\n",
        "TEXT = Field(\n",
        "    tokenize=custom_tokenizer,\n",
        "    include_lengths=True)\n",
        "\n",
        "SENTIMENT = LabelField(dtype = torch.int)\n",
        "\n",
        "train_data_a = csv_to_tabular_dataset(\n",
        "    cfg['paths']['cleaned_train_a'],\n",
        "    fields = [('row_num', ROW_NUM), ('text', TEXT), ('sentiment', SENTIMENT)]\n",
        ")\n",
        "\n",
        "test_data_a = csv_to_tabular_dataset(\n",
        "    cfg['paths']['cleaned_test_a'],\n",
        "    fields = [('row_num', ROW_NUM), ('text', TEXT), ('sentiment', SENTIMENT)]\n",
        ")"
      ],
      "execution_count": 0,
      "outputs": []
    },
    {
      "cell_type": "code",
      "metadata": {
        "id": "3mUgDW5Kx0VM",
        "colab_type": "code",
        "outputId": "f35c7e97-f0d0-4ed2-b01b-b970c7f977a4",
        "colab": {
          "base_uri": "https://localhost:8080/",
          "height": 68
        }
      },
      "source": [
        "# split train data as traid:validation\n",
        "train_data_a, valid_data_a = train_data_a.split(split_ratio=0.8)\n",
        "\n",
        "print(len(train_data_a), len(train_data_a)/(len(train_data_a)+len(valid_data_a))*100)\n",
        "print(len(valid_data_a), len(valid_data_a)/(len(train_data_a)+len(valid_data_a))*100)\n",
        "print(len(test_data_a))\n"
      ],
      "execution_count": 63,
      "outputs": [
        {
          "output_type": "stream",
          "text": [
            "18040 80.0\n",
            "4510 20.0\n",
            "12284\n"
          ],
          "name": "stdout"
        }
      ]
    },
    {
      "cell_type": "code",
      "metadata": {
        "id": "YFx9ds1ozwiX",
        "colab_type": "code",
        "outputId": "2c3abb9c-32d7-40a9-9a75-08c85e050f4e",
        "colab": {
          "base_uri": "https://localhost:8080/",
          "height": 510
        }
      },
      "source": [
        "vars(train_data_a.examples[0])"
      ],
      "execution_count": 26,
      "outputs": [
        {
          "output_type": "execute_result",
          "data": {
            "text/plain": [
              "{'row_num': ['12547'],\n",
              " 'sentiment': 'neutral',\n",
              " 'text': ['oklahoma',\n",
              "  \"'\",\n",
              "  's',\n",
              "  'new',\n",
              "  'open',\n",
              "  'carry',\n",
              "  'law',\n",
              "  'goes',\n",
              "  'into',\n",
              "  'effect',\n",
              "  'today',\n",
              "  '.',\n",
              "  'check',\n",
              "  'james',\n",
              "  'keeton',\n",
              "  \"'\",\n",
              "  's',\n",
              "  'article',\n",
              "  'about',\n",
              "  'the',\n",
              "  'law',\n",
              "  'in',\n",
              "  'our',\n",
              "  'latest',\n",
              "  'issue',\n",
              "  '.',\n",
              "  '<url>']}"
            ]
          },
          "metadata": {
            "tags": []
          },
          "execution_count": 26
        }
      ]
    },
    {
      "cell_type": "code",
      "metadata": {
        "id": "c6jh0QGex2RN",
        "colab_type": "code",
        "colab": {}
      },
      "source": [
        "BATCH_SIZE = 64\n",
        "\n",
        "device = torch.device('cuda' if torch.cuda.is_available() else 'cpu')\n",
        "\n",
        "train_iterator, valid_iterator, test_iterator = BucketIterator.splits(\n",
        "    (train_data_a, valid_data_a, test_data_a), \n",
        "    batch_sizes = (BATCH_SIZE, BATCH_SIZE, BATCH_SIZE),\n",
        "    sort_key=lambda x: len(x.text),\n",
        "    sort_within_batch = True,\n",
        "    device = device)"
      ],
      "execution_count": 0,
      "outputs": []
    },
    {
      "cell_type": "markdown",
      "metadata": {
        "id": "b4RUkXWxqxGG",
        "colab_type": "text"
      },
      "source": [
        "## Build Vocabulary"
      ]
    },
    {
      "cell_type": "code",
      "metadata": {
        "id": "j0DnLh3PrH47",
        "colab_type": "code",
        "colab": {}
      },
      "source": [
        "ROW_NUM.build_vocab(train_data_a)\n",
        "SENTIMENT.build_vocab(train_data_a)"
      ],
      "execution_count": 0,
      "outputs": []
    },
    {
      "cell_type": "code",
      "metadata": {
        "id": "sXGaBQzmrzyP",
        "colab_type": "code",
        "outputId": "7985bbd4-cbf2-4d46-b7a4-932578b6e65b",
        "colab": {
          "base_uri": "https://localhost:8080/",
          "height": 85
        }
      },
      "source": [
        "print(SENTIMENT.vocab.freqs.most_common())\n",
        "for key, value in SENTIMENT.vocab.stoi.items():\n",
        "  print(key, value)"
      ],
      "execution_count": 29,
      "outputs": [
        {
          "output_type": "stream",
          "text": [
            "[('neutral', 15820), ('positive', 13924), ('negative', 5490)]\n",
            "neutral 0\n",
            "positive 1\n",
            "negative 2\n"
          ],
          "name": "stdout"
        }
      ]
    },
    {
      "cell_type": "code",
      "metadata": {
        "id": "E-h-DBeSsP8v",
        "colab_type": "code",
        "colab": {}
      },
      "source": [
        "import requests, zipfile, io\n",
        "from pathlib import Path\n",
        "\n",
        "\n",
        "vector_filepath = './crawl-300d-2M.vec'\n",
        "\n",
        "# check if we need to download vector file\n",
        "if not Path(vector_filepath).is_file():\n",
        "  # download vector file (in .zip)\n",
        "  r = requests.get('https://dl.fbaipublicfiles.com/fasttext/vectors-english/crawl-300d-2M.vec.zip')\n",
        "  z = zipfile.ZipFile(io.BytesIO(r.content))\n",
        "  # unzip the file\n",
        "  z.extractall()\n",
        "\n",
        "\n",
        "\n",
        "# link = \"https://dl.fbaipublicfiles.com/fasttext/vectors-english/crawl-300d-2M.vec.zip\"\n",
        "\n",
        "# response = requests.get(link)\n",
        "# total_length = int(response.headers.get('content-length'))\n",
        "# print(total_length)\n",
        "# if total_length is not None: # no content length header\n",
        "#     dl = 0\n",
        "#     total_length = int(total_length)\n",
        "#     for data in response.iter_content(chunk_size=4096):\n",
        "#         dl += len(data)\n",
        "#         f.write(data)\n",
        "#         done = int(50 * dl / total_length)\n",
        "#         sys.stdout.write(\"\\r[%s%s]\" % ('=' * done, ' ' * (50-done)) )    \n",
        "#         sys.stdout.flush()\n",
        "# z = zipfile.ZipFile(io.BytesIO(response.content))\n",
        "# z.extractall()"
      ],
      "execution_count": 0,
      "outputs": []
    },
    {
      "cell_type": "code",
      "metadata": {
        "id": "En7KxAkVGffr",
        "colab_type": "code",
        "colab": {}
      },
      "source": [
        "# vocab = set(train_data_a.vocab)\n",
        "# type(train_data_a.vocab)\n",
        "# pretrained_embedding = GloVe(name='twitter.27B', dim=200, is_include=lambda w: w in vocab)\n",
        "from torchtext.vocab import Vectors\n",
        "\n",
        "\n",
        "TEXT.build_vocab(train_data_a,\n",
        "                 max_size = 50000,\n",
        "                 vectors = Vectors(vector_filepath),\n",
        "                #  vectors = 'glove.twitter.27B.200d',\n",
        "                 unk_init = torch.Tensor.normal_\n",
        "                 )"
      ],
      "execution_count": 0,
      "outputs": []
    },
    {
      "cell_type": "code",
      "metadata": {
        "id": "RsbFZ9-qzp8E",
        "colab_type": "code",
        "outputId": "de35d41a-17bc-44ad-bdb3-98ddab20e97b",
        "colab": {
          "base_uri": "https://localhost:8080/",
          "height": 88
        }
      },
      "source": [
        "\n",
        "# TEXT.build_vocab(train_data_a,\n",
        "#                  max_size = 50000,\n",
        "#                  vectors = './crawl-300d-2M.vec',\n",
        "#                 #  vectors = 'glove.twitter.27B.200d',\n",
        "#                  unk_init = torch.Tensor.normal_\n",
        "#                  )\n",
        "\n",
        "# TEXT.build_vocab(train_data_a,\n",
        "#                 #  max_size = 25000,\n",
        "#                 #  vectors = 'glove.twitter.27B.200d',\n",
        "#                 #  unk_init = torch.Tensor.normal_\n",
        "#                  )\n",
        "\n",
        "\n",
        "tot = 0\n",
        "for batch in train_iterator:\n",
        "  # print(batch.batch_size)\n",
        "  tot += batch.batch_size\n",
        "print(tot)\n",
        "\n",
        "# print(len(train_data_a))\n",
        "\n",
        "print(TEXT.vocab.freqs.most_common(100))\n",
        "print(TEXT.vocab.itos[:10])"
      ],
      "execution_count": 32,
      "outputs": [
        {
          "output_type": "stream",
          "text": [
            "35234\n",
            "[('.', 33149), ('the', 29516), ('\"', 24835), ('to', 16137), (',', 13756), ('<user>', 13508), ('i', 13295), ('in', 10438), ('<url>', 10323), ('a', 10273), ('on', 10145), ('<repeated>', 10060), ('!', 9925), ('and', 9822), ('<allcaps>', 9490), ('</allcaps>', 9490), ('<number>', 9092), ('<hashtag>', 8970), ('</hashtag>', 8970), (\"'\", 8800), ('of', 8469), ('\\\\', 8184), ('is', 7757), ('for', 7671), ('it', 7145), ('you', 7004), ('s', 6780), ('-', 6138), ('with', 5852), ('tomorrow', 5730), ('be', 5611), ('at', 5490), (':', 5421), ('may', 5198), ('not', 5047), ('?', 4853), ('have', 4020), ('that', 4002), ('will', 3708), ('my', 3694), ('th', 3525), ('u002c', 3483), ('1', 3414), ('<date>', 3358), ('this', 3282), ('day', 3186), ('but', 3094), ('he', 3068), ('just', 3044), ('was', 2804), ('are', 2723), ('me', 2384), ('we', 2383), ('so', 2364), ('all', 2319), ('going', 2319), ('night', 2306), ('&', 2302), ('out', 2274), ('st', 2273), ('2', 2256), ('if', 2245), ('am', 2235), ('see', 2177), ('can', 2151), ('from', 2125), ('friday', 2110), ('sunday', 2087), ('up', 2004), ('like', 1989), ('do', 1967), ('(', 1917), ('time', 1907), ('as', 1895), ('about', 1892), (')', 1874), ('get', 1776), ('saturday', 1657), ('one', 1586), ('go', 1580), ('by', 1547), ('3', 1510), ('his', 1495), ('nd', 1494), ('new', 1461), ('what', 1451), ('u2019s', 1405), ('monday', 1386), ('game', 1374), ('has', 1356), ('they', 1334), ('now', 1332), ('or', 1329), ('when', 1318), ('/', 1301), ('your', 1291), ('today', 1278), ('good', 1267), ('<time>', 1266), ('rd', 1177)]\n",
            "['<unk>', '<pad>', '.', 'the', '\"', 'to', ',', '<user>', 'i', 'in']\n"
          ],
          "name": "stdout"
        }
      ]
    },
    {
      "cell_type": "code",
      "metadata": {
        "id": "ZNKTYypGuVTw",
        "colab_type": "code",
        "outputId": "c48a364a-6f1e-4dd1-b451-888a6926983d",
        "colab": {
          "base_uri": "https://localhost:8080/",
          "height": 51
        }
      },
      "source": [
        " for batch in train_iterator:\n",
        "  i = int(ROW_NUM.vocab.itos[int(batch.row_num[0][0])])\n",
        "  print(task_a_train_df.iloc[i].text)\n",
        "  for elm in torch.transpose(batch.text[0], 0, 1)[0].detach().cpu().clone().numpy().transpose():\n",
        "    print(TEXT.vocab.itos[int(elm)], sep=' ', end=' ')\n",
        "  # print(batch.text)\n",
        "  break\n",
        "  "
      ],
      "execution_count": 33,
      "outputs": [
        {
          "output_type": "stream",
          "text": [
            "\"Gotta feel for Paul Dunne, the guy finished as the 4th amateur after having the 54-hole lead.\"\n",
            "\" gotta feel for paul dunne , the guy finished as the 4 th amateur after having the <number> - hole lead . \" "
          ],
          "name": "stdout"
        }
      ]
    },
    {
      "cell_type": "code",
      "metadata": {
        "id": "qViSHNtK0Dye",
        "colab_type": "code",
        "outputId": "f56abfb9-2c85-46ed-c6ad-dc73ba01e9fd",
        "colab": {
          "base_uri": "https://localhost:8080/",
          "height": 71
        }
      },
      "source": [
        "print(TEXT.vocab.freqs.most_common(20))\n",
        "print(TEXT.vocab.itos[:10])"
      ],
      "execution_count": 34,
      "outputs": [
        {
          "output_type": "stream",
          "text": [
            "[('.', 33149), ('the', 29516), ('\"', 24835), ('to', 16137), (',', 13756), ('<user>', 13508), ('i', 13295), ('in', 10438), ('<url>', 10323), ('a', 10273), ('on', 10145), ('<repeated>', 10060), ('!', 9925), ('and', 9822), ('<allcaps>', 9490), ('</allcaps>', 9490), ('<number>', 9092), ('<hashtag>', 8970), ('</hashtag>', 8970), (\"'\", 8800)]\n",
            "['<unk>', '<pad>', '.', 'the', '\"', 'to', ',', '<user>', 'i', 'in']\n"
          ],
          "name": "stdout"
        }
      ]
    },
    {
      "cell_type": "code",
      "metadata": {
        "id": "m2ErzS6NuE4O",
        "colab_type": "code",
        "outputId": "bbacff8a-61a7-4ffb-83ce-88c14f08a415",
        "colab": {
          "base_uri": "https://localhost:8080/",
          "height": 51
        }
      },
      "source": [
        "print(f\"Unique tokens in TEXT vocabulary: {len(TEXT.vocab)}\")\n",
        "print(f\"Unique tokens in LABEL vocabulary: {len(SENTIMENT.vocab)}\")"
      ],
      "execution_count": 35,
      "outputs": [
        {
          "output_type": "stream",
          "text": [
            "Unique tokens in TEXT vocabulary: 33290\n",
            "Unique tokens in LABEL vocabulary: 3\n"
          ],
          "name": "stdout"
        }
      ]
    },
    {
      "cell_type": "markdown",
      "metadata": {
        "id": "wpIHw_3YdSAn",
        "colab_type": "text"
      },
      "source": [
        "## Neural Network"
      ]
    },
    {
      "cell_type": "markdown",
      "metadata": {
        "id": "2TsmpHiydeyr",
        "colab_type": "text"
      },
      "source": [
        "three layers:\n",
        "1. embedding layer (transform one-hot encoding vector into a dense embedding vector)\n",
        "2. RNN\n",
        "3. linear layer (output)"
      ]
    },
    {
      "cell_type": "code",
      "metadata": {
        "id": "Xo_SPYGZdWuq",
        "colab_type": "code",
        "colab": {}
      },
      "source": [
        "import torch.nn as nn\n",
        "\n",
        "class RNN(nn.Module):\n",
        "  def __init__(self, vocab_size, embedding_dim, hidden_dim, output_dim, n_layers,\n",
        "               bidirectional, dropout, pad_idx):\n",
        "    super().__init__()\n",
        "    self.embedding = nn.Embedding(vocab_size, embedding_dim, padding_idx=pad_idx)\n",
        "    # self.rnn = nn.RNN(embedding_dim, hidden_dim)\n",
        "    self.rnn = nn.LSTM(embedding_dim,\n",
        "                       hidden_dim,\n",
        "                       num_layers=n_layers,\n",
        "                       bidirectional=bidirectional,\n",
        "                       dropout=dropout\n",
        "                       )\n",
        "    self.fully_connected = nn.Linear(hidden_dim*2, output_dim)\n",
        "    self.dropout = nn.Dropout(dropout)\n",
        "\n",
        "  def forward(self, text, text_length):\n",
        "    # text dimention is [sentence len, batch size]\n",
        "    \n",
        "    # embedded dimention is [sentence len, batch size, embedding_dim]\n",
        "    embedded = self.dropout(self.embedding(text))\n",
        "\n",
        "    # pack the sequence\n",
        "    packed_embedded = nn.utils.rnn.pack_padded_sequence(embedded, text_length)\n",
        "    # print('packed_embedded:')\n",
        "    # print(packed_embedded)\n",
        "    packet_output, (hidden, cell) = self.rnn(packed_embedded)\n",
        "\n",
        "    # unpack the sequence\n",
        "    output, output_length = nn.utils.rnn.pad_packed_sequence(packet_output)\n",
        "\n",
        "    # output dimention is [sentence len, batch size, hidden dim * num directions]\n",
        "    # output over padding tokens are zero tensors\n",
        "\n",
        "    # hidden dimension is [num layers*num directions, batch size, hidden dim]\n",
        "    # cell dimension is also [num layers*num directions, batch size, hidden dim]\n",
        "\n",
        "    #concat the final forward (hidden[-2,:,:]) and backward (hidden[-1,:,:]) hidden layers\n",
        "    #and apply dropout\n",
        "\n",
        "    # hidden dimension is [batch size, hid dim*num directions]\n",
        "    hidden = self.dropout(torch.cat((hidden[-2,:,:], hidden[-1,:,:]), dim=1))\n",
        "    \n",
        "    return self.fully_connected(hidden)\n"
      ],
      "execution_count": 0,
      "outputs": []
    },
    {
      "cell_type": "code",
      "metadata": {
        "id": "JP20cupMd1v5",
        "colab_type": "code",
        "colab": {}
      },
      "source": [
        "INPUT_DIM = len(TEXT.vocab)\n",
        "# EMBEDDING_DIM = 200\n",
        "EMBEDDING_DIM = 300\n",
        "# HIDDEN_DIM = 256\n",
        "HIDDEN_DIM = 512\n",
        "OUTPUT_DIM = len(SENTIMENT.vocab)\n",
        "N_LAYERS = 2\n",
        "# N_LAYERS = 3\n",
        "\n",
        "BIDIRECTIONAL = True\n",
        "# DROPOUT = 0.5\n",
        "DROPOUT = 0.7\n",
        "\n",
        "N_EPOCHS = 10\n",
        "\n",
        "PAD_IDX = TEXT.vocab.stoi[TEXT.pad_token]\n",
        "\n",
        "# model = RNN(INPUT_DIM, EMBEDDING_DIM, HIDDEN_DIM, OUTPUT_DIM)\n",
        "model = RNN(INPUT_DIM,\n",
        "            EMBEDDING_DIM,\n",
        "            HIDDEN_DIM,\n",
        "            OUTPUT_DIM,\n",
        "            N_LAYERS,\n",
        "            BIDIRECTIONAL,\n",
        "            DROPOUT,\n",
        "            PAD_IDX,\n",
        "            )"
      ],
      "execution_count": 0,
      "outputs": []
    },
    {
      "cell_type": "code",
      "metadata": {
        "id": "eWbAXYOsr68C",
        "colab_type": "code",
        "outputId": "dbe08771-1dd7-48bd-c4b8-a1032b014fa1",
        "colab": {
          "base_uri": "https://localhost:8080/",
          "height": 238
        }
      },
      "source": [
        "def count_model_params(model):\n",
        "  # number of parameters that are trainable\n",
        "  return sum(p.numel() for p in model.parameters() if p.requires_grad)\n",
        "  \n",
        "print(model.parameters)\n",
        "print(count_model_params(model))\n",
        "print(model)\n"
      ],
      "execution_count": 38,
      "outputs": [
        {
          "output_type": "stream",
          "text": [
            "<bound method Module.parameters of RNN(\n",
            "  (embedding): Embedding(33290, 300, padding_idx=1)\n",
            "  (rnn): LSTM(300, 512, num_layers=2, dropout=0.7, bidirectional=True)\n",
            "  (fully_connected): Linear(in_features=1024, out_features=3, bias=True)\n",
            "  (dropout): Dropout(p=0.7, inplace=False)\n",
            ")>\n",
            "19623867\n",
            "RNN(\n",
            "  (embedding): Embedding(33290, 300, padding_idx=1)\n",
            "  (rnn): LSTM(300, 512, num_layers=2, dropout=0.7, bidirectional=True)\n",
            "  (fully_connected): Linear(in_features=1024, out_features=3, bias=True)\n",
            "  (dropout): Dropout(p=0.7, inplace=False)\n",
            ")\n"
          ],
          "name": "stdout"
        }
      ]
    },
    {
      "cell_type": "code",
      "metadata": {
        "id": "6xSZq3wUfzNO",
        "colab_type": "code",
        "outputId": "e5b0da2a-a463-4389-a402-270224853041",
        "colab": {
          "base_uri": "https://localhost:8080/",
          "height": 34
        }
      },
      "source": [
        "pretrained_embeddings = TEXT.vocab.vectors\n",
        "print(pretrained_embeddings.shape)"
      ],
      "execution_count": 39,
      "outputs": [
        {
          "output_type": "stream",
          "text": [
            "torch.Size([33290, 300])\n"
          ],
          "name": "stdout"
        }
      ]
    },
    {
      "cell_type": "code",
      "metadata": {
        "id": "Uj6qu_exf-MR",
        "colab_type": "code",
        "outputId": "6c3602a9-e5b1-48ac-be0d-c7d31adde50f",
        "colab": {
          "base_uri": "https://localhost:8080/",
          "height": 136
        }
      },
      "source": [
        "# replace the initial weights of the embedding layer with the pretrained embeddings\n",
        "model.embedding.weight.data.copy_(pretrained_embeddings)"
      ],
      "execution_count": 40,
      "outputs": [
        {
          "output_type": "execute_result",
          "data": {
            "text/plain": [
              "tensor([[ 0.0000,  0.0000,  0.0000,  ...,  0.0000,  0.0000,  0.0000],\n",
              "        [ 0.0000,  0.0000,  0.0000,  ...,  0.0000,  0.0000,  0.0000],\n",
              "        [-0.0849, -0.0582, -0.0321,  ...,  0.0032, -0.0237, -0.0366],\n",
              "        ...,\n",
              "        [ 0.0000,  0.0000,  0.0000,  ...,  0.0000,  0.0000,  0.0000],\n",
              "        [ 0.0000,  0.0000,  0.0000,  ...,  0.0000,  0.0000,  0.0000],\n",
              "        [ 0.0000,  0.0000,  0.0000,  ...,  0.0000,  0.0000,  0.0000]])"
            ]
          },
          "metadata": {
            "tags": []
          },
          "execution_count": 40
        }
      ]
    },
    {
      "cell_type": "code",
      "metadata": {
        "id": "SQY4ndIigXrv",
        "colab_type": "code",
        "outputId": "71bd446b-3bfa-4fd6-cd2c-fa5c1e4b6838",
        "colab": {
          "base_uri": "https://localhost:8080/",
          "height": 136
        }
      },
      "source": [
        "# initialise UNK and PAD tokens to zeros\n",
        "UNK_IDX = TEXT.vocab.stoi[TEXT.unk_token]\n",
        "PAD_IDX = TEXT.vocab.stoi[TEXT.pad_token]\n",
        "\n",
        "model.embedding.weight.data[UNK_IDX] = torch.zeros(EMBEDDING_DIM)\n",
        "model.embedding.weight.data[PAD_IDX] = torch.zeros(EMBEDDING_DIM)\n",
        "\n",
        "print(model.embedding.weight.data)"
      ],
      "execution_count": 41,
      "outputs": [
        {
          "output_type": "stream",
          "text": [
            "tensor([[ 0.0000,  0.0000,  0.0000,  ...,  0.0000,  0.0000,  0.0000],\n",
            "        [ 0.0000,  0.0000,  0.0000,  ...,  0.0000,  0.0000,  0.0000],\n",
            "        [-0.0849, -0.0582, -0.0321,  ...,  0.0032, -0.0237, -0.0366],\n",
            "        ...,\n",
            "        [ 0.0000,  0.0000,  0.0000,  ...,  0.0000,  0.0000,  0.0000],\n",
            "        [ 0.0000,  0.0000,  0.0000,  ...,  0.0000,  0.0000,  0.0000],\n",
            "        [ 0.0000,  0.0000,  0.0000,  ...,  0.0000,  0.0000,  0.0000]])\n"
          ],
          "name": "stdout"
        }
      ]
    },
    {
      "cell_type": "code",
      "metadata": {
        "id": "gL4SuaCit_Xq",
        "colab_type": "code",
        "outputId": "12d6161d-fd7c-4735-f143-c42c7c44f042",
        "colab": {
          "base_uri": "https://localhost:8080/",
          "height": 340
        }
      },
      "source": [
        "for p in model.parameters():\n",
        "  # print(p)\n",
        "  print(p.numel())"
      ],
      "execution_count": 42,
      "outputs": [
        {
          "output_type": "stream",
          "text": [
            "9987000\n",
            "614400\n",
            "1048576\n",
            "2048\n",
            "2048\n",
            "614400\n",
            "1048576\n",
            "2048\n",
            "2048\n",
            "2097152\n",
            "1048576\n",
            "2048\n",
            "2048\n",
            "2097152\n",
            "1048576\n",
            "2048\n",
            "2048\n",
            "3072\n",
            "3\n"
          ],
          "name": "stdout"
        }
      ]
    },
    {
      "cell_type": "markdown",
      "metadata": {
        "id": "FkG8MGZMvTLi",
        "colab_type": "text"
      },
      "source": [
        "## Train the Model"
      ]
    },
    {
      "cell_type": "code",
      "metadata": {
        "id": "cpRNJE3K2LAO",
        "colab_type": "code",
        "colab": {}
      },
      "source": [
        "# https://github.com/drivendata/cookiecutter-data-science cookie cutter\n",
        "# / boilerplate for data science/ machine learning project"
      ],
      "execution_count": 0,
      "outputs": []
    },
    {
      "cell_type": "code",
      "metadata": {
        "id": "lAvE0iDxvVDP",
        "colab_type": "code",
        "colab": {}
      },
      "source": [
        "import torch.optim as optim\n",
        "\n",
        "# optimizer = optim.SGD(model.parameters(), lr=0.01, momentum=0.9)\n",
        "optimiser = optim.Adam(model.parameters())"
      ],
      "execution_count": 0,
      "outputs": []
    },
    {
      "cell_type": "code",
      "metadata": {
        "id": "fS3UcTyJwYuQ",
        "colab_type": "code",
        "colab": {}
      },
      "source": [
        "criterion = nn.CrossEntropyLoss()"
      ],
      "execution_count": 0,
      "outputs": []
    },
    {
      "cell_type": "code",
      "metadata": {
        "id": "4fgE2l3VwdkG",
        "colab_type": "code",
        "outputId": "012f0bc6-e8b8-437d-a21e-ed646dc04ca5",
        "colab": {
          "base_uri": "https://localhost:8080/",
          "height": 34
        }
      },
      "source": [
        "device = torch.device('cuda' if torch.cuda.is_available() else 'cpu')\n",
        "print(device)\n",
        "model = model.to(device)\n",
        "criterion = criterion.to(device)"
      ],
      "execution_count": 46,
      "outputs": [
        {
          "output_type": "stream",
          "text": [
            "cuda\n"
          ],
          "name": "stdout"
        }
      ]
    },
    {
      "cell_type": "code",
      "metadata": {
        "id": "1hbZLH20RIC6",
        "colab_type": "code",
        "colab": {}
      },
      "source": [
        "# from torchsummary import summary\n",
        "\n",
        "# help(summary)\n",
        "# # import torchvision.models as models\n",
        "# # alexnet = models.alexnet(pretrained=False)\n",
        "# # alexnet.cuda()\n",
        "# summary(model, [(300, 512), (300, 512)], 512, device='cuda')\n",
        "# # print(alexnet)"
      ],
      "execution_count": 0,
      "outputs": []
    },
    {
      "cell_type": "code",
      "metadata": {
        "id": "_5cEu9fAwixJ",
        "colab_type": "code",
        "colab": {}
      },
      "source": [
        "# def binary_accuracy(preds, y):\n",
        "#     \"\"\"\n",
        "#     Returns accuracy per batch, i.e. if you get 8/10 right, this returns 0.8, NOT 8\n",
        "#     \"\"\"\n",
        "\n",
        "#     #round predictions to the closest integer\n",
        "#     rounded_preds = torch.round(torch.sigmoid(preds))\n",
        "#     rounded_preds = torch.round(preds)\n",
        "#     correct = (rounded_preds == y).float() #convert into float for division\n",
        "#     acc = correct.sum() / len(correct)\n",
        "#     return acc\n",
        "\n",
        "# def categorical_accuracy(preds, y):\n",
        "#   \"\"\"\n",
        "#   Returns accuracy per batch, i.e. if you get 8/10 right, this returns 0.8, NOT 8\n",
        "#   \"\"\"\n",
        "#   max_preds = preds.argmax(dim = 1, keepdim = True) # get the index of the max probability\n",
        "#   correct = max_preds.squeeze(1).eq(y)\n",
        "#   return correct.sum() / torch.FloatTensor([y.shape[0]])\n",
        "\n",
        "from sklearn.metrics import confusion_matrix, accuracy_score, recall_score, precision_score, f1_score\n",
        "def calculate_performance(y, preds):\n",
        "  # get the index of the max probability \n",
        "  max_preds = preds.argmax(dim = 1, keepdim = True).squeeze(1)\n",
        "  max_preds = max_preds.detach().cpu().clone().numpy()\n",
        "  \n",
        "  y = y.detach().cpu().clone().numpy()\n",
        "\n",
        "\n",
        "  # max_samples = 2\n",
        "  # for i in range(len(y)-1):\n",
        "  #   if max_preds[i] != y[i]:\n",
        "  #     print('pred=', SENTIMENT.vocab.itos[max_preds[i]], ' actual=', SENTIMENT.vocab.itos[y[i]], end=' ')\n",
        "  #     for elm in torch.transpose(texts, 0, 1)[0].detach().cpu().clone().numpy().transpose():\n",
        "  #       print(TEXT.vocab.itos[int(elm)], sep=' ', end=' ')\n",
        "  #     print\n",
        "  #     max_samples -= 1\n",
        "  #   if max_samples <= 0:\n",
        "  #     break\n",
        "\n",
        "  acc = accuracy_score(y, max_preds)\n",
        "  rec = recall_score(y, max_preds, average='macro')\n",
        "  prec= precision_score(y, max_preds, average='macro')\n",
        "  f1  = f1_score(y, max_preds, average='macro')\n",
        "  return acc, rec, prec, f1\n",
        "\n"
      ],
      "execution_count": 0,
      "outputs": []
    },
    {
      "cell_type": "code",
      "metadata": {
        "id": "b0wGJ4rww7Fj",
        "colab_type": "code",
        "colab": {}
      },
      "source": [
        "def train(model, iterator, optimizer, criterion):\n",
        "    \n",
        "    epoch_loss = 0\n",
        "    epoch_acc = 0\n",
        "    epoch_rec = 0\n",
        "    epoch_prec = 0\n",
        "    epoch_f1 = 0\n",
        "\n",
        "    model.train()\n",
        "    \n",
        "    for batch in iterator:\n",
        "        \n",
        "        optimizer.zero_grad()\n",
        "                \n",
        "        text, text_length = batch.text\n",
        "        # predictions = model(text).squeeze(1)\n",
        "        predictions = model(text, text_length).squeeze(1)\n",
        "        \n",
        "        summary_writer.add_graph(model, (text, text_length))\n",
        "        \n",
        "        loss = criterion(predictions, batch.sentiment.long())\n",
        "        \n",
        "        # acc = categorical_accuracy(predictions, batch.sentiment)\n",
        "        acc, rec, prec, f1 = calculate_performance(batch.sentiment, predictions)\n",
        "        # print(acc, rec, prec, f1)\n",
        "        \n",
        "        loss.backward()\n",
        "        \n",
        "        optimizer.step()\n",
        "        \n",
        "        epoch_loss += loss.item()\n",
        "        epoch_acc += acc.item()\n",
        "        epoch_rec += rec.item()\n",
        "        epoch_prec += prec.item()\n",
        "        epoch_f1 += f1.item()\n",
        "\n",
        "        avg_loss = epoch_loss / len(iterator)\n",
        "        avg_acc = epoch_acc / len(iterator)\n",
        "        avg_rec = epoch_rec / len(iterator)\n",
        "        avg_prec = epoch_prec / len(iterator)\n",
        "        avg_f1 = epoch_f1 / len(iterator)\n",
        "\n",
        "    return avg_loss, avg_acc, avg_rec, avg_prec, avg_f1"
      ],
      "execution_count": 0,
      "outputs": []
    },
    {
      "cell_type": "code",
      "metadata": {
        "id": "41SqIzKvJUdF",
        "colab_type": "code",
        "colab": {}
      },
      "source": [
        "def evaluate(model, iterator, criterion):\n",
        "    \n",
        "    epoch_loss = 0\n",
        "    epoch_acc = 0\n",
        "    epoch_rec = 0\n",
        "    epoch_prec = 0\n",
        "    epoch_f1 = 0\n",
        "    \n",
        "    model.eval()\n",
        "    \n",
        "    actual_file = open('actual.txt', 'w')\n",
        "    pred_file = open('pred.txt', 'w')\n",
        "    with torch.no_grad():\n",
        "    \n",
        "        for batch in iterator:\n",
        "            text, text_length = batch.text\n",
        "            predictions = model(text, text_length).squeeze(1)\n",
        "            actuals = batch.sentiment\n",
        "            for elm in actuals:\n",
        "              actual_file.write(str(elm.item()) + '\\n')\n",
        "            \n",
        "            preds = predictions.argmax(dim = 1, keepdim = True).squeeze(1)\n",
        "            for elm in preds:\n",
        "              pred_file.write(str(elm.item()) + '\\n')\n",
        " \n",
        "            # loss = criterion(predictions, batch.sentiment.long())\n",
        "            loss = criterion(predictions, batch.sentiment.long())\n",
        "            \n",
        "            # acc = categorical_accuracy(predictions, batch.sentiment)\n",
        "            # acc, rec, prec, f1 = calculate_performance(batch.sentiment, predictions)\n",
        "            acc, rec, prec, f1 = calculate_performance(batch.sentiment, predictions)\n",
        "            # print(acc, rec, prec, f1)\n",
        "\n",
        "            epoch_loss += loss.item()\n",
        "            epoch_acc += acc.item()\n",
        "            epoch_rec += rec.item()\n",
        "            epoch_prec += prec.item()\n",
        "            epoch_f1 += f1.item()\n",
        "\n",
        "            avg_loss = epoch_loss / len(iterator)\n",
        "            avg_acc = epoch_acc / len(iterator)\n",
        "            avg_rec = epoch_rec / len(iterator)\n",
        "            avg_prec = epoch_prec / len(iterator)\n",
        "            avg_f1 = epoch_f1 / len(iterator)\n",
        "    return avg_loss, avg_acc, avg_rec, avg_prec, avg_f1"
      ],
      "execution_count": 0,
      "outputs": []
    },
    {
      "cell_type": "code",
      "metadata": {
        "id": "b0JpAUV-xYY2",
        "colab_type": "code",
        "colab": {}
      },
      "source": [
        "import time\n",
        "\n",
        "def epoch_time(start_time, end_time):\n",
        "    elapsed_time = end_time - start_time\n",
        "    elapsed_mins = int(elapsed_time / 60)\n",
        "    elapsed_secs = int(elapsed_time - (elapsed_mins * 60))\n",
        "    return elapsed_mins, elapsed_secs"
      ],
      "execution_count": 0,
      "outputs": []
    },
    {
      "cell_type": "code",
      "metadata": {
        "id": "8xORR7LVxiro",
        "colab_type": "code",
        "outputId": "7f4829ff-2efb-46db-fdd9-58bd20ce6a1a",
        "colab": {
          "base_uri": "https://localhost:8080/",
          "height": 428
        }
      },
      "source": [
        "from torch.utils.tensorboard import SummaryWriter\n",
        "\n",
        "summary_writer = SummaryWriter()\n",
        "\n",
        "best_valid_loss = float('inf')\n",
        "\n",
        "\n",
        "# --- EARLY STOPPING\n",
        "use_early_stopping = True\n",
        "early_stopping_patience = 0\n",
        "# ------------------\n",
        "\n",
        "for epoch in range(N_EPOCHS):\n",
        "    start_time = time.time()\n",
        "    \n",
        "    \n",
        "    train_loss, train_acc, train_rec, train_prec, train_f1 = train(model, train_iterator, optimiser, criterion)\n",
        "    valid_loss, valid_acc, valid_rec, valid_prec, valid_f1 = evaluate(model, valid_iterator, criterion)\n",
        "\n",
        "    summary_writer.add_scalar(\"training/loss\", train_loss, epoch)\n",
        "    summary_writer.add_scalar(\"training/accuracy\", train_acc, epoch)\n",
        "    summary_writer.add_scalar(\"training/recall\", train_rec, epoch)\n",
        "    summary_writer.add_scalar(\"training/precision\", train_prec, epoch)\n",
        "    summary_writer.add_scalar(\"training/F1\", train_f1, epoch)\n",
        "\n",
        "    summary_writer.add_scalar(\"validation/loss\", valid_loss, epoch)\n",
        "    summary_writer.add_scalar(\"validation/accuracy\", valid_acc, epoch)\n",
        "    summary_writer.add_scalar(\"validation/recall\", valid_rec, epoch)\n",
        "    summary_writer.add_scalar(\"validation/precision\", valid_prec, epoch)\n",
        "    summary_writer.add_scalar(\"validation/F1\", valid_f1, epoch)\n",
        "    \n",
        "    \n",
        "    end_time = time.time()\n",
        "\n",
        "    epoch_mins, epoch_secs = epoch_time(start_time, end_time)\n",
        "    \n",
        "    if valid_loss < best_valid_loss:\n",
        "        best_valid_loss = valid_loss\n",
        "        torch.save(model.state_dict(), cfg['paths']['task_a_model'])\n",
        "    else:\n",
        "        early_stopping_patience -= 1   \n",
        "    \n",
        "    print(f'Epoch: {epoch+1:02} | Epoch Time: {epoch_mins}m {epoch_secs}s')\n",
        "    print(f'\\tTrain Loss: {train_loss:.3f} | Val. Loss: {valid_loss:.3f}')\n",
        "    print(f'\\tTrain Acc : {train_acc*100:.2f}% | Val. Acc : {valid_acc*100:.2f}%')\n",
        "    print(f'\\tTrain Rec : {train_rec*100:.2f}% | Val. Rec : {valid_rec*100:.2f}%')\n",
        "    print(f'\\tTrain Prec: {train_prec*100:.2f}% | Val. Prec: {valid_prec*100:.2f}%')\n",
        "    print(f'\\tTrain F1  : {train_f1*100:.2f}% | Val. F1  : {valid_f1*100:.2f}%')\n",
        "\n",
        "    # check if early stopping is needed\n",
        "    if use_early_stopping:\n",
        "      if early_stopping_patience < 0:\n",
        "          print('Early stopping!' )\n",
        "          break\n",
        "\n",
        "# after completing all epochs, visualise the word vectors\n",
        "vectors = model.embedding.weight.data\n",
        "labels = [l for l in TEXT.vocab.itos]\n",
        "summary_writer.add_embedding(vectors, metadata=labels)\n",
        "summary_writer.close()"
      ],
      "execution_count": 58,
      "outputs": [
        {
          "output_type": "stream",
          "text": [
            "/usr/local/lib/python3.6/dist-packages/sklearn/metrics/_classification.py:1272: UndefinedMetricWarning: Precision is ill-defined and being set to 0.0 in labels with no predicted samples. Use `zero_division` parameter to control this behavior.\n",
            "  _warn_prf(average, modifier, msg_start, len(result))\n"
          ],
          "name": "stderr"
        },
        {
          "output_type": "stream",
          "text": [
            "do this\n",
            "Epoch: 01 | Epoch Time: 1m 19s\n",
            "\tTrain Loss: 0.663 | Val. Loss: 0.738\n",
            "\tTrain Acc : 70.67% | Val. Acc : 68.26%\n",
            "\tTrain Rec : 66.91% | Val. Rec : 60.12%\n",
            "\tTrain Prec: 69.39% | Val. Prec: 68.51%\n",
            "\tTrain F1  : 66.77% | Val. F1  : 60.82%\n",
            "do this\n",
            "Epoch: 02 | Epoch Time: 1m 21s\n",
            "\tTrain Loss: 0.604 | Val. Loss: 0.704\n",
            "\tTrain Acc : 74.03% | Val. Acc : 68.56%\n",
            "\tTrain Rec : 71.04% | Val. Rec : 65.36%\n",
            "\tTrain Prec: 73.15% | Val. Prec: 67.21%\n",
            "\tTrain F1  : 70.89% | Val. F1  : 65.14%\n",
            "Epoch: 03 | Epoch Time: 1m 22s\n",
            "\tTrain Loss: 0.551 | Val. Loss: 0.704\n",
            "\tTrain Acc : 76.79% | Val. Acc : 69.10%\n",
            "\tTrain Rec : 74.65% | Val. Rec : 65.23%\n",
            "\tTrain Prec: 76.16% | Val. Prec: 67.67%\n",
            "\tTrain F1  : 74.50% | Val. F1  : 65.49%\n",
            "Early stopping!\n"
          ],
          "name": "stdout"
        }
      ]
    },
    {
      "cell_type": "code",
      "metadata": {
        "id": "8FNIAAqh7dDE",
        "colab_type": "code",
        "outputId": "02b7e6fd-b7d4-4520-de99-855ea37f550e",
        "colab": {
          "base_uri": "https://localhost:8080/",
          "height": 838
        }
      },
      "source": [
        "%tensorboard --logdir runs\n"
      ],
      "execution_count": 53,
      "outputs": [
        {
          "output_type": "display_data",
          "data": {
            "text/plain": [
              "Reusing TensorBoard on port 6006 (pid 1207), started 0:30:16 ago. (Use '!kill 1207' to kill it.)"
            ]
          },
          "metadata": {
            "tags": []
          }
        },
        {
          "output_type": "display_data",
          "data": {
            "application/javascript": [
              "\n",
              "  (async () => {\n",
              "      const url = await google.colab.kernel.proxyPort(6006, {\"cache\": true});\n",
              "      const iframe = document.createElement('iframe');\n",
              "      iframe.src = url;\n",
              "      iframe.setAttribute('width', '100%');\n",
              "      iframe.setAttribute('height', '800');\n",
              "      iframe.setAttribute('frameborder', 0);\n",
              "      document.body.appendChild(iframe);\n",
              "  })();\n",
              "  "
            ],
            "text/plain": [
              "<IPython.core.display.Javascript object>"
            ]
          },
          "metadata": {
            "tags": []
          }
        }
      ]
    },
    {
      "cell_type": "code",
      "metadata": {
        "id": "EdHaQTiSxsrH",
        "colab_type": "code",
        "outputId": "9b0e3499-3458-4d4f-b713-263393041ed9",
        "colab": {
          "base_uri": "https://localhost:8080/",
          "height": 102
        }
      },
      "source": [
        "model.load_state_dict(torch.load(cfg['paths']['task_a_model']))\n",
        "test_loss, test_acc, test_rec, test_prec, test_f1 = evaluate(model, test_iterator, criterion)\n",
        "#DONY\n",
        "print(f'Test Loss: {test_loss:.3f}')\n",
        "print(f'Test Acc : {test_acc*100:.2f}%')\n",
        "print(f'Test Rec : {test_rec*100:.2f}%')\n",
        "print(f'Test Prec: {test_prec*100:.2f}%')\n",
        "print(f'Test F1  : {test_f1*100:.2f}%')"
      ],
      "execution_count": 59,
      "outputs": [
        {
          "output_type": "stream",
          "text": [
            "Test Loss: 0.816\n",
            "Test Acc : 62.68%\n",
            "Test Rec : 64.75%\n",
            "Test Prec: 60.76%\n",
            "Test F1  : 60.52%\n"
          ],
          "name": "stdout"
        }
      ]
    },
    {
      "cell_type": "code",
      "metadata": {
        "id": "PpFVYFfLQiZn",
        "colab_type": "code",
        "colab": {}
      },
      "source": [
        "# 15 Apr\n",
        "# Test Loss: 0.828\n",
        "# Test Acc : 65.16%\n",
        "# Test Rec : 64.89%\n",
        "# Test Prec: 62.38%\n",
        "# Test F1  : 62.55%"
      ],
      "execution_count": 0,
      "outputs": []
    },
    {
      "cell_type": "code",
      "metadata": {
        "id": "_mIw6tbUUd1Q",
        "colab_type": "code",
        "colab": {}
      },
      "source": [
        "# summary_writer.flush()\n",
        "# summary_writer.close()"
      ],
      "execution_count": 0,
      "outputs": []
    },
    {
      "cell_type": "code",
      "metadata": {
        "id": "JZtUHroDTD6k",
        "colab_type": "code",
        "colab": {}
      },
      "source": [
        ""
      ],
      "execution_count": 0,
      "outputs": []
    },
    {
      "cell_type": "code",
      "metadata": {
        "id": "lXZiPLefTGo5",
        "colab_type": "code",
        "colab": {}
      },
      "source": [
        ""
      ],
      "execution_count": 0,
      "outputs": []
    }
  ]
}