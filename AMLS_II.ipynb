{
  "nbformat": 4,
  "nbformat_minor": 0,
  "metadata": {
    "colab": {
      "name": "AMLS II",
      "provenance": [],
      "collapsed_sections": [],
      "authorship_tag": "ABX9TyOHZsXWHPf2paiwAXFCW/3U",
      "include_colab_link": true
    },
    "kernelspec": {
      "name": "python3",
      "display_name": "Python 3"
    }
  },
  "cells": [
    {
      "cell_type": "markdown",
      "metadata": {
        "id": "view-in-github",
        "colab_type": "text"
      },
      "source": [
        "<a href=\"https://colab.research.google.com/github/donyeun/AMLSII_19-20_SN18154195/blob/master/AMLS_II.ipynb\" target=\"_parent\"><img src=\"https://colab.research.google.com/assets/colab-badge.svg\" alt=\"Open In Colab\"/></a>"
      ]
    },
    {
      "cell_type": "markdown",
      "metadata": {
        "id": "Skg_yPYJE3V_",
        "colab_type": "text"
      },
      "source": [
        "## Mount Google Drive"
      ]
    },
    {
      "cell_type": "code",
      "metadata": {
        "id": "oTTXAniWmfMi",
        "colab_type": "code",
        "outputId": "584e62b0-ba9c-4c00-8110-78c90b3ff5a4",
        "colab": {
          "base_uri": "https://localhost:8080/",
          "height": 54
        }
      },
      "source": [
        "from google.colab import drive\n",
        "drive.mount('/content/drive')"
      ],
      "execution_count": 1,
      "outputs": [
        {
          "output_type": "stream",
          "text": [
            "Drive already mounted at /content/drive; to attempt to forcibly remount, call drive.mount(\"/content/drive\", force_remount=True).\n"
          ],
          "name": "stdout"
        }
      ]
    },
    {
      "cell_type": "markdown",
      "metadata": {
        "id": "pe4VG6osyCiF",
        "colab_type": "text"
      },
      "source": [
        "# Libraries and Variables"
      ]
    },
    {
      "cell_type": "code",
      "metadata": {
        "id": "_5LCvzjssSJf",
        "colab_type": "code",
        "colab": {}
      },
      "source": [
        "import pandas as pd\n",
        "import os\n",
        "import torch\n",
        "from tqdm import tqdm\n",
        "from wordcloud import WordCloud\n",
        "import matplotlib.pyplot as plt\n",
        "import nltk"
      ],
      "execution_count": 0,
      "outputs": []
    },
    {
      "cell_type": "code",
      "metadata": {
        "id": "_HZ83t_QZq1f",
        "colab_type": "code",
        "colab": {}
      },
      "source": [
        "cfg = {\n",
        "       'paths': {\n",
        "           'train_folder_task_a': '/content/drive/My Drive/public/AMLSII_19-20_SN18154195/dataset/training/2017_English_final/GOLD/Subtask_A',\n",
        "           'train_additional_dataset_filenames': ['livejournal-2014test-A.tsv', 'sms-2013test-A.tsv'],\n",
        "           'test_file_task_a': '/content/drive/My Drive/public/AMLSII_19-20_SN18154195/dataset/testing/SemEval2017-task4-test/SemEval2017-task4-test.subtask-A.english.txt',\n",
        "\n",
        "           'train_folder_task_b': '/content/drive/My Drive/public/AMLSII_19-20_SN18154195/dataset/training/2017_English_final/GOLD/Subtasks_BD',\n",
        "           'test_file_task_b': '/content/drive/My Drive/public/AMLSII_19-20_SN18154195/dataset/testing/SemEval2017-task4-test/SemEval2017-task4-test.subtask-BD.english.txt',\n",
        "       },\n",
        "       'task_a': {\n",
        "           'use_additional_dataset': True,\n",
        "       },\n",
        "       'preprocessing': {\n",
        "           'tokenization': {\n",
        "               'remove_twitter_handle': True,\n",
        "               'preserve_case': False\n",
        "           }\n",
        "       },\n",
        "}"
      ],
      "execution_count": 0,
      "outputs": []
    },
    {
      "cell_type": "markdown",
      "metadata": {
        "id": "RuEK2LfkrPYV",
        "colab_type": "text"
      },
      "source": [
        "# Load Dataset\n"
      ]
    },
    {
      "cell_type": "markdown",
      "metadata": {
        "id": "6EVaQRfoFLyT",
        "colab_type": "text"
      },
      "source": [
        "## Preprocess Additional Dataset\n",
        "In task A, there are some additional datasets that were given from the competition apart from the standard twitter corpus, which is sms and livejournal corpus. We can use both of these additional datasets, after we preprocess the formatting so that it matches the rest of the twitter datasets."
      ]
    },
    {
      "cell_type": "code",
      "metadata": {
        "id": "RUAJontBFp21",
        "colab_type": "code",
        "outputId": "2a79935a-ab50-4334-80a5-447ca0e64861",
        "colab": {
          "base_uri": "https://localhost:8080/",
          "height": 493
        }
      },
      "source": [
        "task_a_train_additional_dfs = {}\n",
        "\n",
        "for filename in cfg['paths']['train_additional_dataset_filenames']:\n",
        "  # read additional corpora\n",
        "  task_a_train_additional_dfs[filename] = pd.read_csv(os.path.join(cfg['paths']['train_folder_task_a'], filename), sep='\\t', header=None)\n",
        "  \n",
        "  if filename == 'livejournal-2014test-A.tsv':\n",
        "    # remove the 0-th column from livejournal corpora, as it is unnecessary\n",
        "    task_a_train_additional_dfs[filename] = task_a_train_additional_dfs[filename].drop(columns=[0])\n",
        "  elif filename == 'sms-2013test-A.tsv':\n",
        "    # remove the 1st column from sms corpora, as it is unnecessary\n",
        "    task_a_train_additional_dfs[filename] = task_a_train_additional_dfs[filename].drop(columns=[1])\n",
        "  \n",
        "  # reset the column index to make it incremental\n",
        "  task_a_train_additional_dfs[filename].columns = range(task_a_train_additional_dfs[filename].shape[1])\n",
        "  \n",
        "  print(task_a_train_additional_dfs[filename])"
      ],
      "execution_count": 4,
      "outputs": [
        {
          "output_type": "stream",
          "text": [
            "             0         1                                                  2\n",
            "0     LJ111111  negative  I know I missed something here , but what does...\n",
            "1     LJ111113   neutral  What do you think of Beside Ourselves as a tit...\n",
            "2     LJ111114  positive                    :D I intend to be one someday .\n",
            "3     LJ111117  negative  LLLINKKK LLLINKKK IIIMAGEEELLLINKKK The choice...\n",
            "4     LJ111119   neutral                     LLLINKKK Some more mountains .\n",
            "...        ...       ...                                                ...\n",
            "1137  LJ113616  positive                     Maybe it was - his - fantasy ?\n",
            "1138  LJ113618  negative  It was ok , but they always just seem so nervo...\n",
            "1139  LJ113621  positive  It is streamable from YepRoc -- matter of fact...\n",
            "1140  LJ113623  positive  comment telling me who you are , or how you fo...\n",
            "1141  LJ113625   neutral  im on myspace ... ill try and find you and add...\n",
            "\n",
            "[1142 rows x 3 columns]\n",
            "          0         1                                                  2\n",
            "0     10936   neutral  Yes i am going from school have class till 5 c...\n",
            "1     11051   neutral  can u tape the match for me?  i\\u2019ll rush o...\n",
            "2     10966   neutral  Too many people at my house my relatives are h...\n",
            "3     11211  negative  Yea I have spoken to him liao. Indeed he is up...\n",
            "4     11350  positive  Haha... I want to see. E macdonalds here cheap...\n",
            "...     ...       ...                                                ...\n",
            "2089  10038  negative  Oki... Think i\\u2019m confused... I only know ...\n",
            "2090  11799   neutral  Yup... Ok i go home look at the timings then i...\n",
            "2091  11945   neutral            Here got lots of hair dresser fr china.\n",
            "2092  10154   neutral  no alh  we are not discussing fromt he viewpoi...\n",
            "2093  11428   neutral  Not dat i dun wan sign up but i wan only for a...\n",
            "\n",
            "[2094 rows x 3 columns]\n"
          ],
          "name": "stdout"
        }
      ]
    },
    {
      "cell_type": "markdown",
      "metadata": {
        "id": "FH283206E6BF",
        "colab_type": "text"
      },
      "source": [
        "## Make Datasets As Pandas' DataFrames\n",
        "\n"
      ]
    },
    {
      "cell_type": "code",
      "metadata": {
        "id": "LgC4YYhHrtdb",
        "colab_type": "code",
        "colab": {}
      },
      "source": [
        "def append_txt_files_as_one_dataframe(folderpath, filename_keywords_list, additional_dataset_dfs=None):\n",
        "  dataset_per_file_dfs = {}\n",
        "  dataset_df = pd.DataFrame()\n",
        "  filenames = os.listdir(folderpath)\n",
        "  \n",
        "  # open txt files (in tsv formatting)\n",
        "  for filename in filenames:\n",
        "    # if the filename contains a keyword in the filename_keywords_list, then open the txt file\n",
        "    # this is to avoid opening unnecessary txt such as readme.txt file.\n",
        "    if any(keyword in filename for keyword in filename_keywords_list):\n",
        "      dataset_per_file_dfs[filename] = pd.read_csv(os.path.join(folderpath, filename), sep='\\t', header=None)\n",
        "\n",
        "  # combine the original dataset with additional dataset (if any)\n",
        "  if additional_dataset_dfs is not None:\n",
        "    for key, value in additional_dataset_dfs.items():\n",
        "      dataset_per_file_dfs[key] = value\n",
        "\n",
        "  # append all the files as one dataframe\n",
        "  for key, value in dataset_per_file_dfs.items():\n",
        "    # print(key, '\\t', i, '\\t', dataset_per_file_df[key].shape[0])\n",
        "    dataset_df = dataset_df.append(dataset_per_file_dfs[key], ignore_index=True)\n",
        "  return dataset_df"
      ],
      "execution_count": 0,
      "outputs": []
    },
    {
      "cell_type": "code",
      "metadata": {
        "id": "qXBTf96GQeBI",
        "colab_type": "code",
        "colab": {}
      },
      "source": [
        "def clean_dataframe_format(df, new_column_name_list, drop_column_list=[]):\n",
        "  df = df.drop(columns=drop_column_list)\n",
        "  df.columns = new_column_name_list\n",
        "  return df"
      ],
      "execution_count": 0,
      "outputs": []
    },
    {
      "cell_type": "code",
      "metadata": {
        "id": "znGSEFNntmVa",
        "colab_type": "code",
        "outputId": "4db88c0a-795d-454a-87c6-882d582a106b",
        "colab": {
          "base_uri": "https://localhost:8080/",
          "height": 419
        }
      },
      "source": [
        "if cfg['task_a']['use_additional_dataset']:\n",
        "  task_a_train_df = append_txt_files_as_one_dataframe(cfg['paths']['train_folder_task_a'], ['twitter'], task_a_train_additional_dfs)\n",
        "else:\n",
        "  task_a_train_df = append_txt_files_as_one_dataframe(cfg['paths']['train_folder_task_a'], ['twitter'])\n",
        "task_a_train_df = clean_dataframe_format(task_a_train_df, ['id', 'sentiment', 'text'], drop_column_list=[3])\n",
        "task_a_train_df"
      ],
      "execution_count": 7,
      "outputs": [
        {
          "output_type": "execute_result",
          "data": {
            "text/html": [
              "<div>\n",
              "<style scoped>\n",
              "    .dataframe tbody tr th:only-of-type {\n",
              "        vertical-align: middle;\n",
              "    }\n",
              "\n",
              "    .dataframe tbody tr th {\n",
              "        vertical-align: top;\n",
              "    }\n",
              "\n",
              "    .dataframe thead th {\n",
              "        text-align: right;\n",
              "    }\n",
              "</style>\n",
              "<table border=\"1\" class=\"dataframe\">\n",
              "  <thead>\n",
              "    <tr style=\"text-align: right;\">\n",
              "      <th></th>\n",
              "      <th>id</th>\n",
              "      <th>sentiment</th>\n",
              "      <th>text</th>\n",
              "    </tr>\n",
              "  </thead>\n",
              "  <tbody>\n",
              "    <tr>\n",
              "      <th>0</th>\n",
              "      <td>637641175948763136</td>\n",
              "      <td>neutral</td>\n",
              "      <td>@SeeMonterey LOST - Sony cell phone with holid...</td>\n",
              "    </tr>\n",
              "    <tr>\n",
              "      <th>1</th>\n",
              "      <td>637651487762554881</td>\n",
              "      <td>neutral</td>\n",
              "      <td>@PersonaSoda well yeah, that's third parties. ...</td>\n",
              "    </tr>\n",
              "    <tr>\n",
              "      <th>2</th>\n",
              "      <td>637666734300905472</td>\n",
              "      <td>negative</td>\n",
              "      <td>Sony rewards app is like a lot of 19 y.o femal...</td>\n",
              "    </tr>\n",
              "    <tr>\n",
              "      <th>3</th>\n",
              "      <td>637668142110654468</td>\n",
              "      <td>neutral</td>\n",
              "      <td>@fakethom Have android tab and don't use phone...</td>\n",
              "    </tr>\n",
              "    <tr>\n",
              "      <th>4</th>\n",
              "      <td>637708370129125377</td>\n",
              "      <td>positive</td>\n",
              "      <td>Finally I get my ps4 back I sent it to Sony ca...</td>\n",
              "    </tr>\n",
              "    <tr>\n",
              "      <th>...</th>\n",
              "      <td>...</td>\n",
              "      <td>...</td>\n",
              "      <td>...</td>\n",
              "    </tr>\n",
              "    <tr>\n",
              "      <th>53363</th>\n",
              "      <td>10038</td>\n",
              "      <td>negative</td>\n",
              "      <td>Oki... Think i\\u2019m confused... I only know ...</td>\n",
              "    </tr>\n",
              "    <tr>\n",
              "      <th>53364</th>\n",
              "      <td>11799</td>\n",
              "      <td>neutral</td>\n",
              "      <td>Yup... Ok i go home look at the timings then i...</td>\n",
              "    </tr>\n",
              "    <tr>\n",
              "      <th>53365</th>\n",
              "      <td>11945</td>\n",
              "      <td>neutral</td>\n",
              "      <td>Here got lots of hair dresser fr china.</td>\n",
              "    </tr>\n",
              "    <tr>\n",
              "      <th>53366</th>\n",
              "      <td>10154</td>\n",
              "      <td>neutral</td>\n",
              "      <td>no alh  we are not discussing fromt he viewpoi...</td>\n",
              "    </tr>\n",
              "    <tr>\n",
              "      <th>53367</th>\n",
              "      <td>11428</td>\n",
              "      <td>neutral</td>\n",
              "      <td>Not dat i dun wan sign up but i wan only for a...</td>\n",
              "    </tr>\n",
              "  </tbody>\n",
              "</table>\n",
              "<p>53368 rows × 3 columns</p>\n",
              "</div>"
            ],
            "text/plain": [
              "                       id  ...                                               text\n",
              "0      637641175948763136  ...  @SeeMonterey LOST - Sony cell phone with holid...\n",
              "1      637651487762554881  ...  @PersonaSoda well yeah, that's third parties. ...\n",
              "2      637666734300905472  ...  Sony rewards app is like a lot of 19 y.o femal...\n",
              "3      637668142110654468  ...  @fakethom Have android tab and don't use phone...\n",
              "4      637708370129125377  ...  Finally I get my ps4 back I sent it to Sony ca...\n",
              "...                   ...  ...                                                ...\n",
              "53363               10038  ...  Oki... Think i\\u2019m confused... I only know ...\n",
              "53364               11799  ...  Yup... Ok i go home look at the timings then i...\n",
              "53365               11945  ...            Here got lots of hair dresser fr china.\n",
              "53366               10154  ...  no alh  we are not discussing fromt he viewpoi...\n",
              "53367               11428  ...  Not dat i dun wan sign up but i wan only for a...\n",
              "\n",
              "[53368 rows x 3 columns]"
            ]
          },
          "metadata": {
            "tags": []
          },
          "execution_count": 7
        }
      ]
    },
    {
      "cell_type": "code",
      "metadata": {
        "id": "R_Aem1fwuZB8",
        "colab_type": "code",
        "outputId": "e62a1d37-1168-4393-a964-04f0631419b7",
        "colab": {
          "base_uri": "https://localhost:8080/",
          "height": 436
        }
      },
      "source": [
        "task_b_train_df = append_txt_files_as_one_dataframe(cfg['paths']['train_folder_task_b'], ['twitter'])\n",
        "task_b_train_df = clean_dataframe_format(task_b_train_df, ['id', 'topic','sentiment', 'text'], drop_column_list=[4])\n",
        "task_b_train_df"
      ],
      "execution_count": 8,
      "outputs": [
        {
          "output_type": "execute_result",
          "data": {
            "text/html": [
              "<div>\n",
              "<style scoped>\n",
              "    .dataframe tbody tr th:only-of-type {\n",
              "        vertical-align: middle;\n",
              "    }\n",
              "\n",
              "    .dataframe tbody tr th {\n",
              "        vertical-align: top;\n",
              "    }\n",
              "\n",
              "    .dataframe thead th {\n",
              "        text-align: right;\n",
              "    }\n",
              "</style>\n",
              "<table border=\"1\" class=\"dataframe\">\n",
              "  <thead>\n",
              "    <tr style=\"text-align: right;\">\n",
              "      <th></th>\n",
              "      <th>id</th>\n",
              "      <th>topic</th>\n",
              "      <th>sentiment</th>\n",
              "      <th>text</th>\n",
              "    </tr>\n",
              "  </thead>\n",
              "  <tbody>\n",
              "    <tr>\n",
              "      <th>0</th>\n",
              "      <td>628949369883000832</td>\n",
              "      <td>@microsoft</td>\n",
              "      <td>negative</td>\n",
              "      <td>dear @Microsoft the newOoffice for Mac is grea...</td>\n",
              "    </tr>\n",
              "    <tr>\n",
              "      <th>1</th>\n",
              "      <td>628976607420645377</td>\n",
              "      <td>@microsoft</td>\n",
              "      <td>negative</td>\n",
              "      <td>@Microsoft how about you make a system that do...</td>\n",
              "    </tr>\n",
              "    <tr>\n",
              "      <th>2</th>\n",
              "      <td>629023169169518592</td>\n",
              "      <td>@microsoft</td>\n",
              "      <td>negative</td>\n",
              "      <td>I may be ignorant on this issue but... should ...</td>\n",
              "    </tr>\n",
              "    <tr>\n",
              "      <th>3</th>\n",
              "      <td>629179223232479232</td>\n",
              "      <td>@microsoft</td>\n",
              "      <td>negative</td>\n",
              "      <td>Thanks to @microsoft, I just may be switching ...</td>\n",
              "    </tr>\n",
              "    <tr>\n",
              "      <th>4</th>\n",
              "      <td>629226490152914944</td>\n",
              "      <td>@microsoft</td>\n",
              "      <td>positive</td>\n",
              "      <td>Microsoft, I may not prefer your gaming branch...</td>\n",
              "    </tr>\n",
              "    <tr>\n",
              "      <th>...</th>\n",
              "      <td>...</td>\n",
              "      <td>...</td>\n",
              "      <td>...</td>\n",
              "      <td>...</td>\n",
              "    </tr>\n",
              "    <tr>\n",
              "      <th>20434</th>\n",
              "      <td>520957142816530432</td>\n",
              "      <td>younique</td>\n",
              "      <td>positive</td>\n",
              "      <td>Check out the gorgeous products from Younique!...</td>\n",
              "    </tr>\n",
              "    <tr>\n",
              "      <th>20435</th>\n",
              "      <td>522889214036156417</td>\n",
              "      <td>younique</td>\n",
              "      <td>neutral</td>\n",
              "      <td>LADIES!  BULK ORDER GOES IN TOMORROW AT 10PM C...</td>\n",
              "    </tr>\n",
              "    <tr>\n",
              "      <th>20436</th>\n",
              "      <td>521416045865992192</td>\n",
              "      <td>younique</td>\n",
              "      <td>positive</td>\n",
              "      <td>Here is something fun for you:  On the 14th, I...</td>\n",
              "    </tr>\n",
              "    <tr>\n",
              "      <th>20437</th>\n",
              "      <td>522912399322394624</td>\n",
              "      <td>younique</td>\n",
              "      <td>positive</td>\n",
              "      <td>Get the best mascara in the industry here! Im ...</td>\n",
              "    </tr>\n",
              "    <tr>\n",
              "      <th>20438</th>\n",
              "      <td>520917627460661248</td>\n",
              "      <td>younique</td>\n",
              "      <td>positive</td>\n",
              "      <td>Wakey Wakey! It's SATURDAY SHOPPING Day! Make ...</td>\n",
              "    </tr>\n",
              "  </tbody>\n",
              "</table>\n",
              "<p>20439 rows × 4 columns</p>\n",
              "</div>"
            ],
            "text/plain": [
              "                       id  ...                                               text\n",
              "0      628949369883000832  ...  dear @Microsoft the newOoffice for Mac is grea...\n",
              "1      628976607420645377  ...  @Microsoft how about you make a system that do...\n",
              "2      629023169169518592  ...  I may be ignorant on this issue but... should ...\n",
              "3      629179223232479232  ...  Thanks to @microsoft, I just may be switching ...\n",
              "4      629226490152914944  ...  Microsoft, I may not prefer your gaming branch...\n",
              "...                   ...  ...                                                ...\n",
              "20434  520957142816530432  ...  Check out the gorgeous products from Younique!...\n",
              "20435  522889214036156417  ...  LADIES!  BULK ORDER GOES IN TOMORROW AT 10PM C...\n",
              "20436  521416045865992192  ...  Here is something fun for you:  On the 14th, I...\n",
              "20437  522912399322394624  ...  Get the best mascara in the industry here! Im ...\n",
              "20438  520917627460661248  ...  Wakey Wakey! It's SATURDAY SHOPPING Day! Make ...\n",
              "\n",
              "[20439 rows x 4 columns]"
            ]
          },
          "metadata": {
            "tags": []
          },
          "execution_count": 8
        }
      ]
    },
    {
      "cell_type": "code",
      "metadata": {
        "id": "1iApuaK7wj9O",
        "colab_type": "code",
        "outputId": "216a7ac8-d1d2-4642-b980-fab14146688e",
        "colab": {
          "base_uri": "https://localhost:8080/",
          "height": 419
        }
      },
      "source": [
        "task_a_test_df = pd.read_csv(cfg['paths']['test_file_task_a'], sep='\\t', header=None)\n",
        "task_a_test_df = clean_dataframe_format(task_a_test_df, ['id', 'sentiment', 'text'])\n",
        "task_a_test_df"
      ],
      "execution_count": 9,
      "outputs": [
        {
          "output_type": "execute_result",
          "data": {
            "text/html": [
              "<div>\n",
              "<style scoped>\n",
              "    .dataframe tbody tr th:only-of-type {\n",
              "        vertical-align: middle;\n",
              "    }\n",
              "\n",
              "    .dataframe tbody tr th {\n",
              "        vertical-align: top;\n",
              "    }\n",
              "\n",
              "    .dataframe thead th {\n",
              "        text-align: right;\n",
              "    }\n",
              "</style>\n",
              "<table border=\"1\" class=\"dataframe\">\n",
              "  <thead>\n",
              "    <tr style=\"text-align: right;\">\n",
              "      <th></th>\n",
              "      <th>id</th>\n",
              "      <th>sentiment</th>\n",
              "      <th>text</th>\n",
              "    </tr>\n",
              "  </thead>\n",
              "  <tbody>\n",
              "    <tr>\n",
              "      <th>0</th>\n",
              "      <td>801989080477154944</td>\n",
              "      <td>neutral</td>\n",
              "      <td>#ArianaGrande Ari By Ariana Grande 80% Full ht...</td>\n",
              "    </tr>\n",
              "    <tr>\n",
              "      <th>1</th>\n",
              "      <td>801989272341453952</td>\n",
              "      <td>positive</td>\n",
              "      <td>Ariana Grande KIIS FM Yours Truly CD listening...</td>\n",
              "    </tr>\n",
              "    <tr>\n",
              "      <th>2</th>\n",
              "      <td>801990978424962944</td>\n",
              "      <td>positive</td>\n",
              "      <td>Ariana Grande White House Easter Egg Roll in W...</td>\n",
              "    </tr>\n",
              "    <tr>\n",
              "      <th>3</th>\n",
              "      <td>801996232553963008</td>\n",
              "      <td>positive</td>\n",
              "      <td>#CD #Musics Ariana Grande Sweet Like Candy 3.4...</td>\n",
              "    </tr>\n",
              "    <tr>\n",
              "      <th>4</th>\n",
              "      <td>801998343442407040</td>\n",
              "      <td>neutral</td>\n",
              "      <td>SIDE TO SIDE 😘 @arianagrande #sidetoside #aria...</td>\n",
              "    </tr>\n",
              "    <tr>\n",
              "      <th>...</th>\n",
              "      <td>...</td>\n",
              "      <td>...</td>\n",
              "      <td>...</td>\n",
              "    </tr>\n",
              "    <tr>\n",
              "      <th>11901</th>\n",
              "      <td>805699615781625856</td>\n",
              "      <td>positive</td>\n",
              "      <td>@dansen17 update: Zac Efron kissing a puppy ht...</td>\n",
              "    </tr>\n",
              "    <tr>\n",
              "      <th>11902</th>\n",
              "      <td>805701709356003328</td>\n",
              "      <td>neutral</td>\n",
              "      <td>#zac efron sex pic skins michelle sex https://...</td>\n",
              "    </tr>\n",
              "    <tr>\n",
              "      <th>11903</th>\n",
              "      <td>805701818357579776</td>\n",
              "      <td>neutral</td>\n",
              "      <td>First Look at Neighbors 2 with Zac Efron Shirt...</td>\n",
              "    </tr>\n",
              "    <tr>\n",
              "      <th>11904</th>\n",
              "      <td>805703557081075712</td>\n",
              "      <td>neutral</td>\n",
              "      <td>zac efron poses nude #lovely libra porn https:...</td>\n",
              "    </tr>\n",
              "    <tr>\n",
              "      <th>11905</th>\n",
              "      <td>805704324105940992</td>\n",
              "      <td>neutral</td>\n",
              "      <td>#Fashion #Style The Paperboy (NEW Blu-ray Disc...</td>\n",
              "    </tr>\n",
              "  </tbody>\n",
              "</table>\n",
              "<p>11906 rows × 3 columns</p>\n",
              "</div>"
            ],
            "text/plain": [
              "                       id  ...                                               text\n",
              "0      801989080477154944  ...  #ArianaGrande Ari By Ariana Grande 80% Full ht...\n",
              "1      801989272341453952  ...  Ariana Grande KIIS FM Yours Truly CD listening...\n",
              "2      801990978424962944  ...  Ariana Grande White House Easter Egg Roll in W...\n",
              "3      801996232553963008  ...  #CD #Musics Ariana Grande Sweet Like Candy 3.4...\n",
              "4      801998343442407040  ...  SIDE TO SIDE 😘 @arianagrande #sidetoside #aria...\n",
              "...                   ...  ...                                                ...\n",
              "11901  805699615781625856  ...  @dansen17 update: Zac Efron kissing a puppy ht...\n",
              "11902  805701709356003328  ...  #zac efron sex pic skins michelle sex https://...\n",
              "11903  805701818357579776  ...  First Look at Neighbors 2 with Zac Efron Shirt...\n",
              "11904  805703557081075712  ...  zac efron poses nude #lovely libra porn https:...\n",
              "11905  805704324105940992  ...  #Fashion #Style The Paperboy (NEW Blu-ray Disc...\n",
              "\n",
              "[11906 rows x 3 columns]"
            ]
          },
          "metadata": {
            "tags": []
          },
          "execution_count": 9
        }
      ]
    },
    {
      "cell_type": "code",
      "metadata": {
        "id": "KqE-Y6XJBeA2",
        "colab_type": "code",
        "outputId": "a89fa8c6-b159-4e84-b331-0887836875b0",
        "colab": {
          "base_uri": "https://localhost:8080/",
          "height": 419
        }
      },
      "source": [
        "task_b_test_df = pd.read_csv(cfg['paths']['test_file_task_b'], sep='\\t', header=None)\n",
        "task_b_test_df = clean_dataframe_format(task_b_test_df, ['id', 'topic', 'sentiment', 'text'])\n",
        "task_b_test_df"
      ],
      "execution_count": 10,
      "outputs": [
        {
          "output_type": "execute_result",
          "data": {
            "text/html": [
              "<div>\n",
              "<style scoped>\n",
              "    .dataframe tbody tr th:only-of-type {\n",
              "        vertical-align: middle;\n",
              "    }\n",
              "\n",
              "    .dataframe tbody tr th {\n",
              "        vertical-align: top;\n",
              "    }\n",
              "\n",
              "    .dataframe thead th {\n",
              "        text-align: right;\n",
              "    }\n",
              "</style>\n",
              "<table border=\"1\" class=\"dataframe\">\n",
              "  <thead>\n",
              "    <tr style=\"text-align: right;\">\n",
              "      <th></th>\n",
              "      <th>id</th>\n",
              "      <th>topic</th>\n",
              "      <th>sentiment</th>\n",
              "      <th>text</th>\n",
              "    </tr>\n",
              "  </thead>\n",
              "  <tbody>\n",
              "    <tr>\n",
              "      <th>0</th>\n",
              "      <td>801989272341453952</td>\n",
              "      <td>#ArianaGrande</td>\n",
              "      <td>positive</td>\n",
              "      <td>Ariana Grande KIIS FM Yours Truly CD listening...</td>\n",
              "    </tr>\n",
              "    <tr>\n",
              "      <th>1</th>\n",
              "      <td>801990978424962944</td>\n",
              "      <td>#ArianaGrande</td>\n",
              "      <td>positive</td>\n",
              "      <td>Ariana Grande White House Easter Egg Roll in W...</td>\n",
              "    </tr>\n",
              "    <tr>\n",
              "      <th>2</th>\n",
              "      <td>801996232553963008</td>\n",
              "      <td>#ArianaGrande</td>\n",
              "      <td>positive</td>\n",
              "      <td>#CD #Musics Ariana Grande Sweet Like Candy 3.4...</td>\n",
              "    </tr>\n",
              "    <tr>\n",
              "      <th>3</th>\n",
              "      <td>801998343442407040</td>\n",
              "      <td>#ArianaGrande</td>\n",
              "      <td>positive</td>\n",
              "      <td>SIDE TO SIDE 😘 @arianagrande #sidetoside #aria...</td>\n",
              "    </tr>\n",
              "    <tr>\n",
              "      <th>4</th>\n",
              "      <td>802001659970744064</td>\n",
              "      <td>#ArianaGrande</td>\n",
              "      <td>positive</td>\n",
              "      <td>Hairspray Live! Previews at the Macy's Thanksg...</td>\n",
              "    </tr>\n",
              "    <tr>\n",
              "      <th>...</th>\n",
              "      <td>...</td>\n",
              "      <td>...</td>\n",
              "      <td>...</td>\n",
              "      <td>...</td>\n",
              "    </tr>\n",
              "    <tr>\n",
              "      <th>6064</th>\n",
              "      <td>805696468959002624</td>\n",
              "      <td>zac efron</td>\n",
              "      <td>positive</td>\n",
              "      <td>Abby *talking about the Hamilton soundtrack\": ...</td>\n",
              "    </tr>\n",
              "    <tr>\n",
              "      <th>6065</th>\n",
              "      <td>805699412257181697</td>\n",
              "      <td>zac efron</td>\n",
              "      <td>positive</td>\n",
              "      <td>can we like get zac efron or justin bieber for...</td>\n",
              "    </tr>\n",
              "    <tr>\n",
              "      <th>6066</th>\n",
              "      <td>805699615781625856</td>\n",
              "      <td>zac efron</td>\n",
              "      <td>positive</td>\n",
              "      <td>@dansen17 update: Zac Efron kissing a puppy ht...</td>\n",
              "    </tr>\n",
              "    <tr>\n",
              "      <th>6067</th>\n",
              "      <td>805701818357579776</td>\n",
              "      <td>zac efron</td>\n",
              "      <td>positive</td>\n",
              "      <td>First Look at Neighbors 2 with Zac Efron Shirt...</td>\n",
              "    </tr>\n",
              "    <tr>\n",
              "      <th>6068</th>\n",
              "      <td>805703557081075712</td>\n",
              "      <td>zac efron</td>\n",
              "      <td>positive</td>\n",
              "      <td>zac efron poses nude #lovely libra porn https:...</td>\n",
              "    </tr>\n",
              "  </tbody>\n",
              "</table>\n",
              "<p>6069 rows × 4 columns</p>\n",
              "</div>"
            ],
            "text/plain": [
              "                      id  ...                                               text\n",
              "0     801989272341453952  ...  Ariana Grande KIIS FM Yours Truly CD listening...\n",
              "1     801990978424962944  ...  Ariana Grande White House Easter Egg Roll in W...\n",
              "2     801996232553963008  ...  #CD #Musics Ariana Grande Sweet Like Candy 3.4...\n",
              "3     801998343442407040  ...  SIDE TO SIDE 😘 @arianagrande #sidetoside #aria...\n",
              "4     802001659970744064  ...  Hairspray Live! Previews at the Macy's Thanksg...\n",
              "...                  ...  ...                                                ...\n",
              "6064  805696468959002624  ...  Abby *talking about the Hamilton soundtrack\": ...\n",
              "6065  805699412257181697  ...  can we like get zac efron or justin bieber for...\n",
              "6066  805699615781625856  ...  @dansen17 update: Zac Efron kissing a puppy ht...\n",
              "6067  805701818357579776  ...  First Look at Neighbors 2 with Zac Efron Shirt...\n",
              "6068  805703557081075712  ...  zac efron poses nude #lovely libra porn https:...\n",
              "\n",
              "[6069 rows x 4 columns]"
            ]
          },
          "metadata": {
            "tags": []
          },
          "execution_count": 10
        }
      ]
    },
    {
      "cell_type": "markdown",
      "metadata": {
        "id": "iFnxpFTZEe7E",
        "colab_type": "text"
      },
      "source": [
        "# Exploratory Data Analysis (EDA)"
      ]
    },
    {
      "cell_type": "markdown",
      "metadata": {
        "id": "9KGklVjRx50N",
        "colab_type": "text"
      },
      "source": [
        "# Tokenization"
      ]
    },
    {
      "cell_type": "code",
      "metadata": {
        "id": "NwjXcI3Gx7xb",
        "colab_type": "code",
        "colab": {
          "base_uri": "https://localhost:8080/",
          "height": 71
        },
        "outputId": "034100c3-9d9a-4dbe-d523-4fe84a15a3c4"
      },
      "source": [
        "tokenizer = nltk.tokenize.TweetTokenizer(\n",
        "    strip_handles = cfg['preprocessing']['tokenization']['remove_twitter_handle'],\n",
        "    preserve_case = cfg['preprocessing']['tokenization']['preserve_case']\n",
        ")\n",
        "\n",
        "def tokenize_text(text, tokenizer):\n",
        "  tokenized_text = tokenizer.tokenize(\n",
        "      text,\n",
        "    )\n",
        "  return tokenized_text\n",
        "\n",
        "# Tokenisation Example\n",
        "text = task_a_train_df.head(1)['text'].values[0]\n",
        "print('original text : ', text)\n",
        "print('tokenized text: ', tokenizer.tokenize(text))"
      ],
      "execution_count": 11,
      "outputs": [
        {
          "output_type": "stream",
          "text": [
            "original text :  @SeeMonterey LOST - Sony cell phone with holiday photos. Early Fri morning, Montreal transit plaza or no. 13 bus to airport. REWARD! Plz RT.\n",
            "tokenized text:  ['lost', '-', 'sony', 'cell', 'phone', 'with', 'holiday', 'photos', '.', 'early', 'fri', 'morning', ',', 'montreal', 'transit', 'plaza', 'or', 'no', '.', '13', 'bus', 'to', 'airport', '.', 'reward', '!', 'plz', 'rt', '.']\n"
          ],
          "name": "stdout"
        }
      ]
    },
    {
      "cell_type": "code",
      "metadata": {
        "id": "paxv3Xsw0fkT",
        "colab_type": "code",
        "colab": {}
      },
      "source": [
        "task_a_train_df['tokenized'] = task_a_train_df.apply(\n",
        "    lambda row: tokenize_text(\n",
        "        row['text'],\n",
        "        tokenizer\n",
        "    ),\n",
        "    axis=1\n",
        ")"
      ],
      "execution_count": 0,
      "outputs": []
    },
    {
      "cell_type": "code",
      "metadata": {
        "id": "g4qIxOub6IHL",
        "colab_type": "code",
        "colab": {
          "base_uri": "https://localhost:8080/",
          "height": 589
        },
        "outputId": "b366270b-b80e-4d4d-8ceb-781d235f4ccd"
      },
      "source": [
        "task_a_train_df"
      ],
      "execution_count": 13,
      "outputs": [
        {
          "output_type": "execute_result",
          "data": {
            "text/html": [
              "<div>\n",
              "<style scoped>\n",
              "    .dataframe tbody tr th:only-of-type {\n",
              "        vertical-align: middle;\n",
              "    }\n",
              "\n",
              "    .dataframe tbody tr th {\n",
              "        vertical-align: top;\n",
              "    }\n",
              "\n",
              "    .dataframe thead th {\n",
              "        text-align: right;\n",
              "    }\n",
              "</style>\n",
              "<table border=\"1\" class=\"dataframe\">\n",
              "  <thead>\n",
              "    <tr style=\"text-align: right;\">\n",
              "      <th></th>\n",
              "      <th>id</th>\n",
              "      <th>sentiment</th>\n",
              "      <th>text</th>\n",
              "      <th>tokenized</th>\n",
              "    </tr>\n",
              "  </thead>\n",
              "  <tbody>\n",
              "    <tr>\n",
              "      <th>0</th>\n",
              "      <td>637641175948763136</td>\n",
              "      <td>neutral</td>\n",
              "      <td>@SeeMonterey LOST - Sony cell phone with holid...</td>\n",
              "      <td>[lost, -, sony, cell, phone, with, holiday, ph...</td>\n",
              "    </tr>\n",
              "    <tr>\n",
              "      <th>1</th>\n",
              "      <td>637651487762554881</td>\n",
              "      <td>neutral</td>\n",
              "      <td>@PersonaSoda well yeah, that's third parties. ...</td>\n",
              "      <td>[well, yeah, ,, that's, third, parties, ., son...</td>\n",
              "    </tr>\n",
              "    <tr>\n",
              "      <th>2</th>\n",
              "      <td>637666734300905472</td>\n",
              "      <td>negative</td>\n",
              "      <td>Sony rewards app is like a lot of 19 y.o femal...</td>\n",
              "      <td>[sony, rewards, app, is, like, a, lot, of, 19,...</td>\n",
              "    </tr>\n",
              "    <tr>\n",
              "      <th>3</th>\n",
              "      <td>637668142110654468</td>\n",
              "      <td>neutral</td>\n",
              "      <td>@fakethom Have android tab and don't use phone...</td>\n",
              "      <td>[have, android, tab, and, don't, use, phone, m...</td>\n",
              "    </tr>\n",
              "    <tr>\n",
              "      <th>4</th>\n",
              "      <td>637708370129125377</td>\n",
              "      <td>positive</td>\n",
              "      <td>Finally I get my ps4 back I sent it to Sony ca...</td>\n",
              "      <td>[finally, i, get, my, ps4, back, i, sent, it, ...</td>\n",
              "    </tr>\n",
              "    <tr>\n",
              "      <th>...</th>\n",
              "      <td>...</td>\n",
              "      <td>...</td>\n",
              "      <td>...</td>\n",
              "      <td>...</td>\n",
              "    </tr>\n",
              "    <tr>\n",
              "      <th>53363</th>\n",
              "      <td>10038</td>\n",
              "      <td>negative</td>\n",
              "      <td>Oki... Think i\\u2019m confused... I only know ...</td>\n",
              "      <td>[oki, ..., think, i, \\, u2019m, confused, ...,...</td>\n",
              "    </tr>\n",
              "    <tr>\n",
              "      <th>53364</th>\n",
              "      <td>11799</td>\n",
              "      <td>neutral</td>\n",
              "      <td>Yup... Ok i go home look at the timings then i...</td>\n",
              "      <td>[yup, ..., ok, i, go, home, look, at, the, tim...</td>\n",
              "    </tr>\n",
              "    <tr>\n",
              "      <th>53365</th>\n",
              "      <td>11945</td>\n",
              "      <td>neutral</td>\n",
              "      <td>Here got lots of hair dresser fr china.</td>\n",
              "      <td>[here, got, lots, of, hair, dresser, fr, china...</td>\n",
              "    </tr>\n",
              "    <tr>\n",
              "      <th>53366</th>\n",
              "      <td>10154</td>\n",
              "      <td>neutral</td>\n",
              "      <td>no alh  we are not discussing fromt he viewpoi...</td>\n",
              "      <td>[no, alh, we, are, not, discussing, fromt, he,...</td>\n",
              "    </tr>\n",
              "    <tr>\n",
              "      <th>53367</th>\n",
              "      <td>11428</td>\n",
              "      <td>neutral</td>\n",
              "      <td>Not dat i dun wan sign up but i wan only for a...</td>\n",
              "      <td>[not, dat, i, dun, wan, sign, up, but, i, wan,...</td>\n",
              "    </tr>\n",
              "  </tbody>\n",
              "</table>\n",
              "<p>53368 rows × 4 columns</p>\n",
              "</div>"
            ],
            "text/plain": [
              "                       id  ...                                          tokenized\n",
              "0      637641175948763136  ...  [lost, -, sony, cell, phone, with, holiday, ph...\n",
              "1      637651487762554881  ...  [well, yeah, ,, that's, third, parties, ., son...\n",
              "2      637666734300905472  ...  [sony, rewards, app, is, like, a, lot, of, 19,...\n",
              "3      637668142110654468  ...  [have, android, tab, and, don't, use, phone, m...\n",
              "4      637708370129125377  ...  [finally, i, get, my, ps4, back, i, sent, it, ...\n",
              "...                   ...  ...                                                ...\n",
              "53363               10038  ...  [oki, ..., think, i, \\, u2019m, confused, ...,...\n",
              "53364               11799  ...  [yup, ..., ok, i, go, home, look, at, the, tim...\n",
              "53365               11945  ...  [here, got, lots, of, hair, dresser, fr, china...\n",
              "53366               10154  ...  [no, alh, we, are, not, discussing, fromt, he,...\n",
              "53367               11428  ...  [not, dat, i, dun, wan, sign, up, but, i, wan,...\n",
              "\n",
              "[53368 rows x 4 columns]"
            ]
          },
          "metadata": {
            "tags": []
          },
          "execution_count": 13
        }
      ]
    },
    {
      "cell_type": "markdown",
      "metadata": {
        "id": "cUrnPEtN76nc",
        "colab_type": "text"
      },
      "source": [
        "## Word Cloud"
      ]
    },
    {
      "cell_type": "code",
      "metadata": {
        "id": "sXTNP_1975_d",
        "colab_type": "code",
        "colab": {}
      },
      "source": [
        "def show_wordcloud(text, title, max_words=200):\n",
        "  wc = WordCloud(\n",
        "      max_words=max_words,\n",
        "      background_color='white',\n",
        "      ranks_only= frequency\n",
        "  ).generate(text)\n",
        "\n",
        "  print(wc.words_)\n",
        "\n",
        "  fig = plt.figure(1, figsize=(12, 12))\n",
        "  fig.suptitle(title)\n",
        "  plt.imshow(wc)\n",
        "  plt.show()"
      ],
      "execution_count": 0,
      "outputs": []
    },
    {
      "cell_type": "code",
      "metadata": {
        "id": "0MWVlPVeEit3",
        "colab_type": "code",
        "colab": {
          "base_uri": "https://localhost:8080/",
          "height": 371
        },
        "outputId": "959fabb9-3d17-4979-9d89-8e1f59e35332"
      },
      "source": [
        "df = task_b_train_df[task_b_train_df['sentiment'] == 'positive']['text'][4]\n",
        "print(df)\n",
        "# print(df.shape)\n",
        "# show_wordcloud(str(df.values), 'judul', max_words=20000)\n",
        "\n",
        "# print(df.shape)\n",
        "word_string = \"you verse wrote book stand titlea i you you you kampung\"\n",
        "print(type(word_string))\n",
        "show_wordcloud(word_string, 'judul', max_words=20000)"
      ],
      "execution_count": 16,
      "outputs": [
        {
          "output_type": "stream",
          "text": [
            "Microsoft, I may not prefer your gaming branch of business. But, you do make a damn fine operating system. #Windows10 @Microsoft\n",
            "<class 'str'>\n"
          ],
          "name": "stdout"
        },
        {
          "output_type": "error",
          "ename": "NameError",
          "evalue": "ignored",
          "traceback": [
            "\u001b[0;31m---------------------------------------------------------------------------\u001b[0m",
            "\u001b[0;31mNameError\u001b[0m                                 Traceback (most recent call last)",
            "\u001b[0;32m<ipython-input-16-6a89310a2942>\u001b[0m in \u001b[0;36m<module>\u001b[0;34m()\u001b[0m\n\u001b[1;32m      7\u001b[0m \u001b[0mword_string\u001b[0m \u001b[0;34m=\u001b[0m \u001b[0;34m\"you verse wrote book stand titlea i you you you kampung\"\u001b[0m\u001b[0;34m\u001b[0m\u001b[0;34m\u001b[0m\u001b[0m\n\u001b[1;32m      8\u001b[0m \u001b[0mprint\u001b[0m\u001b[0;34m(\u001b[0m\u001b[0mtype\u001b[0m\u001b[0;34m(\u001b[0m\u001b[0mword_string\u001b[0m\u001b[0;34m)\u001b[0m\u001b[0;34m)\u001b[0m\u001b[0;34m\u001b[0m\u001b[0;34m\u001b[0m\u001b[0m\n\u001b[0;32m----> 9\u001b[0;31m \u001b[0mshow_wordcloud\u001b[0m\u001b[0;34m(\u001b[0m\u001b[0mword_string\u001b[0m\u001b[0;34m,\u001b[0m \u001b[0;34m'judul'\u001b[0m\u001b[0;34m,\u001b[0m \u001b[0mmax_words\u001b[0m\u001b[0;34m=\u001b[0m\u001b[0;36m20000\u001b[0m\u001b[0;34m)\u001b[0m\u001b[0;34m\u001b[0m\u001b[0;34m\u001b[0m\u001b[0m\n\u001b[0m",
            "\u001b[0;32m<ipython-input-14-50d2ea6f685e>\u001b[0m in \u001b[0;36mshow_wordcloud\u001b[0;34m(text, title, max_words)\u001b[0m\n\u001b[1;32m      3\u001b[0m       \u001b[0mmax_words\u001b[0m\u001b[0;34m=\u001b[0m\u001b[0mmax_words\u001b[0m\u001b[0;34m,\u001b[0m\u001b[0;34m\u001b[0m\u001b[0;34m\u001b[0m\u001b[0m\n\u001b[1;32m      4\u001b[0m       \u001b[0mbackground_color\u001b[0m\u001b[0;34m=\u001b[0m\u001b[0;34m'white'\u001b[0m\u001b[0;34m,\u001b[0m\u001b[0;34m\u001b[0m\u001b[0;34m\u001b[0m\u001b[0m\n\u001b[0;32m----> 5\u001b[0;31m       \u001b[0mranks_only\u001b[0m\u001b[0;34m=\u001b[0m \u001b[0mfrequency\u001b[0m\u001b[0;34m\u001b[0m\u001b[0;34m\u001b[0m\u001b[0m\n\u001b[0m\u001b[1;32m      6\u001b[0m   ).generate(text)\n\u001b[1;32m      7\u001b[0m \u001b[0;34m\u001b[0m\u001b[0m\n",
            "\u001b[0;31mNameError\u001b[0m: name 'frequency' is not defined"
          ]
        }
      ]
    },
    {
      "cell_type": "code",
      "metadata": {
        "id": "MZGMBtM98uTq",
        "colab_type": "code",
        "colab": {
          "base_uri": "https://localhost:8080/",
          "height": 329
        },
        "outputId": "7cc96df7-b457-4591-bd27-b278ae6bfa93"
      },
      "source": [
        "task_a_train_df['sentiment'].value_counts().plot(kind='bar',figsize=(7,4));\n",
        "plt.title('Number of tweets');\n",
        "plt.xlabel('Sentiment');\n",
        "plt.ylabel('Total tweets');"
      ],
      "execution_count": 22,
      "outputs": [
        {
          "output_type": "display_data",
          "data": {
            "image/png": "[encoded data removed]",
            "text/plain": [
              "<Figure size 504x288 with 1 Axes>"
            ]
          },
          "metadata": {
            "tags": []
          }
        }
      ]
    },
    {
      "cell_type": "code",
      "metadata": {
        "id": "d7YGmqNd2WrP",
        "colab_type": "code",
        "colab": {}
      },
      "source": [
        ""
      ],
      "execution_count": 0,
      "outputs": []
    },
    {
      "cell_type": "code",
      "metadata": {
        "id": "D5oxkBMoH5hp",
        "colab_type": "code",
        "colab": {}
      },
      "source": [
        ""
      ],
      "execution_count": 0,
      "outputs": []
    },
    {
      "cell_type": "code",
      "metadata": {
        "id": "dt4arEBt4ntG",
        "colab_type": "code",
        "colab": {}
      },
      "source": [
        ""
      ],
      "execution_count": 0,
      "outputs": []
    },
    {
      "cell_type": "code",
      "metadata": {
        "id": "Gauu8B_i9XHn",
        "colab_type": "code",
        "colab": {
          "base_uri": "https://localhost:8080/",
          "height": 419
        },
        "outputId": "16471ed4-56df-467e-dbe7-eb9436610409"
      },
      "source": [
        "task_b_train_df[task_b_train_df['text'].str.contains('not')]"
      ],
      "execution_count": 24,
      "outputs": [
        {
          "output_type": "execute_result",
          "data": {
            "text/html": [
              "<div>\n",
              "<style scoped>\n",
              "    .dataframe tbody tr th:only-of-type {\n",
              "        vertical-align: middle;\n",
              "    }\n",
              "\n",
              "    .dataframe tbody tr th {\n",
              "        vertical-align: top;\n",
              "    }\n",
              "\n",
              "    .dataframe thead th {\n",
              "        text-align: right;\n",
              "    }\n",
              "</style>\n",
              "<table border=\"1\" class=\"dataframe\">\n",
              "  <thead>\n",
              "    <tr style=\"text-align: right;\">\n",
              "      <th></th>\n",
              "      <th>id</th>\n",
              "      <th>topic</th>\n",
              "      <th>sentiment</th>\n",
              "      <th>text</th>\n",
              "    </tr>\n",
              "  </thead>\n",
              "  <tbody>\n",
              "    <tr>\n",
              "      <th>4</th>\n",
              "      <td>629226490152914944</td>\n",
              "      <td>@microsoft</td>\n",
              "      <td>positive</td>\n",
              "      <td>Microsoft, I may not prefer your gaming branch...</td>\n",
              "    </tr>\n",
              "    <tr>\n",
              "      <th>8</th>\n",
              "      <td>629797991826722816</td>\n",
              "      <td>@microsoft</td>\n",
              "      <td>negative</td>\n",
              "      <td>After attempting a reinstall, it still bricks,...</td>\n",
              "    </tr>\n",
              "    <tr>\n",
              "      <th>16</th>\n",
              "      <td>631543121407442946</td>\n",
              "      <td>@microsoft</td>\n",
              "      <td>negative</td>\n",
              "      <td>@Microsoft support for 365 has been terrible. ...</td>\n",
              "    </tr>\n",
              "    <tr>\n",
              "      <th>20</th>\n",
              "      <td>632536348419690496</td>\n",
              "      <td>@microsoft</td>\n",
              "      <td>negative</td>\n",
              "      <td>@eyesonfoxorg @Microsoft I'm still using Vista...</td>\n",
              "    </tr>\n",
              "    <tr>\n",
              "      <th>22</th>\n",
              "      <td>632810315227467776</td>\n",
              "      <td>@microsoft</td>\n",
              "      <td>negative</td>\n",
              "      <td>@MisterMetokur @Microsoft @ATT @NSAGov That's ...</td>\n",
              "    </tr>\n",
              "    <tr>\n",
              "      <th>...</th>\n",
              "      <td>...</td>\n",
              "      <td>...</td>\n",
              "      <td>...</td>\n",
              "      <td>...</td>\n",
              "    </tr>\n",
              "    <tr>\n",
              "      <th>20405</th>\n",
              "      <td>520384978820296705</td>\n",
              "      <td>yougov</td>\n",
              "      <td>negative</td>\n",
              "      <td>@LouiseBaldock great work; you may or may not ...</td>\n",
              "    </tr>\n",
              "    <tr>\n",
              "      <th>20407</th>\n",
              "      <td>519600072971927555</td>\n",
              "      <td>yougov</td>\n",
              "      <td>neutral</td>\n",
              "      <td>YouGov tonight  shows 2% Labour lead. So headl...</td>\n",
              "    </tr>\n",
              "    <tr>\n",
              "      <th>20412</th>\n",
              "      <td>519201436102848512</td>\n",
              "      <td>yougov</td>\n",
              "      <td>neutral</td>\n",
              "      <td>IF tonight's YouGov shows another Tory lead th...</td>\n",
              "    </tr>\n",
              "    <tr>\n",
              "      <th>20419</th>\n",
              "      <td>520337071345795073</td>\n",
              "      <td>yougov</td>\n",
              "      <td>neutral</td>\n",
              "      <td>Tonight's YouGov: Lab 35, Con 30, UKIP 15, Lib...</td>\n",
              "    </tr>\n",
              "    <tr>\n",
              "      <th>20437</th>\n",
              "      <td>522912399322394624</td>\n",
              "      <td>younique</td>\n",
              "      <td>positive</td>\n",
              "      <td>Get the best mascara in the industry here! Im ...</td>\n",
              "    </tr>\n",
              "  </tbody>\n",
              "</table>\n",
              "<p>1559 rows × 4 columns</p>\n",
              "</div>"
            ],
            "text/plain": [
              "                       id  ...                                               text\n",
              "4      629226490152914944  ...  Microsoft, I may not prefer your gaming branch...\n",
              "8      629797991826722816  ...  After attempting a reinstall, it still bricks,...\n",
              "16     631543121407442946  ...  @Microsoft support for 365 has been terrible. ...\n",
              "20     632536348419690496  ...  @eyesonfoxorg @Microsoft I'm still using Vista...\n",
              "22     632810315227467776  ...  @MisterMetokur @Microsoft @ATT @NSAGov That's ...\n",
              "...                   ...  ...                                                ...\n",
              "20405  520384978820296705  ...  @LouiseBaldock great work; you may or may not ...\n",
              "20407  519600072971927555  ...  YouGov tonight  shows 2% Labour lead. So headl...\n",
              "20412  519201436102848512  ...  IF tonight's YouGov shows another Tory lead th...\n",
              "20419  520337071345795073  ...  Tonight's YouGov: Lab 35, Con 30, UKIP 15, Lib...\n",
              "20437  522912399322394624  ...  Get the best mascara in the industry here! Im ...\n",
              "\n",
              "[1559 rows x 4 columns]"
            ]
          },
          "metadata": {
            "tags": []
          },
          "execution_count": 24
        }
      ]
    },
    {
      "cell_type": "code",
      "metadata": {
        "id": "XWrBCXtSH4P-",
        "colab_type": "code",
        "colab": {}
      },
      "source": [
        ""
      ],
      "execution_count": 0,
      "outputs": []
    },
    {
      "cell_type": "code",
      "metadata": {
        "id": "nwFx7A43Aju4",
        "colab_type": "code",
        "colab": {
          "base_uri": "https://localhost:8080/",
          "height": 1000
        },
        "outputId": "52f802b7-b99a-4cab-9f3e-ce276e56574e"
      },
      "source": [
        "positive = task_b_train_df[task_b_train_df['sentiment'] == 'positive']['topic'].value_counts(sort=False).to_frame(name='positive')\n",
        "negative = task_b_train_df[task_b_train_df['sentiment'] == 'negative']['topic'].value_counts(sort=False).to_frame(name='negative')\n",
        "neutral = task_b_train_df[task_b_train_df['sentiment'] == 'neutral']['topic'].value_counts(sort=False).to_frame(name='neutral')\n",
        "# negative = task_b_train_df['topic'][task_b_train_df['sentiment'] == 'negative'].value_counts(sort=False)\n",
        "# neutral = task_b_train_df['topic'][task_b_train_df['sentiment'] == 'neutral'].value_counts(sort=False)\n",
        "joined = positive.join(negative).join(neutral)\n",
        "\n",
        "joined = joined[(joined['positive'] > 0) & (joined['negative']>0)]\n",
        "with pd.option_context('display.max_rows', None, 'display.max_columns', None):  # more options can be specified also\n",
        "    print(joined)\n",
        "\n",
        "plt.bar(range(joined.shape[0]), joined['positive'], label='positive', color='blue')\n",
        "plt.bar(range(joined.shape[0]), joined['negative'], label='negative', color='red', bottom=joined['positive'])"
      ],
      "execution_count": 25,
      "outputs": [
        {
          "output_type": "stream",
          "text": [
            "                       positive  negative  neutral\n",
            "careless world                6       1.0      3.0\n",
            "jay-z                        59      14.0      NaN\n",
            "kobe bryant                  13       4.0      3.0\n",
            "justin                       69       9.0      NaN\n",
            "bbc                          36      16.0      NaN\n",
            "beyonce                      84       2.0      NaN\n",
            "bentley                      65       3.0      NaN\n",
            "icc                           5       1.0     13.0\n",
            "paul mccartney              115       1.0      NaN\n",
            "randy orton                  36       7.0      NaN\n",
            "iran                         15      61.0      NaN\n",
            "ant-man                     221       8.0      NaN\n",
            "pride parade                 75       2.0      NaN\n",
            "apple watch                  53       8.0      NaN\n",
            "bernie sanders               76       9.0      NaN\n",
            "ancelotti                    10       2.0      8.0\n",
            "scotus                       18      31.0      NaN\n",
            "sam smith                   149      17.0      NaN\n",
            "liam                         11       2.0      7.0\n",
            "bob marley                   89       3.0      NaN\n",
            "school                        3      10.0      7.0\n",
            "madonna                      77       2.0      NaN\n",
            "ac/dc                        89       2.0      NaN\n",
            "bolton                        3       1.0     13.0\n",
            "carling cup                   3       1.0      5.0\n",
            "iphone                       65       5.0      NaN\n",
            "kendrick lamar               89      16.0      NaN\n",
            "labor day                    61       7.0      NaN\n",
            "jan hooks                     3       2.0      9.0\n",
            "miss usa                     41       6.0      NaN\n",
            "ruto                          3       3.0     13.0\n",
            "wwat                         13       1.0      5.0\n",
            "kurt cobain                  61       7.0      NaN\n",
            "swachh bharat                 3       2.0     15.0\n",
            "david cameron                25      38.0      NaN\n",
            "russell wilson                3       4.0     10.0\n",
            "nabeel rajab                  1       3.0      2.0\n",
            "ducks                         8       1.0     11.0\n",
            "serena                       38       1.0      NaN\n",
            "oracle                       46       8.0      NaN\n",
            "brit award                    9       1.0      NaN\n",
            "monsanto                      7      54.0      NaN\n",
            "angela merkel                23      23.0      NaN\n",
            "ihop                         81       3.0      NaN\n",
            "paul dunne                  142      10.0      NaN\n",
            "federer                      75       1.0      NaN\n",
            "arian foster                  8       3.0      6.0\n",
            "boehner                       1       7.0     10.0\n",
            "eric church                  90       3.0      NaN\n",
            "prince george               125       2.0      NaN\n",
            "ric flair                    61       1.0      NaN\n",
            "american horror story         8       5.0      5.0\n",
            "ventura                       8       2.0      8.0\n",
            "a$ap rocky                    6       1.0      3.0\n",
            "adidas                        1       1.0      8.0\n",
            "conor mcgregor               47       2.0      NaN\n",
            "george harrison              48       1.0      NaN\n",
            "brian kelly                   6       3.0      8.0\n",
            "dustin johnson               91      31.0      NaN\n",
            "ps4                         105      10.0      NaN\n",
            "christians                   56      50.0      NaN\n",
            "xbox                         55       7.0      NaN\n",
            "tom cruise                   61      13.0      NaN\n",
            "rbi                           4       1.0     14.0\n",
            "metlife                      69       5.0      NaN\n",
            "hillary                      22      48.0      NaN\n",
            "stoops                        3       5.0     12.0\n",
            "yougov                        5       3.0     11.0\n",
            "netflix                      88       6.0      7.0\n",
            "eid                         123       4.0      NaN\n",
            "abc                           4       2.0     14.0\n",
            "galaxy note                  71       6.0      NaN\n",
            "delhi police                  2       2.0     11.0\n",
            "kris bryant                  93       8.0      NaN\n",
            "messi                        74       3.0      NaN\n",
            "democrats                     1       4.0      9.0\n",
            "floyd mayweather             37      27.0      NaN\n",
            "carling cup final             3       1.0      6.0\n",
            "jeb bush                      4      55.0      NaN\n",
            "fabian delph                  4       3.0      1.0\n",
            "rolling stone                39       8.0      NaN\n",
            "islam                        68      69.0      NaN\n",
            "national hot dog day        148       3.0      NaN\n",
            "rahul gandhi                 28      46.0      NaN\n",
            "rick perry                   23      41.0      NaN\n",
            "gilmore girls                 7       4.0      7.0\n",
            "nokia                        59       9.0      NaN\n",
            "cowboys                       6       3.0      9.0\n",
            "batman                       64       5.0      NaN\n",
            "chelsea                      59      10.0      5.0\n",
            "donny                         6       3.0      6.0\n",
            "twilight                    114      28.0      NaN\n",
            "shawn                       155       5.0      NaN\n",
            "hannibal                     82       4.0      NaN\n",
            "white house                   2       1.0     17.0\n",
            "selena                        8       1.0     11.0\n",
            "vettel                        3       2.0     14.0\n",
            "juventus                     35      11.0      NaN\n",
            "jimmy fallon                  8       1.0     11.0\n",
            "chris maguire                 2       1.0      2.0\n",
            "john cena                   121      24.0      NaN\n",
            "michael jackson              75       1.0      NaN\n",
            "harry potter                 80       2.0      NaN\n",
            "kyle                          9       4.0      6.0\n",
            "wednesday adams               7       3.0      9.0\n",
            "vampire diaries              15       1.0      4.0\n",
            "chris evans                  94      27.0      NaN\n",
            "boise state                   4       1.0     11.0\n",
            "disneyland                   92       2.0      NaN\n",
            "amazon                       57      16.0      NaN\n",
            "david beckham                76       3.0      NaN\n",
            "bill maher                    4       6.0      9.0\n",
            "curtis painter                5       7.0      5.0\n",
            "foo fighters                228       3.0      NaN\n",
            "rousey                       61      23.0      NaN\n",
            "seth rollins                 74      32.0      NaN\n",
            "bobby jindal                 19      37.0      NaN\n",
            "cfb                           2       1.0     17.0\n",
            "carly fiorina               108      17.0      NaN\n",
            "kim kardashian               34      23.0      NaN\n",
            "vikings                       5       3.0     11.0\n",
            "milan                       142      18.0      NaN\n",
            "denzel                        5       1.0      4.0\n",
            "david wright                 92       7.0      NaN\n",
            "kendrick                    147      32.0      NaN\n",
            "josh hamilton                47       6.0      NaN\n",
            "windows 10                   43      18.0      NaN\n",
            "academy awards                1       2.0      7.0\n",
            "lsu                           4       1.0     14.0\n",
            "ipod                         56       7.0      NaN\n",
            "dana white                   15      25.0      NaN\n",
            "tom brady                    77      33.0      NaN\n",
            "nirvana                     126       3.0      NaN\n",
            "big brother                 135      38.0      NaN\n",
            "seinfeld                     75       2.0      NaN\n",
            "asiata                        1       4.0     14.0\n",
            "pope                         58       5.0      NaN\n",
            "magic mike xxl               89       3.0      NaN\n",
            "dark souls                   73      14.0      NaN\n",
            "dunkin                      156      18.0      NaN\n",
            "planned parenthood           11      46.0      NaN\n",
            "barca                        69       6.0      6.0\n",
            "caitlyn jenner               24      69.0      NaN\n",
            "david price                 114       9.0      NaN\n",
            "lexus                        70       5.0      NaN\n",
            "saudi arabia                 14      57.0      NaN\n",
            "zlatan                       60       4.0      NaN\n",
            "paper towns                 167       8.0      NaN\n",
            "xmas                          8       2.0      8.0\n",
            "kerry                        39      19.0      NaN\n",
            "mikasa                       11       1.0      8.0\n",
            "ed sheeran                  163       5.0      NaN\n",
            "rebecca black                 6       3.0     10.0\n",
            "snoop dogg                   61       6.0      NaN\n",
            "frank ocean                 110      38.0      NaN\n",
            "lax                           5       1.0     14.0\n",
            "george osborne               29      39.0      NaN\n",
            "dean ambrose                 21       4.0      NaN\n",
            "brook lopez                   7       3.0      NaN\n",
            "atletico madrid               4       1.0     13.0\n",
            "cannavaro                     5       2.0      2.0\n",
            "kanye west                   70      71.0      NaN\n",
            "murray                       90      24.0      NaN\n",
            "gandhi                        5       1.0     14.0\n",
            "aaron rodgers                13       3.0     16.0\n",
            "erdogan                       3      58.0      NaN\n",
            "ukip                         28      31.0      NaN\n",
            "david taylor                  1       1.0      8.0\n",
            "sarah palin                   7      53.0      NaN\n",
            "monster hunter                9       1.0      7.0\n",
            "georgia dome                  7       1.0     12.0\n",
            "ashton                       12       2.0      5.0\n",
            "ahs                          10       3.0      6.0\n",
            "@microsoft                   34      46.0      NaN\n",
            "green day                     8       1.0      9.0\n",
            "ios                          47       5.0      NaN\n",
            "katy perry                   57       8.0      6.0\n",
            "the vamps                    55       5.0      NaN\n",
            "colts                        10       1.0      7.0\n",
            "niall                       130      14.0     11.0\n",
            "yoga                         80       1.0      NaN\n",
            "independence day              6       1.0     12.0\n",
            "ipad                         63       4.0      NaN\n",
            "trump                        26      42.0      NaN\n",
            "charlie hebdo                12      43.0      NaN\n",
            "leeds united                  8       1.0     10.0\n",
            "game of thrones              83       3.0      NaN\n",
            "venice beach                 88       3.0      NaN\n",
            "jurassic world               84       5.0      NaN\n",
            "ucla                          2       1.0     16.0\n",
            "t-mobile                     44      21.0      NaN\n",
            "nike                         55       9.0      NaN\n",
            "tgif                         84       2.0      NaN\n",
            "scott walker                 18      54.0      NaN\n",
            "kershaw                       4       2.0     13.0\n",
            "charles darwin                1       1.0      5.0\n",
            "ryan braun                   51       9.0      NaN\n",
            "minecraft                    82       1.0      NaN\n",
            "sting                        77       2.0      NaN\n",
            "tsipras                      25      21.0      NaN\n",
            "tiger woods                  46      19.0      NaN\n",
            "naruto                      152      10.0      NaN\n",
            "galatasaray                   3       8.0      7.0\n",
            "nintendo                     54       8.0      NaN\n",
            "taylor swift                 84       1.0      NaN\n",
            "sony                         49      14.0      NaN\n",
            "alonso                        1       7.0     11.0\n",
            "u2                           85       8.0      NaN\n",
            "jason aldean                138       2.0      NaN\n",
            "david bowie                  93       3.0      NaN\n",
            "gay                          50      45.0      NaN\n",
            "amazon prime day             43      43.0      NaN\n",
            "justin bieber               117      27.0      NaN\n",
            "lady gaga                    71       5.0      NaN\n",
            "arsenal                      45      15.0      8.0\n",
            "cate blanchett               41       2.0      NaN\n",
            "frank gifford               151       5.0      NaN\n",
            "kane                         62      31.0      NaN\n",
            "yakub                         5     105.0      NaN\n",
            "bulls                         9       1.0     10.0\n",
            "janet jackson                95       3.0      NaN\n",
            "iron maiden                 133       3.0      NaN\n",
            "boko haram                    2     149.0      NaN\n",
            "jurassic park                86       2.0      NaN\n",
            "donald trump                 16      44.0      NaN\n",
            "ghoncheh ghavami              3       1.0      2.0\n",
            "james franklin                2      10.0      7.0\n",
            "kpop                         67       9.0      NaN\n",
            "tegan                         9       2.0      8.0\n",
            "james rodriguez              13       3.0      4.0\n",
            "michelle obama               47      17.0      NaN\n",
            "briana                       48      44.0      NaN\n",
            "joe biden                    40      18.0      NaN\n",
            "red sox                      73      22.0      NaN\n",
            "moto g                       58       4.0      NaN\n",
            "apple                        57      11.0      NaN\n",
            "muslims                      30      96.0      NaN\n",
            "narendra modi                 4       1.0     15.0\n",
            "star wars                    88       2.0      NaN\n",
            "red bull                      5       3.0     10.0\n",
            "israel                       50      63.0      NaN\n",
            "act                           1       2.0      5.0\n",
            "gucci                        68      18.0      NaN\n",
            "zayn                        107      10.0      NaN\n",
            "europa league                 3       2.0     15.0\n",
            "thor                        138      18.0      NaN\n",
            "valentine                    55       4.0      NaN\n",
            "brock lesnar                108      14.0      NaN\n",
            "ira                          10     111.0      NaN\n",
            "aaron samuels                 2       4.0     11.0\n",
            "google+                      44      19.0      NaN\n",
            "bad blood                    49      17.0      NaN\n",
            "spx                           4       2.0     12.0\n",
            "tony blair                   10      65.0      NaN\n",
            "packers                       6       2.0     10.0\n",
            "chuck norris                 32       6.0      NaN\n",
            "kesha                         6       2.0     11.0\n",
            "ice cube                    134      14.0      NaN\n",
            "green bay                     2       2.0     15.0\n",
            "demi lovato                  11       1.0      8.0\n",
            "chris brown                  74       6.0      NaN\n",
            "john kasich                  48      24.0      NaN\n",
            "tory                         14      46.0      NaN\n",
            "zac brown band              110       3.0      NaN\n",
            "redskins                      4       2.0     14.0\n",
            "carlo ancelotti               9       3.0      7.0\n",
            "the big bang theory           9       1.0     10.0\n",
            "disney                       12       1.0      7.0\n",
            "afghans                       1       2.0      7.0\n",
            "valentine 's day             54       7.0      NaN\n",
            "amazon prime                 70      18.0      NaN\n",
            "atleti                        3       3.0     10.0\n",
            "amy schumer                  47      13.0      NaN\n",
            "kris jenner                   4       2.0     11.0\n",
            "super eagles                 38       2.0      NaN\n",
            "nicki                        99      32.0      NaN\n",
            "google                       35      15.0     11.0\n",
            "hulk hogan                   44      50.0      NaN\n",
            "white sox                    38      15.0      NaN\n",
            "cupid                         1       2.0      7.0\n",
            "bellusci                      4       1.0      5.0\n",
            "simmons                      13       1.0      5.0\n",
            "obama                        21      40.0      NaN\n",
            "ted 2                        81       7.0      NaN\n",
            "mariah carey                 77       3.0      NaN\n",
            "christian ponder              7       7.0      2.0\n",
            "watchman                     55       5.0      NaN\n",
            "modi                          6       4.0      9.0\n",
            "jennifer lawrence             7       1.0     11.0\n",
            "harper                       18      41.0      NaN\n",
            "brian cushing                 3       6.0     11.0\n",
            "lee soo man                  12       2.0      2.0\n",
            "friday night lights          12       1.0      7.0\n",
            "sharknado                   132      39.0      NaN\n",
            "ibm                          64       5.0      NaN\n",
            "fleetwood mac                89       3.0      NaN\n",
            "tvd                           9       2.0      5.0\n",
            "jessica                       9       2.0      9.0\n",
            "digi                         72       2.0      NaN\n",
            "real madrid                  19      16.0      NaN\n",
            "curtis                       86      13.0      NaN\n",
            "grateful dead                86       2.0      NaN\n",
            "rodgers                       3       5.0     10.0\n"
          ],
          "name": "stdout"
        },
        {
          "output_type": "execute_result",
          "data": {
            "text/plain": [
              "<BarContainer object of 303 artists>"
            ]
          },
          "metadata": {
            "tags": []
          },
          "execution_count": 25
        },
        {
          "output_type": "display_data",
          "data": {
            "image/png": "[encoded data removed]",
            "text/plain": [
              "<Figure size 432x288 with 1 Axes>"
            ]
          },
          "metadata": {
            "tags": []
          }
        }
      ]
    },
    {
      "cell_type": "code",
      "metadata": {
        "id": "Nm_M0CXUAsAn",
        "colab_type": "code",
        "colab": {}
      },
      "source": [
        "# save dataset as csv file\n",
        "task_b_train_df.to_csv('coba_train_b', sep='\\t')"
      ],
      "execution_count": 0,
      "outputs": []
    },
    {
      "cell_type": "code",
      "metadata": {
        "id": "gFgYcYx08ULD",
        "colab_type": "code",
        "colab": {}
      },
      "source": [
        ""
      ],
      "execution_count": 0,
      "outputs": []
    }
  ]
}