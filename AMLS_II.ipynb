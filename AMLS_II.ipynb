{
  "nbformat": 4,
  "nbformat_minor": 0,
  "metadata": {
    "colab": {
      "name": "AMLS II",
      "provenance": [],
      "collapsed_sections": [],
      "authorship_tag": "ABX9TyMuQi2PIA7IoR3mAwK5HCng",
      "include_colab_link": true
    },
    "kernelspec": {
      "name": "python3",
      "display_name": "Python 3"
    }
  },
  "cells": [
    {
      "cell_type": "markdown",
      "metadata": {
        "id": "view-in-github",
        "colab_type": "text"
      },
      "source": [
        "<a href=\"https://colab.research.google.com/github/donyeun/AMLSII_19-20_SN18154195/blob/master/AMLS_II.ipynb\" target=\"_parent\"><img src=\"https://colab.research.google.com/assets/colab-badge.svg\" alt=\"Open In Colab\"/></a>"
      ]
    },
    {
      "cell_type": "markdown",
      "metadata": {
        "id": "Skg_yPYJE3V_",
        "colab_type": "text"
      },
      "source": [
        "## Mount Google Drive"
      ]
    },
    {
      "cell_type": "code",
      "metadata": {
        "id": "oTTXAniWmfMi",
        "colab_type": "code",
        "outputId": "21f579db-a751-4d36-b76c-d5dc0be025d2",
        "colab": {
          "base_uri": "https://localhost:8080/",
          "height": 54
        }
      },
      "source": [
        "from google.colab import drive\n",
        "drive.mount('/content/drive')"
      ],
      "execution_count": 1,
      "outputs": [
        {
          "output_type": "stream",
          "text": [
            "Drive already mounted at /content/drive; to attempt to forcibly remount, call drive.mount(\"/content/drive\", force_remount=True).\n"
          ],
          "name": "stdout"
        }
      ]
    },
    {
      "cell_type": "markdown",
      "metadata": {
        "id": "pe4VG6osyCiF",
        "colab_type": "text"
      },
      "source": [
        "# Libraries and Variables"
      ]
    },
    {
      "cell_type": "code",
      "metadata": {
        "id": "_5LCvzjssSJf",
        "colab_type": "code",
        "colab": {}
      },
      "source": [
        "import pandas as pd\n",
        "import os\n",
        "import torch\n",
        "from tqdm import tqdm\n",
        "from wordcloud import WordCloud\n",
        "import matplotlib.pyplot as plt\n",
        "import nltk\n",
        "import csv"
      ],
      "execution_count": 0,
      "outputs": []
    },
    {
      "cell_type": "code",
      "metadata": {
        "id": "_HZ83t_QZq1f",
        "colab_type": "code",
        "colab": {}
      },
      "source": [
        "cfg = {\n",
        "       'paths': {\n",
        "           'train_folder_task_a': '/content/drive/My Drive/public/AMLSII_19-20_SN18154195/dataset/training/2017_English_final/GOLD/Subtask_A',\n",
        "           'train_additional_dataset_filenames': ['livejournal-2014test-A.tsv', 'sms-2013test-A.tsv'],\n",
        "           'test_file_task_a': '/content/drive/My Drive/public/AMLSII_19-20_SN18154195/dataset/testing/SemEval2017-task4-test/SemEval2017-task4-test.subtask-A.english.txt',\n",
        "\n",
        "           'train_folder_task_b': '/content/drive/My Drive/public/AMLSII_19-20_SN18154195/dataset/training/2017_English_final/GOLD/Subtasks_BD',\n",
        "           'test_file_task_b': '/content/drive/My Drive/public/AMLSII_19-20_SN18154195/dataset/testing/SemEval2017-task4-test/SemEval2017-task4-test.subtask-BD.english.txt',\n",
        "       },\n",
        "       'task_a': {\n",
        "           'use_additional_dataset': True,\n",
        "       },\n",
        "       'preprocessing': {\n",
        "           'tokenization': {\n",
        "               'remove_twitter_handle': True,\n",
        "               'preserve_case': False\n",
        "           }\n",
        "       },\n",
        "}"
      ],
      "execution_count": 0,
      "outputs": []
    },
    {
      "cell_type": "markdown",
      "metadata": {
        "id": "RuEK2LfkrPYV",
        "colab_type": "text"
      },
      "source": [
        "# Load Dataset\n"
      ]
    },
    {
      "cell_type": "markdown",
      "metadata": {
        "id": "6EVaQRfoFLyT",
        "colab_type": "text"
      },
      "source": [
        "## Preprocess Additional Dataset\n",
        "In task A, there are some additional datasets that were given from the competition apart from the standard twitter corpus, which is sms and livejournal corpus. We can use both of these additional datasets, after we preprocess the formatting so that it matches the rest of the twitter datasets."
      ]
    },
    {
      "cell_type": "code",
      "metadata": {
        "id": "RUAJontBFp21",
        "colab_type": "code",
        "outputId": "aeacb372-6e38-4f29-e14f-952235c1a736",
        "colab": {
          "base_uri": "https://localhost:8080/",
          "height": 493
        }
      },
      "source": [
        "task_a_train_additional_dfs = {}\n",
        "\n",
        "for filename in cfg['paths']['train_additional_dataset_filenames']:\n",
        "  # read additional corpora\n",
        "  task_a_train_additional_dfs[filename] = pd.read_csv(os.path.join(cfg['paths']['train_folder_task_a'], filename), sep='\\t', header=None)\n",
        "  \n",
        "  if filename == 'livejournal-2014test-A.tsv':\n",
        "    # remove the 0-th column from livejournal corpora, as it is unnecessary\n",
        "    task_a_train_additional_dfs[filename] = task_a_train_additional_dfs[filename].drop(columns=[0])\n",
        "  elif filename == 'sms-2013test-A.tsv':\n",
        "    # remove the 1st column from sms corpora, as it is unnecessary\n",
        "    task_a_train_additional_dfs[filename] = task_a_train_additional_dfs[filename].drop(columns=[1])\n",
        "  \n",
        "  # reset the column index to make it incremental\n",
        "  task_a_train_additional_dfs[filename].columns = range(task_a_train_additional_dfs[filename].shape[1])\n",
        "  \n",
        "  print(task_a_train_additional_dfs[filename])"
      ],
      "execution_count": 4,
      "outputs": [
        {
          "output_type": "stream",
          "text": [
            "             0         1                                                  2\n",
            "0     LJ111111  negative  I know I missed something here , but what does...\n",
            "1     LJ111113   neutral  What do you think of Beside Ourselves as a tit...\n",
            "2     LJ111114  positive                    :D I intend to be one someday .\n",
            "3     LJ111117  negative  LLLINKKK LLLINKKK IIIMAGEEELLLINKKK The choice...\n",
            "4     LJ111119   neutral                     LLLINKKK Some more mountains .\n",
            "...        ...       ...                                                ...\n",
            "1137  LJ113616  positive                     Maybe it was - his - fantasy ?\n",
            "1138  LJ113618  negative  It was ok , but they always just seem so nervo...\n",
            "1139  LJ113621  positive  It is streamable from YepRoc -- matter of fact...\n",
            "1140  LJ113623  positive  comment telling me who you are , or how you fo...\n",
            "1141  LJ113625   neutral  im on myspace ... ill try and find you and add...\n",
            "\n",
            "[1142 rows x 3 columns]\n",
            "          0         1                                                  2\n",
            "0     10936   neutral  Yes i am going from school have class till 5 c...\n",
            "1     11051   neutral  can u tape the match for me?  i\\u2019ll rush o...\n",
            "2     10966   neutral  Too many people at my house my relatives are h...\n",
            "3     11211  negative  Yea I have spoken to him liao. Indeed he is up...\n",
            "4     11350  positive  Haha... I want to see. E macdonalds here cheap...\n",
            "...     ...       ...                                                ...\n",
            "2089  10038  negative  Oki... Think i\\u2019m confused... I only know ...\n",
            "2090  11799   neutral  Yup... Ok i go home look at the timings then i...\n",
            "2091  11945   neutral            Here got lots of hair dresser fr china.\n",
            "2092  10154   neutral  no alh  we are not discussing fromt he viewpoi...\n",
            "2093  11428   neutral  Not dat i dun wan sign up but i wan only for a...\n",
            "\n",
            "[2094 rows x 3 columns]\n"
          ],
          "name": "stdout"
        }
      ]
    },
    {
      "cell_type": "markdown",
      "metadata": {
        "id": "FH283206E6BF",
        "colab_type": "text"
      },
      "source": [
        "## Make Datasets As Pandas' DataFrames\n",
        "\n"
      ]
    },
    {
      "cell_type": "code",
      "metadata": {
        "id": "LgC4YYhHrtdb",
        "colab_type": "code",
        "colab": {}
      },
      "source": [
        "def append_txt_files_as_one_dataframe(folderpath, filename_keywords_list, additional_dataset_dfs=None):\n",
        "  dataset_per_file_dfs = {}\n",
        "  dataset_df = pd.DataFrame()\n",
        "  filenames = os.listdir(folderpath)\n",
        "  \n",
        "  # open txt files (in tsv formatting)\n",
        "  for filename in filenames:\n",
        "    # if the filename contains a keyword in the filename_keywords_list, then open the txt file\n",
        "    # this is to avoid opening unnecessary txt such as readme.txt file.\n",
        "    if any(keyword in filename for keyword in filename_keywords_list):\n",
        "      dataset_per_file_dfs[filename] = pd.read_csv(os.path.join(folderpath, filename), sep=\"\\t\", header=None, quoting=csv.QUOTE_NONE)\n",
        "      print(dataset_per_file_dfs[filename].shape, filename)\n",
        "\n",
        "  # combine the original dataset with additional dataset (if any)\n",
        "  if additional_dataset_dfs is not None:\n",
        "    for key, value in additional_dataset_dfs.items():\n",
        "      dataset_per_file_dfs[key] = value\n",
        "\n",
        "  # append all the files as one dataframe\n",
        "  for key, value in dataset_per_file_dfs.items():\n",
        "    # print(key, '\\t', i, '\\t', dataset_per_file_df[key].shape[0])\n",
        "    dataset_df = dataset_df.append(dataset_per_file_dfs[key], ignore_index=True)\n",
        "  return dataset_df"
      ],
      "execution_count": 0,
      "outputs": []
    },
    {
      "cell_type": "code",
      "metadata": {
        "id": "qXBTf96GQeBI",
        "colab_type": "code",
        "colab": {}
      },
      "source": [
        "def clean_dataframe_format(df, new_column_name_list, drop_column_list=[]):\n",
        "  df = df.drop(columns=drop_column_list)\n",
        "  df.columns = new_column_name_list\n",
        "  return df"
      ],
      "execution_count": 0,
      "outputs": []
    },
    {
      "cell_type": "code",
      "metadata": {
        "id": "znGSEFNntmVa",
        "colab_type": "code",
        "outputId": "7cc36e68-6b70-4075-e1ae-120dfa8a85cf",
        "colab": {
          "base_uri": "https://localhost:8080/",
          "height": 606
        }
      },
      "source": [
        "if cfg['task_a']['use_additional_dataset']:\n",
        "  task_a_train_df = append_txt_files_as_one_dataframe(cfg['paths']['train_folder_task_a'], ['twitter'], task_a_train_additional_dfs)\n",
        "else:\n",
        "  task_a_train_df = append_txt_files_as_one_dataframe(cfg['paths']['train_folder_task_a'], ['twitter'])\n",
        "task_a_train_df = clean_dataframe_format(task_a_train_df, ['id', 'sentiment', 'text'], drop_column_list=[3])\n",
        "task_a_train_df"
      ],
      "execution_count": 9,
      "outputs": [
        {
          "output_type": "stream",
          "text": [
            "(2000, 3) twitter-2016devtest-A.txt\n",
            "(1999, 3) twitter-2016dev-A.txt\n",
            "(6000, 3) twitter-2016train-A.txt\n",
            "(1654, 3) twitter-2013dev-A.txt\n",
            "(3547, 3) twitter-2013test-A.txt\n",
            "(9684, 3) twitter-2013train-A.txt\n",
            "(1853, 3) twitter-2014test-A.txt\n",
            "(2390, 3) twitter-2015test-A.txt\n",
            "(489, 3) twitter-2015train-A.txt\n",
            "(86, 3) twitter-2014sarcasm-A.txt\n",
            "(20633, 4) twitter-2016test-A.txt\n"
          ],
          "name": "stdout"
        },
        {
          "output_type": "execute_result",
          "data": {
            "text/html": [
              "<div>\n",
              "<style scoped>\n",
              "    .dataframe tbody tr th:only-of-type {\n",
              "        vertical-align: middle;\n",
              "    }\n",
              "\n",
              "    .dataframe tbody tr th {\n",
              "        vertical-align: top;\n",
              "    }\n",
              "\n",
              "    .dataframe thead th {\n",
              "        text-align: right;\n",
              "    }\n",
              "</style>\n",
              "<table border=\"1\" class=\"dataframe\">\n",
              "  <thead>\n",
              "    <tr style=\"text-align: right;\">\n",
              "      <th></th>\n",
              "      <th>id</th>\n",
              "      <th>sentiment</th>\n",
              "      <th>text</th>\n",
              "    </tr>\n",
              "  </thead>\n",
              "  <tbody>\n",
              "    <tr>\n",
              "      <th>0</th>\n",
              "      <td>637641175948763136</td>\n",
              "      <td>neutral</td>\n",
              "      <td>@SeeMonterey LOST - Sony cell phone with holid...</td>\n",
              "    </tr>\n",
              "    <tr>\n",
              "      <th>1</th>\n",
              "      <td>637651487762554881</td>\n",
              "      <td>neutral</td>\n",
              "      <td>@PersonaSoda well yeah, that's third parties. ...</td>\n",
              "    </tr>\n",
              "    <tr>\n",
              "      <th>2</th>\n",
              "      <td>637666734300905472</td>\n",
              "      <td>negative</td>\n",
              "      <td>Sony rewards app is like a lot of 19 y.o femal...</td>\n",
              "    </tr>\n",
              "    <tr>\n",
              "      <th>3</th>\n",
              "      <td>637668142110654468</td>\n",
              "      <td>neutral</td>\n",
              "      <td>@fakethom Have android tab and don't use phone...</td>\n",
              "    </tr>\n",
              "    <tr>\n",
              "      <th>4</th>\n",
              "      <td>637708370129125377</td>\n",
              "      <td>positive</td>\n",
              "      <td>Finally I get my ps4 back I sent it to Sony ca...</td>\n",
              "    </tr>\n",
              "    <tr>\n",
              "      <th>...</th>\n",
              "      <td>...</td>\n",
              "      <td>...</td>\n",
              "      <td>...</td>\n",
              "    </tr>\n",
              "    <tr>\n",
              "      <th>53566</th>\n",
              "      <td>10038</td>\n",
              "      <td>negative</td>\n",
              "      <td>Oki... Think i\\u2019m confused... I only know ...</td>\n",
              "    </tr>\n",
              "    <tr>\n",
              "      <th>53567</th>\n",
              "      <td>11799</td>\n",
              "      <td>neutral</td>\n",
              "      <td>Yup... Ok i go home look at the timings then i...</td>\n",
              "    </tr>\n",
              "    <tr>\n",
              "      <th>53568</th>\n",
              "      <td>11945</td>\n",
              "      <td>neutral</td>\n",
              "      <td>Here got lots of hair dresser fr china.</td>\n",
              "    </tr>\n",
              "    <tr>\n",
              "      <th>53569</th>\n",
              "      <td>10154</td>\n",
              "      <td>neutral</td>\n",
              "      <td>no alh  we are not discussing fromt he viewpoi...</td>\n",
              "    </tr>\n",
              "    <tr>\n",
              "      <th>53570</th>\n",
              "      <td>11428</td>\n",
              "      <td>neutral</td>\n",
              "      <td>Not dat i dun wan sign up but i wan only for a...</td>\n",
              "    </tr>\n",
              "  </tbody>\n",
              "</table>\n",
              "<p>53571 rows × 3 columns</p>\n",
              "</div>"
            ],
            "text/plain": [
              "                       id  ...                                               text\n",
              "0      637641175948763136  ...  @SeeMonterey LOST - Sony cell phone with holid...\n",
              "1      637651487762554881  ...  @PersonaSoda well yeah, that's third parties. ...\n",
              "2      637666734300905472  ...  Sony rewards app is like a lot of 19 y.o femal...\n",
              "3      637668142110654468  ...  @fakethom Have android tab and don't use phone...\n",
              "4      637708370129125377  ...  Finally I get my ps4 back I sent it to Sony ca...\n",
              "...                   ...  ...                                                ...\n",
              "53566               10038  ...  Oki... Think i\\u2019m confused... I only know ...\n",
              "53567               11799  ...  Yup... Ok i go home look at the timings then i...\n",
              "53568               11945  ...            Here got lots of hair dresser fr china.\n",
              "53569               10154  ...  no alh  we are not discussing fromt he viewpoi...\n",
              "53570               11428  ...  Not dat i dun wan sign up but i wan only for a...\n",
              "\n",
              "[53571 rows x 3 columns]"
            ]
          },
          "metadata": {
            "tags": []
          },
          "execution_count": 9
        }
      ]
    },
    {
      "cell_type": "code",
      "metadata": {
        "id": "R_Aem1fwuZB8",
        "colab_type": "code",
        "outputId": "8a73ba71-953a-4c42-8109-6c3ff9e4ff75",
        "colab": {
          "base_uri": "https://localhost:8080/",
          "height": 521
        }
      },
      "source": [
        "task_b_train_df = append_txt_files_as_one_dataframe(cfg['paths']['train_folder_task_b'], ['twitter'])\n",
        "task_b_train_df = clean_dataframe_format(task_b_train_df, ['id', 'topic','sentiment', 'text'], drop_column_list=[4])\n",
        "task_b_train_df"
      ],
      "execution_count": 12,
      "outputs": [
        {
          "output_type": "stream",
          "text": [
            "(4346, 4) twitter-2016train-BD.txt\n",
            "(1325, 4) twitter-2016dev-BD.txt\n",
            "(1417, 4) twitter-2016devtest-BD.txt\n",
            "(489, 4) twitter-2015train-BD.txt\n",
            "(10552, 5) twitter-2016test-BD.txt\n",
            "(2383, 5) twitter-2015testBD.txt\n"
          ],
          "name": "stdout"
        },
        {
          "output_type": "execute_result",
          "data": {
            "text/html": [
              "<div>\n",
              "<style scoped>\n",
              "    .dataframe tbody tr th:only-of-type {\n",
              "        vertical-align: middle;\n",
              "    }\n",
              "\n",
              "    .dataframe tbody tr th {\n",
              "        vertical-align: top;\n",
              "    }\n",
              "\n",
              "    .dataframe thead th {\n",
              "        text-align: right;\n",
              "    }\n",
              "</style>\n",
              "<table border=\"1\" class=\"dataframe\">\n",
              "  <thead>\n",
              "    <tr style=\"text-align: right;\">\n",
              "      <th></th>\n",
              "      <th>id</th>\n",
              "      <th>topic</th>\n",
              "      <th>sentiment</th>\n",
              "      <th>text</th>\n",
              "    </tr>\n",
              "  </thead>\n",
              "  <tbody>\n",
              "    <tr>\n",
              "      <th>0</th>\n",
              "      <td>628949369883000832</td>\n",
              "      <td>@microsoft</td>\n",
              "      <td>negative</td>\n",
              "      <td>dear @Microsoft the newOoffice for Mac is grea...</td>\n",
              "    </tr>\n",
              "    <tr>\n",
              "      <th>1</th>\n",
              "      <td>628976607420645377</td>\n",
              "      <td>@microsoft</td>\n",
              "      <td>negative</td>\n",
              "      <td>@Microsoft how about you make a system that do...</td>\n",
              "    </tr>\n",
              "    <tr>\n",
              "      <th>2</th>\n",
              "      <td>629023169169518592</td>\n",
              "      <td>@microsoft</td>\n",
              "      <td>negative</td>\n",
              "      <td>I may be ignorant on this issue but... should ...</td>\n",
              "    </tr>\n",
              "    <tr>\n",
              "      <th>3</th>\n",
              "      <td>629179223232479232</td>\n",
              "      <td>@microsoft</td>\n",
              "      <td>negative</td>\n",
              "      <td>Thanks to @microsoft, I just may be switching ...</td>\n",
              "    </tr>\n",
              "    <tr>\n",
              "      <th>4</th>\n",
              "      <td>629226490152914944</td>\n",
              "      <td>@microsoft</td>\n",
              "      <td>positive</td>\n",
              "      <td>Microsoft, I may not prefer your gaming branch...</td>\n",
              "    </tr>\n",
              "    <tr>\n",
              "      <th>...</th>\n",
              "      <td>...</td>\n",
              "      <td>...</td>\n",
              "      <td>...</td>\n",
              "      <td>...</td>\n",
              "    </tr>\n",
              "    <tr>\n",
              "      <th>20507</th>\n",
              "      <td>520957142816530432</td>\n",
              "      <td>younique</td>\n",
              "      <td>positive</td>\n",
              "      <td>Check out the gorgeous products from Younique!...</td>\n",
              "    </tr>\n",
              "    <tr>\n",
              "      <th>20508</th>\n",
              "      <td>522889214036156417</td>\n",
              "      <td>younique</td>\n",
              "      <td>neutral</td>\n",
              "      <td>\"LADIES!  BULK ORDER GOES IN TOMORROW AT 10PM ...</td>\n",
              "    </tr>\n",
              "    <tr>\n",
              "      <th>20509</th>\n",
              "      <td>521416045865992192</td>\n",
              "      <td>younique</td>\n",
              "      <td>positive</td>\n",
              "      <td>\"Here is something fun for you:  On the 14th, ...</td>\n",
              "    </tr>\n",
              "    <tr>\n",
              "      <th>20510</th>\n",
              "      <td>522912399322394624</td>\n",
              "      <td>younique</td>\n",
              "      <td>positive</td>\n",
              "      <td>Get the best mascara in the industry here! Im ...</td>\n",
              "    </tr>\n",
              "    <tr>\n",
              "      <th>20511</th>\n",
              "      <td>520917627460661248</td>\n",
              "      <td>younique</td>\n",
              "      <td>positive</td>\n",
              "      <td>Wakey Wakey! It's SATURDAY SHOPPING Day! Make ...</td>\n",
              "    </tr>\n",
              "  </tbody>\n",
              "</table>\n",
              "<p>20512 rows × 4 columns</p>\n",
              "</div>"
            ],
            "text/plain": [
              "                       id  ...                                               text\n",
              "0      628949369883000832  ...  dear @Microsoft the newOoffice for Mac is grea...\n",
              "1      628976607420645377  ...  @Microsoft how about you make a system that do...\n",
              "2      629023169169518592  ...  I may be ignorant on this issue but... should ...\n",
              "3      629179223232479232  ...  Thanks to @microsoft, I just may be switching ...\n",
              "4      629226490152914944  ...  Microsoft, I may not prefer your gaming branch...\n",
              "...                   ...  ...                                                ...\n",
              "20507  520957142816530432  ...  Check out the gorgeous products from Younique!...\n",
              "20508  522889214036156417  ...  \"LADIES!  BULK ORDER GOES IN TOMORROW AT 10PM ...\n",
              "20509  521416045865992192  ...  \"Here is something fun for you:  On the 14th, ...\n",
              "20510  522912399322394624  ...  Get the best mascara in the industry here! Im ...\n",
              "20511  520917627460661248  ...  Wakey Wakey! It's SATURDAY SHOPPING Day! Make ...\n",
              "\n",
              "[20512 rows x 4 columns]"
            ]
          },
          "metadata": {
            "tags": []
          },
          "execution_count": 12
        }
      ]
    },
    {
      "cell_type": "code",
      "metadata": {
        "id": "B5QJj-YTXg5Z",
        "colab_type": "code",
        "colab": {
          "base_uri": "https://localhost:8080/",
          "height": 419
        },
        "outputId": "ccf2bcc0-286a-41df-fa41-0d16b546e406"
      },
      "source": [
        "# task_b_train_df[\n",
        "#                 (task_b_train_df['sentiment'] != 'negative') &\n",
        "#                 (task_b_train_df['sentiment'] != 'positive') &\n",
        "#                 (task_b_train_df['sentiment'] != 'neutral')\n",
        "#                 ]\n",
        "\n",
        "# task_b_train_df\n",
        "\n",
        "task_b_train_df[task_b_train_df['text'].str.len()< 40]"
      ],
      "execution_count": 30,
      "outputs": [
        {
          "output_type": "execute_result",
          "data": {
            "text/html": [
              "<div>\n",
              "<style scoped>\n",
              "    .dataframe tbody tr th:only-of-type {\n",
              "        vertical-align: middle;\n",
              "    }\n",
              "\n",
              "    .dataframe tbody tr th {\n",
              "        vertical-align: top;\n",
              "    }\n",
              "\n",
              "    .dataframe thead th {\n",
              "        text-align: right;\n",
              "    }\n",
              "</style>\n",
              "<table border=\"1\" class=\"dataframe\">\n",
              "  <thead>\n",
              "    <tr style=\"text-align: right;\">\n",
              "      <th></th>\n",
              "      <th>id</th>\n",
              "      <th>topic</th>\n",
              "      <th>sentiment</th>\n",
              "      <th>text</th>\n",
              "    </tr>\n",
              "  </thead>\n",
              "  <tbody>\n",
              "    <tr>\n",
              "      <th>162</th>\n",
              "      <td>641097610040877056</td>\n",
              "      <td>ac/dc</td>\n",
              "      <td>positive</td>\n",
              "      <td>Someone come see AC/DC with me Thursday</td>\n",
              "    </tr>\n",
              "    <tr>\n",
              "      <th>882</th>\n",
              "      <td>640504136769732608</td>\n",
              "      <td>bentley</td>\n",
              "      <td>positive</td>\n",
              "      <td>Bringing the Bentley out tomorrow.</td>\n",
              "    </tr>\n",
              "    <tr>\n",
              "      <th>887</th>\n",
              "      <td>640776304170782720</td>\n",
              "      <td>bentley</td>\n",
              "      <td>positive</td>\n",
              "      <td>Ready to be with Bentley tomorrow.</td>\n",
              "    </tr>\n",
              "    <tr>\n",
              "      <th>1073</th>\n",
              "      <td>630580275106480129</td>\n",
              "      <td>bob marley</td>\n",
              "      <td>positive</td>\n",
              "      <td>#np Bob Marley - the sun is shining</td>\n",
              "    </tr>\n",
              "    <tr>\n",
              "      <th>1594</th>\n",
              "      <td>622258302664228864</td>\n",
              "      <td>digi</td>\n",
              "      <td>positive</td>\n",
              "      <td>digi is tomorrow and im not going ):::</td>\n",
              "    </tr>\n",
              "    <tr>\n",
              "      <th>...</th>\n",
              "      <td>...</td>\n",
              "      <td>...</td>\n",
              "      <td>...</td>\n",
              "      <td>...</td>\n",
              "    </tr>\n",
              "    <tr>\n",
              "      <th>20014</th>\n",
              "      <td>523081396852903936</td>\n",
              "      <td>school</td>\n",
              "      <td>negative</td>\n",
              "      <td>School tomorrow more like fuck you.</td>\n",
              "    </tr>\n",
              "    <tr>\n",
              "      <th>20015</th>\n",
              "      <td>523042458091790336</td>\n",
              "      <td>school</td>\n",
              "      <td>negative</td>\n",
              "      <td>School on Monday! I don't want!!!! :(</td>\n",
              "    </tr>\n",
              "    <tr>\n",
              "      <th>20016</th>\n",
              "      <td>522976475633700864</td>\n",
              "      <td>school</td>\n",
              "      <td>negative</td>\n",
              "      <td>School just isn't happening tomorrow</td>\n",
              "    </tr>\n",
              "    <tr>\n",
              "      <th>20400</th>\n",
              "      <td>522987022265643008</td>\n",
              "      <td>white house</td>\n",
              "      <td>neutral</td>\n",
              "      <td>Going by the White house tomorrow</td>\n",
              "    </tr>\n",
              "    <tr>\n",
              "      <th>20433</th>\n",
              "      <td>522703793092558848</td>\n",
              "      <td>wwa</td>\n",
              "      <td>neutral</td>\n",
              "      <td>i had a dream abt going to wwa tomorrow</td>\n",
              "    </tr>\n",
              "  </tbody>\n",
              "</table>\n",
              "<p>116 rows × 4 columns</p>\n",
              "</div>"
            ],
            "text/plain": [
              "                       id  ...                                     text\n",
              "162    641097610040877056  ...  Someone come see AC/DC with me Thursday\n",
              "882    640504136769732608  ...       Bringing the Bentley out tomorrow.\n",
              "887    640776304170782720  ...       Ready to be with Bentley tomorrow.\n",
              "1073   630580275106480129  ...      #np Bob Marley - the sun is shining\n",
              "1594   622258302664228864  ...   digi is tomorrow and im not going ):::\n",
              "...                   ...  ...                                      ...\n",
              "20014  523081396852903936  ...      School tomorrow more like fuck you.\n",
              "20015  523042458091790336  ...    School on Monday! I don't want!!!! :(\n",
              "20016  522976475633700864  ...     School just isn't happening tomorrow\n",
              "20400  522987022265643008  ...        Going by the White house tomorrow\n",
              "20433  522703793092558848  ...  i had a dream abt going to wwa tomorrow\n",
              "\n",
              "[116 rows x 4 columns]"
            ]
          },
          "metadata": {
            "tags": []
          },
          "execution_count": 30
        }
      ]
    },
    {
      "cell_type": "code",
      "metadata": {
        "id": "1iApuaK7wj9O",
        "colab_type": "code",
        "colab": {}
      },
      "source": [
        "task_a_test_df = pd.read_csv(cfg['paths']['test_file_task_a'], sep='\\t', header=None)\n",
        "task_a_test_df = clean_dataframe_format(task_a_test_df, ['id', 'sentiment', 'text'])\n",
        "task_a_test_df"
      ],
      "execution_count": 0,
      "outputs": []
    },
    {
      "cell_type": "code",
      "metadata": {
        "id": "KqE-Y6XJBeA2",
        "colab_type": "code",
        "colab": {}
      },
      "source": [
        "task_b_test_df = pd.read_csv(cfg['paths']['test_file_task_b'], sep='\\t', header=None)\n",
        "task_b_test_df = clean_dataframe_format(task_b_test_df, ['id', 'topic', 'sentiment', 'text'])\n",
        "task_b_test_df"
      ],
      "execution_count": 0,
      "outputs": []
    },
    {
      "cell_type": "markdown",
      "metadata": {
        "id": "iFnxpFTZEe7E",
        "colab_type": "text"
      },
      "source": [
        "# Exploratory Data Analysis (EDA)"
      ]
    },
    {
      "cell_type": "markdown",
      "metadata": {
        "id": "9KGklVjRx50N",
        "colab_type": "text"
      },
      "source": [
        "# Tokenization"
      ]
    },
    {
      "cell_type": "code",
      "metadata": {
        "id": "NwjXcI3Gx7xb",
        "colab_type": "code",
        "colab": {}
      },
      "source": [
        "tokenizer = nltk.tokenize.TweetTokenizer(\n",
        "    strip_handles = cfg['preprocessing']['tokenization']['remove_twitter_handle'],\n",
        "    preserve_case = cfg['preprocessing']['tokenization']['preserve_case']\n",
        ")\n",
        "\n",
        "def tokenize_text(text, tokenizer):\n",
        "  tokenized_text = tokenizer.tokenize(\n",
        "      text,\n",
        "    )\n",
        "  return tokenized_text\n",
        "\n",
        "# Tokenisation Example\n",
        "text = task_a_train_df.head(1)['text'].values[0]\n",
        "print('original text : ', text)\n",
        "print('tokenized text: ', tokenizer.tokenize(text))"
      ],
      "execution_count": 0,
      "outputs": []
    },
    {
      "cell_type": "code",
      "metadata": {
        "id": "paxv3Xsw0fkT",
        "colab_type": "code",
        "colab": {}
      },
      "source": [
        "task_a_train_df['tokenized'] = task_a_train_df.apply(\n",
        "    lambda row: tokenize_text(\n",
        "        row['text'],\n",
        "        tokenizer\n",
        "    ),\n",
        "    axis=1\n",
        ")"
      ],
      "execution_count": 0,
      "outputs": []
    },
    {
      "cell_type": "code",
      "metadata": {
        "id": "g4qIxOub6IHL",
        "colab_type": "code",
        "colab": {}
      },
      "source": [
        "task_a_train_df"
      ],
      "execution_count": 0,
      "outputs": []
    },
    {
      "cell_type": "markdown",
      "metadata": {
        "id": "cUrnPEtN76nc",
        "colab_type": "text"
      },
      "source": [
        "## Word Cloud"
      ]
    },
    {
      "cell_type": "code",
      "metadata": {
        "id": "sXTNP_1975_d",
        "colab_type": "code",
        "colab": {}
      },
      "source": [
        "def show_wordcloud(text, title, max_words=200):\n",
        "  wc = WordCloud(\n",
        "      max_words=max_words,\n",
        "      background_color='white',\n",
        "      # ranks_only= frequency\n",
        "  ).generate(text)\n",
        "\n",
        "  print(wc.words_)\n",
        "\n",
        "  fig = plt.figure(1, figsize=(12, 12))\n",
        "  fig.suptitle(title)\n",
        "  plt.imshow(wc)\n",
        "  plt.show()"
      ],
      "execution_count": 0,
      "outputs": []
    },
    {
      "cell_type": "code",
      "metadata": {
        "id": "0MWVlPVeEit3",
        "colab_type": "code",
        "colab": {}
      },
      "source": [
        "df = task_b_train_df[task_b_train_df['sentiment'] == 'positive']['text'][4]\n",
        "print(df)\n",
        "# print(df.shape)\n",
        "# show_wordcloud(str(df.values), 'judul', max_words=20000)\n",
        "\n",
        "# print(df.shape)\n",
        "word_string = \"you verse wrote book stand titlea i you you you kampung\"\n",
        "print(type(word_string))\n",
        "show_wordcloud(word_string, 'judul', max_words=20000)"
      ],
      "execution_count": 0,
      "outputs": []
    },
    {
      "cell_type": "code",
      "metadata": {
        "id": "MZGMBtM98uTq",
        "colab_type": "code",
        "colab": {}
      },
      "source": [
        "task_a_train_df['sentiment'].value_counts().plot(kind='bar',figsize=(7,4));\n",
        "plt.title('Number of tweets');\n",
        "plt.xlabel('Sentiment');\n",
        "plt.ylabel('Total tweets');"
      ],
      "execution_count": 0,
      "outputs": []
    },
    {
      "cell_type": "code",
      "metadata": {
        "id": "d7YGmqNd2WrP",
        "colab_type": "code",
        "colab": {}
      },
      "source": [
        ""
      ],
      "execution_count": 0,
      "outputs": []
    },
    {
      "cell_type": "code",
      "metadata": {
        "id": "D5oxkBMoH5hp",
        "colab_type": "code",
        "colab": {}
      },
      "source": [
        ""
      ],
      "execution_count": 0,
      "outputs": []
    },
    {
      "cell_type": "code",
      "metadata": {
        "id": "dt4arEBt4ntG",
        "colab_type": "code",
        "colab": {}
      },
      "source": [
        ""
      ],
      "execution_count": 0,
      "outputs": []
    },
    {
      "cell_type": "code",
      "metadata": {
        "id": "Gauu8B_i9XHn",
        "colab_type": "code",
        "colab": {}
      },
      "source": [
        "task_b_train_df[task_b_train_df['text'].str.contains('not')]"
      ],
      "execution_count": 0,
      "outputs": []
    },
    {
      "cell_type": "code",
      "metadata": {
        "id": "XWrBCXtSH4P-",
        "colab_type": "code",
        "colab": {}
      },
      "source": [
        ""
      ],
      "execution_count": 0,
      "outputs": []
    },
    {
      "cell_type": "code",
      "metadata": {
        "id": "nwFx7A43Aju4",
        "colab_type": "code",
        "colab": {}
      },
      "source": [
        "positive = task_b_train_df[task_b_train_df['sentiment'] == 'positive']['topic'].value_counts(sort=False).to_frame(name='positive')\n",
        "negative = task_b_train_df[task_b_train_df['sentiment'] == 'negative']['topic'].value_counts(sort=False).to_frame(name='negative')\n",
        "neutral = task_b_train_df[task_b_train_df['sentiment'] == 'neutral']['topic'].value_counts(sort=False).to_frame(name='neutral')\n",
        "# negative = task_b_train_df['topic'][task_b_train_df['sentiment'] == 'negative'].value_counts(sort=False)\n",
        "# neutral = task_b_train_df['topic'][task_b_train_df['sentiment'] == 'neutral'].value_counts(sort=False)\n",
        "joined = positive.join(negative).join(neutral)\n",
        "\n",
        "joined = joined[(joined['positive'] > 0) & (joined['negative']>0)]\n",
        "with pd.option_context('display.max_rows', None, 'display.max_columns', None):  # more options can be specified also\n",
        "    print(joined)\n",
        "\n",
        "plt.bar(range(joined.shape[0]), joined['positive'], label='positive', color='blue')\n",
        "plt.bar(range(joined.shape[0]), joined['negative'], label='negative', color='red', bottom=joined['positive'])"
      ],
      "execution_count": 0,
      "outputs": []
    },
    {
      "cell_type": "code",
      "metadata": {
        "id": "Nm_M0CXUAsAn",
        "colab_type": "code",
        "colab": {}
      },
      "source": [
        "# save dataset as csv file\n",
        "task_b_train_df.to_csv('coba_train_b', sep='\\t')"
      ],
      "execution_count": 0,
      "outputs": []
    },
    {
      "cell_type": "code",
      "metadata": {
        "id": "gFgYcYx08ULD",
        "colab_type": "code",
        "colab": {}
      },
      "source": [
        ""
      ],
      "execution_count": 0,
      "outputs": []
    }
  ]
}