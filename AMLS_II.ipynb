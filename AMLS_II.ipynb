{
  "nbformat": 4,
  "nbformat_minor": 0,
  "metadata": {
    "colab": {
      "name": "AMLS II",
      "provenance": [],
      "collapsed_sections": [],
      "toc_visible": true,
      "authorship_tag": "ABX9TyOCW9fy9/a6aBKycdMEbYEe",
      "include_colab_link": true
    },
    "kernelspec": {
      "name": "python3",
      "display_name": "Python 3"
    },
    "accelerator": "GPU"
  },
  "cells": [
    {
      "cell_type": "markdown",
      "metadata": {
        "id": "view-in-github",
        "colab_type": "text"
      },
      "source": [
        "<a href=\"https://colab.research.google.com/github/donyeun/AMLSII_19-20_SN18154195/blob/master/AMLS_II.ipynb\" target=\"_parent\"><img src=\"https://colab.research.google.com/assets/colab-badge.svg\" alt=\"Open In Colab\"/></a>"
      ]
    },
    {
      "cell_type": "code",
      "metadata": {
        "id": "oTTXAniWmfMi",
        "colab_type": "code",
        "outputId": "143572a7-1550-4a92-cab4-ae5b6ef2bc35",
        "colab": {
          "base_uri": "https://localhost:8080/"
        }
      },
      "source": [
        "# mount google drive\n",
        "from google.colab import drive\n",
        "drive.mount('/content/drive')"
      ],
      "execution_count": 1,
      "outputs": [
        {
          "output_type": "stream",
          "text": [
            "Drive already mounted at /content/drive; to attempt to forcibly remount, call drive.mount(\"/content/drive\", force_remount=True).\n"
          ],
          "name": "stdout"
        }
      ]
    },
    {
      "cell_type": "markdown",
      "metadata": {
        "id": "pe4VG6osyCiF",
        "colab_type": "text"
      },
      "source": [
        "# Libraries and Variables\n",
        "\n",
        "* Reading `config.yaml` which contains all ML parameters as well as filepaths\n",
        "* Import all dependencies and libraries\n",
        "\n",
        "\n",
        "\n",
        "\n",
        "\n"
      ]
    },
    {
      "cell_type": "code",
      "metadata": {
        "id": "SkxFAcT8itpN",
        "colab_type": "code",
        "colab": {}
      },
      "source": [
        "# load configuration file that store all the constant and parameters settings\n",
        "import yaml\n",
        "CONFIG_YAML_FILEPATH = '/content/drive/My Drive/public/AMLSII_19-20_SN18154195/config.yaml'\n",
        "with open(CONFIG_YAML_FILEPATH, 'r') as file:\n",
        "  cfg = yaml.safe_load(file)"
      ],
      "execution_count": 0,
      "outputs": []
    },
    {
      "cell_type": "code",
      "metadata": {
        "id": "_5LCvzjssSJf",
        "colab_type": "code",
        "outputId": "02f72fe1-ad02-4b45-ab03-93ffc746f5e4",
        "colab": {
          "base_uri": "https://localhost:8080/",
          "height": 1000
        }
      },
      "source": [
        "# install additional dependencies\n",
        "! pip install -r {cfg['paths']['requirements']}\n",
        "\n",
        "import pandas as pd\n",
        "import os\n",
        "import torch\n",
        "from tqdm import tqdm\n",
        "from wordcloud import WordCloud\n",
        "import matplotlib.pyplot as plt\n",
        "import nltk\n",
        "import csv\n",
        "import numpy as np\n",
        "import tensorboard as tb\n",
        "import tensorflow as tf\n",
        "\n",
        "\n",
        "# load the TensorBoard notebook extension\n",
        "tf.io.gfile = tb.compat.tensorflow_stub.io.gfile\n",
        "%load_ext tensorboard"
      ],
      "execution_count": 3,
      "outputs": [
        {
          "output_type": "stream",
          "text": [
            "Requirement already satisfied: absl-py==0.9.0 in /usr/local/lib/python3.6/dist-packages (from -r /content/drive/My Drive/public/AMLSII_19-20_SN18154195/requirements.txt (line 1)) (0.9.0)\n",
            "Requirement already satisfied: alabaster==0.7.12 in /usr/local/lib/python3.6/dist-packages (from -r /content/drive/My Drive/public/AMLSII_19-20_SN18154195/requirements.txt (line 2)) (0.7.12)\n",
            "Requirement already satisfied: albumentations==0.1.12 in /usr/local/lib/python3.6/dist-packages (from -r /content/drive/My Drive/public/AMLSII_19-20_SN18154195/requirements.txt (line 3)) (0.1.12)\n",
            "Collecting altair==4.0.1\n",
            "\u001b[?25l  Downloading https://files.pythonhosted.org/packages/a8/07/d8acf03571db619ff117df5730dd5c0b1ad0822aa02ad1084d73e2659442/altair-4.0.1-py3-none-any.whl (708kB)\n",
            "\r\u001b[K     |▌                               | 10kB 24.0MB/s eta 0:00:01\r\u001b[K     |█                               | 20kB 31.5MB/s eta 0:00:01\r\u001b[K     |█▍                              | 30kB 37.1MB/s eta 0:00:01\r\u001b[K     |█▉                              | 40kB 13.3MB/s eta 0:00:01\r\u001b[K     |██▎                             | 51kB 9.7MB/s eta 0:00:01\r\u001b[K     |██▊                             | 61kB 11.3MB/s eta 0:00:01\r\u001b[K     |███▎                            | 71kB 10.5MB/s eta 0:00:01\r\u001b[K     |███▊                            | 81kB 9.7MB/s eta 0:00:01\r\u001b[K     |████▏                           | 92kB 10.8MB/s eta 0:00:01\r\u001b[K     |████▋                           | 102kB 10.6MB/s eta 0:00:01\r\u001b[K     |█████                           | 112kB 10.6MB/s eta 0:00:01\r\u001b[K     |█████▌                          | 122kB 10.6MB/s eta 0:00:01\r\u001b[K     |██████                          | 133kB 10.6MB/s eta 0:00:01\r\u001b[K     |██████▌                         | 143kB 10.6MB/s eta 0:00:01\r\u001b[K     |███████                         | 153kB 10.6MB/s eta 0:00:01\r\u001b[K     |███████▍                        | 163kB 10.6MB/s eta 0:00:01\r\u001b[K     |███████▉                        | 174kB 10.6MB/s eta 0:00:01\r\u001b[K     |████████▎                       | 184kB 10.6MB/s eta 0:00:01\r\u001b[K     |████████▉                       | 194kB 10.6MB/s eta 0:00:01\r\u001b[K     |█████████▎                      | 204kB 10.6MB/s eta 0:00:01\r\u001b[K     |█████████▊                      | 215kB 10.6MB/s eta 0:00:01\r\u001b[K     |██████████▏                     | 225kB 10.6MB/s eta 0:00:01\r\u001b[K     |██████████▋                     | 235kB 10.6MB/s eta 0:00:01\r\u001b[K     |███████████                     | 245kB 10.6MB/s eta 0:00:01\r\u001b[K     |███████████▌                    | 256kB 10.6MB/s eta 0:00:01\r\u001b[K     |████████████                    | 266kB 10.6MB/s eta 0:00:01\r\u001b[K     |████████████▌                   | 276kB 10.6MB/s eta 0:00:01\r\u001b[K     |█████████████                   | 286kB 10.6MB/s eta 0:00:01\r\u001b[K     |█████████████▍                  | 296kB 10.6MB/s eta 0:00:01\r\u001b[K     |█████████████▉                  | 307kB 10.6MB/s eta 0:00:01\r\u001b[K     |██████████████▎                 | 317kB 10.6MB/s eta 0:00:01\r\u001b[K     |██████████████▉                 | 327kB 10.6MB/s eta 0:00:01\r\u001b[K     |███████████████▎                | 337kB 10.6MB/s eta 0:00:01\r\u001b[K     |███████████████▊                | 348kB 10.6MB/s eta 0:00:01\r\u001b[K     |████████████████▏               | 358kB 10.6MB/s eta 0:00:01\r\u001b[K     |████████████████▋               | 368kB 10.6MB/s eta 0:00:01\r\u001b[K     |█████████████████               | 378kB 10.6MB/s eta 0:00:01\r\u001b[K     |█████████████████▋              | 389kB 10.6MB/s eta 0:00:01\r\u001b[K     |██████████████████              | 399kB 10.6MB/s eta 0:00:01\r\u001b[K     |██████████████████▌             | 409kB 10.6MB/s eta 0:00:01\r\u001b[K     |███████████████████             | 419kB 10.6MB/s eta 0:00:01\r\u001b[K     |███████████████████▍            | 430kB 10.6MB/s eta 0:00:01\r\u001b[K     |███████████████████▉            | 440kB 10.6MB/s eta 0:00:01\r\u001b[K     |████████████████████▍           | 450kB 10.6MB/s eta 0:00:01\r\u001b[K     |████████████████████▉           | 460kB 10.6MB/s eta 0:00:01\r\u001b[K     |█████████████████████▎          | 471kB 10.6MB/s eta 0:00:01\r\u001b[K     |█████████████████████▊          | 481kB 10.6MB/s eta 0:00:01\r\u001b[K     |██████████████████████▏         | 491kB 10.6MB/s eta 0:00:01\r\u001b[K     |██████████████████████▋         | 501kB 10.6MB/s eta 0:00:01\r\u001b[K     |███████████████████████         | 512kB 10.6MB/s eta 0:00:01\r\u001b[K     |███████████████████████▋        | 522kB 10.6MB/s eta 0:00:01\r\u001b[K     |████████████████████████        | 532kB 10.6MB/s eta 0:00:01\r\u001b[K     |████████████████████████▌       | 542kB 10.6MB/s eta 0:00:01\r\u001b[K     |█████████████████████████       | 552kB 10.6MB/s eta 0:00:01\r\u001b[K     |█████████████████████████▍      | 563kB 10.6MB/s eta 0:00:01\r\u001b[K     |█████████████████████████▉      | 573kB 10.6MB/s eta 0:00:01\r\u001b[K     |██████████████████████████▍     | 583kB 10.6MB/s eta 0:00:01\r\u001b[K     |██████████████████████████▉     | 593kB 10.6MB/s eta 0:00:01\r\u001b[K     |███████████████████████████▎    | 604kB 10.6MB/s eta 0:00:01\r\u001b[K     |███████████████████████████▊    | 614kB 10.6MB/s eta 0:00:01\r\u001b[K     |████████████████████████████▏   | 624kB 10.6MB/s eta 0:00:01\r\u001b[K     |████████████████████████████▋   | 634kB 10.6MB/s eta 0:00:01\r\u001b[K     |█████████████████████████████▏  | 645kB 10.6MB/s eta 0:00:01\r\u001b[K     |█████████████████████████████▋  | 655kB 10.6MB/s eta 0:00:01\r\u001b[K     |██████████████████████████████  | 665kB 10.6MB/s eta 0:00:01\r\u001b[K     |██████████████████████████████▌ | 675kB 10.6MB/s eta 0:00:01\r\u001b[K     |███████████████████████████████ | 686kB 10.6MB/s eta 0:00:01\r\u001b[K     |███████████████████████████████▍| 696kB 10.6MB/s eta 0:00:01\r\u001b[K     |████████████████████████████████| 706kB 10.6MB/s eta 0:00:01\r\u001b[K     |████████████████████████████████| 716kB 10.6MB/s \n",
            "\u001b[?25hRequirement already satisfied: asgiref==3.2.7 in /usr/local/lib/python3.6/dist-packages (from -r /content/drive/My Drive/public/AMLSII_19-20_SN18154195/requirements.txt (line 5)) (3.2.7)\n",
            "Requirement already satisfied: astor==0.8.1 in /usr/local/lib/python3.6/dist-packages (from -r /content/drive/My Drive/public/AMLSII_19-20_SN18154195/requirements.txt (line 6)) (0.8.1)\n",
            "Collecting astropy==4.0.1\n",
            "\u001b[?25l  Downloading https://files.pythonhosted.org/packages/62/4b/d64063f7984f45ed575d819c8ae30e90d4cbb0b74ca307bb404f472132bf/astropy-4.0.1-cp36-cp36m-manylinux1_x86_64.whl (6.5MB)\n",
            "\u001b[K     |████████████████████████████████| 6.5MB 49.2MB/s \n",
            "\u001b[?25hRequirement already satisfied: astunparse==1.6.3 in /usr/local/lib/python3.6/dist-packages (from -r /content/drive/My Drive/public/AMLSII_19-20_SN18154195/requirements.txt (line 8)) (1.6.3)\n",
            "Requirement already satisfied: atari-py==0.2.6 in /usr/local/lib/python3.6/dist-packages (from -r /content/drive/My Drive/public/AMLSII_19-20_SN18154195/requirements.txt (line 9)) (0.2.6)\n",
            "Requirement already satisfied: atomicwrites==1.3.0 in /usr/local/lib/python3.6/dist-packages (from -r /content/drive/My Drive/public/AMLSII_19-20_SN18154195/requirements.txt (line 10)) (1.3.0)\n",
            "Requirement already satisfied: attrs==19.3.0 in /usr/local/lib/python3.6/dist-packages (from -r /content/drive/My Drive/public/AMLSII_19-20_SN18154195/requirements.txt (line 11)) (19.3.0)\n",
            "Requirement already satisfied: audioread==2.1.8 in /usr/local/lib/python3.6/dist-packages (from -r /content/drive/My Drive/public/AMLSII_19-20_SN18154195/requirements.txt (line 12)) (2.1.8)\n",
            "Requirement already satisfied: autograd==1.3 in /usr/local/lib/python3.6/dist-packages (from -r /content/drive/My Drive/public/AMLSII_19-20_SN18154195/requirements.txt (line 13)) (1.3)\n",
            "Requirement already satisfied: Babel==2.8.0 in /usr/local/lib/python3.6/dist-packages (from -r /content/drive/My Drive/public/AMLSII_19-20_SN18154195/requirements.txt (line 14)) (2.8.0)\n",
            "Requirement already satisfied: backcall==0.1.0 in /usr/local/lib/python3.6/dist-packages (from -r /content/drive/My Drive/public/AMLSII_19-20_SN18154195/requirements.txt (line 15)) (0.1.0)\n",
            "Requirement already satisfied: beautifulsoup4==4.6.3 in /usr/local/lib/python3.6/dist-packages (from -r /content/drive/My Drive/public/AMLSII_19-20_SN18154195/requirements.txt (line 16)) (4.6.3)\n",
            "Requirement already satisfied: bleach==3.1.4 in /usr/local/lib/python3.6/dist-packages (from -r /content/drive/My Drive/public/AMLSII_19-20_SN18154195/requirements.txt (line 17)) (3.1.4)\n",
            "Requirement already satisfied: blis==0.4.1 in /usr/local/lib/python3.6/dist-packages (from -r /content/drive/My Drive/public/AMLSII_19-20_SN18154195/requirements.txt (line 18)) (0.4.1)\n",
            "Requirement already satisfied: bokeh==1.4.0 in /usr/local/lib/python3.6/dist-packages (from -r /content/drive/My Drive/public/AMLSII_19-20_SN18154195/requirements.txt (line 19)) (1.4.0)\n",
            "Collecting boto3==1.12.31\n",
            "\u001b[?25l  Downloading https://files.pythonhosted.org/packages/2a/4f/3facbb42e8d07db1ef9b8cefb28dd1dbfcd52a8e32a0323d57f59b10e147/boto3-1.12.31-py2.py3-none-any.whl (128kB)\n",
            "\u001b[K     |████████████████████████████████| 133kB 64.1MB/s \n",
            "\u001b[?25hCollecting botocore==1.15.31\n",
            "\u001b[?25l  Downloading https://files.pythonhosted.org/packages/e0/07/8ac3fe64e3a245c72c61688dc37e89f0c16f727eec92252733535794f9c3/botocore-1.15.31-py2.py3-none-any.whl (6.0MB)\n",
            "\u001b[K     |████████████████████████████████| 6.1MB 10.7MB/s \n",
            "\u001b[?25hRequirement already satisfied: Bottleneck==1.3.2 in /usr/local/lib/python3.6/dist-packages (from -r /content/drive/My Drive/public/AMLSII_19-20_SN18154195/requirements.txt (line 22)) (1.3.2)\n",
            "Requirement already satisfied: branca==0.4.0 in /usr/local/lib/python3.6/dist-packages (from -r /content/drive/My Drive/public/AMLSII_19-20_SN18154195/requirements.txt (line 23)) (0.4.0)\n",
            "Requirement already satisfied: bs4==0.0.1 in /usr/local/lib/python3.6/dist-packages (from -r /content/drive/My Drive/public/AMLSII_19-20_SN18154195/requirements.txt (line 24)) (0.0.1)\n",
            "Requirement already satisfied: CacheControl==0.12.6 in /usr/local/lib/python3.6/dist-packages (from -r /content/drive/My Drive/public/AMLSII_19-20_SN18154195/requirements.txt (line 25)) (0.12.6)\n",
            "Requirement already satisfied: cachetools==3.1.1 in /usr/local/lib/python3.6/dist-packages (from -r /content/drive/My Drive/public/AMLSII_19-20_SN18154195/requirements.txt (line 26)) (3.1.1)\n",
            "Requirement already satisfied: catalogue==1.0.0 in /usr/local/lib/python3.6/dist-packages (from -r /content/drive/My Drive/public/AMLSII_19-20_SN18154195/requirements.txt (line 27)) (1.0.0)\n",
            "Collecting certifi==2019.11.28\n",
            "\u001b[?25l  Downloading https://files.pythonhosted.org/packages/b9/63/df50cac98ea0d5b006c55a399c3bf1db9da7b5a24de7890bc9cfd5dd9e99/certifi-2019.11.28-py2.py3-none-any.whl (156kB)\n",
            "\u001b[K     |████████████████████████████████| 163kB 60.1MB/s \n",
            "\u001b[?25hRequirement already satisfied: cffi==1.14.0 in /usr/local/lib/python3.6/dist-packages (from -r /content/drive/My Drive/public/AMLSII_19-20_SN18154195/requirements.txt (line 29)) (1.14.0)\n",
            "Requirement already satisfied: chainer==6.5.0 in /usr/local/lib/python3.6/dist-packages (from -r /content/drive/My Drive/public/AMLSII_19-20_SN18154195/requirements.txt (line 30)) (6.5.0)\n",
            "Requirement already satisfied: chardet==3.0.4 in /usr/local/lib/python3.6/dist-packages (from -r /content/drive/My Drive/public/AMLSII_19-20_SN18154195/requirements.txt (line 31)) (3.0.4)\n",
            "Requirement already satisfied: click==7.1.1 in /usr/local/lib/python3.6/dist-packages (from -r /content/drive/My Drive/public/AMLSII_19-20_SN18154195/requirements.txt (line 32)) (7.1.1)\n",
            "Requirement already satisfied: cloudpickle==1.3.0 in /usr/local/lib/python3.6/dist-packages (from -r /content/drive/My Drive/public/AMLSII_19-20_SN18154195/requirements.txt (line 33)) (1.3.0)\n",
            "Requirement already satisfied: cmake==3.12.0 in /usr/local/lib/python3.6/dist-packages (from -r /content/drive/My Drive/public/AMLSII_19-20_SN18154195/requirements.txt (line 34)) (3.12.0)\n",
            "Requirement already satisfied: cmdstanpy==0.4.0 in /usr/local/lib/python3.6/dist-packages (from -r /content/drive/My Drive/public/AMLSII_19-20_SN18154195/requirements.txt (line 35)) (0.4.0)\n",
            "Requirement already satisfied: colorlover==0.3.0 in /usr/local/lib/python3.6/dist-packages (from -r /content/drive/My Drive/public/AMLSII_19-20_SN18154195/requirements.txt (line 36)) (0.3.0)\n",
            "Requirement already satisfied: community==1.0.0b1 in /usr/local/lib/python3.6/dist-packages (from -r /content/drive/My Drive/public/AMLSII_19-20_SN18154195/requirements.txt (line 37)) (1.0.0b1)\n",
            "Requirement already satisfied: contextlib2==0.5.5 in /usr/local/lib/python3.6/dist-packages (from -r /content/drive/My Drive/public/AMLSII_19-20_SN18154195/requirements.txt (line 38)) (0.5.5)\n",
            "Requirement already satisfied: convertdate==2.2.0 in /usr/local/lib/python3.6/dist-packages (from -r /content/drive/My Drive/public/AMLSII_19-20_SN18154195/requirements.txt (line 39)) (2.2.0)\n",
            "Requirement already satisfied: coverage==3.7.1 in /usr/local/lib/python3.6/dist-packages (from -r /content/drive/My Drive/public/AMLSII_19-20_SN18154195/requirements.txt (line 40)) (3.7.1)\n",
            "Requirement already satisfied: coveralls==0.5 in /usr/local/lib/python3.6/dist-packages (from -r /content/drive/My Drive/public/AMLSII_19-20_SN18154195/requirements.txt (line 41)) (0.5)\n",
            "Requirement already satisfied: crcmod==1.7 in /usr/local/lib/python3.6/dist-packages (from -r /content/drive/My Drive/public/AMLSII_19-20_SN18154195/requirements.txt (line 42)) (1.7)\n",
            "Requirement already satisfied: cufflinks==0.17.3 in /usr/local/lib/python3.6/dist-packages (from -r /content/drive/My Drive/public/AMLSII_19-20_SN18154195/requirements.txt (line 43)) (0.17.3)\n",
            "Requirement already satisfied: cvxopt==1.2.4 in /usr/local/lib/python3.6/dist-packages (from -r /content/drive/My Drive/public/AMLSII_19-20_SN18154195/requirements.txt (line 44)) (1.2.4)\n",
            "Collecting cvxpy==1.0.28\n",
            "\u001b[?25l  Downloading https://files.pythonhosted.org/packages/65/3e/186657ce34e74c3547151ad38050bc42885df5624c9fcbdd5aba5a00ebcf/cvxpy-1.0.28.tar.gz (947kB)\n",
            "\u001b[K     |████████████████████████████████| 952kB 26.7MB/s \n",
            "\u001b[?25h  Installing build dependencies ... \u001b[?25l\u001b[?25hdone\n",
            "  Getting requirements to build wheel ... \u001b[?25l\u001b[?25hdone\n",
            "    Preparing wheel metadata ... \u001b[?25l\u001b[?25hdone\n",
            "Requirement already satisfied: cycler==0.10.0 in /usr/local/lib/python3.6/dist-packages (from -r /content/drive/My Drive/public/AMLSII_19-20_SN18154195/requirements.txt (line 46)) (0.10.0)\n",
            "Requirement already satisfied: cymem==2.0.3 in /usr/local/lib/python3.6/dist-packages (from -r /content/drive/My Drive/public/AMLSII_19-20_SN18154195/requirements.txt (line 47)) (2.0.3)\n",
            "Requirement already satisfied: Cython==0.29.16 in /usr/local/lib/python3.6/dist-packages (from -r /content/drive/My Drive/public/AMLSII_19-20_SN18154195/requirements.txt (line 48)) (0.29.16)\n",
            "Requirement already satisfied: daft==0.0.4 in /usr/local/lib/python3.6/dist-packages (from -r /content/drive/My Drive/public/AMLSII_19-20_SN18154195/requirements.txt (line 49)) (0.0.4)\n",
            "Requirement already satisfied: dask==2.12.0 in /usr/local/lib/python3.6/dist-packages (from -r /content/drive/My Drive/public/AMLSII_19-20_SN18154195/requirements.txt (line 50)) (2.12.0)\n",
            "Requirement already satisfied: dataclasses==0.7 in /usr/local/lib/python3.6/dist-packages (from -r /content/drive/My Drive/public/AMLSII_19-20_SN18154195/requirements.txt (line 51)) (0.7)\n",
            "Requirement already satisfied: datascience==0.10.6 in /usr/local/lib/python3.6/dist-packages (from -r /content/drive/My Drive/public/AMLSII_19-20_SN18154195/requirements.txt (line 52)) (0.10.6)\n",
            "Requirement already satisfied: decorator==4.4.2 in /usr/local/lib/python3.6/dist-packages (from -r /content/drive/My Drive/public/AMLSII_19-20_SN18154195/requirements.txt (line 53)) (4.4.2)\n",
            "Requirement already satisfied: defusedxml==0.6.0 in /usr/local/lib/python3.6/dist-packages (from -r /content/drive/My Drive/public/AMLSII_19-20_SN18154195/requirements.txt (line 54)) (0.6.0)\n",
            "Requirement already satisfied: descartes==1.1.0 in /usr/local/lib/python3.6/dist-packages (from -r /content/drive/My Drive/public/AMLSII_19-20_SN18154195/requirements.txt (line 55)) (1.1.0)\n",
            "Requirement already satisfied: dill==0.3.1.1 in /usr/local/lib/python3.6/dist-packages (from -r /content/drive/My Drive/public/AMLSII_19-20_SN18154195/requirements.txt (line 56)) (0.3.1.1)\n",
            "Requirement already satisfied: distributed==1.25.3 in /usr/local/lib/python3.6/dist-packages (from -r /content/drive/My Drive/public/AMLSII_19-20_SN18154195/requirements.txt (line 57)) (1.25.3)\n",
            "Collecting Django==3.0.4\n",
            "\u001b[?25l  Downloading https://files.pythonhosted.org/packages/12/68/8c125da33aaf0942add5095a7a2a8e064b3812d598e9fb5aca9957872d71/Django-3.0.4-py3-none-any.whl (7.5MB)\n",
            "\u001b[K     |████████████████████████████████| 7.5MB 31.3MB/s \n",
            "\u001b[?25hRequirement already satisfied: dlib==19.18.0 in /usr/local/lib/python3.6/dist-packages (from -r /content/drive/My Drive/public/AMLSII_19-20_SN18154195/requirements.txt (line 59)) (19.18.0)\n",
            "Requirement already satisfied: docopt==0.6.2 in /usr/local/lib/python3.6/dist-packages (from -r /content/drive/My Drive/public/AMLSII_19-20_SN18154195/requirements.txt (line 60)) (0.6.2)\n",
            "Requirement already satisfied: docutils==0.15.2 in /usr/local/lib/python3.6/dist-packages (from -r /content/drive/My Drive/public/AMLSII_19-20_SN18154195/requirements.txt (line 61)) (0.15.2)\n",
            "Requirement already satisfied: dopamine-rl==1.0.5 in /usr/local/lib/python3.6/dist-packages (from -r /content/drive/My Drive/public/AMLSII_19-20_SN18154195/requirements.txt (line 62)) (1.0.5)\n",
            "Requirement already satisfied: earthengine-api==0.1.217 in /usr/local/lib/python3.6/dist-packages (from -r /content/drive/My Drive/public/AMLSII_19-20_SN18154195/requirements.txt (line 63)) (0.1.217)\n",
            "Requirement already satisfied: easydict==1.9 in /usr/local/lib/python3.6/dist-packages (from -r /content/drive/My Drive/public/AMLSII_19-20_SN18154195/requirements.txt (line 64)) (1.9)\n",
            "Requirement already satisfied: ecos==2.0.7.post1 in /usr/local/lib/python3.6/dist-packages (from -r /content/drive/My Drive/public/AMLSII_19-20_SN18154195/requirements.txt (line 65)) (2.0.7.post1)\n",
            "Requirement already satisfied: editdistance==0.5.3 in /usr/local/lib/python3.6/dist-packages (from -r /content/drive/My Drive/public/AMLSII_19-20_SN18154195/requirements.txt (line 66)) (0.5.3)\n",
            "Requirement already satisfied: en-core-web-sm==2.2.5 in /usr/local/lib/python3.6/dist-packages (from -r /content/drive/My Drive/public/AMLSII_19-20_SN18154195/requirements.txt (line 67)) (2.2.5)\n",
            "Requirement already satisfied: entrypoints==0.3 in /usr/local/lib/python3.6/dist-packages (from -r /content/drive/My Drive/public/AMLSII_19-20_SN18154195/requirements.txt (line 68)) (0.3)\n",
            "Requirement already satisfied: ephem==3.7.7.1 in /usr/local/lib/python3.6/dist-packages (from -r /content/drive/My Drive/public/AMLSII_19-20_SN18154195/requirements.txt (line 69)) (3.7.7.1)\n",
            "Requirement already satisfied: et-xmlfile==1.0.1 in /usr/local/lib/python3.6/dist-packages (from -r /content/drive/My Drive/public/AMLSII_19-20_SN18154195/requirements.txt (line 70)) (1.0.1)\n",
            "Requirement already satisfied: fa2==0.3.5 in /usr/local/lib/python3.6/dist-packages (from -r /content/drive/My Drive/public/AMLSII_19-20_SN18154195/requirements.txt (line 71)) (0.3.5)\n",
            "Requirement already satisfied: fancyimpute==0.4.3 in /usr/local/lib/python3.6/dist-packages (from -r /content/drive/My Drive/public/AMLSII_19-20_SN18154195/requirements.txt (line 72)) (0.4.3)\n",
            "Requirement already satisfied: fastai==1.0.60 in /usr/local/lib/python3.6/dist-packages (from -r /content/drive/My Drive/public/AMLSII_19-20_SN18154195/requirements.txt (line 73)) (1.0.60)\n",
            "Requirement already satisfied: fastdtw==0.3.4 in /usr/local/lib/python3.6/dist-packages (from -r /content/drive/My Drive/public/AMLSII_19-20_SN18154195/requirements.txt (line 74)) (0.3.4)\n",
            "Collecting fastprogress==0.2.2\n",
            "  Downloading https://files.pythonhosted.org/packages/41/67/347d73405b8612e436a4278f577186a8b783fe757df549ba1a82a2986727/fastprogress-0.2.2-py3-none-any.whl\n",
            "Requirement already satisfied: fastrlock==0.4 in /usr/local/lib/python3.6/dist-packages (from -r /content/drive/My Drive/public/AMLSII_19-20_SN18154195/requirements.txt (line 76)) (0.4)\n",
            "Requirement already satisfied: fbprophet==0.6 in /usr/local/lib/python3.6/dist-packages (from -r /content/drive/My Drive/public/AMLSII_19-20_SN18154195/requirements.txt (line 77)) (0.6)\n",
            "Requirement already satisfied: feather-format==0.4.0 in /usr/local/lib/python3.6/dist-packages (from -r /content/drive/My Drive/public/AMLSII_19-20_SN18154195/requirements.txt (line 78)) (0.4.0)\n",
            "Requirement already satisfied: featuretools==0.4.1 in /usr/local/lib/python3.6/dist-packages (from -r /content/drive/My Drive/public/AMLSII_19-20_SN18154195/requirements.txt (line 79)) (0.4.1)\n",
            "Requirement already satisfied: filelock==3.0.12 in /usr/local/lib/python3.6/dist-packages (from -r /content/drive/My Drive/public/AMLSII_19-20_SN18154195/requirements.txt (line 80)) (3.0.12)\n",
            "Collecting firebase-admin==4.0.0\n",
            "\u001b[?25l  Downloading https://files.pythonhosted.org/packages/f6/0a/98410db0d119cd1993b116489191183cf894f26d7061a87a4a1c6a240cf1/firebase_admin-4.0.0-py3-none-any.whl (82kB)\n",
            "\u001b[K     |████████████████████████████████| 92kB 14.9MB/s \n",
            "\u001b[?25hRequirement already satisfied: fix-yahoo-finance==0.0.22 in /usr/local/lib/python3.6/dist-packages (from -r /content/drive/My Drive/public/AMLSII_19-20_SN18154195/requirements.txt (line 82)) (0.0.22)\n",
            "Collecting Flask==1.1.1\n",
            "\u001b[?25l  Downloading https://files.pythonhosted.org/packages/9b/93/628509b8d5dc749656a9641f4caf13540e2cdec85276964ff8f43bbb1d3b/Flask-1.1.1-py2.py3-none-any.whl (94kB)\n",
            "\u001b[K     |████████████████████████████████| 102kB 16.1MB/s \n",
            "\u001b[?25hRequirement already satisfied: folium==0.8.3 in /usr/local/lib/python3.6/dist-packages (from -r /content/drive/My Drive/public/AMLSII_19-20_SN18154195/requirements.txt (line 84)) (0.8.3)\n",
            "Collecting fsspec==0.7.0\n",
            "\u001b[?25l  Downloading https://files.pythonhosted.org/packages/61/82/940417e06754015103a73804cf7910654f4a8ed0d300920ee9fb60ac7839/fsspec-0.7.0-py3-none-any.whl (66kB)\n",
            "\u001b[K     |████████████████████████████████| 71kB 11.7MB/s \n",
            "\u001b[?25hRequirement already satisfied: future==0.16.0 in /usr/local/lib/python3.6/dist-packages (from -r /content/drive/My Drive/public/AMLSII_19-20_SN18154195/requirements.txt (line 86)) (0.16.0)\n",
            "Requirement already satisfied: gast==0.3.3 in /usr/local/lib/python3.6/dist-packages (from -r /content/drive/My Drive/public/AMLSII_19-20_SN18154195/requirements.txt (line 87)) (0.3.3)\n",
            "Requirement already satisfied: GDAL==2.2.2 in /usr/lib/python3/dist-packages (from -r /content/drive/My Drive/public/AMLSII_19-20_SN18154195/requirements.txt (line 88)) (2.2.2)\n",
            "Requirement already satisfied: gdown==3.6.4 in /usr/local/lib/python3.6/dist-packages (from -r /content/drive/My Drive/public/AMLSII_19-20_SN18154195/requirements.txt (line 89)) (3.6.4)\n",
            "Requirement already satisfied: gensim==3.6.0 in /usr/local/lib/python3.6/dist-packages (from -r /content/drive/My Drive/public/AMLSII_19-20_SN18154195/requirements.txt (line 90)) (3.6.0)\n",
            "Requirement already satisfied: geographiclib==1.50 in /usr/local/lib/python3.6/dist-packages (from -r /content/drive/My Drive/public/AMLSII_19-20_SN18154195/requirements.txt (line 91)) (1.50)\n",
            "Requirement already satisfied: geopy==1.17.0 in /usr/local/lib/python3.6/dist-packages (from -r /content/drive/My Drive/public/AMLSII_19-20_SN18154195/requirements.txt (line 92)) (1.17.0)\n",
            "Requirement already satisfied: gin-config==0.3.0 in /usr/local/lib/python3.6/dist-packages (from -r /content/drive/My Drive/public/AMLSII_19-20_SN18154195/requirements.txt (line 93)) (0.3.0)\n",
            "Requirement already satisfied: glob2==0.7 in /usr/local/lib/python3.6/dist-packages (from -r /content/drive/My Drive/public/AMLSII_19-20_SN18154195/requirements.txt (line 94)) (0.7)\n",
            "Requirement already satisfied: google==2.0.3 in /usr/local/lib/python3.6/dist-packages (from -r /content/drive/My Drive/public/AMLSII_19-20_SN18154195/requirements.txt (line 95)) (2.0.3)\n",
            "Requirement already satisfied: google-api-core==1.16.0 in /usr/local/lib/python3.6/dist-packages (from -r /content/drive/My Drive/public/AMLSII_19-20_SN18154195/requirements.txt (line 96)) (1.16.0)\n",
            "Requirement already satisfied: google-api-python-client==1.7.12 in /usr/local/lib/python3.6/dist-packages (from -r /content/drive/My Drive/public/AMLSII_19-20_SN18154195/requirements.txt (line 97)) (1.7.12)\n",
            "Requirement already satisfied: google-auth==1.7.2 in /usr/local/lib/python3.6/dist-packages (from -r /content/drive/My Drive/public/AMLSII_19-20_SN18154195/requirements.txt (line 98)) (1.7.2)\n",
            "Requirement already satisfied: google-auth-httplib2==0.0.3 in /usr/local/lib/python3.6/dist-packages (from -r /content/drive/My Drive/public/AMLSII_19-20_SN18154195/requirements.txt (line 99)) (0.0.3)\n",
            "Requirement already satisfied: google-auth-oauthlib==0.4.1 in /usr/local/lib/python3.6/dist-packages (from -r /content/drive/My Drive/public/AMLSII_19-20_SN18154195/requirements.txt (line 100)) (0.4.1)\n",
            "Requirement already satisfied: google-cloud-bigquery==1.21.0 in /usr/local/lib/python3.6/dist-packages (from -r /content/drive/My Drive/public/AMLSII_19-20_SN18154195/requirements.txt (line 101)) (1.21.0)\n",
            "Requirement already satisfied: google-cloud-core==1.0.3 in /usr/local/lib/python3.6/dist-packages (from -r /content/drive/My Drive/public/AMLSII_19-20_SN18154195/requirements.txt (line 102)) (1.0.3)\n",
            "Requirement already satisfied: google-cloud-datastore==1.8.0 in /usr/local/lib/python3.6/dist-packages (from -r /content/drive/My Drive/public/AMLSII_19-20_SN18154195/requirements.txt (line 103)) (1.8.0)\n",
            "Requirement already satisfied: google-cloud-firestore==1.6.2 in /usr/local/lib/python3.6/dist-packages (from -r /content/drive/My Drive/public/AMLSII_19-20_SN18154195/requirements.txt (line 104)) (1.6.2)\n",
            "Requirement already satisfied: google-cloud-language==1.2.0 in /usr/local/lib/python3.6/dist-packages (from -r /content/drive/My Drive/public/AMLSII_19-20_SN18154195/requirements.txt (line 105)) (1.2.0)\n",
            "Requirement already satisfied: google-cloud-storage==1.18.1 in /usr/local/lib/python3.6/dist-packages (from -r /content/drive/My Drive/public/AMLSII_19-20_SN18154195/requirements.txt (line 106)) (1.18.1)\n",
            "Requirement already satisfied: google-cloud-translate==1.5.0 in /usr/local/lib/python3.6/dist-packages (from -r /content/drive/My Drive/public/AMLSII_19-20_SN18154195/requirements.txt (line 107)) (1.5.0)\n",
            "Requirement already satisfied: google-colab==1.0.0 in /usr/local/lib/python3.6/dist-packages (from -r /content/drive/My Drive/public/AMLSII_19-20_SN18154195/requirements.txt (line 108)) (1.0.0)\n",
            "Requirement already satisfied: google-pasta==0.2.0 in /usr/local/lib/python3.6/dist-packages (from -r /content/drive/My Drive/public/AMLSII_19-20_SN18154195/requirements.txt (line 109)) (0.2.0)\n",
            "Requirement already satisfied: google-resumable-media==0.4.1 in /usr/local/lib/python3.6/dist-packages (from -r /content/drive/My Drive/public/AMLSII_19-20_SN18154195/requirements.txt (line 110)) (0.4.1)\n",
            "Requirement already satisfied: googleapis-common-protos==1.51.0 in /usr/local/lib/python3.6/dist-packages (from -r /content/drive/My Drive/public/AMLSII_19-20_SN18154195/requirements.txt (line 111)) (1.51.0)\n",
            "Requirement already satisfied: googledrivedownloader==0.4 in /usr/local/lib/python3.6/dist-packages (from -r /content/drive/My Drive/public/AMLSII_19-20_SN18154195/requirements.txt (line 112)) (0.4)\n",
            "Requirement already satisfied: graphviz==0.10.1 in /usr/local/lib/python3.6/dist-packages (from -r /content/drive/My Drive/public/AMLSII_19-20_SN18154195/requirements.txt (line 113)) (0.10.1)\n",
            "Collecting grpcio==1.27.2\n",
            "\u001b[?25l  Downloading https://files.pythonhosted.org/packages/28/df/1f8a284a5e5819ae07d50bd76996d6f7208afef7533e4896fa1c6445574f/grpcio-1.27.2-cp36-cp36m-manylinux2010_x86_64.whl (2.7MB)\n",
            "\u001b[K     |████████████████████████████████| 2.7MB 49.4MB/s \n",
            "\u001b[?25hRequirement already satisfied: gspread==3.0.1 in /usr/local/lib/python3.6/dist-packages (from -r /content/drive/My Drive/public/AMLSII_19-20_SN18154195/requirements.txt (line 115)) (3.0.1)\n",
            "Collecting gspread-dataframe==3.0.4\n",
            "  Downloading https://files.pythonhosted.org/packages/01/8d/4a5a35f0ee15cdfb5a0b76e61b26afdd1f2093925a8de5773400f2455b42/gspread_dataframe-3.0.4-py2.py3-none-any.whl\n",
            "Requirement already satisfied: gym==0.17.1 in /usr/local/lib/python3.6/dist-packages (from -r /content/drive/My Drive/public/AMLSII_19-20_SN18154195/requirements.txt (line 117)) (0.17.1)\n",
            "Requirement already satisfied: h5py==2.10.0 in /usr/local/lib/python3.6/dist-packages (from -r /content/drive/My Drive/public/AMLSII_19-20_SN18154195/requirements.txt (line 118)) (2.10.0)\n",
            "Requirement already satisfied: HeapDict==1.0.1 in /usr/local/lib/python3.6/dist-packages (from -r /content/drive/My Drive/public/AMLSII_19-20_SN18154195/requirements.txt (line 119)) (1.0.1)\n",
            "Requirement already satisfied: holidays==0.9.12 in /usr/local/lib/python3.6/dist-packages (from -r /content/drive/My Drive/public/AMLSII_19-20_SN18154195/requirements.txt (line 120)) (0.9.12)\n",
            "Requirement already satisfied: html5lib==1.0.1 in /usr/local/lib/python3.6/dist-packages (from -r /content/drive/My Drive/public/AMLSII_19-20_SN18154195/requirements.txt (line 121)) (1.0.1)\n",
            "Requirement already satisfied: httpimport==0.5.18 in /usr/local/lib/python3.6/dist-packages (from -r /content/drive/My Drive/public/AMLSII_19-20_SN18154195/requirements.txt (line 122)) (0.5.18)\n",
            "Collecting httplib2==0.17.0\n",
            "\u001b[?25l  Downloading https://files.pythonhosted.org/packages/8e/4b/025a7338bb2d4a2c61f0e530b79aafc29d112ed8e61333a6dd9ba48f3bab/httplib2-0.17.0-py3-none-any.whl (95kB)\n",
            "\u001b[K     |████████████████████████████████| 102kB 16.5MB/s \n",
            "\u001b[?25hRequirement already satisfied: httplib2shim==0.0.3 in /usr/local/lib/python3.6/dist-packages (from -r /content/drive/My Drive/public/AMLSII_19-20_SN18154195/requirements.txt (line 124)) (0.0.3)\n",
            "Requirement already satisfied: humanize==0.5.1 in /usr/local/lib/python3.6/dist-packages (from -r /content/drive/My Drive/public/AMLSII_19-20_SN18154195/requirements.txt (line 125)) (0.5.1)\n",
            "Requirement already satisfied: hyperopt==0.1.2 in /usr/local/lib/python3.6/dist-packages (from -r /content/drive/My Drive/public/AMLSII_19-20_SN18154195/requirements.txt (line 126)) (0.1.2)\n",
            "Requirement already satisfied: ideep4py==2.0.0.post3 in /usr/local/lib/python3.6/dist-packages (from -r /content/drive/My Drive/public/AMLSII_19-20_SN18154195/requirements.txt (line 127)) (2.0.0.post3)\n",
            "Requirement already satisfied: idna==2.8 in /usr/local/lib/python3.6/dist-packages (from -r /content/drive/My Drive/public/AMLSII_19-20_SN18154195/requirements.txt (line 128)) (2.8)\n",
            "Collecting image==1.5.28\n",
            "  Downloading https://files.pythonhosted.org/packages/9d/a7/70108b13af991e49deb0cbfc717cae57614eae29ff2d3fa79532eead28cb/image-1.5.28.tar.gz\n",
            "Requirement already satisfied: imageio==2.4.1 in /usr/local/lib/python3.6/dist-packages (from -r /content/drive/My Drive/public/AMLSII_19-20_SN18154195/requirements.txt (line 130)) (2.4.1)\n",
            "Requirement already satisfied: imagesize==1.2.0 in /usr/local/lib/python3.6/dist-packages (from -r /content/drive/My Drive/public/AMLSII_19-20_SN18154195/requirements.txt (line 131)) (1.2.0)\n",
            "Requirement already satisfied: imbalanced-learn==0.4.3 in /usr/local/lib/python3.6/dist-packages (from -r /content/drive/My Drive/public/AMLSII_19-20_SN18154195/requirements.txt (line 132)) (0.4.3)\n",
            "Requirement already satisfied: imblearn==0.0 in /usr/local/lib/python3.6/dist-packages (from -r /content/drive/My Drive/public/AMLSII_19-20_SN18154195/requirements.txt (line 133)) (0.0)\n",
            "Requirement already satisfied: imgaug==0.2.9 in /usr/local/lib/python3.6/dist-packages (from -r /content/drive/My Drive/public/AMLSII_19-20_SN18154195/requirements.txt (line 134)) (0.2.9)\n",
            "Requirement already satisfied: importlib-metadata==1.6.0 in /usr/local/lib/python3.6/dist-packages (from -r /content/drive/My Drive/public/AMLSII_19-20_SN18154195/requirements.txt (line 135)) (1.6.0)\n",
            "Requirement already satisfied: imutils==0.5.3 in /usr/local/lib/python3.6/dist-packages (from -r /content/drive/My Drive/public/AMLSII_19-20_SN18154195/requirements.txt (line 136)) (0.5.3)\n",
            "Requirement already satisfied: inflect==2.1.0 in /usr/local/lib/python3.6/dist-packages (from -r /content/drive/My Drive/public/AMLSII_19-20_SN18154195/requirements.txt (line 137)) (2.1.0)\n",
            "Requirement already satisfied: intel-openmp==2020.0.133 in /usr/local/lib/python3.6/dist-packages (from -r /content/drive/My Drive/public/AMLSII_19-20_SN18154195/requirements.txt (line 138)) (2020.0.133)\n",
            "Requirement already satisfied: intervaltree==2.1.0 in /usr/local/lib/python3.6/dist-packages (from -r /content/drive/My Drive/public/AMLSII_19-20_SN18154195/requirements.txt (line 139)) (2.1.0)\n",
            "Collecting ipykernel==4.6.1\n",
            "\u001b[?25l  Downloading https://files.pythonhosted.org/packages/18/c3/76775a650cae2e3d9c033b26153583e61282692d9a3af12a3022d8f0cefa/ipykernel-4.6.1-py3-none-any.whl (104kB)\n",
            "\u001b[K     |████████████████████████████████| 112kB 59.2MB/s \n",
            "\u001b[?25hRequirement already satisfied: ipython==5.5.0 in /usr/local/lib/python3.6/dist-packages (from -r /content/drive/My Drive/public/AMLSII_19-20_SN18154195/requirements.txt (line 141)) (5.5.0)\n",
            "Requirement already satisfied: ipython-genutils==0.2.0 in /usr/local/lib/python3.6/dist-packages (from -r /content/drive/My Drive/public/AMLSII_19-20_SN18154195/requirements.txt (line 142)) (0.2.0)\n",
            "Requirement already satisfied: ipython-sql==0.3.9 in /usr/local/lib/python3.6/dist-packages (from -r /content/drive/My Drive/public/AMLSII_19-20_SN18154195/requirements.txt (line 143)) (0.3.9)\n",
            "Requirement already satisfied: ipywidgets==7.5.1 in /usr/local/lib/python3.6/dist-packages (from -r /content/drive/My Drive/public/AMLSII_19-20_SN18154195/requirements.txt (line 144)) (7.5.1)\n",
            "Requirement already satisfied: itsdangerous==1.1.0 in /usr/local/lib/python3.6/dist-packages (from -r /content/drive/My Drive/public/AMLSII_19-20_SN18154195/requirements.txt (line 145)) (1.1.0)\n",
            "Requirement already satisfied: jax==0.1.62 in /usr/local/lib/python3.6/dist-packages (from -r /content/drive/My Drive/public/AMLSII_19-20_SN18154195/requirements.txt (line 146)) (0.1.62)\n",
            "Requirement already satisfied: jaxlib==0.1.42 in /usr/local/lib/python3.6/dist-packages (from -r /content/drive/My Drive/public/AMLSII_19-20_SN18154195/requirements.txt (line 147)) (0.1.42)\n",
            "Requirement already satisfied: jdcal==1.4.1 in /usr/local/lib/python3.6/dist-packages (from -r /content/drive/My Drive/public/AMLSII_19-20_SN18154195/requirements.txt (line 148)) (1.4.1)\n",
            "Collecting jedi==0.16.0\n",
            "\u001b[?25l  Downloading https://files.pythonhosted.org/packages/01/67/333e2196b70840f411fd819407b4e98aa3150c2bd24c52154a451f912ef2/jedi-0.16.0-py2.py3-none-any.whl (1.1MB)\n",
            "\u001b[K     |████████████████████████████████| 1.1MB 52.9MB/s \n",
            "\u001b[?25hRequirement already satisfied: jieba==0.42.1 in /usr/local/lib/python3.6/dist-packages (from -r /content/drive/My Drive/public/AMLSII_19-20_SN18154195/requirements.txt (line 150)) (0.42.1)\n",
            "Collecting Jinja2==2.11.1\n",
            "\u001b[?25l  Downloading https://files.pythonhosted.org/packages/27/24/4f35961e5c669e96f6559760042a55b9bcfcdb82b9bdb3c8753dbe042e35/Jinja2-2.11.1-py2.py3-none-any.whl (126kB)\n",
            "\u001b[K     |████████████████████████████████| 133kB 45.7MB/s \n",
            "\u001b[?25hRequirement already satisfied: jmespath==0.9.5 in /usr/local/lib/python3.6/dist-packages (from -r /content/drive/My Drive/public/AMLSII_19-20_SN18154195/requirements.txt (line 152)) (0.9.5)\n",
            "Requirement already satisfied: joblib==0.14.1 in /usr/local/lib/python3.6/dist-packages (from -r /content/drive/My Drive/public/AMLSII_19-20_SN18154195/requirements.txt (line 153)) (0.14.1)\n",
            "Requirement already satisfied: jpeg4py==0.1.4 in /usr/local/lib/python3.6/dist-packages (from -r /content/drive/My Drive/public/AMLSII_19-20_SN18154195/requirements.txt (line 154)) (0.1.4)\n",
            "Requirement already satisfied: jsonschema==2.6.0 in /usr/local/lib/python3.6/dist-packages (from -r /content/drive/My Drive/public/AMLSII_19-20_SN18154195/requirements.txt (line 155)) (2.6.0)\n",
            "Requirement already satisfied: jupyter==1.0.0 in /usr/local/lib/python3.6/dist-packages (from -r /content/drive/My Drive/public/AMLSII_19-20_SN18154195/requirements.txt (line 156)) (1.0.0)\n",
            "Requirement already satisfied: jupyter-client==5.3.4 in /usr/local/lib/python3.6/dist-packages (from -r /content/drive/My Drive/public/AMLSII_19-20_SN18154195/requirements.txt (line 157)) (5.3.4)\n",
            "Requirement already satisfied: jupyter-console==5.2.0 in /usr/local/lib/python3.6/dist-packages (from -r /content/drive/My Drive/public/AMLSII_19-20_SN18154195/requirements.txt (line 158)) (5.2.0)\n",
            "Requirement already satisfied: jupyter-core==4.6.3 in /usr/local/lib/python3.6/dist-packages (from -r /content/drive/My Drive/public/AMLSII_19-20_SN18154195/requirements.txt (line 159)) (4.6.3)\n",
            "Requirement already satisfied: kaggle==1.5.6 in /usr/local/lib/python3.6/dist-packages (from -r /content/drive/My Drive/public/AMLSII_19-20_SN18154195/requirements.txt (line 160)) (1.5.6)\n",
            "Requirement already satisfied: kapre==0.1.3.1 in /usr/local/lib/python3.6/dist-packages (from -r /content/drive/My Drive/public/AMLSII_19-20_SN18154195/requirements.txt (line 161)) (0.1.3.1)\n",
            "Collecting Keras==2.2.5\n",
            "\u001b[?25l  Downloading https://files.pythonhosted.org/packages/f8/ba/2d058dcf1b85b9c212cc58264c98a4a7dd92c989b798823cc5690d062bb2/Keras-2.2.5-py2.py3-none-any.whl (336kB)\n",
            "\u001b[K     |████████████████████████████████| 337kB 52.4MB/s \n",
            "\u001b[?25hRequirement already satisfied: Keras-Applications==1.0.8 in /usr/local/lib/python3.6/dist-packages (from -r /content/drive/My Drive/public/AMLSII_19-20_SN18154195/requirements.txt (line 163)) (1.0.8)\n",
            "Requirement already satisfied: Keras-Preprocessing==1.1.0 in /usr/local/lib/python3.6/dist-packages (from -r /content/drive/My Drive/public/AMLSII_19-20_SN18154195/requirements.txt (line 164)) (1.1.0)\n",
            "Requirement already satisfied: keras-vis==0.4.1 in /usr/local/lib/python3.6/dist-packages (from -r /content/drive/My Drive/public/AMLSII_19-20_SN18154195/requirements.txt (line 165)) (0.4.1)\n",
            "Collecting kiwisolver==1.1.0\n",
            "\u001b[?25l  Downloading https://files.pythonhosted.org/packages/f8/a1/5742b56282449b1c0968197f63eae486eca2c35dcd334bab75ad524e0de1/kiwisolver-1.1.0-cp36-cp36m-manylinux1_x86_64.whl (90kB)\n",
            "\u001b[K     |████████████████████████████████| 92kB 13.5MB/s \n",
            "\u001b[?25hRequirement already satisfied: knnimpute==0.1.0 in /usr/local/lib/python3.6/dist-packages (from -r /content/drive/My Drive/public/AMLSII_19-20_SN18154195/requirements.txt (line 167)) (0.1.0)\n",
            "Requirement already satisfied: librosa==0.6.3 in /usr/local/lib/python3.6/dist-packages (from -r /content/drive/My Drive/public/AMLSII_19-20_SN18154195/requirements.txt (line 168)) (0.6.3)\n",
            "Requirement already satisfied: lightgbm==2.2.3 in /usr/local/lib/python3.6/dist-packages (from -r /content/drive/My Drive/public/AMLSII_19-20_SN18154195/requirements.txt (line 169)) (2.2.3)\n",
            "Requirement already satisfied: llvmlite==0.31.0 in /usr/local/lib/python3.6/dist-packages (from -r /content/drive/My Drive/public/AMLSII_19-20_SN18154195/requirements.txt (line 170)) (0.31.0)\n",
            "Requirement already satisfied: lmdb==0.98 in /usr/local/lib/python3.6/dist-packages (from -r /content/drive/My Drive/public/AMLSII_19-20_SN18154195/requirements.txt (line 171)) (0.98)\n",
            "Requirement already satisfied: lucid==0.3.8 in /usr/local/lib/python3.6/dist-packages (from -r /content/drive/My Drive/public/AMLSII_19-20_SN18154195/requirements.txt (line 172)) (0.3.8)\n",
            "Requirement already satisfied: LunarCalendar==0.0.9 in /usr/local/lib/python3.6/dist-packages (from -r /content/drive/My Drive/public/AMLSII_19-20_SN18154195/requirements.txt (line 173)) (0.0.9)\n",
            "Requirement already satisfied: lxml==4.2.6 in /usr/local/lib/python3.6/dist-packages (from -r /content/drive/My Drive/public/AMLSII_19-20_SN18154195/requirements.txt (line 174)) (4.2.6)\n",
            "Requirement already satisfied: Markdown==3.2.1 in /usr/local/lib/python3.6/dist-packages (from -r /content/drive/My Drive/public/AMLSII_19-20_SN18154195/requirements.txt (line 175)) (3.2.1)\n",
            "Requirement already satisfied: MarkupSafe==1.1.1 in /usr/local/lib/python3.6/dist-packages (from -r /content/drive/My Drive/public/AMLSII_19-20_SN18154195/requirements.txt (line 176)) (1.1.1)\n",
            "Requirement already satisfied: matplotlib==3.2.1 in /usr/local/lib/python3.6/dist-packages (from -r /content/drive/My Drive/public/AMLSII_19-20_SN18154195/requirements.txt (line 177)) (3.2.1)\n",
            "Requirement already satisfied: matplotlib-venn==0.11.5 in /usr/local/lib/python3.6/dist-packages (from -r /content/drive/My Drive/public/AMLSII_19-20_SN18154195/requirements.txt (line 178)) (0.11.5)\n",
            "Requirement already satisfied: missingno==0.4.2 in /usr/local/lib/python3.6/dist-packages (from -r /content/drive/My Drive/public/AMLSII_19-20_SN18154195/requirements.txt (line 179)) (0.4.2)\n",
            "Requirement already satisfied: mistune==0.8.4 in /usr/local/lib/python3.6/dist-packages (from -r /content/drive/My Drive/public/AMLSII_19-20_SN18154195/requirements.txt (line 180)) (0.8.4)\n",
            "Requirement already satisfied: mizani==0.6.0 in /usr/local/lib/python3.6/dist-packages (from -r /content/drive/My Drive/public/AMLSII_19-20_SN18154195/requirements.txt (line 181)) (0.6.0)\n",
            "Requirement already satisfied: mkl==2019.0 in /usr/local/lib/python3.6/dist-packages (from -r /content/drive/My Drive/public/AMLSII_19-20_SN18154195/requirements.txt (line 182)) (2019.0)\n",
            "Requirement already satisfied: mlxtend==0.14.0 in /usr/local/lib/python3.6/dist-packages (from -r /content/drive/My Drive/public/AMLSII_19-20_SN18154195/requirements.txt (line 183)) (0.14.0)\n",
            "Requirement already satisfied: more-itertools==8.2.0 in /usr/local/lib/python3.6/dist-packages (from -r /content/drive/My Drive/public/AMLSII_19-20_SN18154195/requirements.txt (line 184)) (8.2.0)\n",
            "Requirement already satisfied: moviepy==0.2.3.5 in /usr/local/lib/python3.6/dist-packages (from -r /content/drive/My Drive/public/AMLSII_19-20_SN18154195/requirements.txt (line 185)) (0.2.3.5)\n",
            "Requirement already satisfied: mpmath==1.1.0 in /usr/local/lib/python3.6/dist-packages (from -r /content/drive/My Drive/public/AMLSII_19-20_SN18154195/requirements.txt (line 186)) (1.1.0)\n",
            "Requirement already satisfied: msgpack==1.0.0 in /usr/local/lib/python3.6/dist-packages (from -r /content/drive/My Drive/public/AMLSII_19-20_SN18154195/requirements.txt (line 187)) (1.0.0)\n",
            "Requirement already satisfied: multiprocess==0.70.9 in /usr/local/lib/python3.6/dist-packages (from -r /content/drive/My Drive/public/AMLSII_19-20_SN18154195/requirements.txt (line 188)) (0.70.9)\n",
            "Requirement already satisfied: multitasking==0.0.9 in /usr/local/lib/python3.6/dist-packages (from -r /content/drive/My Drive/public/AMLSII_19-20_SN18154195/requirements.txt (line 189)) (0.0.9)\n",
            "Requirement already satisfied: murmurhash==1.0.2 in /usr/local/lib/python3.6/dist-packages (from -r /content/drive/My Drive/public/AMLSII_19-20_SN18154195/requirements.txt (line 190)) (1.0.2)\n",
            "Requirement already satisfied: music21==5.5.0 in /usr/local/lib/python3.6/dist-packages (from -r /content/drive/My Drive/public/AMLSII_19-20_SN18154195/requirements.txt (line 191)) (5.5.0)\n",
            "Requirement already satisfied: natsort==5.5.0 in /usr/local/lib/python3.6/dist-packages (from -r /content/drive/My Drive/public/AMLSII_19-20_SN18154195/requirements.txt (line 192)) (5.5.0)\n",
            "Requirement already satisfied: nbconvert==5.6.1 in /usr/local/lib/python3.6/dist-packages (from -r /content/drive/My Drive/public/AMLSII_19-20_SN18154195/requirements.txt (line 193)) (5.6.1)\n",
            "Collecting nbformat==5.0.4\n",
            "\u001b[?25l  Downloading https://files.pythonhosted.org/packages/ac/eb/de575b7a64e7ab8d8c95e4c180ccc36deda3f1379186c4ee7adf6c2f1586/nbformat-5.0.4-py3-none-any.whl (169kB)\n",
            "\u001b[K     |████████████████████████████████| 174kB 59.8MB/s \n",
            "\u001b[?25hRequirement already satisfied: networkx==2.4 in /usr/local/lib/python3.6/dist-packages (from -r /content/drive/My Drive/public/AMLSII_19-20_SN18154195/requirements.txt (line 195)) (2.4)\n",
            "Requirement already satisfied: nibabel==3.0.2 in /usr/local/lib/python3.6/dist-packages (from -r /content/drive/My Drive/public/AMLSII_19-20_SN18154195/requirements.txt (line 196)) (3.0.2)\n",
            "Requirement already satisfied: nltk==3.2.5 in /usr/local/lib/python3.6/dist-packages (from -r /content/drive/My Drive/public/AMLSII_19-20_SN18154195/requirements.txt (line 197)) (3.2.5)\n",
            "Requirement already satisfied: notebook==5.2.2 in /usr/local/lib/python3.6/dist-packages (from -r /content/drive/My Drive/public/AMLSII_19-20_SN18154195/requirements.txt (line 198)) (5.2.2)\n",
            "Requirement already satisfied: np-utils==0.5.12.1 in /usr/local/lib/python3.6/dist-packages (from -r /content/drive/My Drive/public/AMLSII_19-20_SN18154195/requirements.txt (line 199)) (0.5.12.1)\n",
            "Collecting numba==0.47.0\n",
            "\u001b[?25l  Downloading https://files.pythonhosted.org/packages/f8/7d/f2b5ea8d5952115351e303d1aadbdd1c5b08f479d76456d43a5d7a3a8c88/numba-0.47.0-cp36-cp36m-manylinux1_x86_64.whl (3.7MB)\n",
            "\u001b[K     |████████████████████████████████| 3.7MB 44.2MB/s \n",
            "\u001b[?25hRequirement already satisfied: numexpr==2.7.1 in /usr/local/lib/python3.6/dist-packages (from -r /content/drive/My Drive/public/AMLSII_19-20_SN18154195/requirements.txt (line 201)) (2.7.1)\n",
            "Requirement already satisfied: numpy==1.18.2 in /usr/local/lib/python3.6/dist-packages (from -r /content/drive/My Drive/public/AMLSII_19-20_SN18154195/requirements.txt (line 202)) (1.18.2)\n",
            "Requirement already satisfied: nvidia-ml-py3==7.352.0 in /usr/local/lib/python3.6/dist-packages (from -r /content/drive/My Drive/public/AMLSII_19-20_SN18154195/requirements.txt (line 203)) (7.352.0)\n",
            "Requirement already satisfied: oauth2client==4.1.3 in /usr/local/lib/python3.6/dist-packages (from -r /content/drive/My Drive/public/AMLSII_19-20_SN18154195/requirements.txt (line 204)) (4.1.3)\n",
            "Requirement already satisfied: oauthlib==3.1.0 in /usr/local/lib/python3.6/dist-packages (from -r /content/drive/My Drive/public/AMLSII_19-20_SN18154195/requirements.txt (line 205)) (3.1.0)\n",
            "Requirement already satisfied: okgrade==0.4.3 in /usr/local/lib/python3.6/dist-packages (from -r /content/drive/My Drive/public/AMLSII_19-20_SN18154195/requirements.txt (line 206)) (0.4.3)\n",
            "Requirement already satisfied: opencv-contrib-python==4.1.2.30 in /usr/local/lib/python3.6/dist-packages (from -r /content/drive/My Drive/public/AMLSII_19-20_SN18154195/requirements.txt (line 207)) (4.1.2.30)\n",
            "Requirement already satisfied: opencv-python==4.1.2.30 in /usr/local/lib/python3.6/dist-packages (from -r /content/drive/My Drive/public/AMLSII_19-20_SN18154195/requirements.txt (line 208)) (4.1.2.30)\n",
            "Requirement already satisfied: openpyxl==2.5.9 in /usr/local/lib/python3.6/dist-packages (from -r /content/drive/My Drive/public/AMLSII_19-20_SN18154195/requirements.txt (line 209)) (2.5.9)\n",
            "Requirement already satisfied: opt-einsum==3.2.0 in /usr/local/lib/python3.6/dist-packages (from -r /content/drive/My Drive/public/AMLSII_19-20_SN18154195/requirements.txt (line 210)) (3.2.0)\n",
            "Requirement already satisfied: osqp==0.6.1 in /usr/local/lib/python3.6/dist-packages (from -r /content/drive/My Drive/public/AMLSII_19-20_SN18154195/requirements.txt (line 211)) (0.6.1)\n",
            "Requirement already satisfied: packaging==20.3 in /usr/local/lib/python3.6/dist-packages (from -r /content/drive/My Drive/public/AMLSII_19-20_SN18154195/requirements.txt (line 212)) (20.3)\n",
            "Requirement already satisfied: palettable==3.3.0 in /usr/local/lib/python3.6/dist-packages (from -r /content/drive/My Drive/public/AMLSII_19-20_SN18154195/requirements.txt (line 213)) (3.3.0)\n",
            "Requirement already satisfied: pandas==1.0.3 in /usr/local/lib/python3.6/dist-packages (from -r /content/drive/My Drive/public/AMLSII_19-20_SN18154195/requirements.txt (line 214)) (1.0.3)\n",
            "Requirement already satisfied: pandas-datareader==0.8.1 in /usr/local/lib/python3.6/dist-packages (from -r /content/drive/My Drive/public/AMLSII_19-20_SN18154195/requirements.txt (line 215)) (0.8.1)\n",
            "Requirement already satisfied: pandas-gbq==0.11.0 in /usr/local/lib/python3.6/dist-packages (from -r /content/drive/My Drive/public/AMLSII_19-20_SN18154195/requirements.txt (line 216)) (0.11.0)\n",
            "Requirement already satisfied: pandas-profiling==1.4.1 in /usr/local/lib/python3.6/dist-packages (from -r /content/drive/My Drive/public/AMLSII_19-20_SN18154195/requirements.txt (line 217)) (1.4.1)\n",
            "Requirement already satisfied: pandocfilters==1.4.2 in /usr/local/lib/python3.6/dist-packages (from -r /content/drive/My Drive/public/AMLSII_19-20_SN18154195/requirements.txt (line 218)) (1.4.2)\n",
            "Collecting parso==0.6.2\n",
            "\u001b[?25l  Downloading https://files.pythonhosted.org/packages/da/15/888f80e429a971d3838124adde705d7b07650aa3a59f4db07d61f653b8cd/parso-0.6.2-py2.py3-none-any.whl (97kB)\n",
            "\u001b[K     |████████████████████████████████| 102kB 15.2MB/s \n",
            "\u001b[?25hRequirement already satisfied: pathlib==1.0.1 in /usr/local/lib/python3.6/dist-packages (from -r /content/drive/My Drive/public/AMLSII_19-20_SN18154195/requirements.txt (line 220)) (1.0.1)\n",
            "Requirement already satisfied: patsy==0.5.1 in /usr/local/lib/python3.6/dist-packages (from -r /content/drive/My Drive/public/AMLSII_19-20_SN18154195/requirements.txt (line 221)) (0.5.1)\n",
            "Requirement already satisfied: pexpect==4.8.0 in /usr/local/lib/python3.6/dist-packages (from -r /content/drive/My Drive/public/AMLSII_19-20_SN18154195/requirements.txt (line 222)) (4.8.0)\n",
            "Requirement already satisfied: pickleshare==0.7.5 in /usr/local/lib/python3.6/dist-packages (from -r /content/drive/My Drive/public/AMLSII_19-20_SN18154195/requirements.txt (line 223)) (0.7.5)\n",
            "Requirement already satisfied: Pillow==7.0.0 in /usr/local/lib/python3.6/dist-packages (from -r /content/drive/My Drive/public/AMLSII_19-20_SN18154195/requirements.txt (line 224)) (7.0.0)\n",
            "Requirement already satisfied: pip-tools==4.5.1 in /usr/local/lib/python3.6/dist-packages (from -r /content/drive/My Drive/public/AMLSII_19-20_SN18154195/requirements.txt (line 225)) (4.5.1)\n",
            "Requirement already satisfied: plac==1.1.3 in /usr/local/lib/python3.6/dist-packages (from -r /content/drive/My Drive/public/AMLSII_19-20_SN18154195/requirements.txt (line 226)) (1.1.3)\n",
            "Requirement already satisfied: plotly==4.4.1 in /usr/local/lib/python3.6/dist-packages (from -r /content/drive/My Drive/public/AMLSII_19-20_SN18154195/requirements.txt (line 227)) (4.4.1)\n",
            "Requirement already satisfied: plotnine==0.6.0 in /usr/local/lib/python3.6/dist-packages (from -r /content/drive/My Drive/public/AMLSII_19-20_SN18154195/requirements.txt (line 228)) (0.6.0)\n",
            "Requirement already satisfied: pluggy==0.7.1 in /usr/local/lib/python3.6/dist-packages (from -r /content/drive/My Drive/public/AMLSII_19-20_SN18154195/requirements.txt (line 229)) (0.7.1)\n",
            "Requirement already satisfied: portpicker==1.3.1 in /usr/local/lib/python3.6/dist-packages (from -r /content/drive/My Drive/public/AMLSII_19-20_SN18154195/requirements.txt (line 230)) (1.3.1)\n",
            "Requirement already satisfied: prefetch-generator==1.0.1 in /usr/local/lib/python3.6/dist-packages (from -r /content/drive/My Drive/public/AMLSII_19-20_SN18154195/requirements.txt (line 231)) (1.0.1)\n",
            "Requirement already satisfied: preshed==3.0.2 in /usr/local/lib/python3.6/dist-packages (from -r /content/drive/My Drive/public/AMLSII_19-20_SN18154195/requirements.txt (line 232)) (3.0.2)\n",
            "Requirement already satisfied: prettytable==0.7.2 in /usr/local/lib/python3.6/dist-packages (from -r /content/drive/My Drive/public/AMLSII_19-20_SN18154195/requirements.txt (line 233)) (0.7.2)\n",
            "Requirement already satisfied: progressbar2==3.38.0 in /usr/local/lib/python3.6/dist-packages (from -r /content/drive/My Drive/public/AMLSII_19-20_SN18154195/requirements.txt (line 234)) (3.38.0)\n",
            "Requirement already satisfied: prometheus-client==0.7.1 in /usr/local/lib/python3.6/dist-packages (from -r /content/drive/My Drive/public/AMLSII_19-20_SN18154195/requirements.txt (line 235)) (0.7.1)\n",
            "Requirement already satisfied: promise==2.3 in /usr/local/lib/python3.6/dist-packages (from -r /content/drive/My Drive/public/AMLSII_19-20_SN18154195/requirements.txt (line 236)) (2.3)\n",
            "Requirement already satisfied: prompt-toolkit==1.0.18 in /usr/local/lib/python3.6/dist-packages (from -r /content/drive/My Drive/public/AMLSII_19-20_SN18154195/requirements.txt (line 237)) (1.0.18)\n",
            "Requirement already satisfied: protobuf==3.10.0 in /usr/local/lib/python3.6/dist-packages (from -r /content/drive/My Drive/public/AMLSII_19-20_SN18154195/requirements.txt (line 238)) (3.10.0)\n",
            "Requirement already satisfied: psutil==5.4.8 in /usr/local/lib/python3.6/dist-packages (from -r /content/drive/My Drive/public/AMLSII_19-20_SN18154195/requirements.txt (line 239)) (5.4.8)\n",
            "Requirement already satisfied: psycopg2==2.7.6.1 in /usr/local/lib/python3.6/dist-packages (from -r /content/drive/My Drive/public/AMLSII_19-20_SN18154195/requirements.txt (line 240)) (2.7.6.1)\n",
            "Requirement already satisfied: ptyprocess==0.6.0 in /usr/local/lib/python3.6/dist-packages (from -r /content/drive/My Drive/public/AMLSII_19-20_SN18154195/requirements.txt (line 241)) (0.6.0)\n",
            "Requirement already satisfied: py==1.8.1 in /usr/local/lib/python3.6/dist-packages (from -r /content/drive/My Drive/public/AMLSII_19-20_SN18154195/requirements.txt (line 242)) (1.8.1)\n",
            "Requirement already satisfied: pyarrow==0.14.1 in /usr/local/lib/python3.6/dist-packages (from -r /content/drive/My Drive/public/AMLSII_19-20_SN18154195/requirements.txt (line 243)) (0.14.1)\n",
            "Requirement already satisfied: pyasn1==0.4.8 in /usr/local/lib/python3.6/dist-packages (from -r /content/drive/My Drive/public/AMLSII_19-20_SN18154195/requirements.txt (line 244)) (0.4.8)\n",
            "Requirement already satisfied: pyasn1-modules==0.2.8 in /usr/local/lib/python3.6/dist-packages (from -r /content/drive/My Drive/public/AMLSII_19-20_SN18154195/requirements.txt (line 245)) (0.2.8)\n",
            "Requirement already satisfied: pycocotools==2.0.0 in /usr/local/lib/python3.6/dist-packages (from -r /content/drive/My Drive/public/AMLSII_19-20_SN18154195/requirements.txt (line 246)) (2.0.0)\n",
            "Requirement already satisfied: pycparser==2.20 in /usr/local/lib/python3.6/dist-packages (from -r /content/drive/My Drive/public/AMLSII_19-20_SN18154195/requirements.txt (line 247)) (2.20)\n",
            "Requirement already satisfied: pydata-google-auth==0.3.0 in /usr/local/lib/python3.6/dist-packages (from -r /content/drive/My Drive/public/AMLSII_19-20_SN18154195/requirements.txt (line 248)) (0.3.0)\n",
            "Requirement already satisfied: pydot==1.3.0 in /usr/local/lib/python3.6/dist-packages (from -r /content/drive/My Drive/public/AMLSII_19-20_SN18154195/requirements.txt (line 249)) (1.3.0)\n",
            "Requirement already satisfied: pydot-ng==2.0.0 in /usr/local/lib/python3.6/dist-packages (from -r /content/drive/My Drive/public/AMLSII_19-20_SN18154195/requirements.txt (line 250)) (2.0.0)\n",
            "Requirement already satisfied: pydotplus==2.0.2 in /usr/local/lib/python3.6/dist-packages (from -r /content/drive/My Drive/public/AMLSII_19-20_SN18154195/requirements.txt (line 251)) (2.0.2)\n",
            "Requirement already satisfied: PyDrive==1.3.1 in /usr/local/lib/python3.6/dist-packages (from -r /content/drive/My Drive/public/AMLSII_19-20_SN18154195/requirements.txt (line 252)) (1.3.1)\n",
            "Requirement already satisfied: pyemd==0.5.1 in /usr/local/lib/python3.6/dist-packages (from -r /content/drive/My Drive/public/AMLSII_19-20_SN18154195/requirements.txt (line 253)) (0.5.1)\n",
            "Requirement already satisfied: pyglet==1.5.0 in /usr/local/lib/python3.6/dist-packages (from -r /content/drive/My Drive/public/AMLSII_19-20_SN18154195/requirements.txt (line 254)) (1.5.0)\n",
            "Requirement already satisfied: Pygments==2.1.3 in /usr/local/lib/python3.6/dist-packages (from -r /content/drive/My Drive/public/AMLSII_19-20_SN18154195/requirements.txt (line 255)) (2.1.3)\n",
            "Requirement already satisfied: pygobject==3.26.1 in /usr/lib/python3/dist-packages (from -r /content/drive/My Drive/public/AMLSII_19-20_SN18154195/requirements.txt (line 256)) (3.26.1)\n",
            "Requirement already satisfied: pymc3==3.7 in /usr/local/lib/python3.6/dist-packages (from -r /content/drive/My Drive/public/AMLSII_19-20_SN18154195/requirements.txt (line 257)) (3.7)\n",
            "Requirement already satisfied: PyMeeus==0.3.7 in /usr/local/lib/python3.6/dist-packages (from -r /content/drive/My Drive/public/AMLSII_19-20_SN18154195/requirements.txt (line 258)) (0.3.7)\n",
            "Requirement already satisfied: pymongo==3.10.1 in /usr/local/lib/python3.6/dist-packages (from -r /content/drive/My Drive/public/AMLSII_19-20_SN18154195/requirements.txt (line 259)) (3.10.1)\n",
            "Requirement already satisfied: pymystem3==0.2.0 in /usr/local/lib/python3.6/dist-packages (from -r /content/drive/My Drive/public/AMLSII_19-20_SN18154195/requirements.txt (line 260)) (0.2.0)\n",
            "Requirement already satisfied: PyOpenGL==3.1.5 in /usr/local/lib/python3.6/dist-packages (from -r /content/drive/My Drive/public/AMLSII_19-20_SN18154195/requirements.txt (line 261)) (3.1.5)\n",
            "Collecting pyparsing==2.4.6\n",
            "\u001b[?25l  Downloading https://files.pythonhosted.org/packages/5d/bc/1e58593167fade7b544bfe9502a26dc860940a79ab306e651e7f13be68c2/pyparsing-2.4.6-py2.py3-none-any.whl (67kB)\n",
            "\u001b[K     |████████████████████████████████| 71kB 11.8MB/s \n",
            "\u001b[?25hRequirement already satisfied: pyrsistent==0.16.0 in /usr/local/lib/python3.6/dist-packages (from -r /content/drive/My Drive/public/AMLSII_19-20_SN18154195/requirements.txt (line 263)) (0.16.0)\n",
            "Requirement already satisfied: pysndfile==1.3.8 in /usr/local/lib/python3.6/dist-packages (from -r /content/drive/My Drive/public/AMLSII_19-20_SN18154195/requirements.txt (line 264)) (1.3.8)\n",
            "Requirement already satisfied: PySocks==1.7.1 in /usr/local/lib/python3.6/dist-packages (from -r /content/drive/My Drive/public/AMLSII_19-20_SN18154195/requirements.txt (line 265)) (1.7.1)\n",
            "Requirement already satisfied: pystan==2.19.1.1 in /usr/local/lib/python3.6/dist-packages (from -r /content/drive/My Drive/public/AMLSII_19-20_SN18154195/requirements.txt (line 266)) (2.19.1.1)\n",
            "Requirement already satisfied: pytest==3.6.4 in /usr/local/lib/python3.6/dist-packages (from -r /content/drive/My Drive/public/AMLSII_19-20_SN18154195/requirements.txt (line 267)) (3.6.4)\n",
            "Requirement already satisfied: python-apt==1.6.5+ubuntu0.2 in /usr/lib/python3/dist-packages (from -r /content/drive/My Drive/public/AMLSII_19-20_SN18154195/requirements.txt (line 268)) (1.6.5+ubuntu0.2)\n",
            "Requirement already satisfied: python-chess==0.23.11 in /usr/local/lib/python3.6/dist-packages (from -r /content/drive/My Drive/public/AMLSII_19-20_SN18154195/requirements.txt (line 269)) (0.23.11)\n",
            "Requirement already satisfied: python-dateutil==2.8.1 in /usr/local/lib/python3.6/dist-packages (from -r /content/drive/My Drive/public/AMLSII_19-20_SN18154195/requirements.txt (line 270)) (2.8.1)\n",
            "Collecting python-louvain==0.13\n",
            "  Downloading https://files.pythonhosted.org/packages/96/b2/c74bb9023c8d4bf94f5049e3d705b3064c6f180a38d772055d20ba5a8d06/python-louvain-0.13.tar.gz\n",
            "Requirement already satisfied: python-slugify==4.0.0 in /usr/local/lib/python3.6/dist-packages (from -r /content/drive/My Drive/public/AMLSII_19-20_SN18154195/requirements.txt (line 272)) (4.0.0)\n",
            "Requirement already satisfied: python-utils==2.4.0 in /usr/local/lib/python3.6/dist-packages (from -r /content/drive/My Drive/public/AMLSII_19-20_SN18154195/requirements.txt (line 273)) (2.4.0)\n",
            "Requirement already satisfied: pytz==2018.9 in /usr/local/lib/python3.6/dist-packages (from -r /content/drive/My Drive/public/AMLSII_19-20_SN18154195/requirements.txt (line 274)) (2018.9)\n",
            "Requirement already satisfied: PyWavelets==1.1.1 in /usr/local/lib/python3.6/dist-packages (from -r /content/drive/My Drive/public/AMLSII_19-20_SN18154195/requirements.txt (line 275)) (1.1.1)\n",
            "Requirement already satisfied: PyYAML==3.13 in /usr/local/lib/python3.6/dist-packages (from -r /content/drive/My Drive/public/AMLSII_19-20_SN18154195/requirements.txt (line 276)) (3.13)\n",
            "Collecting pyzmq==17.0.0\n",
            "\u001b[?25l  Downloading https://files.pythonhosted.org/packages/58/0e/d40ee65acabb0776ccdade96812adc0438051ef6cff1ddbe4da463604867/pyzmq-17.0.0-cp36-cp36m-manylinux1_x86_64.whl (3.1MB)\n",
            "\u001b[K     |████████████████████████████████| 3.1MB 50.2MB/s \n",
            "\u001b[?25hRequirement already satisfied: qtconsole==4.7.2 in /usr/local/lib/python3.6/dist-packages (from -r /content/drive/My Drive/public/AMLSII_19-20_SN18154195/requirements.txt (line 278)) (4.7.2)\n",
            "Requirement already satisfied: QtPy==1.9.0 in /usr/local/lib/python3.6/dist-packages (from -r /content/drive/My Drive/public/AMLSII_19-20_SN18154195/requirements.txt (line 279)) (1.9.0)\n",
            "Requirement already satisfied: regex==2019.12.20 in /usr/local/lib/python3.6/dist-packages (from -r /content/drive/My Drive/public/AMLSII_19-20_SN18154195/requirements.txt (line 280)) (2019.12.20)\n",
            "Requirement already satisfied: requests==2.21.0 in /usr/local/lib/python3.6/dist-packages (from -r /content/drive/My Drive/public/AMLSII_19-20_SN18154195/requirements.txt (line 281)) (2.21.0)\n",
            "Requirement already satisfied: requests-oauthlib==1.3.0 in /usr/local/lib/python3.6/dist-packages (from -r /content/drive/My Drive/public/AMLSII_19-20_SN18154195/requirements.txt (line 282)) (1.3.0)\n",
            "Requirement already satisfied: resampy==0.2.2 in /usr/local/lib/python3.6/dist-packages (from -r /content/drive/My Drive/public/AMLSII_19-20_SN18154195/requirements.txt (line 283)) (0.2.2)\n",
            "Requirement already satisfied: retrying==1.3.3 in /usr/local/lib/python3.6/dist-packages (from -r /content/drive/My Drive/public/AMLSII_19-20_SN18154195/requirements.txt (line 284)) (1.3.3)\n",
            "Requirement already satisfied: rpy2==3.2.7 in /usr/local/lib/python3.6/dist-packages (from -r /content/drive/My Drive/public/AMLSII_19-20_SN18154195/requirements.txt (line 285)) (3.2.7)\n",
            "Requirement already satisfied: rsa==4.0 in /usr/local/lib/python3.6/dist-packages (from -r /content/drive/My Drive/public/AMLSII_19-20_SN18154195/requirements.txt (line 286)) (4.0)\n",
            "Collecting s3fs==0.4.1\n",
            "  Downloading https://files.pythonhosted.org/packages/cb/58/2965a4852735a174e92cf62212afdffdf9f72aec564f8d971b6cb24f87bc/s3fs-0.4.1-py3-none-any.whl\n",
            "Requirement already satisfied: s3transfer==0.3.3 in /usr/local/lib/python3.6/dist-packages (from -r /content/drive/My Drive/public/AMLSII_19-20_SN18154195/requirements.txt (line 288)) (0.3.3)\n",
            "Requirement already satisfied: scikit-image==0.16.2 in /usr/local/lib/python3.6/dist-packages (from -r /content/drive/My Drive/public/AMLSII_19-20_SN18154195/requirements.txt (line 289)) (0.16.2)\n",
            "Requirement already satisfied: scikit-learn==0.22.2.post1 in /usr/local/lib/python3.6/dist-packages (from -r /content/drive/My Drive/public/AMLSII_19-20_SN18154195/requirements.txt (line 290)) (0.22.2.post1)\n",
            "Requirement already satisfied: scipy==1.4.1 in /usr/local/lib/python3.6/dist-packages (from -r /content/drive/My Drive/public/AMLSII_19-20_SN18154195/requirements.txt (line 291)) (1.4.1)\n",
            "Requirement already satisfied: screen-resolution-extra==0.0.0 in /usr/lib/python3/dist-packages (from -r /content/drive/My Drive/public/AMLSII_19-20_SN18154195/requirements.txt (line 292)) (0.0.0)\n",
            "Requirement already satisfied: scs==2.1.2 in /usr/local/lib/python3.6/dist-packages (from -r /content/drive/My Drive/public/AMLSII_19-20_SN18154195/requirements.txt (line 293)) (2.1.2)\n",
            "Requirement already satisfied: seaborn==0.10.0 in /usr/local/lib/python3.6/dist-packages (from -r /content/drive/My Drive/public/AMLSII_19-20_SN18154195/requirements.txt (line 294)) (0.10.0)\n",
            "Requirement already satisfied: Send2Trash==1.5.0 in /usr/local/lib/python3.6/dist-packages (from -r /content/drive/My Drive/public/AMLSII_19-20_SN18154195/requirements.txt (line 295)) (1.5.0)\n",
            "Requirement already satisfied: setuptools-git==1.2 in /usr/local/lib/python3.6/dist-packages (from -r /content/drive/My Drive/public/AMLSII_19-20_SN18154195/requirements.txt (line 296)) (1.2)\n",
            "Requirement already satisfied: Shapely==1.7.0 in /usr/local/lib/python3.6/dist-packages (from -r /content/drive/My Drive/public/AMLSII_19-20_SN18154195/requirements.txt (line 297)) (1.7.0)\n",
            "Requirement already satisfied: simplegeneric==0.8.1 in /usr/local/lib/python3.6/dist-packages (from -r /content/drive/My Drive/public/AMLSII_19-20_SN18154195/requirements.txt (line 298)) (0.8.1)\n",
            "Requirement already satisfied: six==1.12.0 in /usr/local/lib/python3.6/dist-packages (from -r /content/drive/My Drive/public/AMLSII_19-20_SN18154195/requirements.txt (line 299)) (1.12.0)\n",
            "Requirement already satisfied: sklearn==0.0 in /usr/local/lib/python3.6/dist-packages (from -r /content/drive/My Drive/public/AMLSII_19-20_SN18154195/requirements.txt (line 300)) (0.0)\n",
            "Requirement already satisfied: sklearn-pandas==1.8.0 in /usr/local/lib/python3.6/dist-packages (from -r /content/drive/My Drive/public/AMLSII_19-20_SN18154195/requirements.txt (line 301)) (1.8.0)\n",
            "Collecting smart-open==1.10.0\n",
            "\u001b[?25l  Downloading https://files.pythonhosted.org/packages/6e/14/47cf88d290e4681be35f3b6e8889ba26ed809a0ba14336dc8ae46ffcfda8/smart_open-1.10.0.tar.gz (99kB)\n",
            "\u001b[K     |████████████████████████████████| 102kB 15.4MB/s \n",
            "\u001b[?25hRequirement already satisfied: snowballstemmer==2.0.0 in /usr/local/lib/python3.6/dist-packages (from -r /content/drive/My Drive/public/AMLSII_19-20_SN18154195/requirements.txt (line 303)) (2.0.0)\n",
            "Requirement already satisfied: sortedcontainers==2.1.0 in /usr/local/lib/python3.6/dist-packages (from -r /content/drive/My Drive/public/AMLSII_19-20_SN18154195/requirements.txt (line 304)) (2.1.0)\n",
            "Requirement already satisfied: spacy==2.2.4 in /usr/local/lib/python3.6/dist-packages (from -r /content/drive/My Drive/public/AMLSII_19-20_SN18154195/requirements.txt (line 305)) (2.2.4)\n",
            "Requirement already satisfied: Sphinx==1.8.5 in /usr/local/lib/python3.6/dist-packages (from -r /content/drive/My Drive/public/AMLSII_19-20_SN18154195/requirements.txt (line 306)) (1.8.5)\n",
            "Requirement already satisfied: sphinxcontrib-websupport==1.2.1 in /usr/local/lib/python3.6/dist-packages (from -r /content/drive/My Drive/public/AMLSII_19-20_SN18154195/requirements.txt (line 307)) (1.2.1)\n",
            "Collecting SQLAlchemy==1.3.15\n",
            "\u001b[?25l  Downloading https://files.pythonhosted.org/packages/8c/30/4134e726dd5ed13728ff814fa91fc01c447ad8700504653fe99d91fdd34b/SQLAlchemy-1.3.15.tar.gz (6.1MB)\n",
            "\u001b[K     |████████████████████████████████| 6.1MB 42.7MB/s \n",
            "\u001b[?25h  Installing build dependencies ... \u001b[?25l\u001b[?25hdone\n",
            "  Getting requirements to build wheel ... \u001b[?25l\u001b[?25hdone\n",
            "    Preparing wheel metadata ... \u001b[?25l\u001b[?25hdone\n",
            "Requirement already satisfied: sqlparse==0.3.1 in /usr/local/lib/python3.6/dist-packages (from -r /content/drive/My Drive/public/AMLSII_19-20_SN18154195/requirements.txt (line 309)) (0.3.1)\n",
            "Requirement already satisfied: srsly==1.0.2 in /usr/local/lib/python3.6/dist-packages (from -r /content/drive/My Drive/public/AMLSII_19-20_SN18154195/requirements.txt (line 310)) (1.0.2)\n",
            "Requirement already satisfied: statsmodels==0.10.2 in /usr/local/lib/python3.6/dist-packages (from -r /content/drive/My Drive/public/AMLSII_19-20_SN18154195/requirements.txt (line 311)) (0.10.2)\n",
            "Requirement already satisfied: sympy==1.1.1 in /usr/local/lib/python3.6/dist-packages (from -r /content/drive/My Drive/public/AMLSII_19-20_SN18154195/requirements.txt (line 312)) (1.1.1)\n",
            "Requirement already satisfied: tables==3.4.4 in /usr/local/lib/python3.6/dist-packages (from -r /content/drive/My Drive/public/AMLSII_19-20_SN18154195/requirements.txt (line 313)) (3.4.4)\n",
            "Requirement already satisfied: tabulate==0.8.7 in /usr/local/lib/python3.6/dist-packages (from -r /content/drive/My Drive/public/AMLSII_19-20_SN18154195/requirements.txt (line 314)) (0.8.7)\n",
            "Requirement already satisfied: tblib==1.6.0 in /usr/local/lib/python3.6/dist-packages (from -r /content/drive/My Drive/public/AMLSII_19-20_SN18154195/requirements.txt (line 315)) (1.6.0)\n",
            "Requirement already satisfied: tensorboard==2.2.0 in /usr/local/lib/python3.6/dist-packages (from -r /content/drive/My Drive/public/AMLSII_19-20_SN18154195/requirements.txt (line 316)) (2.2.0)\n",
            "Collecting tensorboard-plugin-wit==1.6.0.post2\n",
            "\u001b[?25l  Downloading https://files.pythonhosted.org/packages/41/ec/3da49289b93963bd8b32d29ed108f1809436ff3d9cd4e29c90bac4a7292f/tensorboard_plugin_wit-1.6.0.post2-py3-none-any.whl (775kB)\n",
            "\u001b[K     |████████████████████████████████| 778kB 41.8MB/s \n",
            "\u001b[?25hRequirement already satisfied: tensorboardcolab==0.0.22 in /usr/local/lib/python3.6/dist-packages (from -r /content/drive/My Drive/public/AMLSII_19-20_SN18154195/requirements.txt (line 318)) (0.0.22)\n",
            "Collecting tensorflow==2.2.0rc2\n",
            "\u001b[?25l  Downloading https://files.pythonhosted.org/packages/ef/8c/642c210d48e07216a377b1c17c4cd0227423bf79a7160b8c9249990c5a8c/tensorflow-2.2.0rc2-cp36-cp36m-manylinux2010_x86_64.whl (516.1MB)\n",
            "\u001b[K     |████████████████████████████████| 516.1MB 31kB/s \n",
            "\u001b[?25hRequirement already satisfied: tensorflow-addons==0.8.3 in /usr/local/lib/python3.6/dist-packages (from -r /content/drive/My Drive/public/AMLSII_19-20_SN18154195/requirements.txt (line 320)) (0.8.3)\n",
            "Requirement already satisfied: tensorflow-datasets==2.1.0 in /usr/local/lib/python3.6/dist-packages (from -r /content/drive/My Drive/public/AMLSII_19-20_SN18154195/requirements.txt (line 321)) (2.1.0)\n",
            "Requirement already satisfied: tensorflow-estimator==2.2.0rc0 in /usr/local/lib/python3.6/dist-packages (from -r /content/drive/My Drive/public/AMLSII_19-20_SN18154195/requirements.txt (line 322)) (2.2.0rc0)\n",
            "Requirement already satisfied: tensorflow-gcs-config==2.1.8 in /usr/local/lib/python3.6/dist-packages (from -r /content/drive/My Drive/public/AMLSII_19-20_SN18154195/requirements.txt (line 323)) (2.1.8)\n",
            "Collecting tensorflow-hub==0.7.0\n",
            "\u001b[?25l  Downloading https://files.pythonhosted.org/packages/00/0e/a91780d07592b1abf9c91344ce459472cc19db3b67fdf3a61dca6ebb2f5c/tensorflow_hub-0.7.0-py2.py3-none-any.whl (89kB)\n",
            "\u001b[K     |████████████████████████████████| 92kB 103kB/s \n",
            "\u001b[?25hCollecting tensorflow-metadata==0.21.1\n",
            "  Downloading https://files.pythonhosted.org/packages/3c/aa/c4c3c9339fbe9d46edd390789d7033b4fa89e9f566d5723576dfdd3ed18e/tensorflow_metadata-0.21.1-py2.py3-none-any.whl\n",
            "Requirement already satisfied: tensorflow-privacy==0.2.2 in /usr/local/lib/python3.6/dist-packages (from -r /content/drive/My Drive/public/AMLSII_19-20_SN18154195/requirements.txt (line 326)) (0.2.2)\n",
            "Requirement already satisfied: tensorflow-probability==0.9.0 in /usr/local/lib/python3.6/dist-packages (from -r /content/drive/My Drive/public/AMLSII_19-20_SN18154195/requirements.txt (line 327)) (0.9.0)\n",
            "Requirement already satisfied: termcolor==1.1.0 in /usr/local/lib/python3.6/dist-packages (from -r /content/drive/My Drive/public/AMLSII_19-20_SN18154195/requirements.txt (line 328)) (1.1.0)\n",
            "Requirement already satisfied: terminado==0.8.3 in /usr/local/lib/python3.6/dist-packages (from -r /content/drive/My Drive/public/AMLSII_19-20_SN18154195/requirements.txt (line 329)) (0.8.3)\n",
            "Requirement already satisfied: testpath==0.4.4 in /usr/local/lib/python3.6/dist-packages (from -r /content/drive/My Drive/public/AMLSII_19-20_SN18154195/requirements.txt (line 330)) (0.4.4)\n",
            "Requirement already satisfied: text-unidecode==1.3 in /usr/local/lib/python3.6/dist-packages (from -r /content/drive/My Drive/public/AMLSII_19-20_SN18154195/requirements.txt (line 331)) (1.3)\n",
            "Requirement already satisfied: textblob==0.15.3 in /usr/local/lib/python3.6/dist-packages (from -r /content/drive/My Drive/public/AMLSII_19-20_SN18154195/requirements.txt (line 332)) (0.15.3)\n",
            "Requirement already satisfied: textgenrnn==1.4.1 in /usr/local/lib/python3.6/dist-packages (from -r /content/drive/My Drive/public/AMLSII_19-20_SN18154195/requirements.txt (line 333)) (1.4.1)\n",
            "Requirement already satisfied: Theano==1.0.4 in /usr/local/lib/python3.6/dist-packages (from -r /content/drive/My Drive/public/AMLSII_19-20_SN18154195/requirements.txt (line 334)) (1.0.4)\n",
            "Requirement already satisfied: thinc==7.4.0 in /usr/local/lib/python3.6/dist-packages (from -r /content/drive/My Drive/public/AMLSII_19-20_SN18154195/requirements.txt (line 335)) (7.4.0)\n",
            "Requirement already satisfied: toolz==0.10.0 in /usr/local/lib/python3.6/dist-packages (from -r /content/drive/My Drive/public/AMLSII_19-20_SN18154195/requirements.txt (line 336)) (0.10.0)\n",
            "Requirement already satisfied: torch==1.4.0 in /usr/local/lib/python3.6/dist-packages (from -r /content/drive/My Drive/public/AMLSII_19-20_SN18154195/requirements.txt (line 337)) (1.4.0)\n",
            "Requirement already satisfied: torchsummary==1.5.1 in /usr/local/lib/python3.6/dist-packages (from -r /content/drive/My Drive/public/AMLSII_19-20_SN18154195/requirements.txt (line 338)) (1.5.1)\n",
            "Requirement already satisfied: torchtext==0.3.1 in /usr/local/lib/python3.6/dist-packages (from -r /content/drive/My Drive/public/AMLSII_19-20_SN18154195/requirements.txt (line 339)) (0.3.1)\n",
            "Requirement already satisfied: torchvision==0.5.0 in /usr/local/lib/python3.6/dist-packages (from -r /content/drive/My Drive/public/AMLSII_19-20_SN18154195/requirements.txt (line 340)) (0.5.0)\n",
            "Requirement already satisfied: tornado==4.5.3 in /usr/local/lib/python3.6/dist-packages (from -r /content/drive/My Drive/public/AMLSII_19-20_SN18154195/requirements.txt (line 341)) (4.5.3)\n",
            "Requirement already satisfied: tqdm==4.38.0 in /usr/local/lib/python3.6/dist-packages (from -r /content/drive/My Drive/public/AMLSII_19-20_SN18154195/requirements.txt (line 342)) (4.38.0)\n",
            "Requirement already satisfied: traitlets==4.3.3 in /usr/local/lib/python3.6/dist-packages (from -r /content/drive/My Drive/public/AMLSII_19-20_SN18154195/requirements.txt (line 343)) (4.3.3)\n",
            "Requirement already satisfied: tweepy==3.6.0 in /usr/local/lib/python3.6/dist-packages (from -r /content/drive/My Drive/public/AMLSII_19-20_SN18154195/requirements.txt (line 344)) (3.6.0)\n",
            "Requirement already satisfied: typeguard==2.7.1 in /usr/local/lib/python3.6/dist-packages (from -r /content/drive/My Drive/public/AMLSII_19-20_SN18154195/requirements.txt (line 345)) (2.7.1)\n",
            "Requirement already satisfied: typing==3.6.6 in /usr/local/lib/python3.6/dist-packages (from -r /content/drive/My Drive/public/AMLSII_19-20_SN18154195/requirements.txt (line 346)) (3.6.6)\n",
            "Requirement already satisfied: typing-extensions==3.6.6 in /usr/local/lib/python3.6/dist-packages (from -r /content/drive/My Drive/public/AMLSII_19-20_SN18154195/requirements.txt (line 347)) (3.6.6)\n",
            "Requirement already satisfied: tzlocal==1.5.1 in /usr/local/lib/python3.6/dist-packages (from -r /content/drive/My Drive/public/AMLSII_19-20_SN18154195/requirements.txt (line 348)) (1.5.1)\n",
            "Collecting umap-learn==0.3.10\n",
            "\u001b[?25l  Downloading https://files.pythonhosted.org/packages/ad/92/36bac74962b424870026cb0b42cec3d5b6f4afa37d81818475d8762f9255/umap-learn-0.3.10.tar.gz (40kB)\n",
            "\u001b[K     |████████████████████████████████| 40kB 6.5MB/s \n",
            "\u001b[?25hRequirement already satisfied: uritemplate==3.0.1 in /usr/local/lib/python3.6/dist-packages (from -r /content/drive/My Drive/public/AMLSII_19-20_SN18154195/requirements.txt (line 350)) (3.0.1)\n",
            "Requirement already satisfied: urllib3==1.24.3 in /usr/local/lib/python3.6/dist-packages (from -r /content/drive/My Drive/public/AMLSII_19-20_SN18154195/requirements.txt (line 351)) (1.24.3)\n",
            "Requirement already satisfied: vega-datasets==0.8.0 in /usr/local/lib/python3.6/dist-packages (from -r /content/drive/My Drive/public/AMLSII_19-20_SN18154195/requirements.txt (line 352)) (0.8.0)\n",
            "Requirement already satisfied: wasabi==0.6.0 in /usr/local/lib/python3.6/dist-packages (from -r /content/drive/My Drive/public/AMLSII_19-20_SN18154195/requirements.txt (line 353)) (0.6.0)\n",
            "Requirement already satisfied: wcwidth==0.1.9 in /usr/local/lib/python3.6/dist-packages (from -r /content/drive/My Drive/public/AMLSII_19-20_SN18154195/requirements.txt (line 354)) (0.1.9)\n",
            "Requirement already satisfied: webencodings==0.5.1 in /usr/local/lib/python3.6/dist-packages (from -r /content/drive/My Drive/public/AMLSII_19-20_SN18154195/requirements.txt (line 355)) (0.5.1)\n",
            "Collecting Werkzeug==1.0.0\n",
            "\u001b[?25l  Downloading https://files.pythonhosted.org/packages/ba/a5/d6f8a6e71f15364d35678a4ec8a0186f980b3bd2545f40ad51dd26a87fb1/Werkzeug-1.0.0-py2.py3-none-any.whl (298kB)\n",
            "\u001b[K     |████████████████████████████████| 307kB 52.6MB/s \n",
            "\u001b[?25hRequirement already satisfied: widgetsnbextension==3.5.1 in /usr/local/lib/python3.6/dist-packages (from -r /content/drive/My Drive/public/AMLSII_19-20_SN18154195/requirements.txt (line 357)) (3.5.1)\n",
            "Requirement already satisfied: wordcloud==1.5.0 in /usr/local/lib/python3.6/dist-packages (from -r /content/drive/My Drive/public/AMLSII_19-20_SN18154195/requirements.txt (line 358)) (1.5.0)\n",
            "Requirement already satisfied: wrapt==1.12.1 in /usr/local/lib/python3.6/dist-packages (from -r /content/drive/My Drive/public/AMLSII_19-20_SN18154195/requirements.txt (line 359)) (1.12.1)\n",
            "Requirement already satisfied: xarray==0.15.1 in /usr/local/lib/python3.6/dist-packages (from -r /content/drive/My Drive/public/AMLSII_19-20_SN18154195/requirements.txt (line 360)) (0.15.1)\n",
            "Requirement already satisfied: xgboost==0.90 in /usr/local/lib/python3.6/dist-packages (from -r /content/drive/My Drive/public/AMLSII_19-20_SN18154195/requirements.txt (line 361)) (0.90)\n",
            "Requirement already satisfied: xkit==0.0.0 in /usr/lib/python3/dist-packages (from -r /content/drive/My Drive/public/AMLSII_19-20_SN18154195/requirements.txt (line 362)) (0.0.0)\n",
            "Requirement already satisfied: xlrd==1.1.0 in /usr/local/lib/python3.6/dist-packages (from -r /content/drive/My Drive/public/AMLSII_19-20_SN18154195/requirements.txt (line 363)) (1.1.0)\n",
            "Requirement already satisfied: xlwt==1.3.0 in /usr/local/lib/python3.6/dist-packages (from -r /content/drive/My Drive/public/AMLSII_19-20_SN18154195/requirements.txt (line 364)) (1.3.0)\n",
            "Requirement already satisfied: yellowbrick==0.9.1 in /usr/local/lib/python3.6/dist-packages (from -r /content/drive/My Drive/public/AMLSII_19-20_SN18154195/requirements.txt (line 365)) (0.9.1)\n",
            "Requirement already satisfied: zict==2.0.0 in /usr/local/lib/python3.6/dist-packages (from -r /content/drive/My Drive/public/AMLSII_19-20_SN18154195/requirements.txt (line 366)) (2.0.0)\n",
            "Requirement already satisfied: zipp==3.1.0 in /usr/local/lib/python3.6/dist-packages (from -r /content/drive/My Drive/public/AMLSII_19-20_SN18154195/requirements.txt (line 367)) (3.1.0)\n",
            "Requirement already satisfied: wheel<1.0,>=0.23.0 in /usr/local/lib/python3.6/dist-packages (from astunparse==1.6.3->-r /content/drive/My Drive/public/AMLSII_19-20_SN18154195/requirements.txt (line 8)) (0.34.2)\n",
            "Requirement already satisfied: setuptools in /usr/local/lib/python3.6/dist-packages (from chainer==6.5.0->-r /content/drive/My Drive/public/AMLSII_19-20_SN18154195/requirements.txt (line 30)) (46.1.3)\n",
            "Building wheels for collected packages: cvxpy, SQLAlchemy\n",
            "  Building wheel for cvxpy (PEP 517) ... \u001b[?25l\u001b[?25hdone\n",
            "  Created wheel for cvxpy: filename=cvxpy-1.0.28-cp36-cp36m-linux_x86_64.whl size=2114387 sha256=b742671b6c383e30371e9d0816038b0e479fc73538209ac9b167e346d34f8537\n",
            "  Stored in directory: /root/.cache/pip/wheels/c0/39/27/b05cd1ca18445ed4b54c8fe7ecae57dae188cc55b7dd2bbfbf\n",
            "  Building wheel for SQLAlchemy (PEP 517) ... \u001b[?25l\u001b[?25hdone\n",
            "  Created wheel for SQLAlchemy: filename=SQLAlchemy-1.3.15-cp36-cp36m-linux_x86_64.whl size=1228324 sha256=e6f70b06a4a4bc971dc04d73d11832081f97f3f92acd6bfc4f2638e63c462768\n",
            "  Stored in directory: /root/.cache/pip/wheels/24/7f/c8/8d776916c91c613d593f39a98cad373442c7f77027340eb1ec\n",
            "Successfully built cvxpy SQLAlchemy\n",
            "Building wheels for collected packages: image, python-louvain, smart-open, umap-learn\n",
            "  Building wheel for image (setup.py) ... \u001b[?25l\u001b[?25hdone\n",
            "  Created wheel for image: filename=image-1.5.28-py2.py3-none-any.whl size=19515 sha256=c3cf7ecf29547c95cf8f53972f905431a9426f365252a5a0f165e3110e4c5446\n",
            "  Stored in directory: /root/.cache/pip/wheels/17/c3/b2/0435a955f6cf071224a9b226071e9798dc2289dd9b37115fc6\n",
            "  Building wheel for python-louvain (setup.py) ... \u001b[?25l\u001b[?25hdone\n",
            "  Created wheel for python-louvain: filename=python_louvain-0.13-cp36-none-any.whl size=9223 sha256=7189b4c8e24eb2511bbf67888f01630b0fe5f3b561e4291054a39c0bcc03fd89\n",
            "  Stored in directory: /root/.cache/pip/wheels/f9/74/a9/14f051b00dddd46d71529db15507796da13a43ee2c0bc39def\n",
            "  Building wheel for smart-open (setup.py) ... \u001b[?25l\u001b[?25hdone\n",
            "  Created wheel for smart-open: filename=smart_open-1.10.0-cp36-none-any.whl size=90632 sha256=9fc4ff858a34de4be91433a823ac42709137447a496758cec079e5ecb475f876\n",
            "  Stored in directory: /root/.cache/pip/wheels/f8/00/d4/a6b8b6aa241459103d19e757f96645549dd562d5b5de653f44\n",
            "  Building wheel for umap-learn (setup.py) ... \u001b[?25l\u001b[?25hdone\n",
            "  Created wheel for umap-learn: filename=umap_learn-0.3.10-cp36-none-any.whl size=38882 sha256=199c84af287a971af62380a7a211a6fe235dacf9febabb905d00d7468354c734\n",
            "  Stored in directory: /root/.cache/pip/wheels/d0/f8/d5/8e3af3ee957feb9b403a060ebe72f7561887fef9dea658326e\n",
            "Successfully built image python-louvain smart-open umap-learn\n",
            "\u001b[31mERROR: qtconsole 4.7.2 has requirement pyzmq>=17.1, but you'll have pyzmq 17.0.0 which is incompatible.\u001b[0m\n",
            "\u001b[31mERROR: google-colab 1.0.0 has requirement ipykernel~=4.10, but you'll have ipykernel 4.6.1 which is incompatible.\u001b[0m\n",
            "\u001b[31mERROR: datascience 0.10.6 has requirement folium==0.2.1, but you'll have folium 0.8.3 which is incompatible.\u001b[0m\n",
            "\u001b[31mERROR: albumentations 0.1.12 has requirement imgaug<0.2.7,>=0.2.5, but you'll have imgaug 0.2.9 which is incompatible.\u001b[0m\n",
            "Installing collected packages: Jinja2, altair, astropy, botocore, boto3, certifi, cvxpy, Django, fastprogress, firebase-admin, Werkzeug, Flask, fsspec, grpcio, gspread-dataframe, httplib2, image, ipykernel, parso, jedi, Keras, kiwisolver, nbformat, numba, pyparsing, python-louvain, pyzmq, s3fs, smart-open, SQLAlchemy, tensorboard-plugin-wit, tensorflow, tensorflow-hub, tensorflow-metadata, umap-learn\n",
            "  Found existing installation: Jinja2 2.11.2\n",
            "    Uninstalling Jinja2-2.11.2:\n",
            "      Successfully uninstalled Jinja2-2.11.2\n",
            "  Found existing installation: altair 4.1.0\n",
            "    Uninstalling altair-4.1.0:\n",
            "      Successfully uninstalled altair-4.1.0\n",
            "  Found existing installation: astropy 4.0.1.post1\n",
            "    Uninstalling astropy-4.0.1.post1:\n",
            "      Successfully uninstalled astropy-4.0.1.post1\n",
            "  Found existing installation: botocore 1.15.39\n",
            "    Uninstalling botocore-1.15.39:\n",
            "      Successfully uninstalled botocore-1.15.39\n",
            "  Found existing installation: boto3 1.12.39\n",
            "    Uninstalling boto3-1.12.39:\n",
            "      Successfully uninstalled boto3-1.12.39\n",
            "  Found existing installation: certifi 2020.4.5.1\n",
            "    Uninstalling certifi-2020.4.5.1:\n",
            "      Successfully uninstalled certifi-2020.4.5.1\n",
            "  Found existing installation: cvxpy 1.0.31\n",
            "    Uninstalling cvxpy-1.0.31:\n",
            "      Successfully uninstalled cvxpy-1.0.31\n",
            "  Found existing installation: Django 3.0.5\n",
            "    Uninstalling Django-3.0.5:\n",
            "      Successfully uninstalled Django-3.0.5\n",
            "  Found existing installation: fastprogress 0.2.3\n",
            "    Uninstalling fastprogress-0.2.3:\n",
            "      Successfully uninstalled fastprogress-0.2.3\n",
            "  Found existing installation: firebase-admin 4.0.1\n",
            "    Uninstalling firebase-admin-4.0.1:\n",
            "      Successfully uninstalled firebase-admin-4.0.1\n",
            "  Found existing installation: Werkzeug 1.0.1\n",
            "    Uninstalling Werkzeug-1.0.1:\n",
            "      Successfully uninstalled Werkzeug-1.0.1\n",
            "  Found existing installation: Flask 1.1.2\n",
            "    Uninstalling Flask-1.1.2:\n",
            "      Successfully uninstalled Flask-1.1.2\n",
            "  Found existing installation: fsspec 0.7.2\n",
            "    Uninstalling fsspec-0.7.2:\n",
            "      Successfully uninstalled fsspec-0.7.2\n",
            "  Found existing installation: grpcio 1.28.1\n",
            "    Uninstalling grpcio-1.28.1:\n",
            "      Successfully uninstalled grpcio-1.28.1\n",
            "  Found existing installation: gspread-dataframe 3.0.5\n",
            "    Uninstalling gspread-dataframe-3.0.5:\n",
            "      Successfully uninstalled gspread-dataframe-3.0.5\n",
            "  Found existing installation: httplib2 0.17.2\n",
            "    Uninstalling httplib2-0.17.2:\n",
            "      Successfully uninstalled httplib2-0.17.2\n",
            "  Found existing installation: image 1.5.30\n",
            "    Uninstalling image-1.5.30:\n",
            "      Successfully uninstalled image-1.5.30\n",
            "  Found existing installation: ipykernel 4.10.1\n",
            "    Uninstalling ipykernel-4.10.1:\n",
            "      Successfully uninstalled ipykernel-4.10.1\n",
            "  Found existing installation: parso 0.7.0\n",
            "    Uninstalling parso-0.7.0:\n",
            "      Successfully uninstalled parso-0.7.0\n",
            "  Found existing installation: jedi 0.17.0\n",
            "    Uninstalling jedi-0.17.0:\n",
            "      Successfully uninstalled jedi-0.17.0\n",
            "  Found existing installation: Keras 2.3.1\n",
            "    Uninstalling Keras-2.3.1:\n",
            "      Successfully uninstalled Keras-2.3.1\n",
            "  Found existing installation: kiwisolver 1.2.0\n",
            "    Uninstalling kiwisolver-1.2.0:\n",
            "      Successfully uninstalled kiwisolver-1.2.0\n",
            "  Found existing installation: nbformat 5.0.5\n",
            "    Uninstalling nbformat-5.0.5:\n",
            "      Successfully uninstalled nbformat-5.0.5\n",
            "  Found existing installation: numba 0.48.0\n",
            "    Uninstalling numba-0.48.0:\n",
            "      Successfully uninstalled numba-0.48.0\n",
            "  Found existing installation: pyparsing 2.4.7\n",
            "    Uninstalling pyparsing-2.4.7:\n",
            "      Successfully uninstalled pyparsing-2.4.7\n",
            "  Found existing installation: python-louvain 0.14\n",
            "    Uninstalling python-louvain-0.14:\n",
            "      Successfully uninstalled python-louvain-0.14\n",
            "  Found existing installation: pyzmq 19.0.0\n",
            "    Uninstalling pyzmq-19.0.0:\n",
            "      Successfully uninstalled pyzmq-19.0.0\n",
            "  Found existing installation: s3fs 0.4.2\n",
            "    Uninstalling s3fs-0.4.2:\n",
            "      Successfully uninstalled s3fs-0.4.2\n",
            "  Found existing installation: smart-open 1.11.1\n",
            "    Uninstalling smart-open-1.11.1:\n",
            "      Successfully uninstalled smart-open-1.11.1\n",
            "  Found existing installation: SQLAlchemy 1.3.16\n",
            "    Uninstalling SQLAlchemy-1.3.16:\n",
            "      Successfully uninstalled SQLAlchemy-1.3.16\n",
            "  Found existing installation: tensorboard-plugin-wit 1.6.0.post3\n",
            "    Uninstalling tensorboard-plugin-wit-1.6.0.post3:\n",
            "      Successfully uninstalled tensorboard-plugin-wit-1.6.0.post3\n",
            "  Found existing installation: tensorflow 2.2.0rc3\n",
            "    Uninstalling tensorflow-2.2.0rc3:\n",
            "      Successfully uninstalled tensorflow-2.2.0rc3\n",
            "  Found existing installation: tensorflow-hub 0.8.0\n",
            "    Uninstalling tensorflow-hub-0.8.0:\n",
            "      Successfully uninstalled tensorflow-hub-0.8.0\n",
            "  Found existing installation: tensorflow-metadata 0.21.2\n",
            "    Uninstalling tensorflow-metadata-0.21.2:\n",
            "      Successfully uninstalled tensorflow-metadata-0.21.2\n",
            "  Found existing installation: umap-learn 0.4.1\n",
            "    Uninstalling umap-learn-0.4.1:\n",
            "      Successfully uninstalled umap-learn-0.4.1\n",
            "Successfully installed Django-3.0.4 Flask-1.1.1 Jinja2-2.11.1 Keras-2.2.5 SQLAlchemy-1.3.15 Werkzeug-1.0.0 altair-4.0.1 astropy-4.0.1 boto3-1.12.31 botocore-1.15.31 certifi-2019.11.28 cvxpy-1.0.28 fastprogress-0.2.2 firebase-admin-4.0.0 fsspec-0.7.0 grpcio-1.27.2 gspread-dataframe-3.0.4 httplib2-0.17.0 image-1.5.28 ipykernel-4.6.1 jedi-0.16.0 kiwisolver-1.1.0 nbformat-5.0.4 numba-0.47.0 parso-0.6.2 pyparsing-2.4.6 python-louvain-0.13 pyzmq-17.0.0 s3fs-0.4.1 smart-open-1.10.0 tensorboard-plugin-wit-1.6.0.post2 tensorflow-2.2.0rc2 tensorflow-hub-0.7.0 tensorflow-metadata-0.21.1 umap-learn-0.3.10\n"
          ],
          "name": "stdout"
        },
        {
          "output_type": "display_data",
          "data": {
            "application/vnd.colab-display-data+json": {
              "pip_warning": {
                "packages": [
                  "certifi",
                  "grpc",
                  "ipykernel",
                  "kiwisolver",
                  "pyparsing",
                  "zmq"
                ]
              }
            }
          },
          "metadata": {
            "tags": []
          }
        }
      ]
    },
    {
      "cell_type": "markdown",
      "metadata": {
        "id": "RuEK2LfkrPYV",
        "colab_type": "text"
      },
      "source": [
        "# Load Dataset and Data Preprocessing"
      ]
    },
    {
      "cell_type": "markdown",
      "metadata": {
        "id": "6EVaQRfoFLyT",
        "colab_type": "text"
      },
      "source": [
        "## Preprocess Additional Dataset\n",
        "In task A, there are some additional datasets (sms and livejournal datasets) that were given from the competition apart from the standard twitter corpus. We can use both of these additional datasets, after we preprocess the formatting so that it matches the rest of the twitter datasets."
      ]
    },
    {
      "cell_type": "code",
      "metadata": {
        "id": "RUAJontBFp21",
        "colab_type": "code",
        "outputId": "c8b11a22-79e5-43f2-b3e9-9615d0442bdc",
        "colab": {
          "base_uri": "https://localhost:8080/",
          "height": 493
        }
      },
      "source": [
        "task_a_train_additional_dfs = {}\n",
        "\n",
        "for filename in cfg['paths']['train_additional_dataset_filenames']:\n",
        "  # read additional corpora\n",
        "  task_a_train_additional_dfs[filename] = pd.read_csv(os.path.join(cfg['paths']['train_folder_task_a'], filename), sep='\\t', header=None, quoting=csv.QUOTE_NONE)\n",
        "  \n",
        "  if filename == 'livejournal-2014test-A.tsv':\n",
        "    # remove the 0-th column from livejournal corpora, as it is unnecessary\n",
        "    task_a_train_additional_dfs[filename] = task_a_train_additional_dfs[filename].drop(columns=[0])\n",
        "  elif filename == 'sms-2013test-A.tsv':\n",
        "    # remove the 1st column from sms corpora, as it is unnecessary\n",
        "    task_a_train_additional_dfs[filename] = task_a_train_additional_dfs[filename].drop(columns=[1])\n",
        "  \n",
        "  # reset the column index to make it incremental\n",
        "  task_a_train_additional_dfs[filename].columns = range(task_a_train_additional_dfs[filename].shape[1])\n",
        "  \n",
        "  print(task_a_train_additional_dfs[filename])"
      ],
      "execution_count": 4,
      "outputs": [
        {
          "output_type": "stream",
          "text": [
            "             0         1                                                  2\n",
            "0     LJ111111  negative  I know I missed something here , but what does...\n",
            "1     LJ111113   neutral  What do you think of Beside Ourselves as a tit...\n",
            "2     LJ111114  positive                    :D I intend to be one someday .\n",
            "3     LJ111117  negative  LLLINKKK LLLINKKK IIIMAGEEELLLINKKK The choice...\n",
            "4     LJ111119   neutral                     LLLINKKK Some more mountains .\n",
            "...        ...       ...                                                ...\n",
            "1137  LJ113616  positive                     Maybe it was - his - fantasy ?\n",
            "1138  LJ113618  negative  It was ok , but they always just seem so nervo...\n",
            "1139  LJ113621  positive  It is streamable from YepRoc -- matter of fact...\n",
            "1140  LJ113623  positive  comment telling me who you are , or how you fo...\n",
            "1141  LJ113625   neutral  im on myspace ... ill try and find you and add...\n",
            "\n",
            "[1142 rows x 3 columns]\n",
            "          0         1                                                  2\n",
            "0     10936   neutral  Yes i am going from school have class till 5 c...\n",
            "1     11051   neutral  can u tape the match for me?  i\\u2019ll rush o...\n",
            "2     10966   neutral  Too many people at my house my relatives are h...\n",
            "3     11211  negative  Yea I have spoken to him liao. Indeed he is up...\n",
            "4     11350  positive  Haha... I want to see. E macdonalds here cheap...\n",
            "...     ...       ...                                                ...\n",
            "2089  10038  negative  Oki... Think i\\u2019m confused... I only know ...\n",
            "2090  11799   neutral  Yup... Ok i go home look at the timings then i...\n",
            "2091  11945   neutral            Here got lots of hair dresser fr china.\n",
            "2092  10154   neutral  no alh  we are not discussing fromt he viewpoi...\n",
            "2093  11428   neutral  Not dat i dun wan sign up but i wan only for a...\n",
            "\n",
            "[2094 rows x 3 columns]\n"
          ],
          "name": "stdout"
        }
      ]
    },
    {
      "cell_type": "markdown",
      "metadata": {
        "id": "FH283206E6BF",
        "colab_type": "text"
      },
      "source": [
        "## Make Datasets As Pandas' DataFrames and Cleaning Dataset\n",
        "\n"
      ]
    },
    {
      "cell_type": "code",
      "metadata": {
        "id": "LgC4YYhHrtdb",
        "colab_type": "code",
        "colab": {}
      },
      "source": [
        "def append_txt_files_as_one_dataframe(folderpath, filename_keywords_list, additional_dataset_dfs=None):\n",
        "  dataset_per_file_dfs = {}\n",
        "  dataset_df = pd.DataFrame()\n",
        "  filenames = os.listdir(folderpath)\n",
        "  \n",
        "  # open txt files (in tsv formatting)\n",
        "  for filename in filenames:\n",
        "    # if the filename contains a keyword in the filename_keywords_list, then open the txt file\n",
        "    # this is to avoid opening unnecessary txt such as readme.txt file.\n",
        "    if any(keyword in filename for keyword in filename_keywords_list):\n",
        "      dataset_per_file_dfs[filename] = pd.read_csv(os.path.join(folderpath, filename), sep=\"\\t\", header=None, quoting=csv.QUOTE_NONE)\n",
        "      print('shape : ', dataset_per_file_dfs[filename].shape, '\\tfilename: ', filename)\n",
        "\n",
        "  # combine the original dataset with additional dataset (if any)\n",
        "  if additional_dataset_dfs is not None:\n",
        "    for key, value in additional_dataset_dfs.items():\n",
        "      dataset_per_file_dfs[key] = value\n",
        "\n",
        "  # append all the files as one dataframe\n",
        "  for key, value in dataset_per_file_dfs.items():\n",
        "    # print(key, '\\t', i, '\\t', dataset_per_file_df[key].shape[0])\n",
        "    dataset_df = dataset_df.append(dataset_per_file_dfs[key], ignore_index=True)\n",
        "  return dataset_df"
      ],
      "execution_count": 0,
      "outputs": []
    },
    {
      "cell_type": "code",
      "metadata": {
        "id": "qXBTf96GQeBI",
        "colab_type": "code",
        "colab": {}
      },
      "source": [
        "def clean_dataframe_format(df, new_column_name_list, drop_column_list=[]):\n",
        "  # drop unnecessary column\n",
        "  df = df.drop(columns=drop_column_list)\n",
        "  \n",
        "  # rename column\n",
        "  df.columns = new_column_name_list\n",
        "\n",
        "  # remove row in dataframe if the 'text' or 'sentiment' column value is missing\n",
        "  df = df.dropna(subset=['sentiment', 'text'], how='any').reset_index(drop=True)\n",
        "  \n",
        "  # remove row if the sentiment is not 'positive', 'negative' or 'neutral'\n",
        "  # this happens in the dataset, for example, there are some rows\n",
        "  # where its sentiments are 'off topic'\n",
        "  valid_sentiments = ['positive', 'negative', 'neutral']\n",
        "  df = df[df['sentiment'].isin(valid_sentiments)].reset_index(drop=True)\n",
        "  return df"
      ],
      "execution_count": 0,
      "outputs": []
    },
    {
      "cell_type": "code",
      "metadata": {
        "id": "znGSEFNntmVa",
        "colab_type": "code",
        "outputId": "4f8fcb7c-6ae1-4019-cc8b-ca6bbd832e1d",
        "colab": {
          "base_uri": "https://localhost:8080/",
          "height": 204
        }
      },
      "source": [
        "# read dataset files and append it as one pandas dataframe\n",
        "if cfg['task_a']['use_additional_dataset']:\n",
        "  task_a_train_df = append_txt_files_as_one_dataframe(cfg['paths']['train_folder_task_a'], ['twitter'], task_a_train_additional_dfs)\n",
        "else:\n",
        "  task_a_train_df = append_txt_files_as_one_dataframe(cfg['paths']['train_folder_task_a'], ['twitter'])\n",
        "\n",
        "task_a_train_df = clean_dataframe_format(task_a_train_df, ['id', 'sentiment', 'text'], drop_column_list=[3])"
      ],
      "execution_count": 7,
      "outputs": [
        {
          "output_type": "stream",
          "text": [
            "shape :  (2000, 3) \tfilename:  twitter-2016devtest-A.txt\n",
            "shape :  (1999, 3) \tfilename:  twitter-2016dev-A.txt\n",
            "shape :  (6000, 3) \tfilename:  twitter-2016train-A.txt\n",
            "shape :  (1654, 3) \tfilename:  twitter-2013dev-A.txt\n",
            "shape :  (3547, 3) \tfilename:  twitter-2013test-A.txt\n",
            "shape :  (9684, 3) \tfilename:  twitter-2013train-A.txt\n",
            "shape :  (1853, 3) \tfilename:  twitter-2014test-A.txt\n",
            "shape :  (2390, 3) \tfilename:  twitter-2015test-A.txt\n",
            "shape :  (489, 3) \tfilename:  twitter-2015train-A.txt\n",
            "shape :  (86, 3) \tfilename:  twitter-2014sarcasm-A.txt\n",
            "shape :  (20633, 4) \tfilename:  twitter-2016test-A.txt\n"
          ],
          "name": "stdout"
        }
      ]
    },
    {
      "cell_type": "code",
      "metadata": {
        "id": "R_Aem1fwuZB8",
        "colab_type": "code",
        "outputId": "6986be80-482c-4716-d71f-c0e00c00d87f",
        "colab": {
          "base_uri": "https://localhost:8080/",
          "height": 306
        }
      },
      "source": [
        "task_b_train_df = append_txt_files_as_one_dataframe(cfg['paths']['train_folder_task_b'], ['twitter'])\n",
        "task_b_train_df = clean_dataframe_format(task_b_train_df, ['id', 'topic','sentiment', 'text'], drop_column_list=[4])\n",
        "task_b_train_df.info()"
      ],
      "execution_count": 8,
      "outputs": [
        {
          "output_type": "stream",
          "text": [
            "shape :  (4346, 4) \tfilename:  twitter-2016train-BD.txt\n",
            "shape :  (1325, 4) \tfilename:  twitter-2016dev-BD.txt\n",
            "shape :  (1417, 4) \tfilename:  twitter-2016devtest-BD.txt\n",
            "shape :  (489, 4) \tfilename:  twitter-2015train-BD.txt\n",
            "shape :  (10552, 5) \tfilename:  twitter-2016test-BD.txt\n",
            "shape :  (2383, 5) \tfilename:  twitter-2015testBD.txt\n",
            "<class 'pandas.core.frame.DataFrame'>\n",
            "RangeIndex: 20508 entries, 0 to 20507\n",
            "Data columns (total 4 columns):\n",
            " #   Column     Non-Null Count  Dtype \n",
            "---  ------     --------------  ----- \n",
            " 0   id         20508 non-null  object\n",
            " 1   topic      20508 non-null  object\n",
            " 2   sentiment  20508 non-null  object\n",
            " 3   text       20508 non-null  object\n",
            "dtypes: object(4)\n",
            "memory usage: 641.0+ KB\n"
          ],
          "name": "stdout"
        }
      ]
    },
    {
      "cell_type": "code",
      "metadata": {
        "id": "1iApuaK7wj9O",
        "colab_type": "code",
        "outputId": "8958914a-a9f6-4e35-d9f1-0df252c27b70",
        "colab": {
          "base_uri": "https://localhost:8080/",
          "height": 419
        }
      },
      "source": [
        "task_a_test_df = pd.read_csv(cfg['paths']['test_file_task_a'], sep='\\t', header=None, quoting=csv.QUOTE_NONE)\n",
        "task_a_test_df = clean_dataframe_format(task_a_test_df, ['id', 'sentiment', 'text'])\n",
        "task_a_test_df"
      ],
      "execution_count": 9,
      "outputs": [
        {
          "output_type": "execute_result",
          "data": {
            "text/html": [
              "<div>\n",
              "<style scoped>\n",
              "    .dataframe tbody tr th:only-of-type {\n",
              "        vertical-align: middle;\n",
              "    }\n",
              "\n",
              "    .dataframe tbody tr th {\n",
              "        vertical-align: top;\n",
              "    }\n",
              "\n",
              "    .dataframe thead th {\n",
              "        text-align: right;\n",
              "    }\n",
              "</style>\n",
              "<table border=\"1\" class=\"dataframe\">\n",
              "  <thead>\n",
              "    <tr style=\"text-align: right;\">\n",
              "      <th></th>\n",
              "      <th>id</th>\n",
              "      <th>sentiment</th>\n",
              "      <th>text</th>\n",
              "    </tr>\n",
              "  </thead>\n",
              "  <tbody>\n",
              "    <tr>\n",
              "      <th>0</th>\n",
              "      <td>801989080477154944</td>\n",
              "      <td>neutral</td>\n",
              "      <td>#ArianaGrande Ari By Ariana Grande 80% Full ht...</td>\n",
              "    </tr>\n",
              "    <tr>\n",
              "      <th>1</th>\n",
              "      <td>801989272341453952</td>\n",
              "      <td>positive</td>\n",
              "      <td>Ariana Grande KIIS FM Yours Truly CD listening...</td>\n",
              "    </tr>\n",
              "    <tr>\n",
              "      <th>2</th>\n",
              "      <td>801990978424962944</td>\n",
              "      <td>positive</td>\n",
              "      <td>Ariana Grande White House Easter Egg Roll in W...</td>\n",
              "    </tr>\n",
              "    <tr>\n",
              "      <th>3</th>\n",
              "      <td>801996232553963008</td>\n",
              "      <td>positive</td>\n",
              "      <td>#CD #Musics Ariana Grande Sweet Like Candy 3.4...</td>\n",
              "    </tr>\n",
              "    <tr>\n",
              "      <th>4</th>\n",
              "      <td>801998343442407040</td>\n",
              "      <td>neutral</td>\n",
              "      <td>SIDE TO SIDE 😘 @arianagrande #sidetoside #aria...</td>\n",
              "    </tr>\n",
              "    <tr>\n",
              "      <th>...</th>\n",
              "      <td>...</td>\n",
              "      <td>...</td>\n",
              "      <td>...</td>\n",
              "    </tr>\n",
              "    <tr>\n",
              "      <th>12279</th>\n",
              "      <td>805699615781625856</td>\n",
              "      <td>positive</td>\n",
              "      <td>@dansen17 update: Zac Efron kissing a puppy ht...</td>\n",
              "    </tr>\n",
              "    <tr>\n",
              "      <th>12280</th>\n",
              "      <td>805701709356003328</td>\n",
              "      <td>neutral</td>\n",
              "      <td>#zac efron sex pic skins michelle sex https://...</td>\n",
              "    </tr>\n",
              "    <tr>\n",
              "      <th>12281</th>\n",
              "      <td>805701818357579776</td>\n",
              "      <td>neutral</td>\n",
              "      <td>First Look at Neighbors 2 with Zac Efron Shirt...</td>\n",
              "    </tr>\n",
              "    <tr>\n",
              "      <th>12282</th>\n",
              "      <td>805703557081075712</td>\n",
              "      <td>neutral</td>\n",
              "      <td>zac efron poses nude #lovely libra porn https:...</td>\n",
              "    </tr>\n",
              "    <tr>\n",
              "      <th>12283</th>\n",
              "      <td>805704324105940992</td>\n",
              "      <td>neutral</td>\n",
              "      <td>#Fashion #Style The Paperboy (NEW Blu-ray Disc...</td>\n",
              "    </tr>\n",
              "  </tbody>\n",
              "</table>\n",
              "<p>12284 rows × 3 columns</p>\n",
              "</div>"
            ],
            "text/plain": [
              "                       id  ...                                               text\n",
              "0      801989080477154944  ...  #ArianaGrande Ari By Ariana Grande 80% Full ht...\n",
              "1      801989272341453952  ...  Ariana Grande KIIS FM Yours Truly CD listening...\n",
              "2      801990978424962944  ...  Ariana Grande White House Easter Egg Roll in W...\n",
              "3      801996232553963008  ...  #CD #Musics Ariana Grande Sweet Like Candy 3.4...\n",
              "4      801998343442407040  ...  SIDE TO SIDE 😘 @arianagrande #sidetoside #aria...\n",
              "...                   ...  ...                                                ...\n",
              "12279  805699615781625856  ...  @dansen17 update: Zac Efron kissing a puppy ht...\n",
              "12280  805701709356003328  ...  #zac efron sex pic skins michelle sex https://...\n",
              "12281  805701818357579776  ...  First Look at Neighbors 2 with Zac Efron Shirt...\n",
              "12282  805703557081075712  ...  zac efron poses nude #lovely libra porn https:...\n",
              "12283  805704324105940992  ...  #Fashion #Style The Paperboy (NEW Blu-ray Disc...\n",
              "\n",
              "[12284 rows x 3 columns]"
            ]
          },
          "metadata": {
            "tags": []
          },
          "execution_count": 9
        }
      ]
    },
    {
      "cell_type": "code",
      "metadata": {
        "id": "KqE-Y6XJBeA2",
        "colab_type": "code",
        "outputId": "701d95d6-278a-42de-b957-b78334e6fdca",
        "colab": {
          "base_uri": "https://localhost:8080/",
          "height": 419
        }
      },
      "source": [
        "task_b_test_df = pd.read_csv(cfg['paths']['test_file_task_b'], sep='\\t', header=None, quoting=csv.QUOTE_NONE)\n",
        "task_b_test_df = clean_dataframe_format(task_b_test_df, ['id', 'topic', 'sentiment', 'text'])\n",
        "task_b_test_df"
      ],
      "execution_count": 10,
      "outputs": [
        {
          "output_type": "execute_result",
          "data": {
            "text/html": [
              "<div>\n",
              "<style scoped>\n",
              "    .dataframe tbody tr th:only-of-type {\n",
              "        vertical-align: middle;\n",
              "    }\n",
              "\n",
              "    .dataframe tbody tr th {\n",
              "        vertical-align: top;\n",
              "    }\n",
              "\n",
              "    .dataframe thead th {\n",
              "        text-align: right;\n",
              "    }\n",
              "</style>\n",
              "<table border=\"1\" class=\"dataframe\">\n",
              "  <thead>\n",
              "    <tr style=\"text-align: right;\">\n",
              "      <th></th>\n",
              "      <th>id</th>\n",
              "      <th>topic</th>\n",
              "      <th>sentiment</th>\n",
              "      <th>text</th>\n",
              "    </tr>\n",
              "  </thead>\n",
              "  <tbody>\n",
              "    <tr>\n",
              "      <th>0</th>\n",
              "      <td>801989272341453952</td>\n",
              "      <td>#ArianaGrande</td>\n",
              "      <td>positive</td>\n",
              "      <td>Ariana Grande KIIS FM Yours Truly CD listening...</td>\n",
              "    </tr>\n",
              "    <tr>\n",
              "      <th>1</th>\n",
              "      <td>801990978424962944</td>\n",
              "      <td>#ArianaGrande</td>\n",
              "      <td>positive</td>\n",
              "      <td>Ariana Grande White House Easter Egg Roll in W...</td>\n",
              "    </tr>\n",
              "    <tr>\n",
              "      <th>2</th>\n",
              "      <td>801996232553963008</td>\n",
              "      <td>#ArianaGrande</td>\n",
              "      <td>positive</td>\n",
              "      <td>#CD #Musics Ariana Grande Sweet Like Candy 3.4...</td>\n",
              "    </tr>\n",
              "    <tr>\n",
              "      <th>3</th>\n",
              "      <td>801998343442407040</td>\n",
              "      <td>#ArianaGrande</td>\n",
              "      <td>positive</td>\n",
              "      <td>SIDE TO SIDE 😘 @arianagrande #sidetoside #aria...</td>\n",
              "    </tr>\n",
              "    <tr>\n",
              "      <th>4</th>\n",
              "      <td>802001659970744064</td>\n",
              "      <td>#ArianaGrande</td>\n",
              "      <td>positive</td>\n",
              "      <td>Hairspray Live! Previews at the Macy's Thanksg...</td>\n",
              "    </tr>\n",
              "    <tr>\n",
              "      <th>...</th>\n",
              "      <td>...</td>\n",
              "      <td>...</td>\n",
              "      <td>...</td>\n",
              "      <td>...</td>\n",
              "    </tr>\n",
              "    <tr>\n",
              "      <th>6180</th>\n",
              "      <td>805696468959002624</td>\n",
              "      <td>zac efron</td>\n",
              "      <td>positive</td>\n",
              "      <td>Abby *talking about the Hamilton soundtrack\": ...</td>\n",
              "    </tr>\n",
              "    <tr>\n",
              "      <th>6181</th>\n",
              "      <td>805699412257181697</td>\n",
              "      <td>zac efron</td>\n",
              "      <td>positive</td>\n",
              "      <td>can we like get zac efron or justin bieber for...</td>\n",
              "    </tr>\n",
              "    <tr>\n",
              "      <th>6182</th>\n",
              "      <td>805699615781625856</td>\n",
              "      <td>zac efron</td>\n",
              "      <td>positive</td>\n",
              "      <td>@dansen17 update: Zac Efron kissing a puppy ht...</td>\n",
              "    </tr>\n",
              "    <tr>\n",
              "      <th>6183</th>\n",
              "      <td>805701818357579776</td>\n",
              "      <td>zac efron</td>\n",
              "      <td>positive</td>\n",
              "      <td>First Look at Neighbors 2 with Zac Efron Shirt...</td>\n",
              "    </tr>\n",
              "    <tr>\n",
              "      <th>6184</th>\n",
              "      <td>805703557081075712</td>\n",
              "      <td>zac efron</td>\n",
              "      <td>positive</td>\n",
              "      <td>zac efron poses nude #lovely libra porn https:...</td>\n",
              "    </tr>\n",
              "  </tbody>\n",
              "</table>\n",
              "<p>6185 rows × 4 columns</p>\n",
              "</div>"
            ],
            "text/plain": [
              "                      id  ...                                               text\n",
              "0     801989272341453952  ...  Ariana Grande KIIS FM Yours Truly CD listening...\n",
              "1     801990978424962944  ...  Ariana Grande White House Easter Egg Roll in W...\n",
              "2     801996232553963008  ...  #CD #Musics Ariana Grande Sweet Like Candy 3.4...\n",
              "3     801998343442407040  ...  SIDE TO SIDE 😘 @arianagrande #sidetoside #aria...\n",
              "4     802001659970744064  ...  Hairspray Live! Previews at the Macy's Thanksg...\n",
              "...                  ...  ...                                                ...\n",
              "6180  805696468959002624  ...  Abby *talking about the Hamilton soundtrack\": ...\n",
              "6181  805699412257181697  ...  can we like get zac efron or justin bieber for...\n",
              "6182  805699615781625856  ...  @dansen17 update: Zac Efron kissing a puppy ht...\n",
              "6183  805701818357579776  ...  First Look at Neighbors 2 with Zac Efron Shirt...\n",
              "6184  805703557081075712  ...  zac efron poses nude #lovely libra porn https:...\n",
              "\n",
              "[6185 rows x 4 columns]"
            ]
          },
          "metadata": {
            "tags": []
          },
          "execution_count": 10
        }
      ]
    },
    {
      "cell_type": "code",
      "metadata": {
        "id": "0OirqNXwXfQx",
        "colab_type": "code",
        "colab": {}
      },
      "source": [
        "# Checking and compare the frequency with what's written in the paper\n",
        "# # save dataset as csv file\n",
        "# task_a_train_df.to_csv('coba_train_a.csv', sep='\\t')\n",
        "\n",
        "# assert task_a_train_df[task_a_train_df['sentiment'] == 'positive'].shape[0] == 19902  #SALAH\n",
        "assert task_a_train_df[task_a_train_df['sentiment'] == 'negative'].shape[0] == 7840\n",
        "assert task_a_train_df[task_a_train_df['sentiment'] == 'neutral'].shape[0] == 22591\n",
        "\n",
        "assert task_a_test_df[task_a_test_df['sentiment'] == 'positive'].shape[0] == 2375\n",
        "assert task_a_test_df[task_a_test_df['sentiment'] == 'negative'].shape[0] == 3972\n",
        "assert task_a_test_df[task_a_test_df['sentiment'] == 'neutral'].shape[0] == 5937\n",
        "\n",
        "assert len(task_b_train_df['topic'].unique()) == 373\n",
        "assert task_b_train_df[task_b_train_df['sentiment'] == 'positive'].shape[0] == 14951\n",
        "assert task_b_train_df[task_b_train_df['sentiment'] == 'negative'].shape[0] == 4013\n",
        "assert task_b_train_df[task_b_train_df['sentiment'] == 'neutral'].shape[0] == 1544\n",
        "\n",
        "\n",
        "assert len(task_b_test_df['topic'].unique()) == 125\n",
        "assert task_b_test_df[task_b_test_df['sentiment'] == 'positive'].shape[0] == 2463\n",
        "assert task_b_test_df[task_b_test_df['sentiment'] == 'negative'].shape[0] == 3722"
      ],
      "execution_count": 0,
      "outputs": []
    },
    {
      "cell_type": "code",
      "metadata": {
        "id": "Tg90yjiKuw9Z",
        "colab_type": "code",
        "colab": {}
      },
      "source": [
        "# save the cleaned datasets as csv\n",
        "def df_to_csv(df, filtered_cols=[], csv_filename='output.csv', index_label='row_num'):\n",
        "  '''\n",
        "    df           : the panda dataframe\n",
        "    filtered_cols: if not empty, it will only include the listed column name\n",
        "    csv_filename : the csv filename\n",
        "    index_label  : column name for the dataframe's index in the csv\n",
        "  '''\n",
        "  # filtering columns\n",
        "  if len(filtered_cols) > 0:\n",
        "    df = df[filtered_cols]\n",
        "\n",
        "  # save to csv\n",
        "  df.to_csv(\n",
        "      csv_filename,\n",
        "      sep='\\t',\n",
        "      index_label=index_label\n",
        "  )\n",
        "\n",
        "df_to_csv(task_a_train_df, ['text', 'sentiment'], cfg['paths']['cleaned_train_a'])\n",
        "df_to_csv(task_a_test_df, ['text', 'sentiment'], cfg['paths']['cleaned_test_a'])\n",
        "\n",
        "df_to_csv(task_b_train_df, ['text', 'sentiment', 'topic'], cfg['paths']['cleaned_train_b'])\n",
        "df_to_csv(task_b_test_df, ['text', 'sentiment', 'topic'], cfg['paths']['cleaned_test_b'])"
      ],
      "execution_count": 0,
      "outputs": []
    },
    {
      "cell_type": "markdown",
      "metadata": {
        "id": "9KGklVjRx50N",
        "colab_type": "text"
      },
      "source": [
        "## Tokenization"
      ]
    },
    {
      "cell_type": "code",
      "metadata": {
        "id": "NwjXcI3Gx7xb",
        "colab_type": "code",
        "colab": {}
      },
      "source": [
        "# from sklearn.preprocessing import LabelEncoder\n",
        "# from ekphrasis.classes.tokenizer import SocialTokenizer\n",
        "# from ekphrasis.dicts.emoticons import emoticons\n",
        "# from ekphrasis.classes.preprocessor import TextPreProcessor\n",
        "\n",
        "# text_processor = TextPreProcessor(\n",
        "#   # normalized these terms (ex: \"google.com\" into \"<url>\")\n",
        "#   normalize = ['url', 'email', 'percent', 'money', 'phone', 'user',\n",
        "#               'time', 'date', 'number'],\n",
        "\n",
        "#   # annotate these terms (ex: \"#win\" into [\"<hashtag>\", \"win\", \"</hashtag>\"])\n",
        "#   annotate = {'hashtag', 'allcaps', 'elongated', 'repeated', 'emphasis', 'censored'},\n",
        "#   fix_html=True,\n",
        "#   segmenter = 'twitter',\n",
        "#   corrector='twitter',\n",
        "#   unpack_hashtags=True,\n",
        "#   unpack_contractions=True,\n",
        "#   # spell_correct_elong=False,\n",
        "#   spell_correct_elong=True,\n",
        "#   tokenizer = SocialTokenizer(lowercase=True).tokenize,\n",
        "#   dicts = [emoticons]\n",
        "# )\n",
        "\n",
        "# def tokenize_df(df, input_column_name='text', output_column_name='tokenized'):\n",
        "#   df[output_column_name] = df.apply(\n",
        "#     lambda row: text_processor.pre_process_doc(\n",
        "#         row[input_column_name]\n",
        "#     ),\n",
        "#     axis=1)\n",
        "  \n",
        "#   return df"
      ],
      "execution_count": 0,
      "outputs": []
    },
    {
      "cell_type": "code",
      "metadata": {
        "id": "paxv3Xsw0fkT",
        "colab_type": "code",
        "colab": {}
      },
      "source": [
        "# # tokenizer = nltk.tokenize.TweetTokenizer(\n",
        "# #     strip_handles = cfg['preprocessing']['tokenization']['remove_twitter_handle'],\n",
        "# #     preserve_case = cfg['preprocessing']['tokenization']['preserve_case']\n",
        "# # )\n",
        "\n",
        "# task_a_train_df = tokenize_df(task_a_train_df)\n",
        "# task_b_train_df = tokenize_df(task_b_train_df)\n",
        "# task_a_test_df = tokenize_df(task_a_test_df)\n",
        "# task_b_test_df = tokenize_df(task_b_test_df)\n",
        "\n",
        "\n",
        "# # print sample result\n",
        "# task_b_test_df.head(10)"
      ],
      "execution_count": 0,
      "outputs": []
    },
    {
      "cell_type": "markdown",
      "metadata": {
        "id": "iFnxpFTZEe7E",
        "colab_type": "text"
      },
      "source": [
        "# Exploratory Data Analysis (EDA)"
      ]
    },
    {
      "cell_type": "markdown",
      "metadata": {
        "id": "cUrnPEtN76nc",
        "colab_type": "text"
      },
      "source": [
        "## Word Cloud"
      ]
    },
    {
      "cell_type": "code",
      "metadata": {
        "id": "sXTNP_1975_d",
        "colab_type": "code",
        "colab": {}
      },
      "source": [
        "# def show_wordcloud(text, title, max_words=200):\n",
        "#   wc = WordCloud(\n",
        "#       max_words=max_words,\n",
        "#       background_color='white',\n",
        "#       # ranks_only= frequency\n",
        "#   ).generate(text)\n",
        "\n",
        "#   print(wc.words_)\n",
        "\n",
        "#   fig = plt.figure(1, figsize=(12, 12))\n",
        "#   fig.suptitle(title)\n",
        "#   plt.imshow(wc)\n",
        "#   plt.show()"
      ],
      "execution_count": 0,
      "outputs": []
    },
    {
      "cell_type": "code",
      "metadata": {
        "id": "0MWVlPVeEit3",
        "colab_type": "code",
        "colab": {}
      },
      "source": [
        "# df = task_b_train_df[task_b_train_df['sentiment'] == 'positive']['text'][4]\n",
        "# print(df)\n",
        "# # print(df.shape)\n",
        "# # show_wordcloud(str(df.values), 'judul', max_words=20000)\n",
        "\n",
        "# # print(df.shape)\n",
        "# word_string = \"you verse wrote book stand titlea i you you you kampung\"\n",
        "# print(type(word_string))\n",
        "# show_wordcloud(word_string, 'judul', max_words=20000)"
      ],
      "execution_count": 0,
      "outputs": []
    },
    {
      "cell_type": "code",
      "metadata": {
        "id": "d7YGmqNd2WrP",
        "colab_type": "code",
        "outputId": "1b9cc6eb-088e-40ac-c9c8-454ed40d929e",
        "colab": {
          "base_uri": "https://localhost:8080/",
          "height": 199
        }
      },
      "source": [
        "def show_autopct(pct, data):\n",
        "  absolute = int(pct/100.*np.sum(data))\n",
        "  return  \"{:d}\\n({:.1f}%)\".format(absolute, pct)\n",
        "  \n",
        "plt.subplot(1, 2, 1)\n",
        "task_a_train_df['sentiment'].value_counts().plot(\n",
        "    kind='pie',\n",
        "    autopct=lambda pct: show_autopct(pct, task_a_train_df['sentiment'].value_counts()),\n",
        "    colors=['lightgray', 'darkseagreen', 'lightcoral']\n",
        ");\n",
        "plt.title('Training Set');\n",
        "\n",
        "\n",
        "plt.subplot(1, 2, 2)\n",
        "task_a_test_df['sentiment'].value_counts().plot(\n",
        "    kind='pie',\n",
        "    # figsize=(7,4),\n",
        "    autopct=lambda pct: show_autopct(pct, task_a_test_df['sentiment'].value_counts()),\n",
        "    colors=['lightgray', 'darkseagreen', 'lightcoral']\n",
        ");\n",
        "plt.title('Testing Set');\n",
        "\n",
        "\n"
      ],
      "execution_count": 17,
      "outputs": [
        {
          "output_type": "display_data",
          "data": {
            "image/png": "[encoded data removed]",
            "text/plain": [
              "<Figure size 432x288 with 2 Axes>"
            ]
          },
          "metadata": {
            "tags": []
          }
        }
      ]
    },
    {
      "cell_type": "code",
      "metadata": {
        "id": "Gauu8B_i9XHn",
        "colab_type": "code",
        "outputId": "6ff9df2e-ca9f-4121-eccd-089b7a9d4c1d",
        "colab": {
          "base_uri": "https://localhost:8080/",
          "height": 419
        }
      },
      "source": [
        "task_b_train_df[task_b_train_df['text'].str.contains('not')]"
      ],
      "execution_count": 18,
      "outputs": [
        {
          "output_type": "execute_result",
          "data": {
            "text/html": [
              "<div>\n",
              "<style scoped>\n",
              "    .dataframe tbody tr th:only-of-type {\n",
              "        vertical-align: middle;\n",
              "    }\n",
              "\n",
              "    .dataframe tbody tr th {\n",
              "        vertical-align: top;\n",
              "    }\n",
              "\n",
              "    .dataframe thead th {\n",
              "        text-align: right;\n",
              "    }\n",
              "</style>\n",
              "<table border=\"1\" class=\"dataframe\">\n",
              "  <thead>\n",
              "    <tr style=\"text-align: right;\">\n",
              "      <th></th>\n",
              "      <th>id</th>\n",
              "      <th>topic</th>\n",
              "      <th>sentiment</th>\n",
              "      <th>text</th>\n",
              "    </tr>\n",
              "  </thead>\n",
              "  <tbody>\n",
              "    <tr>\n",
              "      <th>4</th>\n",
              "      <td>629226490152914944</td>\n",
              "      <td>@microsoft</td>\n",
              "      <td>positive</td>\n",
              "      <td>Microsoft, I may not prefer your gaming branch...</td>\n",
              "    </tr>\n",
              "    <tr>\n",
              "      <th>8</th>\n",
              "      <td>629797991826722816</td>\n",
              "      <td>@microsoft</td>\n",
              "      <td>negative</td>\n",
              "      <td>After attempting a reinstall, it still bricks,...</td>\n",
              "    </tr>\n",
              "    <tr>\n",
              "      <th>16</th>\n",
              "      <td>631543121407442946</td>\n",
              "      <td>@microsoft</td>\n",
              "      <td>negative</td>\n",
              "      <td>@Microsoft support for 365 has been terrible. ...</td>\n",
              "    </tr>\n",
              "    <tr>\n",
              "      <th>20</th>\n",
              "      <td>632536348419690496</td>\n",
              "      <td>@microsoft</td>\n",
              "      <td>negative</td>\n",
              "      <td>@eyesonfoxorg @Microsoft I'm still using Vista...</td>\n",
              "    </tr>\n",
              "    <tr>\n",
              "      <th>22</th>\n",
              "      <td>632810315227467776</td>\n",
              "      <td>@microsoft</td>\n",
              "      <td>negative</td>\n",
              "      <td>@MisterMetokur @Microsoft @ATT @NSAGov That's ...</td>\n",
              "    </tr>\n",
              "    <tr>\n",
              "      <th>...</th>\n",
              "      <td>...</td>\n",
              "      <td>...</td>\n",
              "      <td>...</td>\n",
              "      <td>...</td>\n",
              "    </tr>\n",
              "    <tr>\n",
              "      <th>20474</th>\n",
              "      <td>520384978820296705</td>\n",
              "      <td>yougov</td>\n",
              "      <td>negative</td>\n",
              "      <td>\"@LouiseBaldock great work; you may or may not...</td>\n",
              "    </tr>\n",
              "    <tr>\n",
              "      <th>20476</th>\n",
              "      <td>519600072971927555</td>\n",
              "      <td>yougov</td>\n",
              "      <td>neutral</td>\n",
              "      <td>\"YouGov tonight  shows 2% Labour lead. So head...</td>\n",
              "    </tr>\n",
              "    <tr>\n",
              "      <th>20481</th>\n",
              "      <td>519201436102848512</td>\n",
              "      <td>yougov</td>\n",
              "      <td>neutral</td>\n",
              "      <td>IF tonight's YouGov shows another Tory lead th...</td>\n",
              "    </tr>\n",
              "    <tr>\n",
              "      <th>20488</th>\n",
              "      <td>520337071345795073</td>\n",
              "      <td>yougov</td>\n",
              "      <td>neutral</td>\n",
              "      <td>\"Tonight's YouGov: Lab 35, Con 30, UKIP 15, Li...</td>\n",
              "    </tr>\n",
              "    <tr>\n",
              "      <th>20506</th>\n",
              "      <td>522912399322394624</td>\n",
              "      <td>younique</td>\n",
              "      <td>positive</td>\n",
              "      <td>Get the best mascara in the industry here! Im ...</td>\n",
              "    </tr>\n",
              "  </tbody>\n",
              "</table>\n",
              "<p>1558 rows × 4 columns</p>\n",
              "</div>"
            ],
            "text/plain": [
              "                       id  ...                                               text\n",
              "4      629226490152914944  ...  Microsoft, I may not prefer your gaming branch...\n",
              "8      629797991826722816  ...  After attempting a reinstall, it still bricks,...\n",
              "16     631543121407442946  ...  @Microsoft support for 365 has been terrible. ...\n",
              "20     632536348419690496  ...  @eyesonfoxorg @Microsoft I'm still using Vista...\n",
              "22     632810315227467776  ...  @MisterMetokur @Microsoft @ATT @NSAGov That's ...\n",
              "...                   ...  ...                                                ...\n",
              "20474  520384978820296705  ...  \"@LouiseBaldock great work; you may or may not...\n",
              "20476  519600072971927555  ...  \"YouGov tonight  shows 2% Labour lead. So head...\n",
              "20481  519201436102848512  ...  IF tonight's YouGov shows another Tory lead th...\n",
              "20488  520337071345795073  ...  \"Tonight's YouGov: Lab 35, Con 30, UKIP 15, Li...\n",
              "20506  522912399322394624  ...  Get the best mascara in the industry here! Im ...\n",
              "\n",
              "[1558 rows x 4 columns]"
            ]
          },
          "metadata": {
            "tags": []
          },
          "execution_count": 18
        }
      ]
    },
    {
      "cell_type": "code",
      "metadata": {
        "id": "nwFx7A43Aju4",
        "colab_type": "code",
        "outputId": "980e0bd2-a00a-43a9-e40c-36ab060d6975",
        "colab": {
          "base_uri": "https://localhost:8080/",
          "height": 1000
        }
      },
      "source": [
        "positive = task_b_train_df[task_b_train_df['sentiment'] == 'positive']['topic'].value_counts(sort=False).to_frame(name='positive')\n",
        "negative = task_b_train_df[task_b_train_df['sentiment'] == 'negative']['topic'].value_counts(sort=False).to_frame(name='negative')\n",
        "neutral = task_b_train_df[task_b_train_df['sentiment'] == 'neutral']['topic'].value_counts(sort=False).to_frame(name='neutral')\n",
        "# negative = task_b_train_df['topic'][task_b_train_df['sentiment'] == 'negative'].value_counts(sort=False)\n",
        "# neutral = task_b_train_df['topic'][task_b_train_df['sentiment'] == 'neutral'].value_counts(sort=False)\n",
        "joined = positive.join(negative).join(neutral)\n",
        "\n",
        "joined = joined[(joined['positive'] > 0) & (joined['negative']>0)]\n",
        "with pd.option_context('display.max_rows', None, 'display.max_columns', None):  # more options can be specified also\n",
        "    print(joined)"
      ],
      "execution_count": 19,
      "outputs": [
        {
          "output_type": "stream",
          "text": [
            "                       positive  negative  neutral\n",
            "muslims                      30      96.0      NaN\n",
            "monster hunter                9       1.0      7.0\n",
            "modi                          6       4.0      9.0\n",
            "ibm                          64       5.0      NaN\n",
            "red bull                      5       3.0     10.0\n",
            "nintendo                     54       8.0      NaN\n",
            "spx                           4       2.0     12.0\n",
            "stoops                        3       5.0     12.0\n",
            "bill maher                    4       6.0      9.0\n",
            "ps4                         105      10.0      NaN\n",
            "oracle                       46       8.0      NaN\n",
            "netflix                      88       6.0      7.0\n",
            "denzel                        5       1.0      4.0\n",
            "donald trump                 16      44.0      NaN\n",
            "amazon                       57      16.0      NaN\n",
            "saudi arabia                 14      57.0      NaN\n",
            "@microsoft                   34      46.0      NaN\n",
            "kendrick                    147      32.0      NaN\n",
            "david price                 114       9.0      NaN\n",
            "tom brady                    77      33.0      NaN\n",
            "georgia dome                  7       1.0     12.0\n",
            "bob marley                   89       3.0      NaN\n",
            "ric flair                    61       1.0      NaN\n",
            "grateful dead                86       2.0      NaN\n",
            "tgif                         84       2.0      NaN\n",
            "selena                        8       1.0     11.0\n",
            "game of thrones              83       3.0      NaN\n",
            "lee soo man                  12       2.0      2.0\n",
            "kershaw                       4       2.0     13.0\n",
            "carly fiorina               108      17.0      NaN\n",
            "sting                        77       2.0      NaN\n",
            "atleti                        3       3.0     10.0\n",
            "metlife                      69       5.0      NaN\n",
            "valentine 's day             54       7.0      NaN\n",
            "seinfeld                     75       2.0      NaN\n",
            "moto g                       58       4.0      NaN\n",
            "sharknado                   132      39.0      NaN\n",
            "naruto                      152      10.0      NaN\n",
            "independence day              6       1.0     12.0\n",
            "nirvana                     126       3.0      NaN\n",
            "aaron samuels                 2       4.0     11.0\n",
            "boehner                       1       7.0     10.0\n",
            "scott walker                 18      54.0      NaN\n",
            "afghans                       1       2.0      7.0\n",
            "rodgers                       3       5.0     10.0\n",
            "kurt cobain                  61       7.0      NaN\n",
            "wednesday adams               7       3.0      9.0\n",
            "hulk hogan                   44      50.0      NaN\n",
            "taylor swift                 84       1.0      NaN\n",
            "act                           1       2.0      5.0\n",
            "ghoncheh ghavami              3       1.0      2.0\n",
            "google+                      44      19.0      NaN\n",
            "national hot dog day        148       3.0      NaN\n",
            "jeb bush                      4      55.0      NaN\n",
            "zayn                        107      10.0      NaN\n",
            "scotus                       18      31.0      NaN\n",
            "apple watch                  53       8.0      NaN\n",
            "caitlyn jenner               24      69.0      NaN\n",
            "ventura                       8       2.0      8.0\n",
            "academy awards                1       2.0      7.0\n",
            "yoga                         80       1.0      NaN\n",
            "rebecca black                 6       3.0     10.0\n",
            "ashton                       12       2.0      5.0\n",
            "milan                       142      18.0      NaN\n",
            "christians                   56      50.0      NaN\n",
            "adidas                        1       1.0      8.0\n",
            "russell wilson                3       4.0     10.0\n",
            "brian kelly                   6       3.0      8.0\n",
            "bad blood                    49      17.0      NaN\n",
            "donny                         6       3.0      6.0\n",
            "ant-man                     221       8.0      NaN\n",
            "ukip                         28      31.0      NaN\n",
            "sony                         49      14.0      NaN\n",
            "james rodriguez              13       3.0      4.0\n",
            "atletico madrid               4       1.0     13.0\n",
            "dana white                   15      25.0      NaN\n",
            "lady gaga                    71       5.0      NaN\n",
            "ryan braun                   51       9.0      NaN\n",
            "bernie sanders               76       9.0      NaN\n",
            "green bay                     2       2.0     15.0\n",
            "rolling stone                39       8.0      NaN\n",
            "david wright                 92       7.0      NaN\n",
            "messi                        74       3.0      NaN\n",
            "kpop                         67       9.0      NaN\n",
            "snoop dogg                   61       6.0      NaN\n",
            "apple                        57      11.0      NaN\n",
            "brian cushing                 3       6.0     11.0\n",
            "jan hooks                     3       2.0      9.0\n",
            "charlie hebdo                12      43.0      NaN\n",
            "ac/dc                        89       2.0      NaN\n",
            "obama                        21      40.0      NaN\n",
            "gilmore girls                 7       4.0      7.0\n",
            "conor mcgregor               80       4.0      NaN\n",
            "liam                         11       2.0      7.0\n",
            "twilight                    114      28.0      NaN\n",
            "cate blanchett               41       2.0      NaN\n",
            "harry potter                 80       2.0      NaN\n",
            "kesha                         6       2.0     11.0\n",
            "trump                        26      42.0      NaN\n",
            "chris evans                  94      27.0      NaN\n",
            "miss usa                     41       6.0      NaN\n",
            "ios                          47       5.0      NaN\n",
            "galatasaray                   3       8.0      7.0\n",
            "eric church                  90       3.0      NaN\n",
            "zac brown band              110       3.0      NaN\n",
            "gucci                        68      18.0      NaN\n",
            "iphone                       65       5.0      NaN\n",
            "ucla                          2       1.0     16.0\n",
            "foo fighters                228       3.0      NaN\n",
            "thor                        138      18.0      NaN\n",
            "cupid                         1       2.0      7.0\n",
            "friday night lights          12       1.0      7.0\n",
            "kane                         62      31.0      NaN\n",
            "a$ap rocky                    6       1.0      3.0\n",
            "redskins                      4       2.0     14.0\n",
            "james franklin                2      10.0      7.0\n",
            "kim kardashian               34      23.0      NaN\n",
            "yougov                        5       3.0     11.0\n",
            "john kasich                  48      24.0      NaN\n",
            "tony blair                   10      65.0      NaN\n",
            "wwat                         13       1.0      5.0\n",
            "bentley                      65       3.0      NaN\n",
            "briana                       48      44.0      NaN\n",
            "harper                       18      41.0      NaN\n",
            "ice cube                    134      14.0      NaN\n",
            "xmas                          8       2.0      8.0\n",
            "michelle obama               47      17.0      NaN\n",
            "colts                        10       1.0      7.0\n",
            "super eagles                 38       2.0      NaN\n",
            "dark souls                   73      14.0      NaN\n",
            "yakub                         5     105.0      NaN\n",
            "magic mike xxl               89       3.0      NaN\n",
            "cowboys                       6       3.0      9.0\n",
            "iron maiden                 133       3.0      NaN\n",
            "ahs                          10       3.0      6.0\n",
            "serena                       73       1.0      NaN\n",
            "erdogan                       3      58.0      NaN\n",
            "islam                        68      69.0      NaN\n",
            "george osborne               29      39.0      NaN\n",
            "pride parade                 75       2.0      NaN\n",
            "carling cup                   3       1.0      5.0\n",
            "gay                          50      45.0      NaN\n",
            "eid                         123       4.0      NaN\n",
            "frank ocean                 110      38.0      NaN\n",
            "tvd                           9       2.0      5.0\n",
            "paul dunne                  142      10.0      NaN\n",
            "amazon prime day             43      43.0      NaN\n",
            "red sox                      73      22.0      NaN\n",
            "bolton                        3       1.0     13.0\n",
            "boise state                   4       1.0     11.0\n",
            "nike                         55       9.0      NaN\n",
            "lax                           5       1.0     14.0\n",
            "planned parenthood           11      46.0      NaN\n",
            "fleetwood mac                89       3.0      NaN\n",
            "vikings                       5       3.0     11.0\n",
            "lsu                           4       1.0     14.0\n",
            "arsenal                      45      15.0      8.0\n",
            "ihop                         81       3.0      NaN\n",
            "t-mobile                     44      21.0      NaN\n",
            "aaron rodgers                13       3.0     16.0\n",
            "the big bang theory           9       1.0     10.0\n",
            "icc                           5       1.0     13.0\n",
            "frank gifford               151       5.0      NaN\n",
            "paper towns                 167       8.0      NaN\n",
            "venice beach                 88       3.0      NaN\n",
            "michael jackson              75       1.0      NaN\n",
            "nicki                        99      32.0      NaN\n",
            "curtis                       86      13.0      NaN\n",
            "israel                       50      63.0      NaN\n",
            "simmons                      13       1.0      5.0\n",
            "floyd mayweather             37      27.0      NaN\n",
            "cannavaro                     5       2.0      2.0\n",
            "careless world                6       1.0      3.0\n",
            "disney                       12       1.0      7.0\n",
            "asiata                        1       4.0     14.0\n",
            "david cameron                25      38.0      NaN\n",
            "abc                           4       2.0     14.0\n",
            "josh hamilton                47       6.0      NaN\n",
            "democrats                     1       4.0      9.0\n",
            "bbc                          36      16.0      NaN\n",
            "jurassic park                86       2.0      NaN\n",
            "xbox                         55       7.0      NaN\n",
            "chris brown                  76       6.0      NaN\n",
            "beyonce                      84       2.0      NaN\n",
            "star wars                    88       2.0      NaN\n",
            "ancelotti                    10       2.0      8.0\n",
            "nabeel rajab                  1       3.0      2.0\n",
            "alonso                        1       7.0     11.0\n",
            "tiger woods                  46      19.0      NaN\n",
            "tom cruise                   61      13.0      NaN\n",
            "vettel                        3       2.0     14.0\n",
            "big brother                 135      38.0      NaN\n",
            "gandhi                        5       1.0     14.0\n",
            "monsanto                      7      54.0      NaN\n",
            "angela merkel                23      23.0      NaN\n",
            "janet jackson                95       3.0      NaN\n",
            "ed sheeran                  163       5.0      NaN\n",
            "white house                   2       1.0     17.0\n",
            "barca                        69       6.0      6.0\n",
            "federer                      75       1.0      NaN\n",
            "randy orton                  36       7.0      NaN\n",
            "arian foster                  8       3.0      6.0\n",
            "carlo ancelotti               9       3.0      7.0\n",
            "cfb                           2       1.0     17.0\n",
            "leeds united                  8       1.0     10.0\n",
            "jason aldean                138       2.0      NaN\n",
            "juventus                     35      11.0      NaN\n",
            "valentine                    55       4.0      NaN\n",
            "nokia                        59       9.0      NaN\n",
            "american horror story         8       5.0      5.0\n",
            "galaxy note                  71       6.0      NaN\n",
            "dean ambrose                 21       4.0      NaN\n",
            "paul mccartney              115       1.0      NaN\n",
            "swachh bharat                 3       2.0     15.0\n",
            "george harrison              48       1.0      NaN\n",
            "green day                     8       1.0      9.0\n",
            "hillary                      22      48.0      NaN\n",
            "kris jenner                   4       2.0     11.0\n",
            "john cena                   121      24.0      NaN\n",
            "rbi                           4       1.0     14.0\n",
            "lexus                        70       5.0      NaN\n",
            "seth rollins                 74      32.0      NaN\n",
            "shawn                       155       5.0      NaN\n",
            "ted 2                        81       7.0      NaN\n",
            "bellusci                      4       1.0      5.0\n",
            "watchman                     55       5.0      NaN\n",
            "narendra modi                 4       1.0     15.0\n",
            "white sox                    38      15.0      NaN\n",
            "chelsea                      59      10.0      5.0\n",
            "pope                         58       5.0      NaN\n",
            "carling cup final             3       1.0      6.0\n",
            "david bowie                  93       3.0      NaN\n",
            "tory                         14      46.0      NaN\n",
            "kendrick lamar               89      16.0      NaN\n",
            "murray                       90      24.0      NaN\n",
            "minecraft                    82       1.0      NaN\n",
            "hannibal                     82       4.0      NaN\n",
            "katy perry                   57       8.0      6.0\n",
            "bulls                         9       1.0     10.0\n",
            "real madrid                  19      16.0      NaN\n",
            "curtis painter                5       7.0      5.0\n",
            "rahul gandhi                 28      46.0      NaN\n",
            "digi                         72       2.0      NaN\n",
            "europa league                 3       2.0     15.0\n",
            "christian ponder              7       7.0      2.0\n",
            "ipad                         63       4.0      NaN\n",
            "school                        3      10.0      7.0\n",
            "charles darwin                1       1.0      5.0\n",
            "boko haram                    2     149.0      NaN\n",
            "labor day                    61       7.0      NaN\n",
            "prince george               125       2.0      NaN\n",
            "joe biden                    40      18.0      NaN\n",
            "jennifer lawrence             7       1.0     11.0\n",
            "rousey                       61      23.0      NaN\n",
            "batman                       64       5.0      NaN\n",
            "brock lesnar                108      14.0      NaN\n",
            "niall                       130      14.0     11.0\n",
            "packers                       6       2.0     10.0\n",
            "tsipras                      25      21.0      NaN\n",
            "justin                       69       9.0      NaN\n",
            "sarah palin                   7      53.0      NaN\n",
            "demi lovato                  11       1.0      8.0\n",
            "chris maguire                 2       1.0      2.0\n",
            "vampire diaries              15       1.0      4.0\n",
            "delhi police                  2       2.0     11.0\n",
            "madonna                      77       2.0      NaN\n",
            "dunkin                      156      18.0      NaN\n",
            "mikasa                       11       1.0      8.0\n",
            "rick perry                   23      41.0      NaN\n",
            "sam smith                   149      17.0      NaN\n",
            "kris bryant                  93       8.0      NaN\n",
            "mariah carey                 77       3.0      NaN\n",
            "fabian delph                  4       3.0      1.0\n",
            "bobby jindal                 19      37.0      NaN\n",
            "brook lopez                   7       3.0      NaN\n",
            "ruto                          3       3.0     13.0\n",
            "kanye west                   70      71.0      NaN\n",
            "disneyland                   92       2.0      NaN\n",
            "justin bieber               117      27.0      NaN\n",
            "google                       35      15.0     11.0\n",
            "brit award                    9       1.0      NaN\n",
            "tegan                         9       2.0      8.0\n",
            "u2                           85       8.0      NaN\n",
            "amy schumer                  47      13.0      NaN\n",
            "the vamps                    55       5.0      NaN\n",
            "david beckham                76       3.0      NaN\n",
            "iran                         15      61.0      NaN\n",
            "jimmy fallon                  8       1.0     11.0\n",
            "kyle                          9       4.0      6.0\n",
            "jurassic world               84       5.0      NaN\n",
            "dustin johnson               91      31.0      NaN\n",
            "windows 10                   43      18.0      NaN\n",
            "ducks                         8       1.0     11.0\n",
            "jay-z                        59      14.0      NaN\n",
            "ira                          10     111.0      NaN\n",
            "zlatan                       60       4.0      NaN\n",
            "david taylor                  1       1.0      8.0\n",
            "chuck norris                 32       6.0      NaN\n",
            "kobe bryant                  13       4.0      3.0\n",
            "jessica                       9       2.0      9.0\n",
            "amazon prime                 70      18.0      NaN\n",
            "ipod                         56       7.0      NaN\n",
            "kerry                        39      19.0      NaN\n"
          ],
          "name": "stdout"
        }
      ]
    },
    {
      "cell_type": "code",
      "metadata": {
        "id": "Nm_M0CXUAsAn",
        "colab_type": "code",
        "outputId": "b7339cb0-e0ee-40ff-e664-cf5450a3429f",
        "colab": {
          "base_uri": "https://localhost:8080/",
          "height": 282
        }
      },
      "source": [
        "\n",
        "plt.bar(range(joined.shape[0]), joined['positive'], label='positive', color='blue')\n",
        "plt.bar(range(joined.shape[0]), joined['negative'], label='negative', color='red', bottom=joined['positive'])"
      ],
      "execution_count": 20,
      "outputs": [
        {
          "output_type": "execute_result",
          "data": {
            "text/plain": [
              "<BarContainer object of 303 artists>"
            ]
          },
          "metadata": {
            "tags": []
          },
          "execution_count": 20
        },
        {
          "output_type": "display_data",
          "data": {
            "image/png": "[encoded data removed]",
            "text/plain": [
              "<Figure size 432x288 with 1 Axes>"
            ]
          },
          "metadata": {
            "tags": [],
            "needs_background": "light"
          }
        }
      ]
    },
    {
      "cell_type": "markdown",
      "metadata": {
        "id": "vwJSV9cfh9Q6",
        "colab_type": "text"
      },
      "source": [
        "# Building Classifier"
      ]
    },
    {
      "cell_type": "markdown",
      "metadata": {
        "id": "D0KvskijQ9H9",
        "colab_type": "text"
      },
      "source": [
        "## Build Dataset\n"
      ]
    },
    {
      "cell_type": "code",
      "metadata": {
        "id": "XzWqeZzyvFKH",
        "colab_type": "code",
        "colab": {}
      },
      "source": [
        "from torch.utils.data import DataLoader, Dataset\n",
        "from torchtext.data import TabularDataset, Field, LabelField, BucketIterator\n",
        "from sklearn.preprocessing import LabelEncoder\n",
        "from ekphrasis.classes.tokenizer import SocialTokenizer\n",
        "from ekphrasis.dicts.emoticons import emoticons\n",
        "from ekphrasis.classes.preprocessor import TextPreProcessor"
      ],
      "execution_count": 0,
      "outputs": []
    },
    {
      "cell_type": "code",
      "metadata": {
        "id": "gG8Y1k6YVos_",
        "colab_type": "code",
        "outputId": "161f126d-5ec8-4a7e-de2e-e162d266945b",
        "colab": {
          "base_uri": "https://localhost:8080/",
          "height": 68
        }
      },
      "source": [
        "text_processor = TextPreProcessor(\n",
        "  # normalized these terms (ex: \"google.com\" into \"<url>\")\n",
        "  normalize = ['url', 'email', 'percent', 'money', 'phone', 'user',\n",
        "              'time', 'date', 'number'],\n",
        "\n",
        "  # annotate these terms (ex: \"#win\" into [\"<hashtag>\", \"win\", \"</hashtag>\"])\n",
        "  annotate = {'hashtag', 'allcaps', 'elongated', 'repeated', 'emphasis', 'censored'},\n",
        "  fix_html=True,\n",
        "  segmenter = 'twitter',\n",
        "  corrector='twitter',\n",
        "  unpack_hashtags=True,\n",
        "  unpack_contractions=True,\n",
        "  spell_correct_elong=False,\n",
        "  tokenizer = SocialTokenizer(lowercase=True).tokenize,\n",
        "  dicts = [emoticons]\n",
        ")\n",
        "\n",
        "def custom_tokenizer(example):\n",
        "  return text_processor.pre_process_doc(example)"
      ],
      "execution_count": 22,
      "outputs": [
        {
          "output_type": "stream",
          "text": [
            "Reading twitter - 1grams ...\n",
            "Reading twitter - 2grams ...\n",
            "Reading twitter - 1grams ...\n"
          ],
          "name": "stdout"
        }
      ]
    },
    {
      "cell_type": "code",
      "metadata": {
        "id": "h-_FIEeLyTFM",
        "colab_type": "code",
        "colab": {}
      },
      "source": [
        "# read csv file as torchtext's TabularDataset\n",
        "def csv_to_tabular_dataset(filepath, fields):\n",
        "  tabular_daset = TabularDataset(\n",
        "      path=filepath,\n",
        "      fields = fields,\n",
        "      format='tsv',\n",
        "      skip_header=True\n",
        "  )\n",
        "  return tabular_daset"
      ],
      "execution_count": 0,
      "outputs": []
    },
    {
      "cell_type": "code",
      "metadata": {
        "id": "LthD8p-40BkA",
        "colab_type": "code",
        "colab": {}
      },
      "source": [
        "ROW_NUM = Field()\n",
        "\n",
        "TEXT = Field(\n",
        "    tokenize=custom_tokenizer,\n",
        "    include_lengths=True)\n",
        "\n",
        "SENTIMENT = LabelField(dtype = torch.int)\n",
        "\n",
        "train_data_a = csv_to_tabular_dataset(\n",
        "    cfg['paths']['cleaned_train_a'],\n",
        "    fields = [('row_num', ROW_NUM), ('text', TEXT), ('sentiment', SENTIMENT)]\n",
        ")\n",
        "\n",
        "test_data_a = csv_to_tabular_dataset(\n",
        "    cfg['paths']['cleaned_test_a'],\n",
        "    fields = [('row_num', ROW_NUM), ('text', TEXT), ('sentiment', SENTIMENT)]\n",
        ")"
      ],
      "execution_count": 0,
      "outputs": []
    },
    {
      "cell_type": "code",
      "metadata": {
        "id": "3mUgDW5Kx0VM",
        "colab_type": "code",
        "colab": {
          "base_uri": "https://localhost:8080/",
          "height": 68
        },
        "outputId": "aa66a041-4570-4a75-802f-42c5af606fa1"
      },
      "source": [
        "# split train data as traid:validation\n",
        "train_data_a, valid_data_a = train_data_a.split()\n",
        "\n",
        "print(len(train_data_a))\n",
        "print(len(valid_data_a))\n",
        "print(len(test_data_a))\n"
      ],
      "execution_count": 25,
      "outputs": [
        {
          "output_type": "stream",
          "text": [
            "35234\n",
            "15100\n",
            "12284\n"
          ],
          "name": "stdout"
        }
      ]
    },
    {
      "cell_type": "code",
      "metadata": {
        "id": "YFx9ds1ozwiX",
        "colab_type": "code",
        "outputId": "9c714d52-54a6-439c-a024-a221b4828e9b",
        "colab": {
          "base_uri": "https://localhost:8080/",
          "height": 493
        }
      },
      "source": [
        "vars(train_data_a.examples[0])"
      ],
      "execution_count": 26,
      "outputs": [
        {
          "output_type": "execute_result",
          "data": {
            "text/plain": [
              "{'row_num': ['30247'],\n",
              " 'sentiment': 'negative',\n",
              " 'text': ['\"',\n",
              "  'like',\n",
              "  'frenchies',\n",
              "  ',',\n",
              "  'the',\n",
              "  'only',\n",
              "  'way',\n",
              "  'george',\n",
              "  'osborne',\n",
              "  'and',\n",
              "  'may',\n",
              "  'can',\n",
              "  'beat',\n",
              "  '<user>',\n",
              "  'is',\n",
              "  'by',\n",
              "  'cheating',\n",
              "  '&',\n",
              "  'backstabbing',\n",
              "  '.',\n",
              "  '<hashtag>',\n",
              "  'same',\n",
              "  'thing',\n",
              "  '</hashtag>',\n",
              "  '<user>',\n",
              "  '\"']}"
            ]
          },
          "metadata": {
            "tags": []
          },
          "execution_count": 26
        }
      ]
    },
    {
      "cell_type": "code",
      "metadata": {
        "id": "c6jh0QGex2RN",
        "colab_type": "code",
        "colab": {}
      },
      "source": [
        "BATCH_SIZE = 64\n",
        "\n",
        "device = torch.device('cuda' if torch.cuda.is_available() else 'cpu')\n",
        "\n",
        "train_iterator, valid_iterator, test_iterator = BucketIterator.splits(\n",
        "    (train_data_a, valid_data_a, test_data_a), \n",
        "    batch_sizes = (BATCH_SIZE, BATCH_SIZE, BATCH_SIZE),\n",
        "    sort_key=lambda x: len(x.text),\n",
        "    sort_within_batch = True,\n",
        "    device = device)"
      ],
      "execution_count": 0,
      "outputs": []
    },
    {
      "cell_type": "markdown",
      "metadata": {
        "id": "b4RUkXWxqxGG",
        "colab_type": "text"
      },
      "source": [
        "## Build Vocabulary"
      ]
    },
    {
      "cell_type": "code",
      "metadata": {
        "id": "j0DnLh3PrH47",
        "colab_type": "code",
        "colab": {}
      },
      "source": [
        "ROW_NUM.build_vocab(train_data_a)\n",
        "SENTIMENT.build_vocab(train_data_a)"
      ],
      "execution_count": 0,
      "outputs": []
    },
    {
      "cell_type": "code",
      "metadata": {
        "id": "sXGaBQzmrzyP",
        "colab_type": "code",
        "outputId": "e513f011-c1b9-4191-de9f-81ce2f01aca6",
        "colab": {
          "base_uri": "https://localhost:8080/",
          "height": 85
        }
      },
      "source": [
        "print(SENTIMENT.vocab.freqs.most_common())\n",
        "for key, value in SENTIMENT.vocab.stoi.items():\n",
        "  print(key, value)"
      ],
      "execution_count": 29,
      "outputs": [
        {
          "output_type": "stream",
          "text": [
            "[('neutral', 15803), ('positive', 13915), ('negative', 5516)]\n",
            "neutral 0\n",
            "positive 1\n",
            "negative 2\n"
          ],
          "name": "stdout"
        }
      ]
    },
    {
      "cell_type": "code",
      "metadata": {
        "id": "E-h-DBeSsP8v",
        "colab_type": "code",
        "colab": {
          "base_uri": "https://localhost:8080/",
          "height": 249
        },
        "outputId": "02161b67-8d1f-4287-ccc4-16bb1faaf800"
      },
      "source": [
        "import requests, zipfile, io\n",
        "r = requests.get('https://dl.fbaipublicfiles.com/fasttext/vectors-english/crawl-300d-2M.vec.zip')\n",
        "z = zipfile.ZipFile(io.BytesIO(r.content))\n",
        "z.extractall()\n",
        "\n",
        "\n",
        "# link = \"https://dl.fbaipublicfiles.com/fasttext/vectors-english/crawl-300d-2M.vec.zip\"\n",
        "\n",
        "# response = requests.get(link)\n",
        "# total_length = int(response.headers.get('content-length'))\n",
        "# print(total_length)\n",
        "# if total_length is not None: # no content length header\n",
        "#     dl = 0\n",
        "#     total_length = int(total_length)\n",
        "#     for data in response.iter_content(chunk_size=4096):\n",
        "#         dl += len(data)\n",
        "#         f.write(data)\n",
        "#         done = int(50 * dl / total_length)\n",
        "#         sys.stdout.write(\"\\r[%s%s]\" % ('=' * done, ' ' * (50-done)) )    \n",
        "#         sys.stdout.flush()\n",
        "# z = zipfile.ZipFile(io.BytesIO(response.content))\n",
        "# z.extractall()"
      ],
      "execution_count": 31,
      "outputs": [
        {
          "output_type": "stream",
          "text": [
            "1523785255\n"
          ],
          "name": "stdout"
        },
        {
          "output_type": "error",
          "ename": "NameError",
          "evalue": "ignored",
          "traceback": [
            "\u001b[0;31m---------------------------------------------------------------------------\u001b[0m",
            "\u001b[0;31mNameError\u001b[0m                                 Traceback (most recent call last)",
            "\u001b[0;32m<ipython-input-31-5a568303ce96>\u001b[0m in \u001b[0;36m<module>\u001b[0;34m()\u001b[0m\n\u001b[1;32m     15\u001b[0m     \u001b[0;32mfor\u001b[0m \u001b[0mdata\u001b[0m \u001b[0;32min\u001b[0m \u001b[0mresponse\u001b[0m\u001b[0;34m.\u001b[0m\u001b[0miter_content\u001b[0m\u001b[0;34m(\u001b[0m\u001b[0mchunk_size\u001b[0m\u001b[0;34m=\u001b[0m\u001b[0;36m4096\u001b[0m\u001b[0;34m)\u001b[0m\u001b[0;34m:\u001b[0m\u001b[0;34m\u001b[0m\u001b[0;34m\u001b[0m\u001b[0m\n\u001b[1;32m     16\u001b[0m         \u001b[0mdl\u001b[0m \u001b[0;34m+=\u001b[0m \u001b[0mlen\u001b[0m\u001b[0;34m(\u001b[0m\u001b[0mdata\u001b[0m\u001b[0;34m)\u001b[0m\u001b[0;34m\u001b[0m\u001b[0;34m\u001b[0m\u001b[0m\n\u001b[0;32m---> 17\u001b[0;31m         \u001b[0mf\u001b[0m\u001b[0;34m.\u001b[0m\u001b[0mwrite\u001b[0m\u001b[0;34m(\u001b[0m\u001b[0mdata\u001b[0m\u001b[0;34m)\u001b[0m\u001b[0;34m\u001b[0m\u001b[0;34m\u001b[0m\u001b[0m\n\u001b[0m\u001b[1;32m     18\u001b[0m         \u001b[0mdone\u001b[0m \u001b[0;34m=\u001b[0m \u001b[0mint\u001b[0m\u001b[0;34m(\u001b[0m\u001b[0;36m50\u001b[0m \u001b[0;34m*\u001b[0m \u001b[0mdl\u001b[0m \u001b[0;34m/\u001b[0m \u001b[0mtotal_length\u001b[0m\u001b[0;34m)\u001b[0m\u001b[0;34m\u001b[0m\u001b[0;34m\u001b[0m\u001b[0m\n\u001b[1;32m     19\u001b[0m         \u001b[0msys\u001b[0m\u001b[0;34m.\u001b[0m\u001b[0mstdout\u001b[0m\u001b[0;34m.\u001b[0m\u001b[0mwrite\u001b[0m\u001b[0;34m(\u001b[0m\u001b[0;34m\"\\r[%s%s]\"\u001b[0m \u001b[0;34m%\u001b[0m \u001b[0;34m(\u001b[0m\u001b[0;34m'='\u001b[0m \u001b[0;34m*\u001b[0m \u001b[0mdone\u001b[0m\u001b[0;34m,\u001b[0m \u001b[0;34m' '\u001b[0m \u001b[0;34m*\u001b[0m \u001b[0;34m(\u001b[0m\u001b[0;36m50\u001b[0m\u001b[0;34m-\u001b[0m\u001b[0mdone\u001b[0m\u001b[0;34m)\u001b[0m\u001b[0;34m)\u001b[0m \u001b[0;34m)\u001b[0m\u001b[0;34m\u001b[0m\u001b[0;34m\u001b[0m\u001b[0m\n",
            "\u001b[0;31mNameError\u001b[0m: name 'f' is not defined"
          ]
        }
      ]
    },
    {
      "cell_type": "code",
      "metadata": {
        "id": "En7KxAkVGffr",
        "colab_type": "code",
        "colab": {}
      },
      "source": [
        "# vocab = set(train_data_a.vocab)\n",
        "# type(train_data_a.vocab)\n",
        "# pretrained_embedding = GloVe(name='twitter.27B', dim=200, is_include=lambda w: w in vocab)\n",
        "from torchtext.vocab import Vectors\n",
        "\n",
        "TEXT.build_vocab(train_data_a,\n",
        "                 max_size = 50000,\n",
        "                 vectors = Vectors('./crawl-300d-2M.vec'),\n",
        "                #  vectors = 'glove.twitter.27B.200d',\n",
        "                 unk_init = torch.Tensor.normal_\n",
        "                 )"
      ],
      "execution_count": 0,
      "outputs": []
    },
    {
      "cell_type": "code",
      "metadata": {
        "id": "RsbFZ9-qzp8E",
        "colab_type": "code",
        "outputId": "19a6bcbf-7484-4759-96f3-1f9773a52197",
        "colab": {
          "base_uri": "https://localhost:8080/",
          "height": 88
        }
      },
      "source": [
        "\n",
        "# TEXT.build_vocab(train_data_a,\n",
        "#                  max_size = 50000,\n",
        "#                  vectors = './crawl-300d-2M.vec',\n",
        "#                 #  vectors = 'glove.twitter.27B.200d',\n",
        "#                  unk_init = torch.Tensor.normal_\n",
        "#                  )\n",
        "\n",
        "# TEXT.build_vocab(train_data_a,\n",
        "#                 #  max_size = 25000,\n",
        "#                 #  vectors = 'glove.twitter.27B.200d',\n",
        "#                 #  unk_init = torch.Tensor.normal_\n",
        "#                  )\n",
        "\n",
        "\n",
        "tot = 0\n",
        "for batch in train_iterator:\n",
        "  # print(batch.batch_size)\n",
        "  tot += batch.batch_size\n",
        "print(tot)\n",
        "\n",
        "# print(len(train_data_a))\n",
        "\n",
        "print(TEXT.vocab.freqs.most_common(100))\n",
        "print(TEXT.vocab.itos[:10])"
      ],
      "execution_count": 33,
      "outputs": [
        {
          "output_type": "stream",
          "text": [
            "35234\n",
            "[('.', 32856), ('the', 29476), ('\"', 24798), ('to', 16361), (',', 13685), ('<user>', 13367), ('i', 13289), ('in', 10549), ('<url>', 10328), ('on', 10210), ('a', 10169), ('<repeated>', 10038), ('!', 9887), ('and', 9820), ('<allcaps>', 9647), ('</allcaps>', 9647), ('<number>', 8997), ('<hashtag>', 8961), ('</hashtag>', 8961), (\"'\", 8856), ('of', 8431), ('\\\\', 7983), ('for', 7745), ('is', 7712), ('it', 7160), ('you', 6939), ('s', 6865), ('-', 6121), ('with', 5867), ('be', 5727), ('tomorrow', 5643), ('at', 5422), (':', 5422), ('may', 5148), ('not', 5112), ('?', 4930), ('that', 3992), ('have', 3927), ('will', 3737), ('my', 3637), ('th', 3621), ('1', 3466), ('u002c', 3357), ('<date>', 3356), ('this', 3314), ('day', 3088), ('but', 3086), ('he', 3063), ('just', 3041), ('was', 2740), ('are', 2668), ('so', 2434), ('me', 2375), ('&', 2372), ('we', 2359), ('going', 2342), ('2', 2304), ('am', 2294), ('night', 2285), ('out', 2279), ('all', 2274), ('st', 2250), ('if', 2245), ('see', 2197), ('can', 2169), ('friday', 2151), ('sunday', 2114), ('from', 2084), ('do', 2034), ('up', 2010), ('time', 1944), ('about', 1941), ('like', 1932), ('(', 1932), ('as', 1921), (')', 1887), ('get', 1779), ('saturday', 1678), ('one', 1594), ('go', 1592), ('by', 1583), ('his', 1564), ('3', 1529), ('nd', 1509), ('new', 1499), ('what', 1435), ('u2019s', 1396), ('now', 1370), ('game', 1366), ('monday', 1362), ('they', 1360), ('has', 1360), ('or', 1321), ('/', 1318), ('your', 1310), ('when', 1273), ('today', 1254), ('<time>', 1253), ('no', 1208), ('rd', 1193)]\n",
            "['<unk>', '<pad>', '.', 'the', '\"', 'to', ',', '<user>', 'i', 'in']\n"
          ],
          "name": "stdout"
        }
      ]
    },
    {
      "cell_type": "code",
      "metadata": {
        "id": "ZNKTYypGuVTw",
        "colab_type": "code",
        "colab": {
          "base_uri": "https://localhost:8080/",
          "height": 51
        },
        "outputId": "f4118593-6e63-43a3-b7ed-cd8f21dd81cb"
      },
      "source": [
        " for batch in train_iterator:\n",
        "  i = int(ROW_NUM.vocab.itos[int(batch.row_num[0][0])])\n",
        "  print(task_a_train_df.iloc[i].text)\n",
        "  for elm in torch.transpose(batch.text[0], 0, 1)[0].detach().cpu().clone().numpy().transpose():\n",
        "    print(TEXT.vocab.itos[int(elm)], sep=' ', end=' ')\n",
        "  # print(batch.text)\n",
        "  break\n",
        "  "
      ],
      "execution_count": 34,
      "outputs": [
        {
          "output_type": "stream",
          "text": [
            "@Fit_Tamara glad to hear everyone is ok! A catch up is on the cards soon I'm back from Seoul on Saturday.\n",
            "<user> glad to hear everyone is ok ! a catch up is on the cards soon i am back from seoul on saturday . "
          ],
          "name": "stdout"
        }
      ]
    },
    {
      "cell_type": "code",
      "metadata": {
        "id": "qViSHNtK0Dye",
        "colab_type": "code",
        "colab": {
          "base_uri": "https://localhost:8080/",
          "height": 71
        },
        "outputId": "5209c8e4-f1f3-476f-dfaf-6f20407c003e"
      },
      "source": [
        "print(TEXT.vocab.freqs.most_common(20))\n",
        "print(TEXT.vocab.itos[:10])"
      ],
      "execution_count": 35,
      "outputs": [
        {
          "output_type": "stream",
          "text": [
            "[('.', 32856), ('the', 29476), ('\"', 24798), ('to', 16361), (',', 13685), ('<user>', 13367), ('i', 13289), ('in', 10549), ('<url>', 10328), ('on', 10210), ('a', 10169), ('<repeated>', 10038), ('!', 9887), ('and', 9820), ('<allcaps>', 9647), ('</allcaps>', 9647), ('<number>', 8997), ('<hashtag>', 8961), ('</hashtag>', 8961), (\"'\", 8856)]\n",
            "['<unk>', '<pad>', '.', 'the', '\"', 'to', ',', '<user>', 'i', 'in']\n"
          ],
          "name": "stdout"
        }
      ]
    },
    {
      "cell_type": "code",
      "metadata": {
        "id": "m2ErzS6NuE4O",
        "colab_type": "code",
        "colab": {
          "base_uri": "https://localhost:8080/",
          "height": 51
        },
        "outputId": "e346eb49-b1b6-44df-bb07-4ead41dac645"
      },
      "source": [
        "print(f\"Unique tokens in TEXT vocabulary: {len(TEXT.vocab)}\")\n",
        "print(f\"Unique tokens in LABEL vocabulary: {len(SENTIMENT.vocab)}\")"
      ],
      "execution_count": 36,
      "outputs": [
        {
          "output_type": "stream",
          "text": [
            "Unique tokens in TEXT vocabulary: 33433\n",
            "Unique tokens in LABEL vocabulary: 3\n"
          ],
          "name": "stdout"
        }
      ]
    },
    {
      "cell_type": "markdown",
      "metadata": {
        "id": "wpIHw_3YdSAn",
        "colab_type": "text"
      },
      "source": [
        "## Neural Network"
      ]
    },
    {
      "cell_type": "markdown",
      "metadata": {
        "id": "2TsmpHiydeyr",
        "colab_type": "text"
      },
      "source": [
        "three layers:\n",
        "1. embedding layer (transform one-hot encoding vector into a dense embedding vector)\n",
        "2. RNN\n",
        "3. linear layer (output)"
      ]
    },
    {
      "cell_type": "code",
      "metadata": {
        "id": "Xo_SPYGZdWuq",
        "colab_type": "code",
        "colab": {}
      },
      "source": [
        "import torch.nn as nn\n",
        "\n",
        "class RNN(nn.Module):\n",
        "  def __init__(self, vocab_size, embedding_dim, hidden_dim, output_dim, n_layers,\n",
        "               bidirectional, dropout, pad_idx):\n",
        "    super().__init__()\n",
        "    self.embedding = nn.Embedding(vocab_size, embedding_dim, padding_idx=pad_idx)\n",
        "    # self.rnn = nn.RNN(embedding_dim, hidden_dim)\n",
        "    self.rnn = nn.LSTM(embedding_dim,\n",
        "                       hidden_dim,\n",
        "                       num_layers=n_layers,\n",
        "                       bidirectional=bidirectional,\n",
        "                       dropout=dropout\n",
        "                       )\n",
        "    self.fully_connected = nn.Linear(hidden_dim*2, output_dim)\n",
        "    self.dropout = nn.Dropout(dropout)\n",
        "\n",
        "  def forward(self, text, text_length):\n",
        "    # text dimention is [sentence len, batch size]\n",
        "    \n",
        "    # embedded dimention is [sentence len, batch size, embedding_dim]\n",
        "    embedded = self.dropout(self.embedding(text))\n",
        "\n",
        "    # pack the sequence\n",
        "    packed_embedded = nn.utils.rnn.pack_padded_sequence(embedded, text_length)\n",
        "    # print('packed_embedded:')\n",
        "    # print(packed_embedded)\n",
        "    packet_output, (hidden, cell) = self.rnn(packed_embedded)\n",
        "\n",
        "    # unpack the sequence\n",
        "    output, output_length = nn.utils.rnn.pad_packed_sequence(packet_output)\n",
        "\n",
        "    # output dimention is [sentence len, batch size, hidden dim * num directions]\n",
        "    # output over padding tokens are zero tensors\n",
        "\n",
        "    # hidden dimension is [num layers*num directions, batch size, hidden dim]\n",
        "    # cell dimension is also [num layers*num directions, batch size, hidden dim]\n",
        "\n",
        "    #concat the final forward (hidden[-2,:,:]) and backward (hidden[-1,:,:]) hidden layers\n",
        "    #and apply dropout\n",
        "\n",
        "    # hidden dimension is [batch size, hid dim*num directions]\n",
        "    hidden = self.dropout(torch.cat((hidden[-2,:,:], hidden[-1,:,:]), dim=1))\n",
        "    \n",
        "    return self.fully_connected(hidden)\n"
      ],
      "execution_count": 0,
      "outputs": []
    },
    {
      "cell_type": "code",
      "metadata": {
        "id": "JP20cupMd1v5",
        "colab_type": "code",
        "colab": {}
      },
      "source": [
        "INPUT_DIM = len(TEXT.vocab)\n",
        "# EMBEDDING_DIM = 200\n",
        "EMBEDDING_DIM = 300\n",
        "HIDDEN_DIM = 256\n",
        "# HIDDEN_DIM = 512\n",
        "OUTPUT_DIM = len(SENTIMENT.vocab)\n",
        "# N_LAYERS = 2\n",
        "N_LAYERS = 5\n",
        "\n",
        "BIDIRECTIONAL = True\n",
        "# DROPOUT = 0.5\n",
        "DROPOUT = 0.7\n",
        "\n",
        "N_EPOCHS = 10\n",
        "\n",
        "PAD_IDX = TEXT.vocab.stoi[TEXT.pad_token]\n",
        "\n",
        "# model = RNN(INPUT_DIM, EMBEDDING_DIM, HIDDEN_DIM, OUTPUT_DIM)\n",
        "model = RNN(INPUT_DIM,\n",
        "            EMBEDDING_DIM,\n",
        "            HIDDEN_DIM,\n",
        "            OUTPUT_DIM,\n",
        "            N_LAYERS,\n",
        "            BIDIRECTIONAL,\n",
        "            DROPOUT,\n",
        "            PAD_IDX,\n",
        "            )"
      ],
      "execution_count": 0,
      "outputs": []
    },
    {
      "cell_type": "code",
      "metadata": {
        "id": "40RJ4X7Ezt2b",
        "colab_type": "code",
        "colab": {}
      },
      "source": [
        ""
      ],
      "execution_count": 0,
      "outputs": []
    },
    {
      "cell_type": "code",
      "metadata": {
        "id": "eWbAXYOsr68C",
        "colab_type": "code",
        "colab": {
          "base_uri": "https://localhost:8080/",
          "height": 136
        },
        "outputId": "bcac1d9e-156d-4991-88e3-a36c55753616"
      },
      "source": [
        "def count_model_params(model):\n",
        "  return sum(p.numel() for p in model.parameters() if p.requires_grad)\n",
        "  # n_params = sum(p.numel() for p in model.parameters)\n",
        "  \n",
        "print(model.parameters)\n",
        "print(count_model_params(model))\n"
      ],
      "execution_count": 39,
      "outputs": [
        {
          "output_type": "stream",
          "text": [
            "<bound method Module.parameters of RNN(\n",
            "  (embedding): Embedding(33433, 300, padding_idx=1)\n",
            "  (rnn): LSTM(300, 256, num_layers=5, dropout=0.7, bidirectional=True)\n",
            "  (fully_connected): Linear(in_features=512, out_features=3, bias=True)\n",
            "  (dropout): Dropout(p=0.7, inplace=False)\n",
            ")>\n",
            "17482063\n"
          ],
          "name": "stdout"
        }
      ]
    },
    {
      "cell_type": "code",
      "metadata": {
        "id": "6xSZq3wUfzNO",
        "colab_type": "code",
        "colab": {
          "base_uri": "https://localhost:8080/",
          "height": 34
        },
        "outputId": "fdca3249-b2a6-485d-82c7-d854d2106a96"
      },
      "source": [
        "pretrained_embeddings = TEXT.vocab.vectors\n",
        "print(pretrained_embeddings.shape)"
      ],
      "execution_count": 40,
      "outputs": [
        {
          "output_type": "stream",
          "text": [
            "torch.Size([33433, 300])\n"
          ],
          "name": "stdout"
        }
      ]
    },
    {
      "cell_type": "code",
      "metadata": {
        "id": "Uj6qu_exf-MR",
        "colab_type": "code",
        "colab": {
          "base_uri": "https://localhost:8080/",
          "height": 136
        },
        "outputId": "84af8795-a6ab-42c1-dc47-0d20e48e1c50"
      },
      "source": [
        "# replace the initial weights of the embedding layer with the pretrained embeddings\n",
        "model.embedding.weight.data.copy_(pretrained_embeddings)"
      ],
      "execution_count": 41,
      "outputs": [
        {
          "output_type": "execute_result",
          "data": {
            "text/plain": [
              "tensor([[ 0.0000,  0.0000,  0.0000,  ...,  0.0000,  0.0000,  0.0000],\n",
              "        [ 0.0000,  0.0000,  0.0000,  ...,  0.0000,  0.0000,  0.0000],\n",
              "        [-0.0849, -0.0582, -0.0321,  ...,  0.0032, -0.0237, -0.0366],\n",
              "        ...,\n",
              "        [ 0.0000,  0.0000,  0.0000,  ...,  0.0000,  0.0000,  0.0000],\n",
              "        [ 0.0000,  0.0000,  0.0000,  ...,  0.0000,  0.0000,  0.0000],\n",
              "        [ 0.0000,  0.0000,  0.0000,  ...,  0.0000,  0.0000,  0.0000]])"
            ]
          },
          "metadata": {
            "tags": []
          },
          "execution_count": 41
        }
      ]
    },
    {
      "cell_type": "code",
      "metadata": {
        "id": "SQY4ndIigXrv",
        "colab_type": "code",
        "colab": {
          "base_uri": "https://localhost:8080/",
          "height": 136
        },
        "outputId": "55ad92ed-47fd-46b5-e8c2-2b98bdb8de53"
      },
      "source": [
        "# initialise UNK and PAD tokens to zeros\n",
        "UNK_IDX = TEXT.vocab.stoi[TEXT.unk_token]\n",
        "PAD_IDX = TEXT.vocab.stoi[TEXT.pad_token]\n",
        "\n",
        "model.embedding.weight.data[UNK_IDX] = torch.zeros(EMBEDDING_DIM)\n",
        "model.embedding.weight.data[PAD_IDX] = torch.zeros(EMBEDDING_DIM)\n",
        "\n",
        "print(model.embedding.weight.data)"
      ],
      "execution_count": 42,
      "outputs": [
        {
          "output_type": "stream",
          "text": [
            "tensor([[ 0.0000,  0.0000,  0.0000,  ...,  0.0000,  0.0000,  0.0000],\n",
            "        [ 0.0000,  0.0000,  0.0000,  ...,  0.0000,  0.0000,  0.0000],\n",
            "        [-0.0849, -0.0582, -0.0321,  ...,  0.0032, -0.0237, -0.0366],\n",
            "        ...,\n",
            "        [ 0.0000,  0.0000,  0.0000,  ...,  0.0000,  0.0000,  0.0000],\n",
            "        [ 0.0000,  0.0000,  0.0000,  ...,  0.0000,  0.0000,  0.0000],\n",
            "        [ 0.0000,  0.0000,  0.0000,  ...,  0.0000,  0.0000,  0.0000]])\n"
          ],
          "name": "stdout"
        }
      ]
    },
    {
      "cell_type": "code",
      "metadata": {
        "id": "gL4SuaCit_Xq",
        "colab_type": "code",
        "colab": {
          "base_uri": "https://localhost:8080/",
          "height": 748
        },
        "outputId": "62ccfc1e-5733-4161-8437-56e10e21a42f"
      },
      "source": [
        "for p in model.parameters():\n",
        "  # print(p)\n",
        "  print(p.numel())"
      ],
      "execution_count": 43,
      "outputs": [
        {
          "output_type": "stream",
          "text": [
            "10029900\n",
            "307200\n",
            "262144\n",
            "1024\n",
            "1024\n",
            "307200\n",
            "262144\n",
            "1024\n",
            "1024\n",
            "524288\n",
            "262144\n",
            "1024\n",
            "1024\n",
            "524288\n",
            "262144\n",
            "1024\n",
            "1024\n",
            "524288\n",
            "262144\n",
            "1024\n",
            "1024\n",
            "524288\n",
            "262144\n",
            "1024\n",
            "1024\n",
            "524288\n",
            "262144\n",
            "1024\n",
            "1024\n",
            "524288\n",
            "262144\n",
            "1024\n",
            "1024\n",
            "524288\n",
            "262144\n",
            "1024\n",
            "1024\n",
            "524288\n",
            "262144\n",
            "1024\n",
            "1024\n",
            "1536\n",
            "3\n"
          ],
          "name": "stdout"
        }
      ]
    },
    {
      "cell_type": "markdown",
      "metadata": {
        "id": "FkG8MGZMvTLi",
        "colab_type": "text"
      },
      "source": [
        "## Train the Model"
      ]
    },
    {
      "cell_type": "code",
      "metadata": {
        "id": "cpRNJE3K2LAO",
        "colab_type": "code",
        "colab": {}
      },
      "source": [
        ""
      ],
      "execution_count": 0,
      "outputs": []
    },
    {
      "cell_type": "code",
      "metadata": {
        "id": "lAvE0iDxvVDP",
        "colab_type": "code",
        "colab": {}
      },
      "source": [
        "import torch.optim as optim\n",
        "\n",
        "# optimizer = optim.SGD(model.parameters(), lr=0.01, momentum=0.9)\n",
        "optimiser = optim.Adam(model.parameters())"
      ],
      "execution_count": 0,
      "outputs": []
    },
    {
      "cell_type": "code",
      "metadata": {
        "id": "fS3UcTyJwYuQ",
        "colab_type": "code",
        "colab": {}
      },
      "source": [
        "criterion = nn.CrossEntropyLoss()"
      ],
      "execution_count": 0,
      "outputs": []
    },
    {
      "cell_type": "code",
      "metadata": {
        "id": "4fgE2l3VwdkG",
        "colab_type": "code",
        "colab": {
          "base_uri": "https://localhost:8080/",
          "height": 34
        },
        "outputId": "04c687ef-e78f-441e-9629-79f801ae31c2"
      },
      "source": [
        "device = torch.device('cuda' if torch.cuda.is_available() else 'cpu')\n",
        "print(device)\n",
        "model = model.to(device)\n",
        "criterion = criterion.to(device)"
      ],
      "execution_count": 46,
      "outputs": [
        {
          "output_type": "stream",
          "text": [
            "cuda\n"
          ],
          "name": "stdout"
        }
      ]
    },
    {
      "cell_type": "code",
      "metadata": {
        "id": "_5cEu9fAwixJ",
        "colab_type": "code",
        "colab": {}
      },
      "source": [
        "# def binary_accuracy(preds, y):\n",
        "#     \"\"\"\n",
        "#     Returns accuracy per batch, i.e. if you get 8/10 right, this returns 0.8, NOT 8\n",
        "#     \"\"\"\n",
        "\n",
        "#     #round predictions to the closest integer\n",
        "#     rounded_preds = torch.round(torch.sigmoid(preds))\n",
        "#     rounded_preds = torch.round(preds)\n",
        "#     correct = (rounded_preds == y).float() #convert into float for division\n",
        "#     acc = correct.sum() / len(correct)\n",
        "#     return acc\n",
        "\n",
        "# def categorical_accuracy(preds, y):\n",
        "#   \"\"\"\n",
        "#   Returns accuracy per batch, i.e. if you get 8/10 right, this returns 0.8, NOT 8\n",
        "#   \"\"\"\n",
        "#   max_preds = preds.argmax(dim = 1, keepdim = True) # get the index of the max probability\n",
        "#   correct = max_preds.squeeze(1).eq(y)\n",
        "#   return correct.sum() / torch.FloatTensor([y.shape[0]])\n",
        "\n",
        "from sklearn.metrics import confusion_matrix, accuracy_score, recall_score, precision_score, f1_score\n",
        "def calculate_performance(y, preds):\n",
        "  # get the index of the max probability \n",
        "  max_preds = preds.argmax(dim = 1, keepdim = True).squeeze(1)\n",
        "  max_preds = max_preds.detach().cpu().clone().numpy()\n",
        "  \n",
        "  y = y.detach().cpu().clone().numpy()\n",
        "\n",
        "\n",
        "  # max_samples = 2\n",
        "  # for i in range(len(y)-1):\n",
        "  #   if max_preds[i] != y[i]:\n",
        "  #     print('pred=', SENTIMENT.vocab.itos[max_preds[i]], ' actual=', SENTIMENT.vocab.itos[y[i]], end=' ')\n",
        "  #     for elm in torch.transpose(texts, 0, 1)[0].detach().cpu().clone().numpy().transpose():\n",
        "  #       print(TEXT.vocab.itos[int(elm)], sep=' ', end=' ')\n",
        "  #     print\n",
        "  #     max_samples -= 1\n",
        "  #   if max_samples <= 0:\n",
        "  #     break\n",
        "\n",
        "  acc = accuracy_score(y, max_preds)\n",
        "  rec = recall_score(y, max_preds, average='macro')\n",
        "  prec= precision_score(y, max_preds, average='macro')\n",
        "  f1  = f1_score(y, max_preds, average='macro')\n",
        "  return acc, rec, prec, f1\n",
        "\n"
      ],
      "execution_count": 0,
      "outputs": []
    },
    {
      "cell_type": "code",
      "metadata": {
        "id": "b0wGJ4rww7Fj",
        "colab_type": "code",
        "colab": {}
      },
      "source": [
        "\n",
        "\n",
        "def train(model, iterator, optimizer, criterion):\n",
        "    \n",
        "    epoch_loss = 0\n",
        "    epoch_acc = 0\n",
        "    epoch_rec = 0\n",
        "    epoch_prec = 0\n",
        "    epoch_f1 = 0\n",
        "\n",
        "    model.train()\n",
        "    \n",
        "    for batch in iterator:\n",
        "        \n",
        "        optimizer.zero_grad()\n",
        "                \n",
        "        text, text_length = batch.text\n",
        "        # predictions = model(text).squeeze(1)\n",
        "        predictions = model(text, text_length).squeeze(1)\n",
        "        \n",
        "        summary_writer.add_graph(model, (text, text_length))\n",
        "        \n",
        "        loss = criterion(predictions, batch.sentiment.long())\n",
        "        \n",
        "        # acc = categorical_accuracy(predictions, batch.sentiment)\n",
        "        acc, rec, prec, f1 = calculate_performance(batch.sentiment, predictions)\n",
        "        # print(acc, rec, prec, f1)\n",
        "        \n",
        "        loss.backward()\n",
        "        \n",
        "        optimizer.step()\n",
        "        \n",
        "        epoch_loss += loss.item()\n",
        "        epoch_acc += acc.item()\n",
        "        epoch_rec += rec.item()\n",
        "        epoch_prec += prec.item()\n",
        "        epoch_f1 += f1.item()\n",
        "\n",
        "        avg_loss = epoch_loss / len(iterator)\n",
        "        avg_acc = epoch_acc / len(iterator)\n",
        "        avg_rec = epoch_rec / len(iterator)\n",
        "        avg_prec = epoch_prec / len(iterator)\n",
        "        avg_f1 = epoch_f1 / len(iterator)\n",
        "    return avg_loss, avg_acc, avg_rec, avg_prec, avg_f1"
      ],
      "execution_count": 0,
      "outputs": []
    },
    {
      "cell_type": "code",
      "metadata": {
        "id": "41SqIzKvJUdF",
        "colab_type": "code",
        "colab": {}
      },
      "source": [
        "def evaluate(model, iterator, criterion):\n",
        "    \n",
        "    epoch_loss = 0\n",
        "    epoch_acc = 0\n",
        "    epoch_rec = 0\n",
        "    epoch_prec = 0\n",
        "    epoch_f1 = 0\n",
        "    \n",
        "    model.eval()\n",
        "    \n",
        "    actual_file = open('actual.txt', 'w')\n",
        "    pred_file = open('pred.txt', 'w')\n",
        "    with torch.no_grad():\n",
        "    \n",
        "        for batch in iterator:\n",
        "            text, text_length = batch.text\n",
        "            predictions = model(text, text_length).squeeze(1)\n",
        "            actuals = batch.sentiment\n",
        "            for elm in actuals:\n",
        "              actual_file.write(str(elm.item()) + '\\n')\n",
        "            \n",
        "            preds = predictions.argmax(dim = 1, keepdim = True).squeeze(1)\n",
        "            for elm in preds:\n",
        "              pred_file.write(str(elm.item()) + '\\n')\n",
        " \n",
        "            # loss = criterion(predictions, batch.sentiment.long())\n",
        "            loss = criterion(predictions, batch.sentiment.long())\n",
        "            \n",
        "            # acc = categorical_accuracy(predictions, batch.sentiment)\n",
        "            # acc, rec, prec, f1 = calculate_performance(batch.sentiment, predictions)\n",
        "            acc, rec, prec, f1 = calculate_performance(batch.sentiment, predictions)\n",
        "            # print(acc, rec, prec, f1)\n",
        "\n",
        "            epoch_loss += loss.item()\n",
        "            epoch_acc += acc.item()\n",
        "            epoch_rec += rec.item()\n",
        "            epoch_prec += prec.item()\n",
        "            epoch_f1 += f1.item()\n",
        "\n",
        "            avg_loss = epoch_loss / len(iterator)\n",
        "            avg_acc = epoch_acc / len(iterator)\n",
        "            avg_rec = epoch_rec / len(iterator)\n",
        "            avg_prec = epoch_prec / len(iterator)\n",
        "            avg_f1 = epoch_f1 / len(iterator)\n",
        "    return avg_loss, avg_acc, avg_rec, avg_prec, avg_f1"
      ],
      "execution_count": 0,
      "outputs": []
    },
    {
      "cell_type": "code",
      "metadata": {
        "id": "b0JpAUV-xYY2",
        "colab_type": "code",
        "colab": {}
      },
      "source": [
        "import time\n",
        "\n",
        "def epoch_time(start_time, end_time):\n",
        "    elapsed_time = end_time - start_time\n",
        "    elapsed_mins = int(elapsed_time / 60)\n",
        "    elapsed_secs = int(elapsed_time - (elapsed_mins * 60))\n",
        "    return elapsed_mins, elapsed_secs"
      ],
      "execution_count": 0,
      "outputs": []
    },
    {
      "cell_type": "code",
      "metadata": {
        "id": "8xORR7LVxiro",
        "colab_type": "code",
        "colab": {
          "base_uri": "https://localhost:8080/",
          "height": 1000
        },
        "outputId": "f818d7cc-629d-4be9-d5cf-f3818f5004ec"
      },
      "source": [
        "from torch.utils.tensorboard import SummaryWriter\n",
        "\n",
        "summary_writer = SummaryWriter()\n",
        "\n",
        "best_valid_loss = float('inf')\n",
        "\n",
        "for epoch in range(N_EPOCHS):\n",
        "    start_time = time.time()\n",
        "    \n",
        "    \n",
        "    train_loss, train_acc, train_rec, train_prec, train_f1 = train(model, train_iterator, optimiser, criterion)\n",
        "    valid_loss, valid_acc, valid_rec, valid_prec, valid_f1 = evaluate(model, valid_iterator, criterion)\n",
        "\n",
        "    summary_writer.add_scalar(\"training/loss\", train_loss, epoch)\n",
        "    summary_writer.add_scalar(\"training/accuracy\", train_acc, epoch)\n",
        "    summary_writer.add_scalar(\"training/recall\", train_rec, epoch)\n",
        "    summary_writer.add_scalar(\"training/precision\", train_prec, epoch)\n",
        "    summary_writer.add_scalar(\"training/F1\", train_f1, epoch)\n",
        "\n",
        "    summary_writer.add_scalar(\"validation/loss\", valid_loss, epoch)\n",
        "    summary_writer.add_scalar(\"validation/accuracy\", valid_acc, epoch)\n",
        "    summary_writer.add_scalar(\"validation/recall\", valid_rec, epoch)\n",
        "    summary_writer.add_scalar(\"validation/precision\", valid_prec, epoch)\n",
        "    summary_writer.add_scalar(\"validation/F1\", valid_f1, epoch)\n",
        "    \n",
        "    \n",
        "    end_time = time.time()\n",
        "\n",
        "    epoch_mins, epoch_secs = epoch_time(start_time, end_time)\n",
        "    \n",
        "    if valid_loss < best_valid_loss:\n",
        "        best_valid_loss = valid_loss\n",
        "        torch.save(model.state_dict(), cfg['paths']['task_a_model'])\n",
        "    \n",
        "    print(f'Epoch: {epoch+1:02} | Epoch Time: {epoch_mins}m {epoch_secs}s')\n",
        "    print(f'\\tTrain Loss: {train_loss:.3f} | Val. Loss: {valid_loss:.3f}')\n",
        "    print(f'\\tTrain Acc : {train_acc*100:.2f}% | Val. Acc : {valid_acc*100:.2f}%')\n",
        "    print(f'\\tTrain Rec : {train_rec*100:.2f}% | Val. Rec : {valid_rec*100:.2f}%')\n",
        "    print(f'\\tTrain Prec: {train_prec*100:.2f}% | Val. Prec: {valid_prec*100:.2f}%')\n",
        "    print(f'\\tTrain F1  : {train_f1*100:.2f}% | Val. F1  : {valid_f1*100:.2f}%')\n",
        "\n",
        "# after completing all epochs, visualise the word vectors\n",
        "vectors = model.embedding.weight.data\n",
        "labels = [l for l in TEXT.vocab.itos]\n",
        "summary_writer.add_embedding(vectors, metadata=labels)\n",
        "summary_writer.close()"
      ],
      "execution_count": 51,
      "outputs": [
        {
          "output_type": "stream",
          "text": [
            "/usr/local/lib/python3.6/dist-packages/sklearn/metrics/_classification.py:1272: UndefinedMetricWarning: Precision is ill-defined and being set to 0.0 in labels with no predicted samples. Use `zero_division` parameter to control this behavior.\n",
            "  _warn_prf(average, modifier, msg_start, len(result))\n"
          ],
          "name": "stderr"
        },
        {
          "output_type": "stream",
          "text": [
            "Epoch: 01 | Epoch Time: 1m 33s\n",
            "\tTrain Loss: 0.869 | Val. Loss: 0.732\n",
            "\tTrain Acc : 57.71% | Val. Acc : 66.89%\n",
            "\tTrain Rec : 50.60% | Val. Rec : 61.66%\n",
            "\tTrain Prec: 53.05% | Val. Prec: 66.10%\n",
            "\tTrain F1  : 48.72% | Val. F1  : 62.01%\n",
            "Epoch: 02 | Epoch Time: 1m 33s\n",
            "\tTrain Loss: 0.742 | Val. Loss: 0.707\n",
            "\tTrain Acc : 66.56% | Val. Acc : 68.35%\n",
            "\tTrain Rec : 62.50% | Val. Rec : 67.71%\n",
            "\tTrain Prec: 65.57% | Val. Prec: 66.50%\n",
            "\tTrain F1  : 62.22% | Val. F1  : 66.02%\n",
            "Epoch: 03 | Epoch Time: 1m 34s\n",
            "\tTrain Loss: 0.680 | Val. Loss: 0.689\n",
            "\tTrain Acc : 70.27% | Val. Acc : 69.06%\n",
            "\tTrain Rec : 66.93% | Val. Rec : 64.84%\n",
            "\tTrain Prec: 69.49% | Val. Prec: 68.22%\n",
            "\tTrain F1  : 66.84% | Val. F1  : 65.32%\n",
            "Epoch: 04 | Epoch Time: 1m 34s\n",
            "\tTrain Loss: 0.633 | Val. Loss: 0.716\n",
            "\tTrain Acc : 72.37% | Val. Acc : 69.11%\n",
            "\tTrain Rec : 69.41% | Val. Rec : 63.78%\n",
            "\tTrain Prec: 71.72% | Val. Prec: 68.92%\n",
            "\tTrain F1  : 69.24% | Val. F1  : 64.56%\n",
            "Epoch: 05 | Epoch Time: 1m 34s\n",
            "\tTrain Loss: 0.586 | Val. Loss: 0.707\n",
            "\tTrain Acc : 75.20% | Val. Acc : 68.83%\n",
            "\tTrain Rec : 72.76% | Val. Rec : 64.52%\n",
            "\tTrain Prec: 74.50% | Val. Prec: 68.23%\n",
            "\tTrain F1  : 72.63% | Val. F1  : 65.14%\n"
          ],
          "name": "stdout"
        },
        {
          "output_type": "stream",
          "text": [
            "/usr/local/lib/python3.6/dist-packages/sklearn/metrics/_classification.py:1272: UndefinedMetricWarning: Recall is ill-defined and being set to 0.0 in labels with no true samples. Use `zero_division` parameter to control this behavior.\n",
            "  _warn_prf(average, modifier, msg_start, len(result))\n"
          ],
          "name": "stderr"
        },
        {
          "output_type": "stream",
          "text": [
            "Epoch: 06 | Epoch Time: 1m 34s\n",
            "\tTrain Loss: 0.541 | Val. Loss: 0.735\n",
            "\tTrain Acc : 77.41% | Val. Acc : 68.75%\n",
            "\tTrain Rec : 75.24% | Val. Rec : 65.55%\n",
            "\tTrain Prec: 76.69% | Val. Prec: 67.24%\n",
            "\tTrain F1  : 75.09% | Val. F1  : 65.58%\n",
            "Epoch: 07 | Epoch Time: 1m 35s\n",
            "\tTrain Loss: 0.503 | Val. Loss: 0.762\n",
            "\tTrain Acc : 79.30% | Val. Acc : 68.39%\n",
            "\tTrain Rec : 77.52% | Val. Rec : 64.90%\n",
            "\tTrain Prec: 78.50% | Val. Prec: 67.74%\n",
            "\tTrain F1  : 77.24% | Val. F1  : 65.23%\n"
          ],
          "name": "stdout"
        },
        {
          "output_type": "error",
          "ename": "RuntimeError",
          "evalue": "ignored",
          "traceback": [
            "\u001b[0;31m---------------------------------------------------------------------------\u001b[0m",
            "\u001b[0;31mRuntimeError\u001b[0m                              Traceback (most recent call last)",
            "\u001b[0;32m<ipython-input-51-b3939a58f882>\u001b[0m in \u001b[0;36m<module>\u001b[0;34m()\u001b[0m\n\u001b[1;32m      9\u001b[0m \u001b[0;34m\u001b[0m\u001b[0m\n\u001b[1;32m     10\u001b[0m \u001b[0;34m\u001b[0m\u001b[0m\n\u001b[0;32m---> 11\u001b[0;31m     \u001b[0mtrain_loss\u001b[0m\u001b[0;34m,\u001b[0m \u001b[0mtrain_acc\u001b[0m\u001b[0;34m,\u001b[0m \u001b[0mtrain_rec\u001b[0m\u001b[0;34m,\u001b[0m \u001b[0mtrain_prec\u001b[0m\u001b[0;34m,\u001b[0m \u001b[0mtrain_f1\u001b[0m \u001b[0;34m=\u001b[0m \u001b[0mtrain\u001b[0m\u001b[0;34m(\u001b[0m\u001b[0mmodel\u001b[0m\u001b[0;34m,\u001b[0m \u001b[0mtrain_iterator\u001b[0m\u001b[0;34m,\u001b[0m \u001b[0moptimiser\u001b[0m\u001b[0;34m,\u001b[0m \u001b[0mcriterion\u001b[0m\u001b[0;34m)\u001b[0m\u001b[0;34m\u001b[0m\u001b[0;34m\u001b[0m\u001b[0m\n\u001b[0m\u001b[1;32m     12\u001b[0m     \u001b[0mvalid_loss\u001b[0m\u001b[0;34m,\u001b[0m \u001b[0mvalid_acc\u001b[0m\u001b[0;34m,\u001b[0m \u001b[0mvalid_rec\u001b[0m\u001b[0;34m,\u001b[0m \u001b[0mvalid_prec\u001b[0m\u001b[0;34m,\u001b[0m \u001b[0mvalid_f1\u001b[0m \u001b[0;34m=\u001b[0m \u001b[0mevaluate\u001b[0m\u001b[0;34m(\u001b[0m\u001b[0mmodel\u001b[0m\u001b[0;34m,\u001b[0m \u001b[0mvalid_iterator\u001b[0m\u001b[0;34m,\u001b[0m \u001b[0mcriterion\u001b[0m\u001b[0;34m)\u001b[0m\u001b[0;34m\u001b[0m\u001b[0;34m\u001b[0m\u001b[0m\n\u001b[1;32m     13\u001b[0m \u001b[0;34m\u001b[0m\u001b[0m\n",
            "\u001b[0;32m<ipython-input-48-6e094c00119a>\u001b[0m in \u001b[0;36mtrain\u001b[0;34m(model, iterator, optimizer, criterion)\u001b[0m\n\u001b[1;32m     27\u001b[0m         \u001b[0;31m# print(acc, rec, prec, f1)\u001b[0m\u001b[0;34m\u001b[0m\u001b[0;34m\u001b[0m\u001b[0;34m\u001b[0m\u001b[0m\n\u001b[1;32m     28\u001b[0m \u001b[0;34m\u001b[0m\u001b[0m\n\u001b[0;32m---> 29\u001b[0;31m         \u001b[0mloss\u001b[0m\u001b[0;34m.\u001b[0m\u001b[0mbackward\u001b[0m\u001b[0;34m(\u001b[0m\u001b[0;34m)\u001b[0m\u001b[0;34m\u001b[0m\u001b[0;34m\u001b[0m\u001b[0m\n\u001b[0m\u001b[1;32m     30\u001b[0m \u001b[0;34m\u001b[0m\u001b[0m\n\u001b[1;32m     31\u001b[0m         \u001b[0moptimizer\u001b[0m\u001b[0;34m.\u001b[0m\u001b[0mstep\u001b[0m\u001b[0;34m(\u001b[0m\u001b[0;34m)\u001b[0m\u001b[0;34m\u001b[0m\u001b[0;34m\u001b[0m\u001b[0m\n",
            "\u001b[0;32m/usr/local/lib/python3.6/dist-packages/torch/tensor.py\u001b[0m in \u001b[0;36mbackward\u001b[0;34m(self, gradient, retain_graph, create_graph)\u001b[0m\n\u001b[1;32m    193\u001b[0m                 \u001b[0mproducts\u001b[0m\u001b[0;34m.\u001b[0m \u001b[0mDefaults\u001b[0m \u001b[0mto\u001b[0m\u001b[0;31m \u001b[0m\u001b[0;31m`\u001b[0m\u001b[0;31m`\u001b[0m\u001b[0;32mFalse\u001b[0m\u001b[0;31m`\u001b[0m\u001b[0;31m`\u001b[0m\u001b[0;34m.\u001b[0m\u001b[0;34m\u001b[0m\u001b[0;34m\u001b[0m\u001b[0m\n\u001b[1;32m    194\u001b[0m         \"\"\"\n\u001b[0;32m--> 195\u001b[0;31m         \u001b[0mtorch\u001b[0m\u001b[0;34m.\u001b[0m\u001b[0mautograd\u001b[0m\u001b[0;34m.\u001b[0m\u001b[0mbackward\u001b[0m\u001b[0;34m(\u001b[0m\u001b[0mself\u001b[0m\u001b[0;34m,\u001b[0m \u001b[0mgradient\u001b[0m\u001b[0;34m,\u001b[0m \u001b[0mretain_graph\u001b[0m\u001b[0;34m,\u001b[0m \u001b[0mcreate_graph\u001b[0m\u001b[0;34m)\u001b[0m\u001b[0;34m\u001b[0m\u001b[0;34m\u001b[0m\u001b[0m\n\u001b[0m\u001b[1;32m    196\u001b[0m \u001b[0;34m\u001b[0m\u001b[0m\n\u001b[1;32m    197\u001b[0m     \u001b[0;32mdef\u001b[0m \u001b[0mregister_hook\u001b[0m\u001b[0;34m(\u001b[0m\u001b[0mself\u001b[0m\u001b[0;34m,\u001b[0m \u001b[0mhook\u001b[0m\u001b[0;34m)\u001b[0m\u001b[0;34m:\u001b[0m\u001b[0;34m\u001b[0m\u001b[0;34m\u001b[0m\u001b[0m\n",
            "\u001b[0;32m/usr/local/lib/python3.6/dist-packages/torch/autograd/__init__.py\u001b[0m in \u001b[0;36mbackward\u001b[0;34m(tensors, grad_tensors, retain_graph, create_graph, grad_variables)\u001b[0m\n\u001b[1;32m     97\u001b[0m     Variable._execution_engine.run_backward(\n\u001b[1;32m     98\u001b[0m         \u001b[0mtensors\u001b[0m\u001b[0;34m,\u001b[0m \u001b[0mgrad_tensors\u001b[0m\u001b[0;34m,\u001b[0m \u001b[0mretain_graph\u001b[0m\u001b[0;34m,\u001b[0m \u001b[0mcreate_graph\u001b[0m\u001b[0;34m,\u001b[0m\u001b[0;34m\u001b[0m\u001b[0;34m\u001b[0m\u001b[0m\n\u001b[0;32m---> 99\u001b[0;31m         allow_unreachable=True)  # allow_unreachable flag\n\u001b[0m\u001b[1;32m    100\u001b[0m \u001b[0;34m\u001b[0m\u001b[0m\n\u001b[1;32m    101\u001b[0m \u001b[0;34m\u001b[0m\u001b[0m\n",
            "\u001b[0;31mRuntimeError\u001b[0m: cuDNN error: CUDNN_STATUS_EXECUTION_FAILED"
          ]
        }
      ]
    },
    {
      "cell_type": "code",
      "metadata": {
        "id": "8FNIAAqh7dDE",
        "colab_type": "code",
        "colab": {
          "base_uri": "https://localhost:8080/",
          "height": 838
        },
        "outputId": "b8d68d8f-7612-4041-eae2-3c96759634b7"
      },
      "source": [
        "%tensorboard --logdir runs\n"
      ],
      "execution_count": 56,
      "outputs": [
        {
          "output_type": "display_data",
          "data": {
            "text/plain": [
              "Reusing TensorBoard on port 6006 (pid 1764), started 1:01:34 ago. (Use '!kill 1764' to kill it.)"
            ]
          },
          "metadata": {
            "tags": []
          }
        },
        {
          "output_type": "display_data",
          "data": {
            "application/javascript": [
              "\n",
              "        (async () => {\n",
              "            const url = await google.colab.kernel.proxyPort(6006, {\"cache\": true});\n",
              "            const iframe = document.createElement('iframe');\n",
              "            iframe.src = url;\n",
              "            iframe.setAttribute('width', '100%');\n",
              "            iframe.setAttribute('height', '800');\n",
              "            iframe.setAttribute('frameborder', 0);\n",
              "            document.body.appendChild(iframe);\n",
              "        })();\n",
              "    "
            ],
            "text/plain": [
              "<IPython.core.display.Javascript object>"
            ]
          },
          "metadata": {
            "tags": []
          }
        }
      ]
    },
    {
      "cell_type": "code",
      "metadata": {
        "id": "EdHaQTiSxsrH",
        "colab_type": "code",
        "colab": {
          "base_uri": "https://localhost:8080/",
          "height": 375
        },
        "outputId": "5b9846e3-6067-40cc-cc5e-400a1c607543"
      },
      "source": [
        "# model.load_state_dict(torch.load('tut1-model.pt'))\n",
        "\n",
        "test_loss, test_acc, test_rec, test_prec, test_f1 = evaluate(model, test_iterator, criterion)\n",
        "#DONY\n",
        "print(f'Test Loss: {test_loss:.3f}')\n",
        "print(f'Test Acc : {test_acc*100:.2f}%')\n",
        "print(f'Test Rec : {test_rec*100:.2f}%')\n",
        "print(f'Test Prec: {test_prec*100:.2f}%')\n",
        "print(f'Test F1  : {test_f1*100:.2f}%')"
      ],
      "execution_count": 54,
      "outputs": [
        {
          "output_type": "error",
          "ename": "RuntimeError",
          "evalue": "ignored",
          "traceback": [
            "\u001b[0;31m---------------------------------------------------------------------------\u001b[0m",
            "\u001b[0;31mRuntimeError\u001b[0m                              Traceback (most recent call last)",
            "\u001b[0;32m<ipython-input-54-a914b74d8ef0>\u001b[0m in \u001b[0;36m<module>\u001b[0;34m()\u001b[0m\n\u001b[1;32m      1\u001b[0m \u001b[0;34m\u001b[0m\u001b[0m\n\u001b[0;32m----> 2\u001b[0;31m \u001b[0mtest_loss\u001b[0m\u001b[0;34m,\u001b[0m \u001b[0mtest_acc\u001b[0m\u001b[0;34m,\u001b[0m \u001b[0mtest_rec\u001b[0m\u001b[0;34m,\u001b[0m \u001b[0mtest_prec\u001b[0m\u001b[0;34m,\u001b[0m \u001b[0mtest_f1\u001b[0m \u001b[0;34m=\u001b[0m \u001b[0mevaluate\u001b[0m\u001b[0;34m(\u001b[0m\u001b[0mmodel\u001b[0m\u001b[0;34m,\u001b[0m \u001b[0mtest_iterator\u001b[0m\u001b[0;34m,\u001b[0m \u001b[0mcriterion\u001b[0m\u001b[0;34m)\u001b[0m\u001b[0;34m\u001b[0m\u001b[0;34m\u001b[0m\u001b[0m\n\u001b[0m\u001b[1;32m      3\u001b[0m \u001b[0;31m#DONY\u001b[0m\u001b[0;34m\u001b[0m\u001b[0;34m\u001b[0m\u001b[0;34m\u001b[0m\u001b[0m\n\u001b[1;32m      4\u001b[0m \u001b[0mprint\u001b[0m\u001b[0;34m(\u001b[0m\u001b[0;34mf'Test Loss: {test_loss:.3f}'\u001b[0m\u001b[0;34m)\u001b[0m\u001b[0;34m\u001b[0m\u001b[0;34m\u001b[0m\u001b[0m\n\u001b[1;32m      5\u001b[0m \u001b[0mprint\u001b[0m\u001b[0;34m(\u001b[0m\u001b[0;34mf'Test Acc : {test_acc*100:.2f}%'\u001b[0m\u001b[0;34m)\u001b[0m\u001b[0;34m\u001b[0m\u001b[0;34m\u001b[0m\u001b[0m\n",
            "\u001b[0;32m<ipython-input-49-fa7821e05d57>\u001b[0m in \u001b[0;36mevaluate\u001b[0;34m(model, iterator, criterion)\u001b[0m\n\u001b[1;32m     13\u001b[0m     \u001b[0;32mwith\u001b[0m \u001b[0mtorch\u001b[0m\u001b[0;34m.\u001b[0m\u001b[0mno_grad\u001b[0m\u001b[0;34m(\u001b[0m\u001b[0;34m)\u001b[0m\u001b[0;34m:\u001b[0m\u001b[0;34m\u001b[0m\u001b[0;34m\u001b[0m\u001b[0m\n\u001b[1;32m     14\u001b[0m \u001b[0;34m\u001b[0m\u001b[0m\n\u001b[0;32m---> 15\u001b[0;31m         \u001b[0;32mfor\u001b[0m \u001b[0mbatch\u001b[0m \u001b[0;32min\u001b[0m \u001b[0miterator\u001b[0m\u001b[0;34m:\u001b[0m\u001b[0;34m\u001b[0m\u001b[0;34m\u001b[0m\u001b[0m\n\u001b[0m\u001b[1;32m     16\u001b[0m             \u001b[0mtext\u001b[0m\u001b[0;34m,\u001b[0m \u001b[0mtext_length\u001b[0m \u001b[0;34m=\u001b[0m \u001b[0mbatch\u001b[0m\u001b[0;34m.\u001b[0m\u001b[0mtext\u001b[0m\u001b[0;34m\u001b[0m\u001b[0;34m\u001b[0m\u001b[0m\n\u001b[1;32m     17\u001b[0m             \u001b[0mpredictions\u001b[0m \u001b[0;34m=\u001b[0m \u001b[0mmodel\u001b[0m\u001b[0;34m(\u001b[0m\u001b[0mtext\u001b[0m\u001b[0;34m,\u001b[0m \u001b[0mtext_length\u001b[0m\u001b[0;34m)\u001b[0m\u001b[0;34m.\u001b[0m\u001b[0msqueeze\u001b[0m\u001b[0;34m(\u001b[0m\u001b[0;36m1\u001b[0m\u001b[0;34m)\u001b[0m\u001b[0;34m\u001b[0m\u001b[0;34m\u001b[0m\u001b[0m\n",
            "\u001b[0;32m/usr/local/lib/python3.6/dist-packages/torchtext/data/iterator.py\u001b[0m in \u001b[0;36m__iter__\u001b[0;34m(self)\u001b[0m\n\u001b[1;32m    155\u001b[0m                     \u001b[0;32melse\u001b[0m\u001b[0;34m:\u001b[0m\u001b[0;34m\u001b[0m\u001b[0;34m\u001b[0m\u001b[0m\n\u001b[1;32m    156\u001b[0m                         \u001b[0mminibatch\u001b[0m\u001b[0;34m.\u001b[0m\u001b[0msort\u001b[0m\u001b[0;34m(\u001b[0m\u001b[0mkey\u001b[0m\u001b[0;34m=\u001b[0m\u001b[0mself\u001b[0m\u001b[0;34m.\u001b[0m\u001b[0msort_key\u001b[0m\u001b[0;34m,\u001b[0m \u001b[0mreverse\u001b[0m\u001b[0;34m=\u001b[0m\u001b[0;32mTrue\u001b[0m\u001b[0;34m)\u001b[0m\u001b[0;34m\u001b[0m\u001b[0;34m\u001b[0m\u001b[0m\n\u001b[0;32m--> 157\u001b[0;31m                 \u001b[0;32myield\u001b[0m \u001b[0mBatch\u001b[0m\u001b[0;34m(\u001b[0m\u001b[0mminibatch\u001b[0m\u001b[0;34m,\u001b[0m \u001b[0mself\u001b[0m\u001b[0;34m.\u001b[0m\u001b[0mdataset\u001b[0m\u001b[0;34m,\u001b[0m \u001b[0mself\u001b[0m\u001b[0;34m.\u001b[0m\u001b[0mdevice\u001b[0m\u001b[0;34m)\u001b[0m\u001b[0;34m\u001b[0m\u001b[0;34m\u001b[0m\u001b[0m\n\u001b[0m\u001b[1;32m    158\u001b[0m             \u001b[0;32mif\u001b[0m \u001b[0;32mnot\u001b[0m \u001b[0mself\u001b[0m\u001b[0;34m.\u001b[0m\u001b[0mrepeat\u001b[0m\u001b[0;34m:\u001b[0m\u001b[0;34m\u001b[0m\u001b[0;34m\u001b[0m\u001b[0m\n\u001b[1;32m    159\u001b[0m                 \u001b[0;32mreturn\u001b[0m\u001b[0;34m\u001b[0m\u001b[0;34m\u001b[0m\u001b[0m\n",
            "\u001b[0;32m/usr/local/lib/python3.6/dist-packages/torchtext/data/batch.py\u001b[0m in \u001b[0;36m__init__\u001b[0;34m(self, data, dataset, device)\u001b[0m\n\u001b[1;32m     32\u001b[0m                 \u001b[0;32mif\u001b[0m \u001b[0mfield\u001b[0m \u001b[0;32mis\u001b[0m \u001b[0;32mnot\u001b[0m \u001b[0;32mNone\u001b[0m\u001b[0;34m:\u001b[0m\u001b[0;34m\u001b[0m\u001b[0;34m\u001b[0m\u001b[0m\n\u001b[1;32m     33\u001b[0m                     \u001b[0mbatch\u001b[0m \u001b[0;34m=\u001b[0m \u001b[0;34m[\u001b[0m\u001b[0mgetattr\u001b[0m\u001b[0;34m(\u001b[0m\u001b[0mx\u001b[0m\u001b[0;34m,\u001b[0m \u001b[0mname\u001b[0m\u001b[0;34m)\u001b[0m \u001b[0;32mfor\u001b[0m \u001b[0mx\u001b[0m \u001b[0;32min\u001b[0m \u001b[0mdata\u001b[0m\u001b[0;34m]\u001b[0m\u001b[0;34m\u001b[0m\u001b[0;34m\u001b[0m\u001b[0m\n\u001b[0;32m---> 34\u001b[0;31m                     \u001b[0msetattr\u001b[0m\u001b[0;34m(\u001b[0m\u001b[0mself\u001b[0m\u001b[0;34m,\u001b[0m \u001b[0mname\u001b[0m\u001b[0;34m,\u001b[0m \u001b[0mfield\u001b[0m\u001b[0;34m.\u001b[0m\u001b[0mprocess\u001b[0m\u001b[0;34m(\u001b[0m\u001b[0mbatch\u001b[0m\u001b[0;34m,\u001b[0m \u001b[0mdevice\u001b[0m\u001b[0;34m=\u001b[0m\u001b[0mdevice\u001b[0m\u001b[0;34m)\u001b[0m\u001b[0;34m)\u001b[0m\u001b[0;34m\u001b[0m\u001b[0;34m\u001b[0m\u001b[0m\n\u001b[0m\u001b[1;32m     35\u001b[0m \u001b[0;34m\u001b[0m\u001b[0m\n\u001b[1;32m     36\u001b[0m     \u001b[0;34m@\u001b[0m\u001b[0mclassmethod\u001b[0m\u001b[0;34m\u001b[0m\u001b[0;34m\u001b[0m\u001b[0m\n",
            "\u001b[0;32m/usr/local/lib/python3.6/dist-packages/torchtext/data/field.py\u001b[0m in \u001b[0;36mprocess\u001b[0;34m(self, batch, device)\u001b[0m\n\u001b[1;32m    199\u001b[0m         \"\"\"\n\u001b[1;32m    200\u001b[0m         \u001b[0mpadded\u001b[0m \u001b[0;34m=\u001b[0m \u001b[0mself\u001b[0m\u001b[0;34m.\u001b[0m\u001b[0mpad\u001b[0m\u001b[0;34m(\u001b[0m\u001b[0mbatch\u001b[0m\u001b[0;34m)\u001b[0m\u001b[0;34m\u001b[0m\u001b[0;34m\u001b[0m\u001b[0m\n\u001b[0;32m--> 201\u001b[0;31m         \u001b[0mtensor\u001b[0m \u001b[0;34m=\u001b[0m \u001b[0mself\u001b[0m\u001b[0;34m.\u001b[0m\u001b[0mnumericalize\u001b[0m\u001b[0;34m(\u001b[0m\u001b[0mpadded\u001b[0m\u001b[0;34m,\u001b[0m \u001b[0mdevice\u001b[0m\u001b[0;34m=\u001b[0m\u001b[0mdevice\u001b[0m\u001b[0;34m)\u001b[0m\u001b[0;34m\u001b[0m\u001b[0;34m\u001b[0m\u001b[0m\n\u001b[0m\u001b[1;32m    202\u001b[0m         \u001b[0;32mreturn\u001b[0m \u001b[0mtensor\u001b[0m\u001b[0;34m\u001b[0m\u001b[0;34m\u001b[0m\u001b[0m\n\u001b[1;32m    203\u001b[0m \u001b[0;34m\u001b[0m\u001b[0m\n",
            "\u001b[0;32m/usr/local/lib/python3.6/dist-packages/torchtext/data/field.py\u001b[0m in \u001b[0;36mnumericalize\u001b[0;34m(self, arr, device)\u001b[0m\n\u001b[1;32m    326\u001b[0m             \u001b[0mvar\u001b[0m\u001b[0;34m.\u001b[0m\u001b[0mt_\u001b[0m\u001b[0;34m(\u001b[0m\u001b[0;34m)\u001b[0m\u001b[0;34m\u001b[0m\u001b[0;34m\u001b[0m\u001b[0m\n\u001b[1;32m    327\u001b[0m         \u001b[0;32mif\u001b[0m \u001b[0mself\u001b[0m\u001b[0;34m.\u001b[0m\u001b[0msequential\u001b[0m\u001b[0;34m:\u001b[0m\u001b[0;34m\u001b[0m\u001b[0;34m\u001b[0m\u001b[0m\n\u001b[0;32m--> 328\u001b[0;31m             \u001b[0mvar\u001b[0m \u001b[0;34m=\u001b[0m \u001b[0mvar\u001b[0m\u001b[0;34m.\u001b[0m\u001b[0mcontiguous\u001b[0m\u001b[0;34m(\u001b[0m\u001b[0;34m)\u001b[0m\u001b[0;34m\u001b[0m\u001b[0;34m\u001b[0m\u001b[0m\n\u001b[0m\u001b[1;32m    329\u001b[0m \u001b[0;34m\u001b[0m\u001b[0m\n\u001b[1;32m    330\u001b[0m         \u001b[0;32mif\u001b[0m \u001b[0mself\u001b[0m\u001b[0;34m.\u001b[0m\u001b[0minclude_lengths\u001b[0m\u001b[0;34m:\u001b[0m\u001b[0;34m\u001b[0m\u001b[0;34m\u001b[0m\u001b[0m\n",
            "\u001b[0;31mRuntimeError\u001b[0m: CUDA error: invalid resource handle"
          ]
        }
      ]
    },
    {
      "cell_type": "code",
      "metadata": {
        "id": "PpFVYFfLQiZn",
        "colab_type": "code",
        "colab": {}
      },
      "source": [
        "# 15 Apr\n",
        "# Test Loss: 0.828\n",
        "# Test Acc : 65.16%\n",
        "# Test Rec : 64.89%\n",
        "# Test Prec: 62.38%\n",
        "# Test F1  : 62.55%"
      ],
      "execution_count": 0,
      "outputs": []
    },
    {
      "cell_type": "code",
      "metadata": {
        "id": "_mIw6tbUUd1Q",
        "colab_type": "code",
        "colab": {}
      },
      "source": [
        "# summary_writer.flush()\n",
        "# summary_writer.close()"
      ],
      "execution_count": 0,
      "outputs": []
    },
    {
      "cell_type": "code",
      "metadata": {
        "id": "JZtUHroDTD6k",
        "colab_type": "code",
        "colab": {}
      },
      "source": [
        ""
      ],
      "execution_count": 0,
      "outputs": []
    },
    {
      "cell_type": "code",
      "metadata": {
        "id": "lXZiPLefTGo5",
        "colab_type": "code",
        "colab": {}
      },
      "source": [
        ""
      ],
      "execution_count": 0,
      "outputs": []
    }
  ]
}