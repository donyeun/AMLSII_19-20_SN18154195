{
  "nbformat": 4,
  "nbformat_minor": 0,
  "metadata": {
    "colab": {
      "name": "AMLS II",
      "provenance": [],
      "collapsed_sections": [],
      "authorship_tag": "ABX9TyN7FMPA2rgfb+lEk1UEmVVd",
      "include_colab_link": true
    },
    "kernelspec": {
      "name": "python3",
      "display_name": "Python 3"
    }
  },
  "cells": [
    {
      "cell_type": "markdown",
      "metadata": {
        "id": "view-in-github",
        "colab_type": "text"
      },
      "source": [
        "<a href=\"https://colab.research.google.com/github/donyeun/AMLSII_19-20_SN18154195/blob/master/AMLS_II.ipynb\" target=\"_parent\"><img src=\"https://colab.research.google.com/assets/colab-badge.svg\" alt=\"Open In Colab\"/></a>"
      ]
    },
    {
      "cell_type": "markdown",
      "metadata": {
        "id": "pe4VG6osyCiF",
        "colab_type": "text"
      },
      "source": [
        "# Libraries and Variables"
      ]
    },
    {
      "cell_type": "markdown",
      "metadata": {
        "id": "RuEK2LfkrPYV",
        "colab_type": "text"
      },
      "source": [
        "## Mount Google Drive\n",
        "Google Drive will be used to store the outputs of the systems, such as the resulted models, figures, etc."
      ]
    },
    {
      "cell_type": "code",
      "metadata": {
        "id": "oTTXAniWmfMi",
        "colab_type": "code",
        "colab": {
          "base_uri": "https://localhost:8080/",
          "height": 122
        },
        "outputId": "e7bf30cc-821f-4f0d-c565-75fd5752f893"
      },
      "source": [
        "from google.colab import drive\n",
        "drive.mount('/content/drive')"
      ],
      "execution_count": 1,
      "outputs": [
        {
          "output_type": "stream",
          "text": [
            "Go to this URL in a browser: https://accounts.google.com/o/oauth2/auth?client_id=947318989803-6bn6qk8qdgf4n4g3pfee6491hc0brc4i.apps.googleusercontent.com&redirect_uri=urn%3aietf%3awg%3aoauth%3a2.0%3aoob&response_type=code&scope=email%20https%3a%2f%2fwww.googleapis.com%2fauth%2fdocs.test%20https%3a%2f%2fwww.googleapis.com%2fauth%2fdrive%20https%3a%2f%2fwww.googleapis.com%2fauth%2fdrive.photos.readonly%20https%3a%2f%2fwww.googleapis.com%2fauth%2fpeopleapi.readonly\n",
            "\n",
            "Enter your authorization code:\n",
            "··········\n",
            "Mounted at /content/drive\n"
          ],
          "name": "stdout"
        }
      ]
    },
    {
      "cell_type": "markdown",
      "metadata": {
        "id": "2Ua9S5ukoKoF",
        "colab_type": "text"
      },
      "source": [
        ""
      ]
    },
    {
      "cell_type": "code",
      "metadata": {
        "id": "hByuJTvDxbj6",
        "colab_type": "code",
        "outputId": "7e27e766-d638-4be1-a09a-d360ef02a4a5",
        "colab": {
          "base_uri": "https://localhost:8080/",
          "height": 34
        }
      },
      "source": [
        "!ls drive/My\\ Drive/public/semeval_2017"
      ],
      "execution_count": 5,
      "outputs": [
        {
          "output_type": "stream",
          "text": [
            "reference\n"
          ],
          "name": "stdout"
        }
      ]
    },
    {
      "cell_type": "code",
      "metadata": {
        "id": "o4iQfhITxtZM",
        "colab_type": "code",
        "colab": {}
      },
      "source": [
        "cfg = {\n",
        "    'dataset': {\n",
        "        'semeval': {\n",
        "            'training_url' : 'https://www.dropbox.com/s/byzr8yoda6bua1b',\n",
        "            'training_filename' : '2017_English_final.zip',\n",
        "\n",
        "            'testing_url' : 'http://alt.qcri.org/semeval2017/task4/data/uploads/',\n",
        "            'training_filename' : 'semeval2017-task4-test.zip',\n",
        "        }\n",
        "    },\n",
        "    'gdrive': {\n",
        "        'root_path':'drive/My\\ Drive/public/semeval_2017',\n",
        "        'train_set_path': 'drive/My\\ Drive/public/semeval_2017/dataset/training',\n",
        "        'test_set_path': 'drive/My\\ Drive/public/semeval_2017/dataset/testing',\n",
        "    }\n",
        "\n",
        "}"
      ],
      "execution_count": 0,
      "outputs": []
    },
    {
      "cell_type": "markdown",
      "metadata": {
        "id": "rQRUtB7Mv8oB",
        "colab_type": "text"
      },
      "source": [
        "# Load Dataset"
      ]
    },
    {
      "cell_type": "code",
      "metadata": {
        "id": "JshbzidXv9re",
        "colab_type": "code",
        "outputId": "60f561c3-2c4c-48c8-9437-97c063847057",
        "colab": {
          "base_uri": "https://localhost:8080/",
          "height": 445
        }
      },
      "source": [
        "# downloading training and testing dataset from the competition's official Dropbox folder\n",
        "# http://alt.qcri.org/semeval2017/task4/index.php?id=download-the-full-training-data-for-semeval-2017-task-4\n",
        "\n",
        "\n",
        "!wget -O {cfg['dataset']['semeval']['training_filename']} {cfg['dataset']['semeval']['training_url']} -P semeval\n",
        "# !wget -O semeval2017-task4-test.zip http://alt.qcri.org/semeval2017/task4/data/uploads/"
      ],
      "execution_count": 0,
      "outputs": [
        {
          "output_type": "stream",
          "text": [
            "--2020-03-26 17:08:59--  https://www.dropbox.com/s/byzr8yoda6bua1b\n",
            "Resolving www.dropbox.com (www.dropbox.com)... 162.125.9.1, 2620:100:601f:1::a27d:901\n",
            "Connecting to www.dropbox.com (www.dropbox.com)|162.125.9.1|:443... connected.\n",
            "HTTP request sent, awaiting response... 301 Moved Permanently\n",
            "Location: /s/raw/byzr8yoda6bua1b [following]\n",
            "--2020-03-26 17:09:00--  https://www.dropbox.com/s/raw/byzr8yoda6bua1b\n",
            "Reusing existing connection to www.dropbox.com:443.\n",
            "HTTP request sent, awaiting response... 302 Found\n",
            "Location: https://uc73f31361e9ec8ca5dbce8dcbcc.dl.dropboxusercontent.com/cd/0/inline/A0rvPgdGBlbFzo-kkXVg2icQBYQcqxUstTZ2s17noUKYb0yP8-7CG6amCWIAIkOAaIDGDBaxQ4KakvlKyeZK_H7A-2Y6vqe6Fsx8yOKiliTM4g/file# [following]\n",
            "--2020-03-26 17:09:00--  https://uc73f31361e9ec8ca5dbce8dcbcc.dl.dropboxusercontent.com/cd/0/inline/A0rvPgdGBlbFzo-kkXVg2icQBYQcqxUstTZ2s17noUKYb0yP8-7CG6amCWIAIkOAaIDGDBaxQ4KakvlKyeZK_H7A-2Y6vqe6Fsx8yOKiliTM4g/file\n",
            "Resolving uc73f31361e9ec8ca5dbce8dcbcc.dl.dropboxusercontent.com (uc73f31361e9ec8ca5dbce8dcbcc.dl.dropboxusercontent.com)... 162.125.9.6, 2620:100:601f:6::a27d:906\n",
            "Connecting to uc73f31361e9ec8ca5dbce8dcbcc.dl.dropboxusercontent.com (uc73f31361e9ec8ca5dbce8dcbcc.dl.dropboxusercontent.com)|162.125.9.6|:443... connected.\n",
            "HTTP request sent, awaiting response... 302 FOUND\n",
            "Location: /cd/0/inline2/A0qpwz2FM0eStU4bbNqCTtxpWvcst4XcjWZZpZCi_qKcCLTazmtcIKxmuLgTD-Zm5bwnVQuita8hBDdvU05K5QnEPMDbZmeUGjJwxRHeqzbrAdtqko_TkhJdS7619D8T_sUNHZz4x8MFtVuh5_YzvJVGswIJZCpI4nYx8ChSVia76Gnws49Dj154IRouK0-XqzVKM1bW-Alx7xBi5bnpWqdmtpa21IxSDoXuDYz3vO2v-_sMyrT-aZ7qOlBH97ozjTTZaucF2h-5wKWoPPduy_UiB6Q-mv3UBhvKyt0KL8gL2XiqAOSLcnqtk44QipLNSHoYuBupTjbJ0B-S8IMG-DSq/file [following]\n",
            "--2020-03-26 17:09:00--  https://uc73f31361e9ec8ca5dbce8dcbcc.dl.dropboxusercontent.com/cd/0/inline2/A0qpwz2FM0eStU4bbNqCTtxpWvcst4XcjWZZpZCi_qKcCLTazmtcIKxmuLgTD-Zm5bwnVQuita8hBDdvU05K5QnEPMDbZmeUGjJwxRHeqzbrAdtqko_TkhJdS7619D8T_sUNHZz4x8MFtVuh5_YzvJVGswIJZCpI4nYx8ChSVia76Gnws49Dj154IRouK0-XqzVKM1bW-Alx7xBi5bnpWqdmtpa21IxSDoXuDYz3vO2v-_sMyrT-aZ7qOlBH97ozjTTZaucF2h-5wKWoPPduy_UiB6Q-mv3UBhvKyt0KL8gL2XiqAOSLcnqtk44QipLNSHoYuBupTjbJ0B-S8IMG-DSq/file\n",
            "Reusing existing connection to uc73f31361e9ec8ca5dbce8dcbcc.dl.dropboxusercontent.com:443.\n",
            "HTTP request sent, awaiting response... 200 OK\n",
            "Length: 7625768 (7.3M) [application/zip]\n",
            "Saving to: ‘semeval2017-task4-test.zip’\n",
            "\n",
            "017-task4-test.zip  100%[===================>]   7.27M  39.5MB/s    in 0.2s    \n",
            "\n",
            "2020-03-26 17:09:01 (39.5 MB/s) - ‘semeval2017-task4-test.zip’ saved [7625768/7625768]\n",
            "\n"
          ],
          "name": "stdout"
        }
      ]
    },
    {
      "cell_type": "code",
      "metadata": {
        "id": "lZaWJcIrwjs_",
        "colab_type": "code",
        "outputId": "deb8b7b0-34db-4b3a-8971-1cc8281b18c0",
        "colab": {
          "base_uri": "https://localhost:8080/",
          "height": 54
        }
      },
      "source": [
        "# !mkdir {cfg['gdrive']['project_root']}/dataset\n",
        "try:\n",
        "  !ls {cfg['gdrive']['project_root']}/dataset/a\n",
        "except:\n",
        "  print(\"sting\")"
      ],
      "execution_count": 23,
      "outputs": [
        {
          "output_type": "stream",
          "text": [
            "ls: cannot access 'drive/My Drive/public/semeval_2017/dataset/a': No such file or directory\n"
          ],
          "name": "stdout"
        }
      ]
    },
    {
      "cell_type": "code",
      "metadata": {
        "id": "LN6h51MBxWZi",
        "colab_type": "code",
        "colab": {}
      },
      "source": [
        "def create_gdrive_project_folder_template(gdrive_folderpaths_list):\n",
        "  \"\"\"\n",
        "  Create (an empty) project folder structure in Google Drive\n",
        "  \"\"\"\n",
        "  for key, path in gdrive_folderpaths_list.items():\n",
        "    print(path)\n",
        "    !mkdir path\n",
        "\n",
        "\n",
        "\n",
        "\n",
        "def copy_original_dataset_from_semeval(src_train_set_url, src_test_set_url, target_gdrive_path):\n",
        "  \"\"\"\n",
        "  Get the dataset from Semeval's official website\n",
        "  and copy them into personal google drive account\n",
        "  \"\"\"\n",
        "  \n",
        "  !mkdir {cfg['dataset']['semeval']['training_filename']}/dataset\n",
        "  "
      ],
      "execution_count": 0,
      "outputs": []
    },
    {
      "cell_type": "code",
      "metadata": {
        "id": "ymCoOmAuvhIg",
        "colab_type": "code",
        "colab": {
          "base_uri": "https://localhost:8080/",
          "height": 119
        },
        "outputId": "fbee227b-6d9b-4e86-aac2-7387d26a618e"
      },
      "source": [
        "create_gdrive_project_folder_template(cfg['gdrive'])"
      ],
      "execution_count": 32,
      "outputs": [
        {
          "output_type": "stream",
          "text": [
            "drive/My\\ Drive/public/semeval_2017\n",
            "mkdir: cannot create directory ‘path’: File exists\n",
            "drive/My\\ Drive/public/semeval_2017/dataset/training\n",
            "mkdir: cannot create directory ‘path’: File exists\n",
            "drive/My\\ Drive/public/semeval_2017/dataset/testing\n",
            "mkdir: cannot create directory ‘path’: File exists\n"
          ],
          "name": "stdout"
        }
      ]
    },
    {
      "cell_type": "code",
      "metadata": {
        "id": "m9uI_CBXvnKL",
        "colab_type": "code",
        "colab": {}
      },
      "source": [
        ""
      ],
      "execution_count": 0,
      "outputs": []
    }
  ]
}