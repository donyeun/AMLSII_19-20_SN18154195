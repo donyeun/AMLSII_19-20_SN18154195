{
  "nbformat": 4,
  "nbformat_minor": 0,
  "metadata": {
    "colab": {
      "name": "AMLS II",
      "provenance": [],
      "collapsed_sections": [],
      "toc_visible": true,
      "authorship_tag": "ABX9TyNszDfUNUdx9fk340VXyILk",
      "include_colab_link": true
    },
    "kernelspec": {
      "name": "python3",
      "display_name": "Python 3"
    },
    "accelerator": "GPU"
  },
  "cells": [
    {
      "cell_type": "markdown",
      "metadata": {
        "id": "view-in-github",
        "colab_type": "text"
      },
      "source": [
        "<a href=\"https://colab.research.google.com/github/donyeun/AMLSII_19-20_SN18154195/blob/master/AMLS_II.ipynb\" target=\"_parent\"><img src=\"https://colab.research.google.com/assets/colab-badge.svg\" alt=\"Open In Colab\"/></a>"
      ]
    },
    {
      "cell_type": "markdown",
      "metadata": {
        "id": "Skg_yPYJE3V_",
        "colab_type": "text"
      },
      "source": [
        "## Mount Google Drive"
      ]
    },
    {
      "cell_type": "code",
      "metadata": {
        "id": "oTTXAniWmfMi",
        "colab_type": "code",
        "outputId": "3c2ad59c-8de5-4c17-9fe7-3617c9bffbab",
        "colab": {
          "base_uri": "https://localhost:8080/",
          "height": 122
        }
      },
      "source": [
        "from google.colab import drive\n",
        "drive.mount('/content/drive')"
      ],
      "execution_count": 1,
      "outputs": [
        {
          "output_type": "stream",
          "text": [
            "Go to this URL in a browser: https://accounts.google.com/o/oauth2/auth?client_id=947318989803-6bn6qk8qdgf4n4g3pfee6491hc0brc4i.apps.googleusercontent.com&redirect_uri=urn%3aietf%3awg%3aoauth%3a2.0%3aoob&response_type=code&scope=email%20https%3a%2f%2fwww.googleapis.com%2fauth%2fdocs.test%20https%3a%2f%2fwww.googleapis.com%2fauth%2fdrive%20https%3a%2f%2fwww.googleapis.com%2fauth%2fdrive.photos.readonly%20https%3a%2f%2fwww.googleapis.com%2fauth%2fpeopleapi.readonly\n",
            "\n",
            "Enter your authorization code:\n",
            "··········\n",
            "Mounted at /content/drive\n"
          ],
          "name": "stdout"
        }
      ]
    },
    {
      "cell_type": "markdown",
      "metadata": {
        "id": "pe4VG6osyCiF",
        "colab_type": "text"
      },
      "source": [
        "# Libraries and Variables"
      ]
    },
    {
      "cell_type": "code",
      "metadata": {
        "id": "_5LCvzjssSJf",
        "colab_type": "code",
        "colab": {}
      },
      "source": [
        "import pandas as pd\n",
        "import os\n",
        "import torch\n",
        "from tqdm import tqdm\n",
        "from wordcloud import WordCloud\n",
        "import matplotlib.pyplot as plt\n",
        "import nltk\n",
        "import csv"
      ],
      "execution_count": 0,
      "outputs": []
    },
    {
      "cell_type": "code",
      "metadata": {
        "id": "_HZ83t_QZq1f",
        "colab_type": "code",
        "colab": {}
      },
      "source": [
        "cfg = {\n",
        "       'paths': {\n",
        "           'train_folder_task_a': '/content/drive/My Drive/public/AMLSII_19-20_SN18154195/dataset/training/2017_English_final/GOLD/Subtask_A',\n",
        "           'train_additional_dataset_filenames': ['livejournal-2014test-A.tsv', 'sms-2013test-A.tsv'],\n",
        "           'test_file_task_a': '/content/drive/My Drive/public/AMLSII_19-20_SN18154195/dataset/testing/SemEval2017-task4-test/SemEval2017-task4-test.subtask-A.english.txt',\n",
        "\n",
        "           'train_folder_task_b': '/content/drive/My Drive/public/AMLSII_19-20_SN18154195/dataset/training/2017_English_final/GOLD/Subtasks_BD',\n",
        "           'test_file_task_b': '/content/drive/My Drive/public/AMLSII_19-20_SN18154195/dataset/testing/SemEval2017-task4-test/SemEval2017-task4-test.subtask-BD.english.txt',\n",
        "       },\n",
        "       'task_a': {\n",
        "           'use_additional_dataset': False,\n",
        "           'dataset': {\n",
        "               'clean' : {\n",
        "                   'training_filepath': '/content/drive/My Drive/public/AMLSII_19-20_SN18154195/dataset/clean/task_a_training.csv'\n",
        "               }\n",
        "           }\n",
        "       },\n",
        "       'preprocessing': {\n",
        "           'tokenization': {\n",
        "               'remove_twitter_handle': True,\n",
        "               'preserve_case': False\n",
        "           }\n",
        "       },\n",
        "}"
      ],
      "execution_count": 0,
      "outputs": []
    },
    {
      "cell_type": "markdown",
      "metadata": {
        "id": "RuEK2LfkrPYV",
        "colab_type": "text"
      },
      "source": [
        "# Load Dataset and Data Preprocessing"
      ]
    },
    {
      "cell_type": "markdown",
      "metadata": {
        "id": "6EVaQRfoFLyT",
        "colab_type": "text"
      },
      "source": [
        "## Preprocess Additional Dataset\n",
        "In task A, there are some additional datasets that were given from the competition apart from the standard twitter corpus, which is sms and livejournal corpus. We can use both of these additional datasets, after we preprocess the formatting so that it matches the rest of the twitter datasets."
      ]
    },
    {
      "cell_type": "code",
      "metadata": {
        "id": "RUAJontBFp21",
        "colab_type": "code",
        "outputId": "9bb4ec95-2bbc-48d0-8cae-20dd2acc6b2f",
        "colab": {
          "base_uri": "https://localhost:8080/",
          "height": 513
        }
      },
      "source": [
        "task_a_train_additional_dfs = {}\n",
        "\n",
        "for filename in cfg['paths']['train_additional_dataset_filenames']:\n",
        "  # read additional corpora\n",
        "  task_a_train_additional_dfs[filename] = pd.read_csv(os.path.join(cfg['paths']['train_folder_task_a'], filename), sep='\\t', header=None, quoting=csv.QUOTE_NONE)\n",
        "  \n",
        "  if filename == 'livejournal-2014test-A.tsv':\n",
        "    # remove the 0-th column from livejournal corpora, as it is unnecessary\n",
        "    task_a_train_additional_dfs[filename] = task_a_train_additional_dfs[filename].drop(columns=[0])\n",
        "  elif filename == 'sms-2013test-A.tsv':\n",
        "    # remove the 1st column from sms corpora, as it is unnecessary\n",
        "    task_a_train_additional_dfs[filename] = task_a_train_additional_dfs[filename].drop(columns=[1])\n",
        "  \n",
        "  # reset the column index to make it incremental\n",
        "  task_a_train_additional_dfs[filename].columns = range(task_a_train_additional_dfs[filename].shape[1])\n",
        "  \n",
        "  print(task_a_train_additional_dfs[filename])"
      ],
      "execution_count": 4,
      "outputs": [
        {
          "output_type": "stream",
          "text": [
            "             0         1                                                  2\n",
            "0     LJ111111  negative  I know I missed something here , but what does...\n",
            "1     LJ111113   neutral  What do you think of Beside Ourselves as a tit...\n",
            "2     LJ111114  positive                    :D I intend to be one someday .\n",
            "3     LJ111117  negative  LLLINKKK LLLINKKK IIIMAGEEELLLINKKK The choice...\n",
            "4     LJ111119   neutral                     LLLINKKK Some more mountains .\n",
            "...        ...       ...                                                ...\n",
            "1137  LJ113616  positive                     Maybe it was - his - fantasy ?\n",
            "1138  LJ113618  negative  It was ok , but they always just seem so nervo...\n",
            "1139  LJ113621  positive  It is streamable from YepRoc -- matter of fact...\n",
            "1140  LJ113623  positive  comment telling me who you are , or how you fo...\n",
            "1141  LJ113625   neutral  im on myspace ... ill try and find you and add...\n",
            "\n",
            "[1142 rows x 3 columns]\n",
            "          0         1                                                  2\n",
            "0     10936   neutral  Yes i am going from school have class till 5 c...\n",
            "1     11051   neutral  can u tape the match for me?  i\\u2019ll rush o...\n",
            "2     10966   neutral  Too many people at my house my relatives are h...\n",
            "3     11211  negative  Yea I have spoken to him liao. Indeed he is up...\n",
            "4     11350  positive  Haha... I want to see. E macdonalds here cheap...\n",
            "...     ...       ...                                                ...\n",
            "2089  10038  negative  Oki... Think i\\u2019m confused... I only know ...\n",
            "2090  11799   neutral  Yup... Ok i go home look at the timings then i...\n",
            "2091  11945   neutral            Here got lots of hair dresser fr china.\n",
            "2092  10154   neutral  no alh  we are not discussing fromt he viewpoi...\n",
            "2093  11428   neutral  Not dat i dun wan sign up but i wan only for a...\n",
            "\n",
            "[2094 rows x 3 columns]\n"
          ],
          "name": "stdout"
        }
      ]
    },
    {
      "cell_type": "markdown",
      "metadata": {
        "id": "FH283206E6BF",
        "colab_type": "text"
      },
      "source": [
        "## Make Datasets As Pandas' DataFrames and Cleaning Dataset\n",
        "\n"
      ]
    },
    {
      "cell_type": "code",
      "metadata": {
        "id": "LgC4YYhHrtdb",
        "colab_type": "code",
        "colab": {}
      },
      "source": [
        "def append_txt_files_as_one_dataframe(folderpath, filename_keywords_list, additional_dataset_dfs=None):\n",
        "  dataset_per_file_dfs = {}\n",
        "  dataset_df = pd.DataFrame()\n",
        "  filenames = os.listdir(folderpath)\n",
        "  \n",
        "  # open txt files (in tsv formatting)\n",
        "  for filename in filenames:\n",
        "    # if the filename contains a keyword in the filename_keywords_list, then open the txt file\n",
        "    # this is to avoid opening unnecessary txt such as readme.txt file.\n",
        "    if any(keyword in filename for keyword in filename_keywords_list):\n",
        "      dataset_per_file_dfs[filename] = pd.read_csv(os.path.join(folderpath, filename), sep=\"\\t\", header=None, quoting=csv.QUOTE_NONE)\n",
        "      print(dataset_per_file_dfs[filename].shape, filename)\n",
        "\n",
        "  # combine the original dataset with additional dataset (if any)\n",
        "  if additional_dataset_dfs is not None:\n",
        "    for key, value in additional_dataset_dfs.items():\n",
        "      dataset_per_file_dfs[key] = value\n",
        "\n",
        "  # append all the files as one dataframe\n",
        "  for key, value in dataset_per_file_dfs.items():\n",
        "    # print(key, '\\t', i, '\\t', dataset_per_file_df[key].shape[0])\n",
        "    dataset_df = dataset_df.append(dataset_per_file_dfs[key], ignore_index=True)\n",
        "  return dataset_df"
      ],
      "execution_count": 0,
      "outputs": []
    },
    {
      "cell_type": "code",
      "metadata": {
        "id": "qXBTf96GQeBI",
        "colab_type": "code",
        "colab": {}
      },
      "source": [
        "def clean_dataframe_format(df, new_column_name_list, drop_column_list=[]):\n",
        "  # drop unnecessary column\n",
        "  df = df.drop(columns=drop_column_list)\n",
        "  \n",
        "  # rename column\n",
        "  df.columns = new_column_name_list\n",
        "\n",
        "  # remove row in dataframe if the 'text' or 'sentiment' column value is missing\n",
        "  df = df.dropna(subset=['sentiment', 'text'], how='any').reset_index(drop=True)\n",
        "  \n",
        "  # remove row if the sentiment is not 'positive', 'negative' or 'neutral'\n",
        "  # this happens in the dataset, for example, there are some rows\n",
        "  # where its sentiments are 'off topic'\n",
        "  valid_sentiments = ['positive', 'negative', 'neutral']\n",
        "  df = df[df['sentiment'].isin(valid_sentiments)].reset_index(drop=True)\n",
        "  return df"
      ],
      "execution_count": 0,
      "outputs": []
    },
    {
      "cell_type": "code",
      "metadata": {
        "id": "znGSEFNntmVa",
        "colab_type": "code",
        "outputId": "b8ece6c3-a03e-485a-d52a-181ec2f62526",
        "colab": {
          "base_uri": "https://localhost:8080/",
          "height": 204
        }
      },
      "source": [
        "# read dataset files and append it as one pandas dataframe\n",
        "if cfg['task_a']['use_additional_dataset']:\n",
        "  task_a_train_df = append_txt_files_as_one_dataframe(cfg['paths']['train_folder_task_a'], ['twitter'], task_a_train_additional_dfs)\n",
        "else:\n",
        "  task_a_train_df = append_txt_files_as_one_dataframe(cfg['paths']['train_folder_task_a'], ['twitter'])\n",
        "\n",
        "task_a_train_df = clean_dataframe_format(task_a_train_df, ['id', 'sentiment', 'text'], drop_column_list=[3])\n",
        "\n",
        "# # save dataset as csv file\n",
        "# with pd.option_context('display.max_columns', None):  # more options can be specified also\n",
        "#     print(task_a_train_df)\n",
        "\n",
        "# print(task_a_train_df.shape)"
      ],
      "execution_count": 7,
      "outputs": [
        {
          "output_type": "stream",
          "text": [
            "(2000, 3) twitter-2016devtest-A.txt\n",
            "(1999, 3) twitter-2016dev-A.txt\n",
            "(6000, 3) twitter-2016train-A.txt\n",
            "(1654, 3) twitter-2013dev-A.txt\n",
            "(3547, 3) twitter-2013test-A.txt\n",
            "(9684, 3) twitter-2013train-A.txt\n",
            "(1853, 3) twitter-2014test-A.txt\n",
            "(2390, 3) twitter-2015test-A.txt\n",
            "(489, 3) twitter-2015train-A.txt\n",
            "(86, 3) twitter-2014sarcasm-A.txt\n",
            "(20633, 4) twitter-2016test-A.txt\n"
          ],
          "name": "stdout"
        }
      ]
    },
    {
      "cell_type": "code",
      "metadata": {
        "id": "R_Aem1fwuZB8",
        "colab_type": "code",
        "outputId": "587c9f05-6409-435f-d320-b8131950e7e5",
        "colab": {
          "base_uri": "https://localhost:8080/",
          "height": 306
        }
      },
      "source": [
        "task_b_train_df = append_txt_files_as_one_dataframe(cfg['paths']['train_folder_task_b'], ['twitter'])\n",
        "task_b_train_df = clean_dataframe_format(task_b_train_df, ['id', 'topic','sentiment', 'text'], drop_column_list=[4])\n",
        "task_b_train_df.info()"
      ],
      "execution_count": 8,
      "outputs": [
        {
          "output_type": "stream",
          "text": [
            "(4346, 4) twitter-2016train-BD.txt\n",
            "(1325, 4) twitter-2016dev-BD.txt\n",
            "(1417, 4) twitter-2016devtest-BD.txt\n",
            "(489, 4) twitter-2015train-BD.txt\n",
            "(10552, 5) twitter-2016test-BD.txt\n",
            "(2383, 5) twitter-2015testBD.txt\n",
            "<class 'pandas.core.frame.DataFrame'>\n",
            "RangeIndex: 20508 entries, 0 to 20507\n",
            "Data columns (total 4 columns):\n",
            " #   Column     Non-Null Count  Dtype \n",
            "---  ------     --------------  ----- \n",
            " 0   id         20508 non-null  object\n",
            " 1   topic      20508 non-null  object\n",
            " 2   sentiment  20508 non-null  object\n",
            " 3   text       20508 non-null  object\n",
            "dtypes: object(4)\n",
            "memory usage: 641.0+ KB\n"
          ],
          "name": "stdout"
        }
      ]
    },
    {
      "cell_type": "code",
      "metadata": {
        "id": "B5QJj-YTXg5Z",
        "colab_type": "code",
        "outputId": "0d1c7655-2081-4f21-e249-c38ab09eeb87",
        "colab": {
          "base_uri": "https://localhost:8080/",
          "height": 34
        }
      },
      "source": [
        "print(task_b_train_df[\n",
        "                (task_b_train_df['sentiment'] != 'negative') &\n",
        "                (task_b_train_df['sentiment'] != 'positive') &\n",
        "                (task_b_train_df['sentiment'] != 'neutral')\n",
        "                ]['sentiment'])\n",
        "\n",
        "# task_b_train_df\n",
        "\n",
        "# task_b_train_df[task_b_train_df['text'].str.len()< 40]"
      ],
      "execution_count": 9,
      "outputs": [
        {
          "output_type": "stream",
          "text": [
            "Series([], Name: sentiment, dtype: object)\n"
          ],
          "name": "stdout"
        }
      ]
    },
    {
      "cell_type": "code",
      "metadata": {
        "id": "1iApuaK7wj9O",
        "colab_type": "code",
        "outputId": "56e4e2b7-c398-444c-9211-97a5b2fdb019",
        "colab": {
          "base_uri": "https://localhost:8080/",
          "height": 504
        }
      },
      "source": [
        "task_a_test_df = pd.read_csv(cfg['paths']['test_file_task_a'], sep='\\t', header=None, quoting=csv.QUOTE_NONE)\n",
        "task_a_test_df = clean_dataframe_format(task_a_test_df, ['id', 'sentiment', 'text'])\n",
        "task_a_test_df"
      ],
      "execution_count": 10,
      "outputs": [
        {
          "output_type": "execute_result",
          "data": {
            "text/html": [
              "<div>\n",
              "<style scoped>\n",
              "    .dataframe tbody tr th:only-of-type {\n",
              "        vertical-align: middle;\n",
              "    }\n",
              "\n",
              "    .dataframe tbody tr th {\n",
              "        vertical-align: top;\n",
              "    }\n",
              "\n",
              "    .dataframe thead th {\n",
              "        text-align: right;\n",
              "    }\n",
              "</style>\n",
              "<table border=\"1\" class=\"dataframe\">\n",
              "  <thead>\n",
              "    <tr style=\"text-align: right;\">\n",
              "      <th></th>\n",
              "      <th>id</th>\n",
              "      <th>sentiment</th>\n",
              "      <th>text</th>\n",
              "    </tr>\n",
              "  </thead>\n",
              "  <tbody>\n",
              "    <tr>\n",
              "      <th>0</th>\n",
              "      <td>801989080477154944</td>\n",
              "      <td>neutral</td>\n",
              "      <td>#ArianaGrande Ari By Ariana Grande 80% Full ht...</td>\n",
              "    </tr>\n",
              "    <tr>\n",
              "      <th>1</th>\n",
              "      <td>801989272341453952</td>\n",
              "      <td>positive</td>\n",
              "      <td>Ariana Grande KIIS FM Yours Truly CD listening...</td>\n",
              "    </tr>\n",
              "    <tr>\n",
              "      <th>2</th>\n",
              "      <td>801990978424962944</td>\n",
              "      <td>positive</td>\n",
              "      <td>Ariana Grande White House Easter Egg Roll in W...</td>\n",
              "    </tr>\n",
              "    <tr>\n",
              "      <th>3</th>\n",
              "      <td>801996232553963008</td>\n",
              "      <td>positive</td>\n",
              "      <td>#CD #Musics Ariana Grande Sweet Like Candy 3.4...</td>\n",
              "    </tr>\n",
              "    <tr>\n",
              "      <th>4</th>\n",
              "      <td>801998343442407040</td>\n",
              "      <td>neutral</td>\n",
              "      <td>SIDE TO SIDE 😘 @arianagrande #sidetoside #aria...</td>\n",
              "    </tr>\n",
              "    <tr>\n",
              "      <th>...</th>\n",
              "      <td>...</td>\n",
              "      <td>...</td>\n",
              "      <td>...</td>\n",
              "    </tr>\n",
              "    <tr>\n",
              "      <th>12279</th>\n",
              "      <td>805699615781625856</td>\n",
              "      <td>positive</td>\n",
              "      <td>@dansen17 update: Zac Efron kissing a puppy ht...</td>\n",
              "    </tr>\n",
              "    <tr>\n",
              "      <th>12280</th>\n",
              "      <td>805701709356003328</td>\n",
              "      <td>neutral</td>\n",
              "      <td>#zac efron sex pic skins michelle sex https://...</td>\n",
              "    </tr>\n",
              "    <tr>\n",
              "      <th>12281</th>\n",
              "      <td>805701818357579776</td>\n",
              "      <td>neutral</td>\n",
              "      <td>First Look at Neighbors 2 with Zac Efron Shirt...</td>\n",
              "    </tr>\n",
              "    <tr>\n",
              "      <th>12282</th>\n",
              "      <td>805703557081075712</td>\n",
              "      <td>neutral</td>\n",
              "      <td>zac efron poses nude #lovely libra porn https:...</td>\n",
              "    </tr>\n",
              "    <tr>\n",
              "      <th>12283</th>\n",
              "      <td>805704324105940992</td>\n",
              "      <td>neutral</td>\n",
              "      <td>#Fashion #Style The Paperboy (NEW Blu-ray Disc...</td>\n",
              "    </tr>\n",
              "  </tbody>\n",
              "</table>\n",
              "<p>12284 rows × 3 columns</p>\n",
              "</div>"
            ],
            "text/plain": [
              "                       id  ...                                               text\n",
              "0      801989080477154944  ...  #ArianaGrande Ari By Ariana Grande 80% Full ht...\n",
              "1      801989272341453952  ...  Ariana Grande KIIS FM Yours Truly CD listening...\n",
              "2      801990978424962944  ...  Ariana Grande White House Easter Egg Roll in W...\n",
              "3      801996232553963008  ...  #CD #Musics Ariana Grande Sweet Like Candy 3.4...\n",
              "4      801998343442407040  ...  SIDE TO SIDE 😘 @arianagrande #sidetoside #aria...\n",
              "...                   ...  ...                                                ...\n",
              "12279  805699615781625856  ...  @dansen17 update: Zac Efron kissing a puppy ht...\n",
              "12280  805701709356003328  ...  #zac efron sex pic skins michelle sex https://...\n",
              "12281  805701818357579776  ...  First Look at Neighbors 2 with Zac Efron Shirt...\n",
              "12282  805703557081075712  ...  zac efron poses nude #lovely libra porn https:...\n",
              "12283  805704324105940992  ...  #Fashion #Style The Paperboy (NEW Blu-ray Disc...\n",
              "\n",
              "[12284 rows x 3 columns]"
            ]
          },
          "metadata": {
            "tags": []
          },
          "execution_count": 10
        }
      ]
    },
    {
      "cell_type": "code",
      "metadata": {
        "id": "KqE-Y6XJBeA2",
        "colab_type": "code",
        "outputId": "1ebb37a7-eca2-4648-b689-f961fbdc0e5d",
        "colab": {
          "base_uri": "https://localhost:8080/",
          "height": 589
        }
      },
      "source": [
        "task_b_test_df = pd.read_csv(cfg['paths']['test_file_task_b'], sep='\\t', header=None, quoting=csv.QUOTE_NONE)\n",
        "task_b_test_df = clean_dataframe_format(task_b_test_df, ['id', 'topic', 'sentiment', 'text'])\n",
        "task_b_test_df"
      ],
      "execution_count": 11,
      "outputs": [
        {
          "output_type": "execute_result",
          "data": {
            "text/html": [
              "<div>\n",
              "<style scoped>\n",
              "    .dataframe tbody tr th:only-of-type {\n",
              "        vertical-align: middle;\n",
              "    }\n",
              "\n",
              "    .dataframe tbody tr th {\n",
              "        vertical-align: top;\n",
              "    }\n",
              "\n",
              "    .dataframe thead th {\n",
              "        text-align: right;\n",
              "    }\n",
              "</style>\n",
              "<table border=\"1\" class=\"dataframe\">\n",
              "  <thead>\n",
              "    <tr style=\"text-align: right;\">\n",
              "      <th></th>\n",
              "      <th>id</th>\n",
              "      <th>topic</th>\n",
              "      <th>sentiment</th>\n",
              "      <th>text</th>\n",
              "    </tr>\n",
              "  </thead>\n",
              "  <tbody>\n",
              "    <tr>\n",
              "      <th>0</th>\n",
              "      <td>801989272341453952</td>\n",
              "      <td>#ArianaGrande</td>\n",
              "      <td>positive</td>\n",
              "      <td>Ariana Grande KIIS FM Yours Truly CD listening...</td>\n",
              "    </tr>\n",
              "    <tr>\n",
              "      <th>1</th>\n",
              "      <td>801990978424962944</td>\n",
              "      <td>#ArianaGrande</td>\n",
              "      <td>positive</td>\n",
              "      <td>Ariana Grande White House Easter Egg Roll in W...</td>\n",
              "    </tr>\n",
              "    <tr>\n",
              "      <th>2</th>\n",
              "      <td>801996232553963008</td>\n",
              "      <td>#ArianaGrande</td>\n",
              "      <td>positive</td>\n",
              "      <td>#CD #Musics Ariana Grande Sweet Like Candy 3.4...</td>\n",
              "    </tr>\n",
              "    <tr>\n",
              "      <th>3</th>\n",
              "      <td>801998343442407040</td>\n",
              "      <td>#ArianaGrande</td>\n",
              "      <td>positive</td>\n",
              "      <td>SIDE TO SIDE 😘 @arianagrande #sidetoside #aria...</td>\n",
              "    </tr>\n",
              "    <tr>\n",
              "      <th>4</th>\n",
              "      <td>802001659970744064</td>\n",
              "      <td>#ArianaGrande</td>\n",
              "      <td>positive</td>\n",
              "      <td>Hairspray Live! Previews at the Macy's Thanksg...</td>\n",
              "    </tr>\n",
              "    <tr>\n",
              "      <th>...</th>\n",
              "      <td>...</td>\n",
              "      <td>...</td>\n",
              "      <td>...</td>\n",
              "      <td>...</td>\n",
              "    </tr>\n",
              "    <tr>\n",
              "      <th>6180</th>\n",
              "      <td>805696468959002624</td>\n",
              "      <td>zac efron</td>\n",
              "      <td>positive</td>\n",
              "      <td>Abby *talking about the Hamilton soundtrack\": ...</td>\n",
              "    </tr>\n",
              "    <tr>\n",
              "      <th>6181</th>\n",
              "      <td>805699412257181697</td>\n",
              "      <td>zac efron</td>\n",
              "      <td>positive</td>\n",
              "      <td>can we like get zac efron or justin bieber for...</td>\n",
              "    </tr>\n",
              "    <tr>\n",
              "      <th>6182</th>\n",
              "      <td>805699615781625856</td>\n",
              "      <td>zac efron</td>\n",
              "      <td>positive</td>\n",
              "      <td>@dansen17 update: Zac Efron kissing a puppy ht...</td>\n",
              "    </tr>\n",
              "    <tr>\n",
              "      <th>6183</th>\n",
              "      <td>805701818357579776</td>\n",
              "      <td>zac efron</td>\n",
              "      <td>positive</td>\n",
              "      <td>First Look at Neighbors 2 with Zac Efron Shirt...</td>\n",
              "    </tr>\n",
              "    <tr>\n",
              "      <th>6184</th>\n",
              "      <td>805703557081075712</td>\n",
              "      <td>zac efron</td>\n",
              "      <td>positive</td>\n",
              "      <td>zac efron poses nude #lovely libra porn https:...</td>\n",
              "    </tr>\n",
              "  </tbody>\n",
              "</table>\n",
              "<p>6185 rows × 4 columns</p>\n",
              "</div>"
            ],
            "text/plain": [
              "                      id  ...                                               text\n",
              "0     801989272341453952  ...  Ariana Grande KIIS FM Yours Truly CD listening...\n",
              "1     801990978424962944  ...  Ariana Grande White House Easter Egg Roll in W...\n",
              "2     801996232553963008  ...  #CD #Musics Ariana Grande Sweet Like Candy 3.4...\n",
              "3     801998343442407040  ...  SIDE TO SIDE 😘 @arianagrande #sidetoside #aria...\n",
              "4     802001659970744064  ...  Hairspray Live! Previews at the Macy's Thanksg...\n",
              "...                  ...  ...                                                ...\n",
              "6180  805696468959002624  ...  Abby *talking about the Hamilton soundtrack\": ...\n",
              "6181  805699412257181697  ...  can we like get zac efron or justin bieber for...\n",
              "6182  805699615781625856  ...  @dansen17 update: Zac Efron kissing a puppy ht...\n",
              "6183  805701818357579776  ...  First Look at Neighbors 2 with Zac Efron Shirt...\n",
              "6184  805703557081075712  ...  zac efron poses nude #lovely libra porn https:...\n",
              "\n",
              "[6185 rows x 4 columns]"
            ]
          },
          "metadata": {
            "tags": []
          },
          "execution_count": 11
        }
      ]
    },
    {
      "cell_type": "code",
      "metadata": {
        "id": "0OirqNXwXfQx",
        "colab_type": "code",
        "colab": {}
      },
      "source": [
        "# Checking and compare the frequency with what's written in the paper\n",
        "# # save dataset as csv file\n",
        "# task_a_train_df.to_csv('coba_train_a.csv', sep='\\t')\n",
        "\n",
        "# assert task_a_train_df[task_a_train_df['sentiment'] == 'positive'].shape[0] == 19902  #SALAH\n",
        "assert task_a_train_df[task_a_train_df['sentiment'] == 'negative'].shape[0] == 7840\n",
        "assert task_a_train_df[task_a_train_df['sentiment'] == 'neutral'].shape[0] == 22591\n",
        "\n",
        "assert task_a_test_df[task_a_test_df['sentiment'] == 'positive'].shape[0] == 2375\n",
        "assert task_a_test_df[task_a_test_df['sentiment'] == 'negative'].shape[0] == 3972\n",
        "assert task_a_test_df[task_a_test_df['sentiment'] == 'neutral'].shape[0] == 5937\n",
        "\n",
        "assert len(task_b_train_df['topic'].unique()) == 373\n",
        "assert task_b_train_df[task_b_train_df['sentiment'] == 'positive'].shape[0] == 14951\n",
        "assert task_b_train_df[task_b_train_df['sentiment'] == 'negative'].shape[0] == 4013\n",
        "assert task_b_train_df[task_b_train_df['sentiment'] == 'neutral'].shape[0] == 1544\n",
        "\n",
        "\n",
        "assert len(task_b_test_df['topic'].unique()) == 125\n",
        "assert task_b_test_df[task_b_test_df['sentiment'] == 'positive'].shape[0] == 2463\n",
        "assert task_b_test_df[task_b_test_df['sentiment'] == 'negative'].shape[0] == 3722"
      ],
      "execution_count": 0,
      "outputs": []
    },
    {
      "cell_type": "markdown",
      "metadata": {
        "id": "9KGklVjRx50N",
        "colab_type": "text"
      },
      "source": [
        "## Tokenization"
      ]
    },
    {
      "cell_type": "code",
      "metadata": {
        "id": "NwjXcI3Gx7xb",
        "colab_type": "code",
        "colab": {}
      },
      "source": [
        "def tokenize_df(df, tokenizer, input_column_name='text', output_column_name='tokenized'):\n",
        "  df[output_column_name] = df.apply(\n",
        "    lambda row: tokenizer.tokenize(\n",
        "        row[input_column_name]\n",
        "    ),\n",
        "    axis=1)\n",
        "  return df"
      ],
      "execution_count": 0,
      "outputs": []
    },
    {
      "cell_type": "code",
      "metadata": {
        "id": "paxv3Xsw0fkT",
        "colab_type": "code",
        "outputId": "1f662d79-a050-40a0-c85b-fc8eba61a2fc",
        "colab": {
          "base_uri": "https://localhost:8080/",
          "height": 801
        }
      },
      "source": [
        "tokenizer = nltk.tokenize.TweetTokenizer(\n",
        "    strip_handles = cfg['preprocessing']['tokenization']['remove_twitter_handle'],\n",
        "    preserve_case = cfg['preprocessing']['tokenization']['preserve_case']\n",
        ")\n",
        "\n",
        "task_a_train_df = tokenize_df(task_a_train_df, tokenizer)\n",
        "task_b_train_df = tokenize_df(task_b_train_df, tokenizer)\n",
        "task_a_test_df = tokenize_df(task_a_test_df, tokenizer)\n",
        "task_b_test_df = tokenize_df(task_b_test_df, tokenizer)\n",
        "\n",
        "\n",
        "# print sample result\n",
        "task_b_test_df.head(10)"
      ],
      "execution_count": 14,
      "outputs": [
        {
          "output_type": "execute_result",
          "data": {
            "text/html": [
              "<div>\n",
              "<style scoped>\n",
              "    .dataframe tbody tr th:only-of-type {\n",
              "        vertical-align: middle;\n",
              "    }\n",
              "\n",
              "    .dataframe tbody tr th {\n",
              "        vertical-align: top;\n",
              "    }\n",
              "\n",
              "    .dataframe thead th {\n",
              "        text-align: right;\n",
              "    }\n",
              "</style>\n",
              "<table border=\"1\" class=\"dataframe\">\n",
              "  <thead>\n",
              "    <tr style=\"text-align: right;\">\n",
              "      <th></th>\n",
              "      <th>id</th>\n",
              "      <th>topic</th>\n",
              "      <th>sentiment</th>\n",
              "      <th>text</th>\n",
              "      <th>tokenized</th>\n",
              "    </tr>\n",
              "  </thead>\n",
              "  <tbody>\n",
              "    <tr>\n",
              "      <th>0</th>\n",
              "      <td>801989272341453952</td>\n",
              "      <td>#ArianaGrande</td>\n",
              "      <td>positive</td>\n",
              "      <td>Ariana Grande KIIS FM Yours Truly CD listening...</td>\n",
              "      <td>[ariana, grande, kiis, fm, yours, truly, cd, l...</td>\n",
              "    </tr>\n",
              "    <tr>\n",
              "      <th>1</th>\n",
              "      <td>801990978424962944</td>\n",
              "      <td>#ArianaGrande</td>\n",
              "      <td>positive</td>\n",
              "      <td>Ariana Grande White House Easter Egg Roll in W...</td>\n",
              "      <td>[ariana, grande, white, house, easter, egg, ro...</td>\n",
              "    </tr>\n",
              "    <tr>\n",
              "      <th>2</th>\n",
              "      <td>801996232553963008</td>\n",
              "      <td>#ArianaGrande</td>\n",
              "      <td>positive</td>\n",
              "      <td>#CD #Musics Ariana Grande Sweet Like Candy 3.4...</td>\n",
              "      <td>[#cd, #musics, ariana, grande, sweet, like, ca...</td>\n",
              "    </tr>\n",
              "    <tr>\n",
              "      <th>3</th>\n",
              "      <td>801998343442407040</td>\n",
              "      <td>#ArianaGrande</td>\n",
              "      <td>positive</td>\n",
              "      <td>SIDE TO SIDE 😘 @arianagrande #sidetoside #aria...</td>\n",
              "      <td>[side, to, side, 😘, #sidetoside, #arianagrande...</td>\n",
              "    </tr>\n",
              "    <tr>\n",
              "      <th>4</th>\n",
              "      <td>802001659970744064</td>\n",
              "      <td>#ArianaGrande</td>\n",
              "      <td>positive</td>\n",
              "      <td>Hairspray Live! Previews at the Macy's Thanksg...</td>\n",
              "      <td>[hairspray, live, !, previews, at, the, macy's...</td>\n",
              "    </tr>\n",
              "    <tr>\n",
              "      <th>5</th>\n",
              "      <td>802003380973568000</td>\n",
              "      <td>#ArianaGrande</td>\n",
              "      <td>positive</td>\n",
              "      <td>#LindsayLohan Is ‘Feeling Thankful’ After Blas...</td>\n",
              "      <td>[#lindsaylohan, is, ‘, feeling, thankful, ’, a...</td>\n",
              "    </tr>\n",
              "    <tr>\n",
              "      <th>6</th>\n",
              "      <td>802014830467174016</td>\n",
              "      <td>#ArianaGrande</td>\n",
              "      <td>negative</td>\n",
              "      <td>I hate her but... I love her songs Dammit ._.#...</td>\n",
              "      <td>[i, hate, her, but, ..., i, love, her, songs, ...</td>\n",
              "    </tr>\n",
              "    <tr>\n",
              "      <th>7</th>\n",
              "      <td>802022559520673024</td>\n",
              "      <td>#ArianaGrande</td>\n",
              "      <td>positive</td>\n",
              "      <td>My idols are #littlemix #justinbieber #arianag...</td>\n",
              "      <td>[my, idols, are, #littlemix, #justinbieber, #a...</td>\n",
              "    </tr>\n",
              "    <tr>\n",
              "      <th>8</th>\n",
              "      <td>802024085777629056</td>\n",
              "      <td>#ArianaGrande</td>\n",
              "      <td>positive</td>\n",
              "      <td>#Beauty #ArianaGrande-CHRISTMAS &amp; CHILL-JAPAN ...</td>\n",
              "      <td>[#beauty, #arianagrande-christmas, &amp;, chill-ja...</td>\n",
              "    </tr>\n",
              "    <tr>\n",
              "      <th>9</th>\n",
              "      <td>802028835013206016</td>\n",
              "      <td>#ArianaGrande</td>\n",
              "      <td>positive</td>\n",
              "      <td>#Beauty #ArianaGrande-THE REMIX-JAPAN ONLY #CD...</td>\n",
              "      <td>[#beauty, #arianagrande-the, remix-japan, only...</td>\n",
              "    </tr>\n",
              "  </tbody>\n",
              "</table>\n",
              "</div>"
            ],
            "text/plain": [
              "                   id  ...                                          tokenized\n",
              "0  801989272341453952  ...  [ariana, grande, kiis, fm, yours, truly, cd, l...\n",
              "1  801990978424962944  ...  [ariana, grande, white, house, easter, egg, ro...\n",
              "2  801996232553963008  ...  [#cd, #musics, ariana, grande, sweet, like, ca...\n",
              "3  801998343442407040  ...  [side, to, side, 😘, #sidetoside, #arianagrande...\n",
              "4  802001659970744064  ...  [hairspray, live, !, previews, at, the, macy's...\n",
              "5  802003380973568000  ...  [#lindsaylohan, is, ‘, feeling, thankful, ’, a...\n",
              "6  802014830467174016  ...  [i, hate, her, but, ..., i, love, her, songs, ...\n",
              "7  802022559520673024  ...  [my, idols, are, #littlemix, #justinbieber, #a...\n",
              "8  802024085777629056  ...  [#beauty, #arianagrande-christmas, &, chill-ja...\n",
              "9  802028835013206016  ...  [#beauty, #arianagrande-the, remix-japan, only...\n",
              "\n",
              "[10 rows x 5 columns]"
            ]
          },
          "metadata": {
            "tags": []
          },
          "execution_count": 14
        }
      ]
    },
    {
      "cell_type": "markdown",
      "metadata": {
        "id": "iFnxpFTZEe7E",
        "colab_type": "text"
      },
      "source": [
        "# Exploratory Data Analysis (EDA)"
      ]
    },
    {
      "cell_type": "markdown",
      "metadata": {
        "id": "cUrnPEtN76nc",
        "colab_type": "text"
      },
      "source": [
        "## Word Cloud"
      ]
    },
    {
      "cell_type": "code",
      "metadata": {
        "id": "sXTNP_1975_d",
        "colab_type": "code",
        "colab": {}
      },
      "source": [
        "def show_wordcloud(text, title, max_words=200):\n",
        "  wc = WordCloud(\n",
        "      max_words=max_words,\n",
        "      background_color='white',\n",
        "      # ranks_only= frequency\n",
        "  ).generate(text)\n",
        "\n",
        "  print(wc.words_)\n",
        "\n",
        "  fig = plt.figure(1, figsize=(12, 12))\n",
        "  fig.suptitle(title)\n",
        "  plt.imshow(wc)\n",
        "  plt.show()"
      ],
      "execution_count": 0,
      "outputs": []
    },
    {
      "cell_type": "code",
      "metadata": {
        "id": "0MWVlPVeEit3",
        "colab_type": "code",
        "outputId": "779e5361-f087-4c89-850f-0ffc54623e98",
        "colab": {
          "base_uri": "https://localhost:8080/",
          "height": 628
        }
      },
      "source": [
        "df = task_b_train_df[task_b_train_df['sentiment'] == 'positive']['text'][4]\n",
        "print(df)\n",
        "# print(df.shape)\n",
        "# show_wordcloud(str(df.values), 'judul', max_words=20000)\n",
        "\n",
        "# print(df.shape)\n",
        "word_string = \"you verse wrote book stand titlea i you you you kampung\"\n",
        "print(type(word_string))\n",
        "show_wordcloud(word_string, 'judul', max_words=20000)"
      ],
      "execution_count": 16,
      "outputs": [
        {
          "output_type": "stream",
          "text": [
            "Microsoft, I may not prefer your gaming branch of business. But, you do make a damn fine operating system. #Windows10 @Microsoft\n",
            "<class 'str'>\n",
            "{'verse': 1.0, 'wrote': 1.0, 'book': 1.0, 'stand': 1.0, 'titlea': 1.0, 'kampung': 1.0}\n"
          ],
          "name": "stdout"
        },
        {
          "output_type": "display_data",
          "data": {
            "image/png": "[encoded data removed]",
            "text/plain": [
              "<Figure size 864x864 with 1 Axes>"
            ]
          },
          "metadata": {
            "tags": []
          }
        }
      ]
    },
    {
      "cell_type": "code",
      "metadata": {
        "id": "MZGMBtM98uTq",
        "colab_type": "code",
        "outputId": "cd89d5d7-3a89-45f9-b1e2-904e53f19502",
        "colab": {
          "base_uri": "https://localhost:8080/",
          "height": 329
        }
      },
      "source": [
        "task_a_train_df['sentiment'].value_counts().plot(kind='bar',figsize=(7,4));\n",
        "plt.title('Number of tweets');\n",
        "plt.xlabel('Sentiment');\n",
        "plt.ylabel('Total tweets');"
      ],
      "execution_count": 17,
      "outputs": [
        {
          "output_type": "display_data",
          "data": {
            "image/png": "[encoded data removed]",
            "text/plain": [
              "<Figure size 504x288 with 1 Axes>"
            ]
          },
          "metadata": {
            "tags": []
          }
        }
      ]
    },
    {
      "cell_type": "code",
      "metadata": {
        "id": "d7YGmqNd2WrP",
        "colab_type": "code",
        "colab": {}
      },
      "source": [
        ""
      ],
      "execution_count": 0,
      "outputs": []
    },
    {
      "cell_type": "code",
      "metadata": {
        "id": "D5oxkBMoH5hp",
        "colab_type": "code",
        "colab": {}
      },
      "source": [
        ""
      ],
      "execution_count": 0,
      "outputs": []
    },
    {
      "cell_type": "code",
      "metadata": {
        "id": "dt4arEBt4ntG",
        "colab_type": "code",
        "colab": {}
      },
      "source": [
        ""
      ],
      "execution_count": 0,
      "outputs": []
    },
    {
      "cell_type": "code",
      "metadata": {
        "id": "Gauu8B_i9XHn",
        "colab_type": "code",
        "outputId": "1028c416-26fc-49db-e9c4-1fd6c85e4daf",
        "colab": {
          "base_uri": "https://localhost:8080/",
          "height": 861
        }
      },
      "source": [
        "task_b_train_df[task_b_train_df['text'].str.contains('not')]"
      ],
      "execution_count": 18,
      "outputs": [
        {
          "output_type": "execute_result",
          "data": {
            "text/html": [
              "<div>\n",
              "<style scoped>\n",
              "    .dataframe tbody tr th:only-of-type {\n",
              "        vertical-align: middle;\n",
              "    }\n",
              "\n",
              "    .dataframe tbody tr th {\n",
              "        vertical-align: top;\n",
              "    }\n",
              "\n",
              "    .dataframe thead th {\n",
              "        text-align: right;\n",
              "    }\n",
              "</style>\n",
              "<table border=\"1\" class=\"dataframe\">\n",
              "  <thead>\n",
              "    <tr style=\"text-align: right;\">\n",
              "      <th></th>\n",
              "      <th>id</th>\n",
              "      <th>topic</th>\n",
              "      <th>sentiment</th>\n",
              "      <th>text</th>\n",
              "      <th>tokenized</th>\n",
              "    </tr>\n",
              "  </thead>\n",
              "  <tbody>\n",
              "    <tr>\n",
              "      <th>4</th>\n",
              "      <td>629226490152914944</td>\n",
              "      <td>@microsoft</td>\n",
              "      <td>positive</td>\n",
              "      <td>Microsoft, I may not prefer your gaming branch...</td>\n",
              "      <td>[microsoft, ,, i, may, not, prefer, your, gami...</td>\n",
              "    </tr>\n",
              "    <tr>\n",
              "      <th>8</th>\n",
              "      <td>629797991826722816</td>\n",
              "      <td>@microsoft</td>\n",
              "      <td>negative</td>\n",
              "      <td>After attempting a reinstall, it still bricks,...</td>\n",
              "      <td>[after, attempting, a, reinstall, ,, it, still...</td>\n",
              "    </tr>\n",
              "    <tr>\n",
              "      <th>16</th>\n",
              "      <td>631543121407442946</td>\n",
              "      <td>@microsoft</td>\n",
              "      <td>negative</td>\n",
              "      <td>@Microsoft support for 365 has been terrible. ...</td>\n",
              "      <td>[support, for, 365, has, been, terrible, ., on...</td>\n",
              "    </tr>\n",
              "    <tr>\n",
              "      <th>20</th>\n",
              "      <td>632536348419690496</td>\n",
              "      <td>@microsoft</td>\n",
              "      <td>negative</td>\n",
              "      <td>@eyesonfoxorg @Microsoft I'm still using Vista...</td>\n",
              "      <td>[i'm, still, using, vista, on, one, &amp;, win, -,...</td>\n",
              "    </tr>\n",
              "    <tr>\n",
              "      <th>22</th>\n",
              "      <td>632810315227467776</td>\n",
              "      <td>@microsoft</td>\n",
              "      <td>negative</td>\n",
              "      <td>@MisterMetokur @Microsoft @ATT @NSAGov That's ...</td>\n",
              "      <td>[that's, confidential, and, privileged, inform...</td>\n",
              "    </tr>\n",
              "    <tr>\n",
              "      <th>...</th>\n",
              "      <td>...</td>\n",
              "      <td>...</td>\n",
              "      <td>...</td>\n",
              "      <td>...</td>\n",
              "      <td>...</td>\n",
              "    </tr>\n",
              "    <tr>\n",
              "      <th>20474</th>\n",
              "      <td>520384978820296705</td>\n",
              "      <td>yougov</td>\n",
              "      <td>negative</td>\n",
              "      <td>\"@LouiseBaldock great work; you may or may not...</td>\n",
              "      <td>[\", great, work, ;, you, may, or, may, not, ha...</td>\n",
              "    </tr>\n",
              "    <tr>\n",
              "      <th>20476</th>\n",
              "      <td>519600072971927555</td>\n",
              "      <td>yougov</td>\n",
              "      <td>neutral</td>\n",
              "      <td>\"YouGov tonight  shows 2% Labour lead. So head...</td>\n",
              "      <td>[\", yougov, tonight, shows, 2, %, labour, lead...</td>\n",
              "    </tr>\n",
              "    <tr>\n",
              "      <th>20481</th>\n",
              "      <td>519201436102848512</td>\n",
              "      <td>yougov</td>\n",
              "      <td>neutral</td>\n",
              "      <td>IF tonight's YouGov shows another Tory lead th...</td>\n",
              "      <td>[if, tonight's, yougov, shows, another, tory, ...</td>\n",
              "    </tr>\n",
              "    <tr>\n",
              "      <th>20488</th>\n",
              "      <td>520337071345795073</td>\n",
              "      <td>yougov</td>\n",
              "      <td>neutral</td>\n",
              "      <td>\"Tonight's YouGov: Lab 35, Con 30, UKIP 15, Li...</td>\n",
              "      <td>[\", tonight's, yougov, :, lab, 35, ,, con, 30,...</td>\n",
              "    </tr>\n",
              "    <tr>\n",
              "      <th>20506</th>\n",
              "      <td>522912399322394624</td>\n",
              "      <td>younique</td>\n",
              "      <td>positive</td>\n",
              "      <td>Get the best mascara in the industry here! Im ...</td>\n",
              "      <td>[get, the, best, mascara, in, the, industry, h...</td>\n",
              "    </tr>\n",
              "  </tbody>\n",
              "</table>\n",
              "<p>1558 rows × 5 columns</p>\n",
              "</div>"
            ],
            "text/plain": [
              "                       id  ...                                          tokenized\n",
              "4      629226490152914944  ...  [microsoft, ,, i, may, not, prefer, your, gami...\n",
              "8      629797991826722816  ...  [after, attempting, a, reinstall, ,, it, still...\n",
              "16     631543121407442946  ...  [support, for, 365, has, been, terrible, ., on...\n",
              "20     632536348419690496  ...  [i'm, still, using, vista, on, one, &, win, -,...\n",
              "22     632810315227467776  ...  [that's, confidential, and, privileged, inform...\n",
              "...                   ...  ...                                                ...\n",
              "20474  520384978820296705  ...  [\", great, work, ;, you, may, or, may, not, ha...\n",
              "20476  519600072971927555  ...  [\", yougov, tonight, shows, 2, %, labour, lead...\n",
              "20481  519201436102848512  ...  [if, tonight's, yougov, shows, another, tory, ...\n",
              "20488  520337071345795073  ...  [\", tonight's, yougov, :, lab, 35, ,, con, 30,...\n",
              "20506  522912399322394624  ...  [get, the, best, mascara, in, the, industry, h...\n",
              "\n",
              "[1558 rows x 5 columns]"
            ]
          },
          "metadata": {
            "tags": []
          },
          "execution_count": 18
        }
      ]
    },
    {
      "cell_type": "code",
      "metadata": {
        "id": "XWrBCXtSH4P-",
        "colab_type": "code",
        "colab": {}
      },
      "source": [
        ""
      ],
      "execution_count": 0,
      "outputs": []
    },
    {
      "cell_type": "code",
      "metadata": {
        "id": "nwFx7A43Aju4",
        "colab_type": "code",
        "outputId": "a47f553e-d3e4-4724-c99d-1f3f139e56e6",
        "colab": {
          "base_uri": "https://localhost:8080/",
          "height": 1000
        }
      },
      "source": [
        "positive = task_b_train_df[task_b_train_df['sentiment'] == 'positive']['topic'].value_counts(sort=False).to_frame(name='positive')\n",
        "negative = task_b_train_df[task_b_train_df['sentiment'] == 'negative']['topic'].value_counts(sort=False).to_frame(name='negative')\n",
        "neutral = task_b_train_df[task_b_train_df['sentiment'] == 'neutral']['topic'].value_counts(sort=False).to_frame(name='neutral')\n",
        "# negative = task_b_train_df['topic'][task_b_train_df['sentiment'] == 'negative'].value_counts(sort=False)\n",
        "# neutral = task_b_train_df['topic'][task_b_train_df['sentiment'] == 'neutral'].value_counts(sort=False)\n",
        "joined = positive.join(negative).join(neutral)\n",
        "\n",
        "joined = joined[(joined['positive'] > 0) & (joined['negative']>0)]\n",
        "with pd.option_context('display.max_rows', None, 'display.max_columns', None):  # more options can be specified also\n",
        "    print(joined)\n",
        "\n",
        "plt.bar(range(joined.shape[0]), joined['positive'], label='positive', color='blue')\n",
        "plt.bar(range(joined.shape[0]), joined['negative'], label='negative', color='red', bottom=joined['positive'])"
      ],
      "execution_count": 104,
      "outputs": [
        {
          "output_type": "stream",
          "text": [
            "                       positive  negative  neutral\n",
            "randy orton                  36       7.0      NaN\n",
            "kpop                         67       9.0      NaN\n",
            "school                        3      10.0      7.0\n",
            "cate blanchett               41       2.0      NaN\n",
            "harper                       18      41.0      NaN\n",
            "disneyland                   92       2.0      NaN\n",
            "federer                      75       1.0      NaN\n",
            "disney                       12       1.0      7.0\n",
            "seinfeld                     75       2.0      NaN\n",
            "carlo ancelotti               9       3.0      7.0\n",
            "vettel                        3       2.0     14.0\n",
            "minecraft                    82       1.0      NaN\n",
            "bbc                          36      16.0      NaN\n",
            "russell wilson                3       4.0     10.0\n",
            "chuck norris                 32       6.0      NaN\n",
            "scott walker                 18      54.0      NaN\n",
            "lexus                        70       5.0      NaN\n",
            "bad blood                    49      17.0      NaN\n",
            "modi                          6       4.0      9.0\n",
            "kershaw                       4       2.0     13.0\n",
            "serena                       73       1.0      NaN\n",
            "t-mobile                     44      21.0      NaN\n",
            "amazon prime day             43      43.0      NaN\n",
            "david price                 114       9.0      NaN\n",
            "juventus                     35      11.0      NaN\n",
            "jurassic world               84       5.0      NaN\n",
            "caitlyn jenner               24      69.0      NaN\n",
            "vampire diaries              15       1.0      4.0\n",
            "jennifer lawrence             7       1.0     11.0\n",
            "kim kardashian               34      23.0      NaN\n",
            "ice cube                    134      14.0      NaN\n",
            "the vamps                    55       5.0      NaN\n",
            "gilmore girls                 7       4.0      7.0\n",
            "venice beach                 88       3.0      NaN\n",
            "david wright                 92       7.0      NaN\n",
            "ancelotti                    10       2.0      8.0\n",
            "david bowie                  93       3.0      NaN\n",
            "game of thrones              83       3.0      NaN\n",
            "ant-man                     221       8.0      NaN\n",
            "yoga                         80       1.0      NaN\n",
            "sting                        77       2.0      NaN\n",
            "eid                         123       4.0      NaN\n",
            "american horror story         8       5.0      5.0\n",
            "briana                       48      44.0      NaN\n",
            "selena                        8       1.0     11.0\n",
            "ted 2                        81       7.0      NaN\n",
            "ahs                          10       3.0      6.0\n",
            "rick perry                   23      41.0      NaN\n",
            "magic mike xxl               89       3.0      NaN\n",
            "ashton                       12       2.0      5.0\n",
            "jason aldean                138       2.0      NaN\n",
            "xbox                         55       7.0      NaN\n",
            "chelsea                      59      10.0      5.0\n",
            "dana white                   15      25.0      NaN\n",
            "google+                      44      19.0      NaN\n",
            "zlatan                       60       4.0      NaN\n",
            "niall                       130      14.0     11.0\n",
            "ios                          47       5.0      NaN\n",
            "europa league                 3       2.0     15.0\n",
            "carling cup final             3       1.0      6.0\n",
            "paul dunne                  142      10.0      NaN\n",
            "monster hunter                9       1.0      7.0\n",
            "iron maiden                 133       3.0      NaN\n",
            "jessica                       9       2.0      9.0\n",
            "swachh bharat                 3       2.0     15.0\n",
            "mariah carey                 77       3.0      NaN\n",
            "ps4                         105      10.0      NaN\n",
            "boko haram                    2     149.0      NaN\n",
            "afghans                       1       2.0      7.0\n",
            "friday night lights          12       1.0      7.0\n",
            "christians                   56      50.0      NaN\n",
            "prince george               125       2.0      NaN\n",
            "bulls                         9       1.0     10.0\n",
            "paper towns                 167       8.0      NaN\n",
            "democrats                     1       4.0      9.0\n",
            "wwat                         13       1.0      5.0\n",
            "brook lopez                   7       3.0      NaN\n",
            "zayn                        107      10.0      NaN\n",
            "paul mccartney              115       1.0      NaN\n",
            "gandhi                        5       1.0     14.0\n",
            "green bay                     2       2.0     15.0\n",
            "josh hamilton                47       6.0      NaN\n",
            "kyle                          9       4.0      6.0\n",
            "michelle obama               47      17.0      NaN\n",
            "tiger woods                  46      19.0      NaN\n",
            "liam                         11       2.0      7.0\n",
            "frank gifford               151       5.0      NaN\n",
            "netflix                      88       6.0      7.0\n",
            "watchman                     55       5.0      NaN\n",
            "kendrick                    147      32.0      NaN\n",
            "the big bang theory           9       1.0     10.0\n",
            "floyd mayweather             37      27.0      NaN\n",
            "ruto                          3       3.0     13.0\n",
            "curtis                       86      13.0      NaN\n",
            "digi                         72       2.0      NaN\n",
            "spx                           4       2.0     12.0\n",
            "galatasaray                   3       8.0      7.0\n",
            "narendra modi                 4       1.0     15.0\n",
            "ihop                         81       3.0      NaN\n",
            "pope                         58       5.0      NaN\n",
            "@microsoft                   34      46.0      NaN\n",
            "dunkin                      156      18.0      NaN\n",
            "angela merkel                23      23.0      NaN\n",
            "kendrick lamar               89      16.0      NaN\n",
            "independence day              6       1.0     12.0\n",
            "ucla                          2       1.0     16.0\n",
            "mikasa                       11       1.0      8.0\n",
            "aaron samuels                 2       4.0     11.0\n",
            "joe biden                    40      18.0      NaN\n",
            "white house                   2       1.0     17.0\n",
            "arian foster                  8       3.0      6.0\n",
            "brit award                    9       1.0      NaN\n",
            "carly fiorina               108      17.0      NaN\n",
            "tony blair                   10      65.0      NaN\n",
            "james franklin                2      10.0      7.0\n",
            "monsanto                      7      54.0      NaN\n",
            "shawn                       155       5.0      NaN\n",
            "nirvana                     126       3.0      NaN\n",
            "yougov                        5       3.0     11.0\n",
            "jay-z                        59      14.0      NaN\n",
            "sarah palin                   7      53.0      NaN\n",
            "carling cup                   3       1.0      5.0\n",
            "abc                           4       2.0     14.0\n",
            "taylor swift                 84       1.0      NaN\n",
            "conor mcgregor               80       4.0      NaN\n",
            "ac/dc                        89       2.0      NaN\n",
            "green day                     8       1.0      9.0\n",
            "charlie hebdo                12      43.0      NaN\n",
            "kesha                         6       2.0     11.0\n",
            "george harrison              48       1.0      NaN\n",
            "curtis painter                5       7.0      5.0\n",
            "planned parenthood           11      46.0      NaN\n",
            "rbi                           4       1.0     14.0\n",
            "ryan braun                   51       9.0      NaN\n",
            "donald trump                 16      44.0      NaN\n",
            "jeb bush                      4      55.0      NaN\n",
            "harry potter                 80       2.0      NaN\n",
            "denzel                        5       1.0      4.0\n",
            "dark souls                   73      14.0      NaN\n",
            "bernie sanders               76       9.0      NaN\n",
            "dustin johnson               91      31.0      NaN\n",
            "atletico madrid               4       1.0     13.0\n",
            "frank ocean                 110      38.0      NaN\n",
            "murray                       90      24.0      NaN\n",
            "careless world                6       1.0      3.0\n",
            "nintendo                     54       8.0      NaN\n",
            "muslims                      30      96.0      NaN\n",
            "iphone                       65       5.0      NaN\n",
            "naruto                      152      10.0      NaN\n",
            "ipod                         56       7.0      NaN\n",
            "cannavaro                     5       2.0      2.0\n",
            "adidas                        1       1.0      8.0\n",
            "red sox                      73      22.0      NaN\n",
            "justin bieber               117      27.0      NaN\n",
            "ric flair                    61       1.0      NaN\n",
            "georgia dome                  7       1.0     12.0\n",
            "brian cushing                 3       6.0     11.0\n",
            "islam                        68      69.0      NaN\n",
            "tegan                         9       2.0      8.0\n",
            "arsenal                      45      15.0      8.0\n",
            "ducks                         8       1.0     11.0\n",
            "katy perry                   57       8.0      6.0\n",
            "tom cruise                   61      13.0      NaN\n",
            "atleti                        3       3.0     10.0\n",
            "amazon                       57      16.0      NaN\n",
            "rebecca black                 6       3.0     10.0\n",
            "bob marley                   89       3.0      NaN\n",
            "barca                        69       6.0      6.0\n",
            "lady gaga                    71       5.0      NaN\n",
            "scotus                       18      31.0      NaN\n",
            "david taylor                  1       1.0      8.0\n",
            "ed sheeran                  163       5.0      NaN\n",
            "apple watch                  53       8.0      NaN\n",
            "fleetwood mac                89       3.0      NaN\n",
            "ghoncheh ghavami              3       1.0      2.0\n",
            "hannibal                     82       4.0      NaN\n",
            "cowboys                       6       3.0      9.0\n",
            "ukip                         28      31.0      NaN\n",
            "big brother                 135      38.0      NaN\n",
            "amazon prime                 70      18.0      NaN\n",
            "israel                       50      63.0      NaN\n",
            "act                           1       2.0      5.0\n",
            "erdogan                       3      58.0      NaN\n",
            "wednesday adams               7       3.0      9.0\n",
            "lee soo man                  12       2.0      2.0\n",
            "xmas                          8       2.0      8.0\n",
            "national hot dog day        148       3.0      NaN\n",
            "eric church                  90       3.0      NaN\n",
            "icc                           5       1.0     13.0\n",
            "moto g                       58       4.0      NaN\n",
            "janet jackson                95       3.0      NaN\n",
            "stoops                        3       5.0     12.0\n",
            "yakub                         5     105.0      NaN\n",
            "nike                         55       9.0      NaN\n",
            "kane                         62      31.0      NaN\n",
            "rolling stone                39       8.0      NaN\n",
            "colts                        10       1.0      7.0\n",
            "john cena                   121      24.0      NaN\n",
            "jan hooks                     3       2.0      9.0\n",
            "a$ap rocky                    6       1.0      3.0\n",
            "rahul gandhi                 28      46.0      NaN\n",
            "charles darwin                1       1.0      5.0\n",
            "valentine                    55       4.0      NaN\n",
            "tsipras                      25      21.0      NaN\n",
            "packers                       6       2.0     10.0\n",
            "white sox                    38      15.0      NaN\n",
            "chris evans                  94      27.0      NaN\n",
            "bolton                        3       1.0     13.0\n",
            "grateful dead                86       2.0      NaN\n",
            "chris brown                  76       6.0      NaN\n",
            "nicki                        99      32.0      NaN\n",
            "chris maguire                 2       1.0      2.0\n",
            "real madrid                  19      16.0      NaN\n",
            "academy awards                1       2.0      7.0\n",
            "james rodriguez              13       3.0      4.0\n",
            "nokia                        59       9.0      NaN\n",
            "demi lovato                  11       1.0      8.0\n",
            "trump                        26      42.0      NaN\n",
            "sharknado                   132      39.0      NaN\n",
            "asiata                        1       4.0     14.0\n",
            "twilight                    114      28.0      NaN\n",
            "windows 10                   43      18.0      NaN\n",
            "aaron rodgers                13       3.0     16.0\n",
            "hillary                      22      48.0      NaN\n",
            "david beckham                76       3.0      NaN\n",
            "seth rollins                 74      32.0      NaN\n",
            "bobby jindal                 19      37.0      NaN\n",
            "super eagles                 38       2.0      NaN\n",
            "iran                         15      61.0      NaN\n",
            "bentley                      65       3.0      NaN\n",
            "tgif                         84       2.0      NaN\n",
            "amy schumer                  47      13.0      NaN\n",
            "ira                          10     111.0      NaN\n",
            "kris bryant                  93       8.0      NaN\n",
            "thor                        138      18.0      NaN\n",
            "bellusci                      4       1.0      5.0\n",
            "vikings                       5       3.0     11.0\n",
            "sony                         49      14.0      NaN\n",
            "rousey                       61      23.0      NaN\n",
            "kanye west                   70      71.0      NaN\n",
            "pride parade                 75       2.0      NaN\n",
            "madonna                      77       2.0      NaN\n",
            "valentine 's day             54       7.0      NaN\n",
            "christian ponder              7       7.0      2.0\n",
            "lsu                           4       1.0     14.0\n",
            "tory                         14      46.0      NaN\n",
            "ibm                          64       5.0      NaN\n",
            "simmons                      13       1.0      5.0\n",
            "ipad                         63       4.0      NaN\n",
            "obama                        21      40.0      NaN\n",
            "jurassic park                86       2.0      NaN\n",
            "galaxy note                  71       6.0      NaN\n",
            "redskins                      4       2.0     14.0\n",
            "bill maher                    4       6.0      9.0\n",
            "michael jackson              75       1.0      NaN\n",
            "star wars                    88       2.0      NaN\n",
            "lax                           5       1.0     14.0\n",
            "ventura                       8       2.0      8.0\n",
            "gucci                        68      18.0      NaN\n",
            "boehner                       1       7.0     10.0\n",
            "metlife                      69       5.0      NaN\n",
            "zac brown band              110       3.0      NaN\n",
            "donny                         6       3.0      6.0\n",
            "batman                       64       5.0      NaN\n",
            "snoop dogg                   61       6.0      NaN\n",
            "brock lesnar                108      14.0      NaN\n",
            "oracle                       46       8.0      NaN\n",
            "leeds united                  8       1.0     10.0\n",
            "dean ambrose                 21       4.0      NaN\n",
            "sam smith                   149      17.0      NaN\n",
            "messi                        74       3.0      NaN\n",
            "jimmy fallon                  8       1.0     11.0\n",
            "apple                        57      11.0      NaN\n",
            "google                       35      15.0     11.0\n",
            "kris jenner                   4       2.0     11.0\n",
            "miss usa                     41       6.0      NaN\n",
            "justin                       69       9.0      NaN\n",
            "nabeel rajab                  1       3.0      2.0\n",
            "alonso                        1       7.0     11.0\n",
            "red bull                      5       3.0     10.0\n",
            "george osborne               29      39.0      NaN\n",
            "kerry                        39      19.0      NaN\n",
            "cupid                         1       2.0      7.0\n",
            "hulk hogan                   44      50.0      NaN\n",
            "cfb                           2       1.0     17.0\n",
            "fabian delph                  4       3.0      1.0\n",
            "saudi arabia                 14      57.0      NaN\n",
            "foo fighters                228       3.0      NaN\n",
            "beyonce                      84       2.0      NaN\n",
            "kobe bryant                  13       4.0      3.0\n",
            "john kasich                  48      24.0      NaN\n",
            "david cameron                25      38.0      NaN\n",
            "tvd                           9       2.0      5.0\n",
            "boise state                   4       1.0     11.0\n",
            "milan                       142      18.0      NaN\n",
            "kurt cobain                  61       7.0      NaN\n",
            "brian kelly                   6       3.0      8.0\n",
            "gay                          50      45.0      NaN\n",
            "delhi police                  2       2.0     11.0\n",
            "rodgers                       3       5.0     10.0\n",
            "labor day                    61       7.0      NaN\n",
            "u2                           85       8.0      NaN\n",
            "tom brady                    77      33.0      NaN\n"
          ],
          "name": "stdout"
        },
        {
          "output_type": "execute_result",
          "data": {
            "text/plain": [
              "<BarContainer object of 303 artists>"
            ]
          },
          "metadata": {
            "tags": []
          },
          "execution_count": 104
        },
        {
          "output_type": "display_data",
          "data": {
            "image/png": "[encoded data removed]",
            "text/plain": [
              "<Figure size 432x288 with 1 Axes>"
            ]
          },
          "metadata": {
            "tags": []
          }
        }
      ]
    },
    {
      "cell_type": "code",
      "metadata": {
        "id": "Nm_M0CXUAsAn",
        "colab_type": "code",
        "colab": {}
      },
      "source": [
        "# # save dataset as csv file\n",
        "# task_a_train_df.to_csv('coba_train_a', sep='\\t')"
      ],
      "execution_count": 0,
      "outputs": []
    },
    {
      "cell_type": "code",
      "metadata": {
        "id": "gFgYcYx08ULD",
        "colab_type": "code",
        "colab": {}
      },
      "source": [
        ""
      ],
      "execution_count": 0,
      "outputs": []
    },
    {
      "cell_type": "code",
      "metadata": {
        "id": "0nS8VAw9h6ru",
        "colab_type": "code",
        "colab": {}
      },
      "source": [
        ""
      ],
      "execution_count": 0,
      "outputs": []
    },
    {
      "cell_type": "markdown",
      "metadata": {
        "id": "vwJSV9cfh9Q6",
        "colab_type": "text"
      },
      "source": [
        "# Pytorch"
      ]
    },
    {
      "cell_type": "markdown",
      "metadata": {
        "id": "D0KvskijQ9H9",
        "colab_type": "text"
      },
      "source": [
        "## Build Dataset\n"
      ]
    },
    {
      "cell_type": "code",
      "metadata": {
        "id": "bP7SH78Hh_Kp",
        "colab_type": "code",
        "colab": {}
      },
      "source": [
        "from torch.utils.data import DataLoader, Dataset\n",
        "import csv\n",
        "\n",
        "# class TextDataset(Dataset):\n",
        "#   @staticmethod\n",
        "#   def sort_key(ex):\n",
        "#       return len(ex.text)\n",
        "\n",
        "#   def __init__(self, dataset_df):\n",
        "#     self.samples = []\n",
        "\n",
        "#     for idx, row in dataset_df.iterrows():\n",
        "#       if idx == 101:\n",
        "#         break\n",
        "#       self.samples.append( (row['text'], row['sentiment']) )\n",
        "\n",
        "#   def __len__(self):\n",
        "#     return len(self.samples)\n",
        "\n",
        "#   def __getitem__(self, idx):\n",
        "#     text, sentiment = self.samples[idx]\n",
        "#     # return self.transform(self.x_data[index]), self.transform(self.y_data[index])\n",
        "#     return (text, sentiment).ToTensor()\n",
        "\n",
        "  \n",
        "\n",
        "# task_a_trainset = TextDataset(task_a_train_df)\n",
        "# dataloader = DataLoader(\n",
        "#                 task_a_trainset,\n",
        "#                 batch_size=50,\n",
        "#                 num_workers=2\n",
        "#              )"
      ],
      "execution_count": 0,
      "outputs": []
    },
    {
      "cell_type": "code",
      "metadata": {
        "id": "oiDdUbMpWPSO",
        "colab_type": "code",
        "colab": {}
      },
      "source": [
        "# for i, batch in enumerate(dataloader):\n",
        "#   for sample in batch:\n",
        "#     print(batch)\n",
        "#   print(\">>>>>>>\")\n",
        "\n",
        "# task_a_trainset"
      ],
      "execution_count": 0,
      "outputs": []
    },
    {
      "cell_type": "code",
      "metadata": {
        "id": "4NS6h7hmyQMX",
        "colab_type": "code",
        "colab": {}
      },
      "source": [
        "from torchtext import data\n",
        "\n"
      ],
      "execution_count": 0,
      "outputs": []
    },
    {
      "cell_type": "code",
      "metadata": {
        "id": "d4keeVLE2gS5",
        "colab_type": "code",
        "colab": {}
      },
      "source": [
        "task_a_train_df = task_a_train_df[['text', 'sentiment']]\n",
        "task_a_train_df.to_csv('train_a.csv', sep='\\t', index=False)\n",
        "\n",
        "task_a_test_df = task_a_test_df[['text', 'sentiment']]\n",
        "task_a_test_df.to_csv('test_a.csv', sep='\\t', index=False)\n"
      ],
      "execution_count": 0,
      "outputs": []
    },
    {
      "cell_type": "code",
      "metadata": {
        "id": "h-_FIEeLyTFM",
        "colab_type": "code",
        "colab": {}
      },
      "source": [
        "from sklearn.preprocessing import LabelEncoder\n",
        "\n",
        "TEXT = data.Field(tokenize = 'spacy', lower=True, include_lengths=True)\n",
        "# SENTIMENT = data.Field()\n",
        "SENTIMENT = data.LabelField(dtype = torch.float)\n",
        "\n",
        "train_data_a = data.TabularDataset(\n",
        "    path='train_a.csv',\n",
        "    format='tsv',\n",
        "    fields = [('text', TEXT), ('sentiment', SENTIMENT)],\n",
        "    skip_header=True\n",
        ")\n",
        "\n",
        "test_data_a = data.TabularDataset(\n",
        "    path='test_a.csv',\n",
        "    format='tsv',\n",
        "    fields = [('text', TEXT), ('sentiment', SENTIMENT)],\n",
        "    skip_header=True\n",
        ")\n",
        "\n",
        "# dataloader = DataLoader(\n",
        "#                 train_data_a,\n",
        "#                 batch_size=50,\n",
        "#                 num_workers=2\n",
        "#              )"
      ],
      "execution_count": 0,
      "outputs": []
    },
    {
      "cell_type": "code",
      "metadata": {
        "id": "YFx9ds1ozwiX",
        "colab_type": "code",
        "colab": {}
      },
      "source": [
        "# train_data_a_splitted = train_data_a.splits(TEXT, SENTIMENT)"
      ],
      "execution_count": 0,
      "outputs": []
    },
    {
      "cell_type": "code",
      "metadata": {
        "id": "QRAtm0h_ybDs",
        "colab_type": "code",
        "outputId": "da38bb4b-33cd-471c-c160-a81f6a9defaa",
        "colab": {
          "base_uri": "https://localhost:8080/",
          "height": 544
        }
      },
      "source": [
        "vars(train_data_a.examples[0])"
      ],
      "execution_count": 114,
      "outputs": [
        {
          "output_type": "execute_result",
          "data": {
            "text/plain": [
              "{'sentiment': 'neutral',\n",
              " 'text': ['@seemonterey',\n",
              "  'lost',\n",
              "  '-',\n",
              "  'sony',\n",
              "  'cell',\n",
              "  'phone',\n",
              "  'with',\n",
              "  'holiday',\n",
              "  'photos',\n",
              "  '.',\n",
              "  'early',\n",
              "  'fri',\n",
              "  'morning',\n",
              "  ',',\n",
              "  'montreal',\n",
              "  'transit',\n",
              "  'plaza',\n",
              "  'or',\n",
              "  'no',\n",
              "  '.',\n",
              "  '13',\n",
              "  'bus',\n",
              "  'to',\n",
              "  'airport',\n",
              "  '.',\n",
              "  'reward',\n",
              "  '!',\n",
              "  'plz',\n",
              "  'rt',\n",
              "  '.']}"
            ]
          },
          "metadata": {
            "tags": []
          },
          "execution_count": 114
        }
      ]
    },
    {
      "cell_type": "code",
      "metadata": {
        "id": "c6jh0QGex2RN",
        "colab_type": "code",
        "colab": {}
      },
      "source": [
        "BATCH_SIZE = 64\n",
        "\n",
        "device = torch.device('cuda' if torch.cuda.is_available() else 'cpu')\n",
        "\n",
        "train_iterator, test_iterator = data.BucketIterator.splits(\n",
        "    (train_data_a, test_data_a), \n",
        "    batch_size = BATCH_SIZE,\n",
        "    sort_key=lambda x: len(x.text),\n",
        "    sort_within_batch = True,\n",
        "    device = device)"
      ],
      "execution_count": 0,
      "outputs": []
    },
    {
      "cell_type": "code",
      "metadata": {
        "id": "jGrJVM8w7MtP",
        "colab_type": "code",
        "colab": {}
      },
      "source": [
        "# train_iterator.text"
      ],
      "execution_count": 0,
      "outputs": []
    },
    {
      "cell_type": "markdown",
      "metadata": {
        "id": "b4RUkXWxqxGG",
        "colab_type": "text"
      },
      "source": [
        "## Build Vocabulary"
      ]
    },
    {
      "cell_type": "code",
      "metadata": {
        "id": "j0DnLh3PrH47",
        "colab_type": "code",
        "colab": {}
      },
      "source": [
        "SENTIMENT.build_vocab(train_data_a)"
      ],
      "execution_count": 0,
      "outputs": []
    },
    {
      "cell_type": "code",
      "metadata": {
        "id": "sXGaBQzmrzyP",
        "colab_type": "code",
        "outputId": "9f1d41c8-e37d-4a0b-d2bc-0695d9563a6b",
        "colab": {
          "base_uri": "https://localhost:8080/",
          "height": 85
        }
      },
      "source": [
        "print(SENTIMENT.vocab.freqs.most_common())\n",
        "for key, value in SENTIMENT.vocab.stoi.items():\n",
        "  print(key, value)"
      ],
      "execution_count": 118,
      "outputs": [
        {
          "output_type": "stream",
          "text": [
            "[('neutral', 22591), ('positive', 19903), ('negative', 7840)]\n",
            "neutral 0\n",
            "positive 1\n",
            "negative 2\n"
          ],
          "name": "stdout"
        }
      ]
    },
    {
      "cell_type": "code",
      "metadata": {
        "id": "RsbFZ9-qzp8E",
        "colab_type": "code",
        "outputId": "bb158013-bb29-4bb3-e265-0674b629bd54",
        "colab": {
          "base_uri": "https://localhost:8080/",
          "height": 71
        }
      },
      "source": [
        "TEXT.build_vocab(train_data_a,\n",
        "                 max_size = 25000,\n",
        "                 vectors = 'glove.twitter.27B.200d',\n",
        "                 unk_init = torch.Tensor.normal_\n",
        "                 )\n",
        "\n",
        "print(TEXT.vocab.freqs.most_common(100))\n",
        "print(TEXT.vocab.itos[:10])"
      ],
      "execution_count": 119,
      "outputs": [
        {
          "output_type": "stream",
          "text": [
            "[('the', 41746), ('\"', 35287), ('.', 34027), ('to', 23100), (',', 19566), ('!', 18379), ('i', 18301), ('in', 15039), ('on', 14430), ('a', 14278), ('and', 14013), ('#', 12907), ('of', 11996), ('is', 10983), ('for', 10950), ('it', 9647), ('you', 9590), (\"'s\", 9548), ('with', 8354), ('...', 8232), ('be', 8067), (':', 7948), ('tomorrow', 7940), ('?', 7885), ('at', 7748), ('may', 7422), ('-', 7120), (' ', 5969), ('that', 5629), ('my', 5153), ('have', 5122), ('this', 4634), ('just', 4351), ('but', 4321), ('he', 4224), ('day', 4205), ('was', 4055), ('will', 4028), (\"n't\", 3995), ('not', 3408), ('so', 3349), ('going', 3336), ('we', 3331), ('me', 3277), ('all', 3261), ('&', 3247), ('night', 3225), ('out', 3219), ('if', 3183), ('see', 3111), ('friday', 2999), ('do', 2981), ('from', 2958), ('are', 2930), ('sunday', 2882), ('1st', 2881), (')', 2856), ('up', 2771), ('(', 2767), ('like', 2750), ('about', 2730), ('as', 2680), ('time', 2678), (';', 2577), ('get', 2489), (\"'m\", 2456), ('saturday', 2272), ('his', 2205), ('one', 2201), ('by', 2199), ('go', 2171), (\"'\", 2085), ('2nd', 2065), ('new', 2056), ('amp', 1984), ('what', 1977), ('can', 1953), ('monday', 1901), ('game', 1900), ('now', 1891), ('has', 1889), ('they', 1887), ('or', 1886), ('your', 1829), ('when', 1824), ('2', 1730), ('today', 1713), ('good', 1686), ('3rd', 1646), ('an', 1594), ('no', 1540), ('know', 1537), ('tonight', 1532), ('want', 1527), ('who', 1492), ('last', 1472), ('..', 1468), ('thursday', 1459), ('back', 1448), ('got', 1428)]\n",
            "['<unk>', '<pad>', 'the', '\"', '.', 'to', ',', '!', 'i', 'in']\n"
          ],
          "name": "stdout"
        }
      ]
    },
    {
      "cell_type": "code",
      "metadata": {
        "id": "qViSHNtK0Dye",
        "colab_type": "code",
        "outputId": "8571bc7b-45f0-472d-f83e-e4399aa194aa",
        "colab": {
          "base_uri": "https://localhost:8080/",
          "height": 71
        }
      },
      "source": [
        "print(TEXT.vocab.freqs.most_common(20))\n",
        "print(TEXT.vocab.itos[:10])"
      ],
      "execution_count": 120,
      "outputs": [
        {
          "output_type": "stream",
          "text": [
            "[('the', 41746), ('\"', 35287), ('.', 34027), ('to', 23100), (',', 19566), ('!', 18379), ('i', 18301), ('in', 15039), ('on', 14430), ('a', 14278), ('and', 14013), ('#', 12907), ('of', 11996), ('is', 10983), ('for', 10950), ('it', 9647), ('you', 9590), (\"'s\", 9548), ('with', 8354), ('...', 8232)]\n",
            "['<unk>', '<pad>', 'the', '\"', '.', 'to', ',', '!', 'i', 'in']\n"
          ],
          "name": "stdout"
        }
      ]
    },
    {
      "cell_type": "code",
      "metadata": {
        "id": "m2ErzS6NuE4O",
        "colab_type": "code",
        "outputId": "8eee2c09-6f59-4cf6-9785-0c5d3c063ae1",
        "colab": {
          "base_uri": "https://localhost:8080/",
          "height": 51
        }
      },
      "source": [
        "print(f\"Unique tokens in TEXT vocabulary: {len(TEXT.vocab)}\")\n",
        "print(f\"Unique tokens in LABEL vocabulary: {len(SENTIMENT.vocab)}\")"
      ],
      "execution_count": 121,
      "outputs": [
        {
          "output_type": "stream",
          "text": [
            "Unique tokens in TEXT vocabulary: 25002\n",
            "Unique tokens in LABEL vocabulary: 3\n"
          ],
          "name": "stdout"
        }
      ]
    },
    {
      "cell_type": "markdown",
      "metadata": {
        "id": "wpIHw_3YdSAn",
        "colab_type": "text"
      },
      "source": [
        "## Neural Network"
      ]
    },
    {
      "cell_type": "markdown",
      "metadata": {
        "id": "2TsmpHiydeyr",
        "colab_type": "text"
      },
      "source": [
        "three layers:\n",
        "1. embedding layer (transform one-hot encoding vector into a dense embedding vector)\n",
        "2. RNN\n",
        "3. linear layer (output)"
      ]
    },
    {
      "cell_type": "code",
      "metadata": {
        "id": "Xo_SPYGZdWuq",
        "colab_type": "code",
        "colab": {}
      },
      "source": [
        "import torch.nn as nn\n",
        "\n",
        "class RNN(nn.Module):\n",
        "  def __init__(self, vocab_size, embedding_dim, hidden_dim, output_dim, n_layers,\n",
        "               bidirectional, dropout, pad_idx):\n",
        "    super().__init__()\n",
        "    self.embedding = nn.Embedding(vocab_size, embedding_dim, padding_idx=pad_idx)\n",
        "    # self.rnn = nn.RNN(embedding_dim, hidden_dim)\n",
        "    self.rnn = nn.LSTM(embedding_dim,\n",
        "                       hidden_dim,\n",
        "                       num_layers=n_layers,\n",
        "                       bidirectional=bidirectional,\n",
        "                       dropout=dropout\n",
        "                       )\n",
        "    self.fully_connected = nn.Linear(hidden_dim*2, output_dim)\n",
        "    self.dropout = nn.Dropout(dropout)\n",
        "\n",
        "  def forward(self, text, text_length):\n",
        "    # text dimention is [sentence len, batch size]\n",
        "    \n",
        "    # embedded dimention is [sentence len, batch size, embedding_dim]\n",
        "    embedded = self.dropout(self.embedding(text))\n",
        "\n",
        "    # pack the sequence\n",
        "    packed_embedded = nn.utils.rnn.pack_padded_sequence(embedded, text_length)\n",
        "    packet_output, (hidden, cell) = self.rnn(packed_embedded)\n",
        "\n",
        "    # unpack the sequence\n",
        "    output, output_length = nn.utils.rnn.pad_packed_sequence(packet_output)\n",
        "\n",
        "    # output dimention is [sentence len, batch size, hidden dim * num directions]\n",
        "    # output over padding tokens are zero tensors\n",
        "\n",
        "    # hidden dimension is [num layers*num directions, batch size, hidden dim]\n",
        "    # cell dimension is also [num layers*num directions, batch size, hidden dim]\n",
        "\n",
        "    #concat the final forward (hidden[-2,:,:]) and backward (hidden[-1,:,:]) hidden layers\n",
        "    #and apply dropout\n",
        "\n",
        "    # hidden dimension is [batch size, hid dim*num directions]\n",
        "    hidden = self.dropout(torch.cat((hidden[-2,:,:], hidden[-1,:,:]), dim=1))\n",
        "    \n",
        "    return self.fully_connected(hidden)\n"
      ],
      "execution_count": 0,
      "outputs": []
    },
    {
      "cell_type": "code",
      "metadata": {
        "id": "JP20cupMd1v5",
        "colab_type": "code",
        "colab": {}
      },
      "source": [
        "INPUT_DIM = len(TEXT.vocab)\n",
        "EMBEDDING_DIM = 200\n",
        "HIDDEN_DIM = 256\n",
        "OUTPUT_DIM = len(SENTIMENT.vocab)\n",
        "N_LAYERS = 2\n",
        "BIDIRECTIONAL = True\n",
        "DROPOUT = 0.5\n",
        "PAD_IDX = TEXT.vocab.stoi[TEXT.pad_token]\n",
        "\n",
        "# model = RNN(INPUT_DIM, EMBEDDING_DIM, HIDDEN_DIM, OUTPUT_DIM)\n",
        "model = RNN(INPUT_DIM,\n",
        "            EMBEDDING_DIM,\n",
        "            HIDDEN_DIM,\n",
        "            OUTPUT_DIM,\n",
        "            N_LAYERS,\n",
        "            BIDIRECTIONAL,\n",
        "            DROPOUT,\n",
        "            PAD_IDX,\n",
        "            )"
      ],
      "execution_count": 0,
      "outputs": []
    },
    {
      "cell_type": "code",
      "metadata": {
        "id": "eWbAXYOsr68C",
        "colab_type": "code",
        "outputId": "d594d16d-792c-44ff-e040-34760580ad95",
        "colab": {
          "base_uri": "https://localhost:8080/",
          "height": 136
        }
      },
      "source": [
        "def count_model_params(model):\n",
        "  return sum(p.numel() for p in model.parameters() if p.requires_grad)\n",
        "  # n_params = sum(p.numel() for p in model.parameters)\n",
        "  \n",
        "print(model.parameters)\n",
        "print(count_model_params(model))\n"
      ],
      "execution_count": 158,
      "outputs": [
        {
          "output_type": "stream",
          "text": [
            "<bound method Module.parameters of RNN(\n",
            "  (embedding): Embedding(25002, 200, padding_idx=1)\n",
            "  (rnn): LSTM(200, 256, num_layers=2, dropout=0.5, bidirectional=True)\n",
            "  (fully_connected): Linear(in_features=512, out_features=3, bias=True)\n",
            "  (dropout): Dropout(p=0.5, inplace=False)\n",
            ")>\n",
            "7516883\n"
          ],
          "name": "stdout"
        }
      ]
    },
    {
      "cell_type": "code",
      "metadata": {
        "id": "6xSZq3wUfzNO",
        "colab_type": "code",
        "colab": {
          "base_uri": "https://localhost:8080/",
          "height": 34
        },
        "outputId": "64adf016-8457-4078-df0d-d300b48d7645"
      },
      "source": [
        "pretrained_embeddings = TEXT.vocab.vectors\n",
        "print(pretrained_embeddings.shape)"
      ],
      "execution_count": 159,
      "outputs": [
        {
          "output_type": "stream",
          "text": [
            "torch.Size([25002, 200])\n"
          ],
          "name": "stdout"
        }
      ]
    },
    {
      "cell_type": "code",
      "metadata": {
        "id": "Uj6qu_exf-MR",
        "colab_type": "code",
        "colab": {
          "base_uri": "https://localhost:8080/",
          "height": 136
        },
        "outputId": "75d2e1b9-9c96-4347-c64c-60640072e10f"
      },
      "source": [
        "# replace the initial weights of the embedding layer with the pretrained embeddings\n",
        "model.embedding.weight.data.copy_(pretrained_embeddings)"
      ],
      "execution_count": 160,
      "outputs": [
        {
          "output_type": "execute_result",
          "data": {
            "text/plain": [
              "tensor([[ 1.3199,  0.1071,  0.2892,  ...,  0.7315,  2.1747,  0.5568],\n",
              "        [-0.4101, -0.7039,  0.4762,  ...,  1.2528, -1.3568, -0.4436],\n",
              "        [ 0.4935,  0.3570,  0.6607,  ...,  0.1771, -0.5369, -0.2970],\n",
              "        ...,\n",
              "        [-0.9583, -0.6294, -1.6214,  ..., -2.3417,  0.5011,  0.1068],\n",
              "        [-0.3314, -0.3963,  1.0572,  ..., -0.0444,  1.0651,  2.7032],\n",
              "        [ 2.8505, -1.3793,  0.1846,  ...,  0.5291,  1.0787,  0.2748]])"
            ]
          },
          "metadata": {
            "tags": []
          },
          "execution_count": 160
        }
      ]
    },
    {
      "cell_type": "code",
      "metadata": {
        "id": "SQY4ndIigXrv",
        "colab_type": "code",
        "colab": {
          "base_uri": "https://localhost:8080/",
          "height": 136
        },
        "outputId": "3dc35188-6f99-4d5c-a850-cae29e83f6c3"
      },
      "source": [
        "# initialise UNK and PAD tokens to zeros\n",
        "UNK_IDX = TEXT.vocab.stoi[TEXT.unk_token]\n",
        "PAD_IDX = TEXT.vocab.stoi[TEXT.pad_token]\n",
        "\n",
        "model.embedding.weight.data[UNK_IDX] = torch.zeros(EMBEDDING_DIM)\n",
        "model.embedding.weight.data[PAD_IDX] = torch.zeros(EMBEDDING_DIM)\n",
        "\n",
        "print(model.embedding.weight.data)"
      ],
      "execution_count": 161,
      "outputs": [
        {
          "output_type": "stream",
          "text": [
            "tensor([[ 0.0000,  0.0000,  0.0000,  ...,  0.0000,  0.0000,  0.0000],\n",
            "        [ 0.0000,  0.0000,  0.0000,  ...,  0.0000,  0.0000,  0.0000],\n",
            "        [ 0.4935,  0.3570,  0.6607,  ...,  0.1771, -0.5369, -0.2970],\n",
            "        ...,\n",
            "        [-0.9583, -0.6294, -1.6214,  ..., -2.3417,  0.5011,  0.1068],\n",
            "        [-0.3314, -0.3963,  1.0572,  ..., -0.0444,  1.0651,  2.7032],\n",
            "        [ 2.8505, -1.3793,  0.1846,  ...,  0.5291,  1.0787,  0.2748]])\n"
          ],
          "name": "stdout"
        }
      ]
    },
    {
      "cell_type": "code",
      "metadata": {
        "id": "gL4SuaCit_Xq",
        "colab_type": "code",
        "outputId": "cc77fbd0-bc0b-4717-f048-9e177e9fc8ad",
        "colab": {
          "base_uri": "https://localhost:8080/",
          "height": 340
        }
      },
      "source": [
        "for p in model.parameters():\n",
        "  # print(p)\n",
        "  print(p.numel())"
      ],
      "execution_count": 162,
      "outputs": [
        {
          "output_type": "stream",
          "text": [
            "5000400\n",
            "204800\n",
            "262144\n",
            "1024\n",
            "1024\n",
            "204800\n",
            "262144\n",
            "1024\n",
            "1024\n",
            "524288\n",
            "262144\n",
            "1024\n",
            "1024\n",
            "524288\n",
            "262144\n",
            "1024\n",
            "1024\n",
            "1536\n",
            "3\n"
          ],
          "name": "stdout"
        }
      ]
    },
    {
      "cell_type": "markdown",
      "metadata": {
        "id": "FkG8MGZMvTLi",
        "colab_type": "text"
      },
      "source": [
        "## Train the Model"
      ]
    },
    {
      "cell_type": "code",
      "metadata": {
        "id": "lAvE0iDxvVDP",
        "colab_type": "code",
        "colab": {}
      },
      "source": [
        "import torch.optim as optim\n",
        "\n",
        "optimiser = optim.Adam(model.parameters())"
      ],
      "execution_count": 0,
      "outputs": []
    },
    {
      "cell_type": "code",
      "metadata": {
        "id": "fS3UcTyJwYuQ",
        "colab_type": "code",
        "colab": {}
      },
      "source": [
        "criterion = nn.CrossEntropyLoss()"
      ],
      "execution_count": 0,
      "outputs": []
    },
    {
      "cell_type": "code",
      "metadata": {
        "id": "4fgE2l3VwdkG",
        "colab_type": "code",
        "outputId": "09467a03-1b7b-4234-bdde-e06323a0c54d",
        "colab": {
          "base_uri": "https://localhost:8080/",
          "height": 34
        }
      },
      "source": [
        "device = torch.device('cuda' if torch.cuda.is_available() else 'cpu')\n",
        "print(device)\n",
        "model = model.to(device)\n",
        "criterion = criterion.to(device)"
      ],
      "execution_count": 165,
      "outputs": [
        {
          "output_type": "stream",
          "text": [
            "cuda\n"
          ],
          "name": "stdout"
        }
      ]
    },
    {
      "cell_type": "code",
      "metadata": {
        "id": "_5cEu9fAwixJ",
        "colab_type": "code",
        "colab": {}
      },
      "source": [
        "# def binary_accuracy(preds, y):\n",
        "#     \"\"\"\n",
        "#     Returns accuracy per batch, i.e. if you get 8/10 right, this returns 0.8, NOT 8\n",
        "#     \"\"\"\n",
        "\n",
        "#     #round predictions to the closest integer\n",
        "#     rounded_preds = torch.round(torch.sigmoid(preds))\n",
        "#     rounded_preds = torch.round(preds)\n",
        "#     correct = (rounded_preds == y).float() #convert into float for division\n",
        "#     acc = correct.sum() / len(correct)\n",
        "#     return acc\n",
        "\n",
        "def categorical_accuracy(preds, y):\n",
        "    \"\"\"\n",
        "    Returns accuracy per batch, i.e. if you get 8/10 right, this returns 0.8, NOT 8\n",
        "    \"\"\"\n",
        "    max_preds = preds.argmax(dim = 1, keepdim = True) # get the index of the max probability\n",
        "    correct = max_preds.squeeze(1).eq(y)\n",
        "    return correct.sum() / torch.FloatTensor([y.shape[0]])\n"
      ],
      "execution_count": 0,
      "outputs": []
    },
    {
      "cell_type": "code",
      "metadata": {
        "id": "b0wGJ4rww7Fj",
        "colab_type": "code",
        "colab": {}
      },
      "source": [
        "def train(model, iterator, optimizer, criterion):\n",
        "    \n",
        "    epoch_loss = 0\n",
        "    epoch_acc = 0\n",
        "    \n",
        "    model.train()\n",
        "    \n",
        "    for batch in iterator:\n",
        "        \n",
        "        optimizer.zero_grad()\n",
        "                \n",
        "        text, text_length = batch.text\n",
        "        # predictions = model(text).squeeze(1)\n",
        "        predictions = model(text, text_length).squeeze(1)\n",
        "        \n",
        "        loss = criterion(predictions, batch.sentiment.long())\n",
        "        \n",
        "        acc = categorical_accuracy(predictions, batch.sentiment)\n",
        "        \n",
        "        loss.backward()\n",
        "        \n",
        "        optimizer.step()\n",
        "        \n",
        "        epoch_loss += loss.item()\n",
        "        epoch_acc += acc.item()\n",
        "        \n",
        "    return epoch_loss / len(iterator), epoch_acc / len(iterator)"
      ],
      "execution_count": 0,
      "outputs": []
    },
    {
      "cell_type": "code",
      "metadata": {
        "id": "41SqIzKvJUdF",
        "colab_type": "code",
        "colab": {}
      },
      "source": [
        "def evaluate(model, iterator, criterion):\n",
        "    \n",
        "    epoch_loss = 0\n",
        "    epoch_acc = 0\n",
        "    \n",
        "    model.eval()\n",
        "    \n",
        "    actual_file = open('actual.txt', 'w')\n",
        "    pred_file = open('pred.txt', 'w')\n",
        "    with torch.no_grad():\n",
        "    \n",
        "        for batch in iterator:\n",
        "            text, text_length = batch.text\n",
        "            predictions = model(text, text_length).squeeze(1)\n",
        "\n",
        "            actuals = batch.sentiment\n",
        "            for elm in actuals:\n",
        "              actual_file.write(str(elm.item()) + '\\n')\n",
        "            \n",
        "            preds = predictions.argmax(dim = 1, keepdim = True).squeeze(1)\n",
        "            for elm in preds:\n",
        "              pred_file.write(str(elm.item()) + '\\n')\n",
        " \n",
        "            loss = criterion(predictions, batch.sentiment.long())\n",
        "            \n",
        "            acc = categorical_accuracy(predictions, batch.sentiment)\n",
        "\n",
        "            epoch_loss += loss.item()\n",
        "            epoch_acc += acc.item()\n",
        "        \n",
        "    return epoch_loss / len(iterator), epoch_acc / len(iterator)"
      ],
      "execution_count": 0,
      "outputs": []
    },
    {
      "cell_type": "code",
      "metadata": {
        "id": "b0JpAUV-xYY2",
        "colab_type": "code",
        "colab": {}
      },
      "source": [
        "import time\n",
        "\n",
        "def epoch_time(start_time, end_time):\n",
        "    elapsed_time = end_time - start_time\n",
        "    elapsed_mins = int(elapsed_time / 60)\n",
        "    elapsed_secs = int(elapsed_time - (elapsed_mins * 60))\n",
        "    return elapsed_mins, elapsed_secs"
      ],
      "execution_count": 0,
      "outputs": []
    },
    {
      "cell_type": "code",
      "metadata": {
        "id": "8xORR7LVxiro",
        "colab_type": "code",
        "outputId": "b5a69776-3dc3-475f-e970-aaec4bb56791",
        "colab": {
          "base_uri": "https://localhost:8080/",
          "height": 187
        }
      },
      "source": [
        "N_EPOCHS = 5\n",
        "\n",
        "best_valid_loss = float('inf')\n",
        "\n",
        "for epoch in range(N_EPOCHS):\n",
        "\n",
        "    start_time = time.time()\n",
        "    \n",
        "    train_loss, train_acc = train(model, train_iterator, optimiser, criterion)\n",
        "    # valid_loss, valid_acc = evaluate(model, valid_iterator, criterion)\n",
        "    \n",
        "    end_time = time.time()\n",
        "\n",
        "    epoch_mins, epoch_secs = epoch_time(start_time, end_time)\n",
        "    \n",
        "    # if valid_loss < best_valid_loss:\n",
        "    #     best_valid_loss = valid_loss\n",
        "    #     torch.save(model.state_dict(), 'tut1-model.pt')\n",
        "    \n",
        "    print(f'Epoch: {epoch+1:02} | Epoch Time: {epoch_mins}m {epoch_secs}s')\n",
        "    print(f'\\tTrain Loss: {train_loss:.3f} | Train Acc: {train_acc*100:.2f}%')\n",
        "    # print(f'\\t Val. Loss: {valid_loss:.3f} |  Val. Acc: {valid_acc*100:.2f}%')"
      ],
      "execution_count": 176,
      "outputs": [
        {
          "output_type": "stream",
          "text": [
            "Epoch: 01 | Epoch Time: 0m 17s\n",
            "\tTrain Loss: 0.056 | Train Acc: 97.94%\n",
            "Epoch: 02 | Epoch Time: 0m 17s\n",
            "\tTrain Loss: 0.055 | Train Acc: 98.06%\n",
            "Epoch: 03 | Epoch Time: 0m 17s\n",
            "\tTrain Loss: 0.053 | Train Acc: 98.16%\n",
            "Epoch: 04 | Epoch Time: 0m 17s\n",
            "\tTrain Loss: 0.052 | Train Acc: 98.17%\n",
            "Epoch: 05 | Epoch Time: 0m 17s\n",
            "\tTrain Loss: 0.048 | Train Acc: 98.24%\n"
          ],
          "name": "stdout"
        }
      ]
    },
    {
      "cell_type": "code",
      "metadata": {
        "id": "EdHaQTiSxsrH",
        "colab_type": "code",
        "outputId": "a19e4c99-f8f0-4347-d7c4-f38e41a413fb",
        "colab": {
          "base_uri": "https://localhost:8080/",
          "height": 34
        }
      },
      "source": [
        "# model.load_state_dict(torch.load('tut1-model.pt'))\n",
        "\n",
        "test_loss, test_acc = evaluate(model, test_iterator, criterion)\n",
        "\n",
        "print(f'Test Loss: {test_loss:.3f} | Test Acc: {test_acc*100:.2f}%')"
      ],
      "execution_count": 187,
      "outputs": [
        {
          "output_type": "stream",
          "text": [
            "Test Loss: 3.372 | Test Acc: 58.13%\n"
          ],
          "name": "stdout"
        }
      ]
    },
    {
      "cell_type": "markdown",
      "metadata": {
        "id": "gFNer1GbSvcg",
        "colab_type": "text"
      },
      "source": [
        ""
      ]
    },
    {
      "cell_type": "code",
      "metadata": {
        "id": "PpFVYFfLQiZn",
        "colab_type": "code",
        "colab": {}
      },
      "source": [
        ""
      ],
      "execution_count": 0,
      "outputs": []
    },
    {
      "cell_type": "code",
      "metadata": {
        "id": "_mIw6tbUUd1Q",
        "colab_type": "code",
        "colab": {}
      },
      "source": [
        ""
      ],
      "execution_count": 0,
      "outputs": []
    },
    {
      "cell_type": "code",
      "metadata": {
        "id": "JZtUHroDTD6k",
        "colab_type": "code",
        "colab": {}
      },
      "source": [
        ""
      ],
      "execution_count": 0,
      "outputs": []
    },
    {
      "cell_type": "code",
      "metadata": {
        "id": "lXZiPLefTGo5",
        "colab_type": "code",
        "colab": {}
      },
      "source": [
        ""
      ],
      "execution_count": 0,
      "outputs": []
    }
  ]
}